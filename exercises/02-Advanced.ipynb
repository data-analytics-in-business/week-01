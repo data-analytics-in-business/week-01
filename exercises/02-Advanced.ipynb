{
 "cells": [
  {
   "cell_type": "markdown",
   "source": "# 02-Advanced: Data analysis\n### The problem\nYour manager (/sales rep) asks you to: *rank the listings with at least 5 reviews in the AirBnB sample dataset using the sentiment of the available reviews*. (in London?)\n\n### The method\nYou should:\n\n1. load the reviews and calculate a sentiment score for each review,\n2. load the listings and (join)\n3. find a way to aggregate...?",
   "metadata": {
    "tags": [],
    "cell_id": "00001-f9f152cc-d6ad-4741-b838-4c6fab6abbba",
    "deepnote_cell_type": "markdown"
   }
  },
  {
   "cell_type": "markdown",
   "source": "## Text data\nOften we will need to work with unstructured data like text, images, or audio. To use unstructured data in analyis, we will often need to convert it into something more useable, something more \"quantified\".\n\nLet's start easy by loading a `.csv` file containing some text data we plan to analyse. Run the code below to load `reviews_sample.csv`.",
   "metadata": {
    "tags": [],
    "cell_id": "00001-70d86720-3538-4f91-8276-9a4e7e3c5da2",
    "deepnote_cell_type": "markdown"
   }
  },
  {
   "cell_type": "code",
   "metadata": {
    "tags": [],
    "cell_id": "00002-1634df66-c1d5-45d5-ab5d-9000f2403efd",
    "deepnote_to_be_reexecuted": false,
    "source_hash": "9416d4fc",
    "execution_start": 1633510549583,
    "execution_millis": 516,
    "deepnote_cell_type": "code"
   },
   "source": "import pandas as pd\ndf_reviews = pd.read_csv('../data/reviews_sample.csv')\ndf_reviews.head()",
   "outputs": [
    {
     "output_type": "execute_result",
     "execution_count": 1,
     "data": {
      "application/vnd.deepnote.dataframe.v2+json": {
       "row_count": 5,
       "column_count": 6,
       "columns": [
        {
         "name": "listing_id",
         "dtype": "int64",
         "stats": {
          "unique_count": 5,
          "nan_count": 0,
          "min": "1091147",
          "max": "27425883",
          "histogram": [
           {
            "bin_start": 1091147,
            "bin_end": 3724620.6,
            "count": 1
           },
           {
            "bin_start": 3724620.6,
            "bin_end": 6358094.2,
            "count": 0
           },
           {
            "bin_start": 6358094.2,
            "bin_end": 8991567.8,
            "count": 0
           },
           {
            "bin_start": 8991567.8,
            "bin_end": 11625041.4,
            "count": 1
           },
           {
            "bin_start": 11625041.4,
            "bin_end": 14258515,
            "count": 0
           },
           {
            "bin_start": 14258515,
            "bin_end": 16891988.6,
            "count": 0
           },
           {
            "bin_start": 16891988.6,
            "bin_end": 19525462.2,
            "count": 0
           },
           {
            "bin_start": 19525462.2,
            "bin_end": 22158935.8,
            "count": 0
           },
           {
            "bin_start": 22158935.8,
            "bin_end": 24792409.400000002,
            "count": 0
           },
           {
            "bin_start": 24792409.400000002,
            "bin_end": 27425883,
            "count": 3
           }
          ]
         }
        },
        {
         "name": "id",
         "dtype": "int64",
         "stats": {
          "unique_count": 5,
          "nan_count": 0,
          "min": "109528347",
          "max": "495585915",
          "histogram": [
           {
            "bin_start": 109528347,
            "bin_end": 148134103.8,
            "count": 1
           },
           {
            "bin_start": 148134103.8,
            "bin_end": 186739860.6,
            "count": 0
           },
           {
            "bin_start": 186739860.6,
            "bin_end": 225345617.39999998,
            "count": 0
           },
           {
            "bin_start": 225345617.39999998,
            "bin_end": 263951374.2,
            "count": 0
           },
           {
            "bin_start": 263951374.2,
            "bin_end": 302557131,
            "count": 0
           },
           {
            "bin_start": 302557131,
            "bin_end": 341162887.79999995,
            "count": 1
           },
           {
            "bin_start": 341162887.79999995,
            "bin_end": 379768644.59999996,
            "count": 1
           },
           {
            "bin_start": 379768644.59999996,
            "bin_end": 418374401.4,
            "count": 0
           },
           {
            "bin_start": 418374401.4,
            "bin_end": 456980158.2,
            "count": 0
           },
           {
            "bin_start": 456980158.2,
            "bin_end": 495585915,
            "count": 2
           }
          ]
         }
        },
        {
         "name": "date",
         "dtype": "object",
         "stats": {
          "unique_count": 5,
          "nan_count": 0,
          "categories": [
           {
            "name": "2016-10-22",
            "count": 1
           },
           {
            "name": "2019-07-26",
            "count": 1
           },
           {
            "name": "3 others",
            "count": 3
           }
          ]
         }
        },
        {
         "name": "reviewer_id",
         "dtype": "int64",
         "stats": {
          "unique_count": 5,
          "nan_count": 0,
          "min": "7738609",
          "max": "257649113",
          "histogram": [
           {
            "bin_start": 7738609,
            "bin_end": 32729659.4,
            "count": 3
           },
           {
            "bin_start": 32729659.4,
            "bin_end": 57720709.8,
            "count": 0
           },
           {
            "bin_start": 57720709.8,
            "bin_end": 82711760.19999999,
            "count": 0
           },
           {
            "bin_start": 82711760.19999999,
            "bin_end": 107702810.6,
            "count": 0
           },
           {
            "bin_start": 107702810.6,
            "bin_end": 132693861,
            "count": 0
           },
           {
            "bin_start": 132693861,
            "bin_end": 157684911.39999998,
            "count": 0
           },
           {
            "bin_start": 157684911.39999998,
            "bin_end": 182675961.79999998,
            "count": 1
           },
           {
            "bin_start": 182675961.79999998,
            "bin_end": 207667012.2,
            "count": 0
           },
           {
            "bin_start": 207667012.2,
            "bin_end": 232658062.6,
            "count": 0
           },
           {
            "bin_start": 232658062.6,
            "bin_end": 257649113,
            "count": 1
           }
          ]
         }
        },
        {
         "name": "reviewer_name",
         "dtype": "object",
         "stats": {
          "unique_count": 5,
          "nan_count": 0,
          "categories": [
           {
            "name": "Gerrit",
            "count": 1
           },
           {
            "name": "Grace",
            "count": 1
           },
           {
            "name": "3 others",
            "count": 3
           }
          ]
         }
        },
        {
         "name": "comments",
         "dtype": "object",
         "stats": {
          "unique_count": 5,
          "nan_count": 0,
          "categories": [
           {
            "name": "Very nice and clean room, we had everything we needed for our short stay in London and Dolors was very friendly and helped us if there were any questions. Thank you!!",
            "count": 1
           },
           {
            "name": "Great place to stay for a few nights in London.  The flat was very clean and was conveniently located, a few minutes walk to the tube station.  Host was very helpful, quick communication + kindly provided us with a fan.  Enjoyed our stay and would recommend.",
            "count": 1
           },
           {
            "name": "3 others",
            "count": 3
           }
          ]
         }
        },
        {
         "name": "_deepnote_index_column",
         "dtype": "int64"
        }
       ],
       "rows_top": [
        {
         "listing_id": 9709741,
         "id": 109528347,
         "date": "2016-10-22",
         "reviewer_id": 16329759,
         "reviewer_name": "Gerrit",
         "comments": "Very nice and clean room, we had everything we needed for our short stay in London and Dolors was v…",
         "_deepnote_index_column": 0
        },
        {
         "listing_id": 25305896,
         "id": 495585915,
         "date": "2019-07-26",
         "reviewer_id": 170196997,
         "reviewer_name": "Grace",
         "comments": "Great place to stay for a few nights in London.  The flat was very clean and was conveniently locat…",
         "_deepnote_index_column": 1
        },
        {
         "listing_id": 26709683,
         "id": 306268165,
         "date": "2018-08-12",
         "reviewer_id": 15285494,
         "reviewer_name": "Xiao Zuo",
         "comments": "The host is very kind and the place is amazing!",
         "_deepnote_index_column": 2
        },
        {
         "listing_id": 27425883,
         "id": 355242699,
         "date": "2018-12-03",
         "reviewer_id": 7738609,
         "reviewer_name": "André",
         "comments": "Guests can expect a great hospitality. The studio neighborhood's are very quiet, and the studio its…",
         "_deepnote_index_column": 3
        },
        {
         "listing_id": 1091147,
         "id": 462433928,
         "date": "2019-06-02",
         "reviewer_id": 257649113,
         "reviewer_name": "Santiago",
         "comments": "I have a great stay. I recommend Andonis house.",
         "_deepnote_index_column": 4
        }
       ],
       "rows_bottom": null
      },
      "text/plain": "   listing_id         id        date  reviewer_id reviewer_name  \\\n0     9709741  109528347  2016-10-22     16329759        Gerrit   \n1    25305896  495585915  2019-07-26    170196997         Grace   \n2    26709683  306268165  2018-08-12     15285494      Xiao Zuo   \n3    27425883  355242699  2018-12-03      7738609         André   \n4     1091147  462433928  2019-06-02    257649113      Santiago   \n\n                                            comments  \n0  Very nice and clean room, we had everything we...  \n1  Great place to stay for a few nights in London...  \n2    The host is very kind and the place is amazing!  \n3  Guests can expect a great hospitality. The stu...  \n4    I have a great stay. I recommend Andonis house.  ",
      "text/html": "<div>\n<style scoped>\n    .dataframe tbody tr th:only-of-type {\n        vertical-align: middle;\n    }\n\n    .dataframe tbody tr th {\n        vertical-align: top;\n    }\n\n    .dataframe thead th {\n        text-align: right;\n    }\n</style>\n<table border=\"1\" class=\"dataframe\">\n  <thead>\n    <tr style=\"text-align: right;\">\n      <th></th>\n      <th>listing_id</th>\n      <th>id</th>\n      <th>date</th>\n      <th>reviewer_id</th>\n      <th>reviewer_name</th>\n      <th>comments</th>\n    </tr>\n  </thead>\n  <tbody>\n    <tr>\n      <th>0</th>\n      <td>9709741</td>\n      <td>109528347</td>\n      <td>2016-10-22</td>\n      <td>16329759</td>\n      <td>Gerrit</td>\n      <td>Very nice and clean room, we had everything we...</td>\n    </tr>\n    <tr>\n      <th>1</th>\n      <td>25305896</td>\n      <td>495585915</td>\n      <td>2019-07-26</td>\n      <td>170196997</td>\n      <td>Grace</td>\n      <td>Great place to stay for a few nights in London...</td>\n    </tr>\n    <tr>\n      <th>2</th>\n      <td>26709683</td>\n      <td>306268165</td>\n      <td>2018-08-12</td>\n      <td>15285494</td>\n      <td>Xiao Zuo</td>\n      <td>The host is very kind and the place is amazing!</td>\n    </tr>\n    <tr>\n      <th>3</th>\n      <td>27425883</td>\n      <td>355242699</td>\n      <td>2018-12-03</td>\n      <td>7738609</td>\n      <td>André</td>\n      <td>Guests can expect a great hospitality. The stu...</td>\n    </tr>\n    <tr>\n      <th>4</th>\n      <td>1091147</td>\n      <td>462433928</td>\n      <td>2019-06-02</td>\n      <td>257649113</td>\n      <td>Santiago</td>\n      <td>I have a great stay. I recommend Andonis house.</td>\n    </tr>\n  </tbody>\n</table>\n</div>"
     },
     "metadata": {}
    }
   ],
   "execution_count": 1
  },
  {
   "cell_type": "markdown",
   "source": "### Exercise-01: Cleaning text\nWe want to analyse the `comments` column, but we first need to remove rows with `nan` values in the `comments` column. Use what you learned in `01-Basic.ipynb` to do this below.",
   "metadata": {
    "tags": [],
    "cell_id": "00003-288e7094-680c-4292-bf1e-b730185e7cba",
    "deepnote_cell_type": "markdown"
   }
  },
  {
   "cell_type": "code",
   "metadata": {
    "tags": [],
    "cell_id": "00004-4673738a-93e7-4134-ae6e-22998be22e2d",
    "deepnote_to_be_reexecuted": false,
    "source_hash": "ceb90d56",
    "execution_start": 1633510550110,
    "execution_millis": 8,
    "deepnote_cell_type": "code"
   },
   "source": "# (SOLUTION) Remove from public version\ndf_reviews = df_reviews[~df_reviews['comments'].isna()]",
   "outputs": [],
   "execution_count": 2
  },
  {
   "cell_type": "markdown",
   "source": "### Exercise-02: Analysing text\nNow the text data is cleaned, we are going to convert the text to quantities of interest. A common way to do this is to estimate the *sentiment* of the text. There are many ways to analyse sentiment, and here we are going to use the [VADER](https://www.nltk.org/_modules/nltk/sentiment/vader.html) sentiment analytics tool which is included in the [NLTK](https://www.nltk.org/) (Natural Language Toolkit) package.\n\nRun the code below to import `nltk`, import the `SentimentIntensityAnalyzer` class from `nltk`, download the `vader_lexicon`, and create an instance of `SentimentIntensityAnalyzer`.",
   "metadata": {
    "tags": [],
    "cell_id": "00005-93c7f454-b595-40a0-a6c6-c189b129d9bc",
    "deepnote_cell_type": "markdown"
   }
  },
  {
   "cell_type": "code",
   "metadata": {
    "tags": [],
    "cell_id": "00006-88f0f313-da50-4de2-8c59-b91ceda052e9",
    "deepnote_to_be_reexecuted": false,
    "source_hash": "307a976d",
    "execution_start": 1633510550168,
    "execution_millis": 1831,
    "deepnote_cell_type": "code"
   },
   "source": "import nltk\nfrom nltk.sentiment.vader import SentimentIntensityAnalyzer\nnltk.download('vader_lexicon')\nscorer = SentimentIntensityAnalyzer()",
   "outputs": [
    {
     "name": "stderr",
     "text": "[nltk_data] Downloading package vader_lexicon to /root/nltk_data...\n[nltk_data]   Package vader_lexicon is already up-to-date!\n",
     "output_type": "stream"
    }
   ],
   "execution_count": 3
  },
  {
   "cell_type": "markdown",
   "source": "Now we have loaded our sentiment analysis tool, we can calculate the sentiment of the comments in the Airbnb reviews. To do this, we are going to create a `calculate_sentiment` function and then apply it to a small sample (`N=5`) of rows from `df_reviews`. To focus our attention on the columns `['comments','sentiment']` we are going to show only those in the `head()` of `df_reviews_sample`. Please run the code below and watch the magic happen!",
   "metadata": {
    "tags": [],
    "cell_id": "00006-2e37548c-c4e9-48bb-9088-4f3a793e0499",
    "deepnote_cell_type": "markdown"
   }
  },
  {
   "cell_type": "code",
   "metadata": {
    "tags": [],
    "cell_id": "00008-3d2d2f75-8993-4673-ae50-ccd7bef43b8a",
    "deepnote_to_be_reexecuted": false,
    "source_hash": "5d36530c",
    "execution_start": 1633510552007,
    "execution_millis": 60,
    "deepnote_cell_type": "code"
   },
   "source": "def calculate_sentiment(comment):\n    return(scorer.polarity_scores(comment)['compound'])\n\nN = 5\ndf_reviews_sample = df_reviews.sample(N)\ndf_reviews_sample.loc[:,'sentiment'] = df_reviews_sample['comments'].apply(calculate_sentiment)\ndf_reviews_sample[['comments','sentiment']].head()",
   "outputs": [
    {
     "output_type": "execute_result",
     "execution_count": 4,
     "data": {
      "application/vnd.deepnote.dataframe.v2+json": {
       "row_count": 5,
       "column_count": 2,
       "columns": [
        {
         "name": "comments",
         "dtype": "object",
         "stats": {
          "unique_count": 5,
          "nan_count": 0,
          "categories": [
           {
            "name": "Julia is a very considerate and pleasant host! She was easy to communicate with and quick to respond to any concerns. Her flat is also very well located in Hackney within walking distance from both Hackney Downs and Hackney Central overground stations to make an easy commute to central London. Alternatively, if you're tired of the chaos of the centre, then Hackney offers a great vibe with many alternative cafes and restaurants.",
            "count": 1
           },
           {
            "name": "Angela and Derek’s home was a wonderful place to spend four nights! They were so warm, kind & hospitable. The breakfasts, too, were amazing, and the room and bathroom were very clean. I would really recommend staying here!",
            "count": 1
           },
           {
            "name": "3 others",
            "count": 3
           }
          ]
         }
        },
        {
         "name": "sentiment",
         "dtype": "float64",
         "stats": {
          "unique_count": 5,
          "nan_count": 0,
          "min": "-0.2732",
          "max": "0.9659",
          "histogram": [
           {
            "bin_start": -0.2732,
            "bin_end": -0.14928999999999998,
            "count": 1
           },
           {
            "bin_start": -0.14928999999999998,
            "bin_end": -0.025379999999999986,
            "count": 0
           },
           {
            "bin_start": -0.025379999999999986,
            "bin_end": 0.09853,
            "count": 0
           },
           {
            "bin_start": 0.09853,
            "bin_end": 0.22244000000000003,
            "count": 0
           },
           {
            "bin_start": 0.22244000000000003,
            "bin_end": 0.34635000000000005,
            "count": 0
           },
           {
            "bin_start": 0.34635000000000005,
            "bin_end": 0.47026,
            "count": 0
           },
           {
            "bin_start": 0.47026,
            "bin_end": 0.5941700000000001,
            "count": 0
           },
           {
            "bin_start": 0.5941700000000001,
            "bin_end": 0.71808,
            "count": 0
           },
           {
            "bin_start": 0.71808,
            "bin_end": 0.8419900000000001,
            "count": 0
           },
           {
            "bin_start": 0.8419900000000001,
            "bin_end": 0.9659,
            "count": 4
           }
          ]
         }
        },
        {
         "name": "_deepnote_index_column",
         "dtype": "int64"
        }
       ],
       "rows_top": [
        {
         "comments": "Julia is a very considerate and pleasant host! She was easy to communicate with and quick to respon…",
         "sentiment": 0.9143,
         "_deepnote_index_column": 64844
        },
        {
         "comments": "Angela and Derek’s home was a wonderful place to spend four nights! They were so warm, kind & hospi…",
         "sentiment": 0.964,
         "_deepnote_index_column": 29854
        },
        {
         "comments": "It was a great experience to stay with Isaac. Firstly, he answered every previous question I had an…",
         "sentiment": 0.9448,
         "_deepnote_index_column": 90238
        },
        {
         "comments": "Tita house is very privacy, clean& location superb...nothing cant explain the place. Will drop agai…",
         "sentiment": -0.2732,
         "_deepnote_index_column": 67662
        },
        {
         "comments": "Had a great vacation at Jonny's place. The apartment is really nice,  with a great location, and Jo…",
         "sentiment": 0.9659,
         "_deepnote_index_column": 93949
        }
       ],
       "rows_bottom": null
      },
      "text/plain": "                                                comments  sentiment\n64844  Julia is a very considerate and pleasant host!...     0.9143\n29854  Angela and Derek’s home was a wonderful place ...     0.9640\n90238  It was a great experience to stay with Isaac. ...     0.9448\n67662  Tita house is very privacy, clean& location su...    -0.2732\n93949  Had a great vacation at Jonny's place. The apa...     0.9659",
      "text/html": "<div>\n<style scoped>\n    .dataframe tbody tr th:only-of-type {\n        vertical-align: middle;\n    }\n\n    .dataframe tbody tr th {\n        vertical-align: top;\n    }\n\n    .dataframe thead th {\n        text-align: right;\n    }\n</style>\n<table border=\"1\" class=\"dataframe\">\n  <thead>\n    <tr style=\"text-align: right;\">\n      <th></th>\n      <th>comments</th>\n      <th>sentiment</th>\n    </tr>\n  </thead>\n  <tbody>\n    <tr>\n      <th>64844</th>\n      <td>Julia is a very considerate and pleasant host!...</td>\n      <td>0.9143</td>\n    </tr>\n    <tr>\n      <th>29854</th>\n      <td>Angela and Derek’s home was a wonderful place ...</td>\n      <td>0.9640</td>\n    </tr>\n    <tr>\n      <th>90238</th>\n      <td>It was a great experience to stay with Isaac. ...</td>\n      <td>0.9448</td>\n    </tr>\n    <tr>\n      <th>67662</th>\n      <td>Tita house is very privacy, clean&amp; location su...</td>\n      <td>-0.2732</td>\n    </tr>\n    <tr>\n      <th>93949</th>\n      <td>Had a great vacation at Jonny's place. The apa...</td>\n      <td>0.9659</td>\n    </tr>\n  </tbody>\n</table>\n</div>"
     },
     "metadata": {}
    }
   ],
   "execution_count": 4
  },
  {
   "cell_type": "markdown",
   "source": "Run the above code a few times, to get a feel for how the sentiment analysis tool is working. Is there anything unexpected/interesting?",
   "metadata": {
    "tags": [],
    "cell_id": "00009-9ff1b9ac-aee6-482e-82e5-dfa41f358959",
    "deepnote_cell_type": "markdown"
   }
  },
  {
   "cell_type": "markdown",
   "source": "## Segmented data\nSometimes we want to perform analysis on only a segment on the data. For example, someone might ask *what is the most expensive listing in London?*, and to solve this we would only need to analysis data for listings based in London.\n\nTo explore this idea, let's analyse some segments of the `listings_sample.csv` data. Run the code below to load `listings_sample.csv`.",
   "metadata": {
    "tags": [],
    "cell_id": "00001-d2b6a883-b571-449b-83d3-2f0379123a4e",
    "deepnote_cell_type": "markdown"
   }
  },
  {
   "cell_type": "code",
   "metadata": {
    "tags": [],
    "cell_id": "00002-38d1fa1d-4b4c-47a0-9455-637abde65d4a",
    "deepnote_to_be_reexecuted": false,
    "source_hash": "f5e2616a",
    "execution_start": 1633510552063,
    "execution_millis": 832,
    "deepnote_cell_type": "code"
   },
   "source": "import pandas as pd\ndf_listings = pd.read_csv('../data/listings_sample.csv')\ndf_listings.head()",
   "outputs": [
    {
     "output_type": "execute_result",
     "execution_count": 5,
     "data": {
      "application/vnd.deepnote.dataframe.v2+json": {
       "row_count": 5,
       "column_count": 23,
       "columns": [
        {
         "name": "host_id",
         "dtype": "int64",
         "stats": {
          "unique_count": 5,
          "nan_count": 0,
          "min": "43039",
          "max": "103583",
          "histogram": [
           {
            "bin_start": 43039,
            "bin_end": 49093.4,
            "count": 1
           },
           {
            "bin_start": 49093.4,
            "bin_end": 55147.8,
            "count": 1
           },
           {
            "bin_start": 55147.8,
            "bin_end": 61202.2,
            "count": 1
           },
           {
            "bin_start": 61202.2,
            "bin_end": 67256.6,
            "count": 0
           },
           {
            "bin_start": 67256.6,
            "bin_end": 73311,
            "count": 1
           },
           {
            "bin_start": 73311,
            "bin_end": 79365.4,
            "count": 0
           },
           {
            "bin_start": 79365.4,
            "bin_end": 85419.79999999999,
            "count": 0
           },
           {
            "bin_start": 85419.79999999999,
            "bin_end": 91474.2,
            "count": 0
           },
           {
            "bin_start": 91474.2,
            "bin_end": 97528.6,
            "count": 0
           },
           {
            "bin_start": 97528.6,
            "bin_end": 103583,
            "count": 1
           }
          ]
         }
        },
        {
         "name": "id",
         "dtype": "int64",
         "stats": {
          "unique_count": 5,
          "nan_count": 0,
          "min": "11551",
          "max": "25123",
          "histogram": [
           {
            "bin_start": 11551,
            "bin_end": 12908.2,
            "count": 1
           },
           {
            "bin_start": 12908.2,
            "bin_end": 14265.4,
            "count": 1
           },
           {
            "bin_start": 14265.4,
            "bin_end": 15622.6,
            "count": 1
           },
           {
            "bin_start": 15622.6,
            "bin_end": 16979.8,
            "count": 0
           },
           {
            "bin_start": 16979.8,
            "bin_end": 18337,
            "count": 1
           },
           {
            "bin_start": 18337,
            "bin_end": 19694.2,
            "count": 0
           },
           {
            "bin_start": 19694.2,
            "bin_end": 21051.4,
            "count": 0
           },
           {
            "bin_start": 21051.4,
            "bin_end": 22408.6,
            "count": 0
           },
           {
            "bin_start": 22408.6,
            "bin_end": 23765.800000000003,
            "count": 0
           },
           {
            "bin_start": 23765.800000000003,
            "bin_end": 25123,
            "count": 1
           }
          ]
         }
        },
        {
         "name": "name",
         "dtype": "object",
         "stats": {
          "unique_count": 5,
          "nan_count": 0,
          "categories": [
           {
            "name": "Arty and Bright London Apartment in Zone 2",
            "count": 1
           },
           {
            "name": "Holiday London DB Room Let-on going",
            "count": 1
           },
           {
            "name": "3 others",
            "count": 3
           }
          ]
         }
        },
        {
         "name": "description",
         "dtype": "object",
         "stats": {
          "unique_count": 5,
          "nan_count": 0,
          "categories": [
           {
            "name": "Unlike most rental apartments my flat gives you a home feel mainly due to the oil paintings from my own collection. The flat has a very well equipped kitchen and a large bathroom, not to mention very fast 250 Mbps Wi-Fi and a 40 inch smart TV. <br />Very close to shops 24hrs and supermarkets providing easy reach to daily essential...not to mention just a 3-minute walk to the fastest (Victoria Line) underground in London.<br /><br /><b>The space</b><br />Amenities<br />Bedding: 1 Double bed, 1 living room with 1 chair that unfolds into a comfortable bed and 1 sofa bed for two, 1 bathroom, 1 kitchen<br />Utilities: Central heating, Wi-fi, 40inch smart TV, Kettle, Toaster, Iron board, Cooker, Fridge, Freezer, Washing machine, crockery, pots, pans, dishes etc. <br />Bed linen is provided along with fresh towels.<br /><br /><b>Guest access</b><br />Guest will have access to the entire apartment<br /><br /><b>Other things to note</b><br />No Smoking (very strict)<br />Check-in time is after ",
            "count": 1
           },
           {
            "name": "My bright double bedroom with a large window has a relaxed feeling! It comfortably fits one or two and is centrally located just two blocks from Finsbury Park. Enjoy great restaurants in the area and easy access to easy transport tubes, trains and buses. Babies and children of all ages are welcome.<br /><br /><b>The space</b><br />Hello Everyone,<br /><br />I'm offering my lovely double bedroom in Finsbury Park area (zone 2) for let in a shared apartment. <br />You will share the apartment with me and it is fully furnished with a self catering kitchen. Two people can easily sleep well as the room has a queen size bed. I also have a travel cot for a baby for guest with small children. <br /><br />I will require a deposit up front as a security gesture on both our parts and will be given back to you when you return the keys. <br /><br />I trust anyone who will be responding to this add would treat my home with care and respect . <br /><br />Best Wishes <br /><br />Alina<br /><br /><b>Gue",
            "count": 1
           },
           {
            "name": "3 others",
            "count": 3
           }
          ]
         }
        },
        {
         "name": "neighborhood_overview",
         "dtype": "object",
         "stats": {
          "unique_count": 5,
          "nan_count": 0,
          "categories": [
           {
            "name": "Not even 10 minutes by metro from Victoria Station there is a community where colours, sounds, flavours make you catapult into a completely new and exotic world. This is precisely the largest Afro-Caribbean London community. As soon as you immerse yourself in the local markets and in the heart of the community to the rhythm of the reggae music that resounds from the locals, you can only understand the artistic, creative and cultural uniqueness. Not surprisingly, people like Bob Marley, David Bowie, Van Gogh, Charlie Chaplin have lived in this area. But what makes Brixton so unique and unexpected? <br />Surely the first thing you notice is the huge amount of local markets and shops. From super-coloured fabrics, fruit and vegetable stand, to the largest selection of butchers and fishmongers you can find in the area, to numerous wig and hairdresser shops, the Brixton markets offer a wide selection of local and Caribbean products. From Brixton Station Road, to the famous Electric Avenue, t",
            "count": 1
           },
           {
            "name": "Finsbury Park is a friendly melting pot community composed of Turkish, French, Spanish, Middle Eastern, Irish and English families. <br />We have a wonderful variety of international restaurants directly under us on Stroud Green Road. And there are many shops and large Tescos supermarket right next door. <br /><br />But you can also venture up to Crouch End and along Greens Lanes where there will endless choice of Turkish and Middle Eastern cuisines.s",
            "count": 1
           },
           {
            "name": "3 others",
            "count": 3
           }
          ]
         }
        },
        {
         "name": "neighbourhood",
         "dtype": "object",
         "stats": {
          "unique_count": 4,
          "nan_count": 0,
          "categories": [
           {
            "name": "London, United Kingdom",
            "count": 2
           },
           {
            "name": "Islington, Greater London, United Kingdom",
            "count": 1
           },
           {
            "name": "2 others",
            "count": 2
           }
          ]
         }
        },
        {
         "name": "latitude",
         "dtype": "float64",
         "stats": {
          "unique_count": 5,
          "nan_count": 0,
          "min": "51.46095",
          "max": "51.57438",
          "histogram": [
           {
            "bin_start": 51.46095,
            "bin_end": 51.47229299999999,
            "count": 1
           },
           {
            "bin_start": 51.47229299999999,
            "bin_end": 51.483636,
            "count": 0
           },
           {
            "bin_start": 51.483636,
            "bin_end": 51.494979,
            "count": 1
           },
           {
            "bin_start": 51.494979,
            "bin_end": 51.506322,
            "count": 0
           },
           {
            "bin_start": 51.506322,
            "bin_end": 51.517664999999994,
            "count": 0
           },
           {
            "bin_start": 51.517664999999994,
            "bin_end": 51.529008,
            "count": 1
           },
           {
            "bin_start": 51.529008,
            "bin_end": 51.540351,
            "count": 0
           },
           {
            "bin_start": 51.540351,
            "bin_end": 51.551694,
            "count": 0
           },
           {
            "bin_start": 51.551694,
            "bin_end": 51.563036999999994,
            "count": 0
           },
           {
            "bin_start": 51.563036999999994,
            "bin_end": 51.57438,
            "count": 2
           }
          ]
         }
        },
        {
         "name": "longitude",
         "dtype": "float64",
         "stats": {
          "unique_count": 5,
          "nan_count": 0,
          "min": "-0.21081",
          "max": "-0.1127",
          "histogram": [
           {
            "bin_start": -0.21081,
            "bin_end": -0.20099899999999998,
            "count": 1
           },
           {
            "bin_start": -0.20099899999999998,
            "bin_end": -0.191188,
            "count": 0
           },
           {
            "bin_start": -0.191188,
            "bin_end": -0.181377,
            "count": 0
           },
           {
            "bin_start": -0.181377,
            "bin_end": -0.171566,
            "count": 0
           },
           {
            "bin_start": -0.171566,
            "bin_end": -0.16175499999999998,
            "count": 1
           },
           {
            "bin_start": -0.16175499999999998,
            "bin_end": -0.151944,
            "count": 0
           },
           {
            "bin_start": -0.151944,
            "bin_end": -0.142133,
            "count": 0
           },
           {
            "bin_start": -0.142133,
            "bin_end": -0.132322,
            "count": 1
           },
           {
            "bin_start": -0.132322,
            "bin_end": -0.122511,
            "count": 0
           },
           {
            "bin_start": -0.122511,
            "bin_end": -0.1127,
            "count": 2
           }
          ]
         }
        },
        {
         "name": "room_type",
         "dtype": "object",
         "stats": {
          "unique_count": 2,
          "nan_count": 0,
          "categories": [
           {
            "name": "Entire home/apt",
            "count": 3
           },
           {
            "name": "Private room",
            "count": 2
           }
          ]
         }
        },
        {
         "name": "accommodates",
         "dtype": "int64",
         "stats": {
          "unique_count": 3,
          "nan_count": 0,
          "min": "2",
          "max": "6",
          "histogram": [
           {
            "bin_start": 2,
            "bin_end": 2.4,
            "count": 3
           },
           {
            "bin_start": 2.4,
            "bin_end": 2.8,
            "count": 0
           },
           {
            "bin_start": 2.8,
            "bin_end": 3.2,
            "count": 0
           },
           {
            "bin_start": 3.2,
            "bin_end": 3.6,
            "count": 0
           },
           {
            "bin_start": 3.6,
            "bin_end": 4,
            "count": 0
           },
           {
            "bin_start": 4,
            "bin_end": 4.4,
            "count": 1
           },
           {
            "bin_start": 4.4,
            "bin_end": 4.800000000000001,
            "count": 0
           },
           {
            "bin_start": 4.800000000000001,
            "bin_end": 5.2,
            "count": 0
           },
           {
            "bin_start": 5.2,
            "bin_end": 5.6,
            "count": 0
           },
           {
            "bin_start": 5.6,
            "bin_end": 6,
            "count": 1
           }
          ]
         }
        },
        {
         "name": "bathrooms_text",
         "dtype": "object",
         "stats": {
          "unique_count": 4,
          "nan_count": 0,
          "categories": [
           {
            "name": "1 bath",
            "count": 2
           },
           {
            "name": "1 shared bath",
            "count": 1
           },
           {
            "name": "2 others",
            "count": 2
           }
          ]
         }
        },
        {
         "name": "bedrooms",
         "dtype": "float64",
         "stats": {
          "unique_count": 2,
          "nan_count": 0,
          "min": "1.0",
          "max": "3.0",
          "histogram": [
           {
            "bin_start": 1,
            "bin_end": 1.2,
            "count": 4
           },
           {
            "bin_start": 1.2,
            "bin_end": 1.4,
            "count": 0
           },
           {
            "bin_start": 1.4,
            "bin_end": 1.6,
            "count": 0
           },
           {
            "bin_start": 1.6,
            "bin_end": 1.8,
            "count": 0
           },
           {
            "bin_start": 1.8,
            "bin_end": 2,
            "count": 0
           },
           {
            "bin_start": 2,
            "bin_end": 2.2,
            "count": 0
           },
           {
            "bin_start": 2.2,
            "bin_end": 2.4000000000000004,
            "count": 0
           },
           {
            "bin_start": 2.4000000000000004,
            "bin_end": 2.6,
            "count": 0
           },
           {
            "bin_start": 2.6,
            "bin_end": 2.8,
            "count": 0
           },
           {
            "bin_start": 2.8,
            "bin_end": 3,
            "count": 1
           }
          ]
         }
        },
        {
         "name": "beds",
         "dtype": "float64",
         "stats": {
          "unique_count": 3,
          "nan_count": 0,
          "min": "0.0",
          "max": "3.0",
          "histogram": [
           {
            "bin_start": 0,
            "bin_end": 0.3,
            "count": 2
           },
           {
            "bin_start": 0.3,
            "bin_end": 0.6,
            "count": 0
           },
           {
            "bin_start": 0.6,
            "bin_end": 0.8999999999999999,
            "count": 0
           },
           {
            "bin_start": 0.8999999999999999,
            "bin_end": 1.2,
            "count": 1
           },
           {
            "bin_start": 1.2,
            "bin_end": 1.5,
            "count": 0
           },
           {
            "bin_start": 1.5,
            "bin_end": 1.7999999999999998,
            "count": 0
           },
           {
            "bin_start": 1.7999999999999998,
            "bin_end": 2.1,
            "count": 0
           },
           {
            "bin_start": 2.1,
            "bin_end": 2.4,
            "count": 0
           },
           {
            "bin_start": 2.4,
            "bin_end": 2.6999999999999997,
            "count": 0
           },
           {
            "bin_start": 2.6999999999999997,
            "bin_end": 3,
            "count": 2
           }
          ]
         }
        },
        {
         "name": "amenities",
         "dtype": "object",
         "stats": {
          "unique_count": 5,
          "nan_count": 0,
          "categories": [
           {
            "name": "[\"Hair dryer\", \"Essentials\", \"Washer\", \"Lockbox\", \"Iron\", \"Carbon monoxide alarm\", \"Kitchen\", \"Dedicated workspace\", \"Cooking basics\", \"Long term stays allowed\", \"Coffee maker\", \"Wifi\", \"High chair\", \"Paid parking off premises\", \"Refrigerator\", \"Stove\", \"Fire extinguisher\", \"TV\", \"Microwave\", \"Crib\", \"Pack \\u2019n Play/travel crib\", \"Hangers\", \"Dishes and silverware\", \"Cable TV\", \"Heating\", \"Hot water\", \"Oven\", \"Smoke alarm\"]",
            "count": 1
           },
           {
            "name": "[\"Kitchen\", \"Host greets you\", \"Bed linens\", \"Hangers\", \"Fire extinguisher\", \"Bathtub\", \"Lock on bedroom door\", \"Long term stays allowed\", \"Wifi\", \"Carbon monoxide alarm\", \"Heating\", \"Children\\u2019s books and toys\", \"Paid parking off premises\", \"Essentials\", \"Washer\", \"Hair dryer\", \"Children\\u2019s dinnerware\", \"Dedicated workspace\", \"Free street parking\", \"TV with standard cable\", \"Refrigerator\", \"Room-darkening shades\", \"Iron\", \"Extra pillows and blankets\", \"Cooking basics\", \"Patio or balcony\", \"Ethernet connection\", \"Coffee maker\", \"Outlet covers\", \"Oven\", \"Shampoo\", \"Hot water\", \"Dishes and silverware\", \"Stove\", \"Babysitter recommendations\", \"Crib\", \"Pack \\u2019n Play/travel crib\", \"Luggage dropoff allowed\", \"Cable TV\", \"Smoke alarm\", \"Dryer\"]",
            "count": 1
           },
           {
            "name": "3 others",
            "count": 3
           }
          ]
         }
        },
        {
         "name": "price",
         "dtype": "object",
         "stats": {
          "unique_count": 5,
          "nan_count": 0,
          "categories": [
           {
            "name": "$110.00",
            "count": 1
           },
           {
            "name": "$40.00",
            "count": 1
           },
           {
            "name": "3 others",
            "count": 3
           }
          ]
         }
        },
        {
         "name": "number_of_reviews",
         "dtype": "int64",
         "stats": {
          "unique_count": 5,
          "nan_count": 0,
          "min": "21",
          "max": "193",
          "histogram": [
           {
            "bin_start": 21,
            "bin_end": 38.2,
            "count": 1
           },
           {
            "bin_start": 38.2,
            "bin_end": 55.4,
            "count": 1
           },
           {
            "bin_start": 55.4,
            "bin_end": 72.6,
            "count": 0
           },
           {
            "bin_start": 72.6,
            "bin_end": 89.8,
            "count": 1
           },
           {
            "bin_start": 89.8,
            "bin_end": 107,
            "count": 0
           },
           {
            "bin_start": 107,
            "bin_end": 124.19999999999999,
            "count": 0
           },
           {
            "bin_start": 124.19999999999999,
            "bin_end": 141.39999999999998,
            "count": 1
           },
           {
            "bin_start": 141.39999999999998,
            "bin_end": 158.6,
            "count": 0
           },
           {
            "bin_start": 158.6,
            "bin_end": 175.79999999999998,
            "count": 0
           },
           {
            "bin_start": 175.79999999999998,
            "bin_end": 193,
            "count": 1
           }
          ]
         }
        },
        {
         "name": "review_scores_rating",
         "dtype": "float64",
         "stats": {
          "unique_count": 4,
          "nan_count": 0,
          "min": "91.0",
          "max": "97.0",
          "histogram": [
           {
            "bin_start": 91,
            "bin_end": 91.6,
            "count": 1
           },
           {
            "bin_start": 91.6,
            "bin_end": 92.2,
            "count": 0
           },
           {
            "bin_start": 92.2,
            "bin_end": 92.8,
            "count": 0
           },
           {
            "bin_start": 92.8,
            "bin_end": 93.4,
            "count": 0
           },
           {
            "bin_start": 93.4,
            "bin_end": 94,
            "count": 0
           },
           {
            "bin_start": 94,
            "bin_end": 94.6,
            "count": 1
           },
           {
            "bin_start": 94.6,
            "bin_end": 95.2,
            "count": 0
           },
           {
            "bin_start": 95.2,
            "bin_end": 95.8,
            "count": 0
           },
           {
            "bin_start": 95.8,
            "bin_end": 96.4,
            "count": 2
           },
           {
            "bin_start": 96.4,
            "bin_end": 97,
            "count": 1
           }
          ]
         }
        },
        {
         "name": "review_scores_accuracy",
         "dtype": "float64",
         "stats": {
          "unique_count": 2,
          "nan_count": 0,
          "min": "9.0",
          "max": "10.0",
          "histogram": [
           {
            "bin_start": 9,
            "bin_end": 9.1,
            "count": 1
           },
           {
            "bin_start": 9.1,
            "bin_end": 9.2,
            "count": 0
           },
           {
            "bin_start": 9.2,
            "bin_end": 9.3,
            "count": 0
           },
           {
            "bin_start": 9.3,
            "bin_end": 9.4,
            "count": 0
           },
           {
            "bin_start": 9.4,
            "bin_end": 9.5,
            "count": 0
           },
           {
            "bin_start": 9.5,
            "bin_end": 9.6,
            "count": 0
           },
           {
            "bin_start": 9.6,
            "bin_end": 9.7,
            "count": 0
           },
           {
            "bin_start": 9.7,
            "bin_end": 9.8,
            "count": 0
           },
           {
            "bin_start": 9.8,
            "bin_end": 9.9,
            "count": 0
           },
           {
            "bin_start": 9.9,
            "bin_end": 10,
            "count": 4
           }
          ]
         }
        },
        {
         "name": "review_scores_cleanliness",
         "dtype": "float64",
         "stats": {
          "unique_count": 2,
          "nan_count": 0,
          "min": "9.0",
          "max": "10.0",
          "histogram": [
           {
            "bin_start": 9,
            "bin_end": 9.1,
            "count": 2
           },
           {
            "bin_start": 9.1,
            "bin_end": 9.2,
            "count": 0
           },
           {
            "bin_start": 9.2,
            "bin_end": 9.3,
            "count": 0
           },
           {
            "bin_start": 9.3,
            "bin_end": 9.4,
            "count": 0
           },
           {
            "bin_start": 9.4,
            "bin_end": 9.5,
            "count": 0
           },
           {
            "bin_start": 9.5,
            "bin_end": 9.6,
            "count": 0
           },
           {
            "bin_start": 9.6,
            "bin_end": 9.7,
            "count": 0
           },
           {
            "bin_start": 9.7,
            "bin_end": 9.8,
            "count": 0
           },
           {
            "bin_start": 9.8,
            "bin_end": 9.9,
            "count": 0
           },
           {
            "bin_start": 9.9,
            "bin_end": 10,
            "count": 3
           }
          ]
         }
        },
        {
         "name": "review_scores_checkin",
         "dtype": "float64",
         "stats": {
          "unique_count": 2,
          "nan_count": 0,
          "min": "9.0",
          "max": "10.0",
          "histogram": [
           {
            "bin_start": 9,
            "bin_end": 9.1,
            "count": 1
           },
           {
            "bin_start": 9.1,
            "bin_end": 9.2,
            "count": 0
           },
           {
            "bin_start": 9.2,
            "bin_end": 9.3,
            "count": 0
           },
           {
            "bin_start": 9.3,
            "bin_end": 9.4,
            "count": 0
           },
           {
            "bin_start": 9.4,
            "bin_end": 9.5,
            "count": 0
           },
           {
            "bin_start": 9.5,
            "bin_end": 9.6,
            "count": 0
           },
           {
            "bin_start": 9.6,
            "bin_end": 9.7,
            "count": 0
           },
           {
            "bin_start": 9.7,
            "bin_end": 9.8,
            "count": 0
           },
           {
            "bin_start": 9.8,
            "bin_end": 9.9,
            "count": 0
           },
           {
            "bin_start": 9.9,
            "bin_end": 10,
            "count": 4
           }
          ]
         }
        },
        {
         "name": "review_scores_communication",
         "dtype": "float64",
         "stats": {
          "unique_count": 2,
          "nan_count": 0,
          "min": "9.0",
          "max": "10.0",
          "histogram": [
           {
            "bin_start": 9,
            "bin_end": 9.1,
            "count": 1
           },
           {
            "bin_start": 9.1,
            "bin_end": 9.2,
            "count": 0
           },
           {
            "bin_start": 9.2,
            "bin_end": 9.3,
            "count": 0
           },
           {
            "bin_start": 9.3,
            "bin_end": 9.4,
            "count": 0
           },
           {
            "bin_start": 9.4,
            "bin_end": 9.5,
            "count": 0
           },
           {
            "bin_start": 9.5,
            "bin_end": 9.6,
            "count": 0
           },
           {
            "bin_start": 9.6,
            "bin_end": 9.7,
            "count": 0
           },
           {
            "bin_start": 9.7,
            "bin_end": 9.8,
            "count": 0
           },
           {
            "bin_start": 9.8,
            "bin_end": 9.9,
            "count": 0
           },
           {
            "bin_start": 9.9,
            "bin_end": 10,
            "count": 4
           }
          ]
         }
        },
        {
         "name": "review_scores_location",
         "dtype": "float64",
         "stats": {
          "unique_count": 2,
          "nan_count": 0,
          "min": "9.0",
          "max": "10.0",
          "histogram": [
           {
            "bin_start": 9,
            "bin_end": 9.1,
            "count": 3
           },
           {
            "bin_start": 9.1,
            "bin_end": 9.2,
            "count": 0
           },
           {
            "bin_start": 9.2,
            "bin_end": 9.3,
            "count": 0
           },
           {
            "bin_start": 9.3,
            "bin_end": 9.4,
            "count": 0
           },
           {
            "bin_start": 9.4,
            "bin_end": 9.5,
            "count": 0
           },
           {
            "bin_start": 9.5,
            "bin_end": 9.6,
            "count": 0
           },
           {
            "bin_start": 9.6,
            "bin_end": 9.7,
            "count": 0
           },
           {
            "bin_start": 9.7,
            "bin_end": 9.8,
            "count": 0
           },
           {
            "bin_start": 9.8,
            "bin_end": 9.9,
            "count": 0
           },
           {
            "bin_start": 9.9,
            "bin_end": 10,
            "count": 2
           }
          ]
         }
        },
        {
         "name": "review_scores_value",
         "dtype": "float64",
         "stats": {
          "unique_count": 2,
          "nan_count": 0,
          "min": "9.0",
          "max": "10.0",
          "histogram": [
           {
            "bin_start": 9,
            "bin_end": 9.1,
            "count": 4
           },
           {
            "bin_start": 9.1,
            "bin_end": 9.2,
            "count": 0
           },
           {
            "bin_start": 9.2,
            "bin_end": 9.3,
            "count": 0
           },
           {
            "bin_start": 9.3,
            "bin_end": 9.4,
            "count": 0
           },
           {
            "bin_start": 9.4,
            "bin_end": 9.5,
            "count": 0
           },
           {
            "bin_start": 9.5,
            "bin_end": 9.6,
            "count": 0
           },
           {
            "bin_start": 9.6,
            "bin_end": 9.7,
            "count": 0
           },
           {
            "bin_start": 9.7,
            "bin_end": 9.8,
            "count": 0
           },
           {
            "bin_start": 9.8,
            "bin_end": 9.9,
            "count": 0
           },
           {
            "bin_start": 9.9,
            "bin_end": 10,
            "count": 1
           }
          ]
         }
        },
        {
         "name": "_deepnote_index_column",
         "dtype": "int64"
        }
       ],
       "rows_top": [
        {
         "host_id": 43039,
         "id": 11551,
         "name": "Arty and Bright London Apartment in Zone 2",
         "description": "Unlike most rental apartments my flat gives you a home feel mainly due to the oil paintings from my…",
         "neighborhood_overview": "Not even 10 minutes by metro from Victoria Station there is a community where colours, sounds, flav…",
         "neighbourhood": "London, United Kingdom",
         "latitude": 51.46095,
         "longitude": -0.11758,
         "room_type": "Entire home/apt",
         "accommodates": 4,
         "bathrooms_text": "1 bath",
         "bedrooms": 1,
         "beds": 3,
         "amenities": "[\"Hair dryer\", \"Essentials\", \"Washer\", \"Lockbox\", \"Iron\", \"Carbon monoxide alarm\", \"Kitchen\", \"Dedi…",
         "price": "$110.00",
         "number_of_reviews": 193,
         "review_scores_rating": 91,
         "review_scores_accuracy": 9,
         "review_scores_cleanliness": 9,
         "review_scores_checkin": 10,
         "review_scores_communication": 10,
         "review_scores_location": 9,
         "review_scores_value": 9,
         "_deepnote_index_column": 0
        },
        {
         "host_id": 54730,
         "id": 13913,
         "name": "Holiday London DB Room Let-on going",
         "description": "My bright double bedroom with a large window has a relaxed feeling! It comfortably fits one or two …",
         "neighborhood_overview": "Finsbury Park is a friendly melting pot community composed of Turkish, French, Spanish, Middle East…",
         "neighbourhood": "Islington, Greater London, United Kingdom",
         "latitude": 51.56861,
         "longitude": -0.1127,
         "room_type": "Private room",
         "accommodates": 2,
         "bathrooms_text": "1 shared bath",
         "bedrooms": 1,
         "beds": 0,
         "amenities": "[\"Kitchen\", \"Host greets you\", \"Bed linens\", \"Hangers\", \"Fire extinguisher\", \"Bathtub\", \"Lock on be…",
         "price": "$40.00",
         "number_of_reviews": 21,
         "review_scores_rating": 97,
         "review_scores_accuracy": 10,
         "review_scores_cleanliness": 10,
         "review_scores_checkin": 10,
         "review_scores_communication": 10,
         "review_scores_location": 9,
         "review_scores_value": 9,
         "_deepnote_index_column": 1
        },
        {
         "host_id": 60302,
         "id": 15400,
         "name": "Bright Chelsea  Apartment. Chelsea!",
         "description": "Lots of windows and light.  St Luke's Gardens are at the end of the block, and the river not too fa…",
         "neighborhood_overview": "It is Chelsea.",
         "neighbourhood": "London, United Kingdom",
         "latitude": 51.4878,
         "longitude": -0.16813,
         "room_type": "Entire home/apt",
         "accommodates": 2,
         "bathrooms_text": "1 bath",
         "bedrooms": 1,
         "beds": 1,
         "amenities": "[\"Kitchen\", \"Hangers\", \"Fire extinguisher\", \"Long term stays allowed\", \"Wifi\", \"Heating\", \"Essentia…",
         "price": "$75.00",
         "number_of_reviews": 89,
         "review_scores_rating": 96,
         "review_scores_accuracy": 10,
         "review_scores_cleanliness": 10,
         "review_scores_checkin": 10,
         "review_scores_communication": 10,
         "review_scores_location": 10,
         "review_scores_value": 9,
         "_deepnote_index_column": 2
        },
        {
         "host_id": 67564,
         "id": 17402,
         "name": "Superb 3-Bed/2 Bath & Wifi: Trendy W1",
         "description": "You'll have a wonderful stay in this superb modern well-equipped recently refurbished apartment in …",
         "neighborhood_overview": "Location, location, location! You won't find better than this!<br /><br />Situated in Fitzroy Stree…",
         "neighbourhood": "London, Fitzrovia, United Kingdom",
         "latitude": 51.52195,
         "longitude": -0.14094,
         "room_type": "Entire home/apt",
         "accommodates": 6,
         "bathrooms_text": "2 baths",
         "bedrooms": 3,
         "beds": 3,
         "amenities": "[\"Dishwasher\", \"Kitchen\", \"Bed linens\", \"Hangers\", \"Long term stays allowed\", \"Wifi\", \"Heating\", \"P…",
         "price": "$307.00",
         "number_of_reviews": 42,
         "review_scores_rating": 94,
         "review_scores_accuracy": 10,
         "review_scores_cleanliness": 9,
         "review_scores_checkin": 9,
         "review_scores_communication": 9,
         "review_scores_location": 10,
         "review_scores_value": 9,
         "_deepnote_index_column": 3
        },
        {
         "host_id": 103583,
         "id": 25123,
         "name": "Clean big Room in London (Room 1)",
         "description": "Big room with double bed/ clean sheets/ clean towels in very clean private house.  Very light and s…",
         "neighborhood_overview": "Barnet is one of the largest boroughs in London, situated to the North West of the city and borderi…",
         "neighbourhood": "Barnet, England, United Kingdom",
         "latitude": 51.57438,
         "longitude": -0.21081,
         "room_type": "Private room",
         "accommodates": 2,
         "bathrooms_text": "1.5 shared baths",
         "bedrooms": 1,
         "beds": 0,
         "amenities": "[\"Essentials\", \"Kitchen\", \"Washer\", \"Hair dryer\", \"Hangers\", \"Coffee maker\", \"Free street parking\",…",
         "price": "$29.00",
         "number_of_reviews": 129,
         "review_scores_rating": 96,
         "review_scores_accuracy": 10,
         "review_scores_cleanliness": 10,
         "review_scores_checkin": 10,
         "review_scores_communication": 10,
         "review_scores_location": 9,
         "review_scores_value": 10,
         "_deepnote_index_column": 4
        }
       ],
       "rows_bottom": null
      },
      "text/plain": "   host_id     id                                        name  \\\n0    43039  11551  Arty and Bright London Apartment in Zone 2   \n1    54730  13913         Holiday London DB Room Let-on going   \n2    60302  15400         Bright Chelsea  Apartment. Chelsea!   \n3    67564  17402       Superb 3-Bed/2 Bath & Wifi: Trendy W1   \n4   103583  25123           Clean big Room in London (Room 1)   \n\n                                         description  \\\n0  Unlike most rental apartments my flat gives yo...   \n1  My bright double bedroom with a large window h...   \n2  Lots of windows and light.  St Luke's Gardens ...   \n3  You'll have a wonderful stay in this superb mo...   \n4  Big room with double bed/ clean sheets/ clean ...   \n\n                               neighborhood_overview  \\\n0  Not even 10 minutes by metro from Victoria Sta...   \n1  Finsbury Park is a friendly melting pot commun...   \n2                                     It is Chelsea.   \n3  Location, location, location! You won't find b...   \n4  Barnet is one of the largest boroughs in Londo...   \n\n                               neighbourhood  latitude  longitude  \\\n0                     London, United Kingdom  51.46095   -0.11758   \n1  Islington, Greater London, United Kingdom  51.56861   -0.11270   \n2                     London, United Kingdom  51.48780   -0.16813   \n3          London, Fitzrovia, United Kingdom  51.52195   -0.14094   \n4            Barnet, England, United Kingdom  51.57438   -0.21081   \n\n         room_type  accommodates  ...  \\\n0  Entire home/apt             4  ...   \n1     Private room             2  ...   \n2  Entire home/apt             2  ...   \n3  Entire home/apt             6  ...   \n4     Private room             2  ...   \n\n                                           amenities    price  \\\n0  [\"Hair dryer\", \"Essentials\", \"Washer\", \"Lockbo...  $110.00   \n1  [\"Kitchen\", \"Host greets you\", \"Bed linens\", \"...   $40.00   \n2  [\"Kitchen\", \"Hangers\", \"Fire extinguisher\", \"L...   $75.00   \n3  [\"Dishwasher\", \"Kitchen\", \"Bed linens\", \"Hange...  $307.00   \n4  [\"Essentials\", \"Kitchen\", \"Washer\", \"Hair drye...   $29.00   \n\n   number_of_reviews review_scores_rating review_scores_accuracy  \\\n0                193                 91.0                    9.0   \n1                 21                 97.0                   10.0   \n2                 89                 96.0                   10.0   \n3                 42                 94.0                   10.0   \n4                129                 96.0                   10.0   \n\n   review_scores_cleanliness  review_scores_checkin  \\\n0                        9.0                   10.0   \n1                       10.0                   10.0   \n2                       10.0                   10.0   \n3                        9.0                    9.0   \n4                       10.0                   10.0   \n\n   review_scores_communication  review_scores_location  review_scores_value  \n0                         10.0                     9.0                  9.0  \n1                         10.0                     9.0                  9.0  \n2                         10.0                    10.0                  9.0  \n3                          9.0                    10.0                  9.0  \n4                         10.0                     9.0                 10.0  \n\n[5 rows x 23 columns]",
      "text/html": "<div>\n<style scoped>\n    .dataframe tbody tr th:only-of-type {\n        vertical-align: middle;\n    }\n\n    .dataframe tbody tr th {\n        vertical-align: top;\n    }\n\n    .dataframe thead th {\n        text-align: right;\n    }\n</style>\n<table border=\"1\" class=\"dataframe\">\n  <thead>\n    <tr style=\"text-align: right;\">\n      <th></th>\n      <th>host_id</th>\n      <th>id</th>\n      <th>name</th>\n      <th>description</th>\n      <th>neighborhood_overview</th>\n      <th>neighbourhood</th>\n      <th>latitude</th>\n      <th>longitude</th>\n      <th>room_type</th>\n      <th>accommodates</th>\n      <th>...</th>\n      <th>amenities</th>\n      <th>price</th>\n      <th>number_of_reviews</th>\n      <th>review_scores_rating</th>\n      <th>review_scores_accuracy</th>\n      <th>review_scores_cleanliness</th>\n      <th>review_scores_checkin</th>\n      <th>review_scores_communication</th>\n      <th>review_scores_location</th>\n      <th>review_scores_value</th>\n    </tr>\n  </thead>\n  <tbody>\n    <tr>\n      <th>0</th>\n      <td>43039</td>\n      <td>11551</td>\n      <td>Arty and Bright London Apartment in Zone 2</td>\n      <td>Unlike most rental apartments my flat gives yo...</td>\n      <td>Not even 10 minutes by metro from Victoria Sta...</td>\n      <td>London, United Kingdom</td>\n      <td>51.46095</td>\n      <td>-0.11758</td>\n      <td>Entire home/apt</td>\n      <td>4</td>\n      <td>...</td>\n      <td>[\"Hair dryer\", \"Essentials\", \"Washer\", \"Lockbo...</td>\n      <td>$110.00</td>\n      <td>193</td>\n      <td>91.0</td>\n      <td>9.0</td>\n      <td>9.0</td>\n      <td>10.0</td>\n      <td>10.0</td>\n      <td>9.0</td>\n      <td>9.0</td>\n    </tr>\n    <tr>\n      <th>1</th>\n      <td>54730</td>\n      <td>13913</td>\n      <td>Holiday London DB Room Let-on going</td>\n      <td>My bright double bedroom with a large window h...</td>\n      <td>Finsbury Park is a friendly melting pot commun...</td>\n      <td>Islington, Greater London, United Kingdom</td>\n      <td>51.56861</td>\n      <td>-0.11270</td>\n      <td>Private room</td>\n      <td>2</td>\n      <td>...</td>\n      <td>[\"Kitchen\", \"Host greets you\", \"Bed linens\", \"...</td>\n      <td>$40.00</td>\n      <td>21</td>\n      <td>97.0</td>\n      <td>10.0</td>\n      <td>10.0</td>\n      <td>10.0</td>\n      <td>10.0</td>\n      <td>9.0</td>\n      <td>9.0</td>\n    </tr>\n    <tr>\n      <th>2</th>\n      <td>60302</td>\n      <td>15400</td>\n      <td>Bright Chelsea  Apartment. Chelsea!</td>\n      <td>Lots of windows and light.  St Luke's Gardens ...</td>\n      <td>It is Chelsea.</td>\n      <td>London, United Kingdom</td>\n      <td>51.48780</td>\n      <td>-0.16813</td>\n      <td>Entire home/apt</td>\n      <td>2</td>\n      <td>...</td>\n      <td>[\"Kitchen\", \"Hangers\", \"Fire extinguisher\", \"L...</td>\n      <td>$75.00</td>\n      <td>89</td>\n      <td>96.0</td>\n      <td>10.0</td>\n      <td>10.0</td>\n      <td>10.0</td>\n      <td>10.0</td>\n      <td>10.0</td>\n      <td>9.0</td>\n    </tr>\n    <tr>\n      <th>3</th>\n      <td>67564</td>\n      <td>17402</td>\n      <td>Superb 3-Bed/2 Bath &amp; Wifi: Trendy W1</td>\n      <td>You'll have a wonderful stay in this superb mo...</td>\n      <td>Location, location, location! You won't find b...</td>\n      <td>London, Fitzrovia, United Kingdom</td>\n      <td>51.52195</td>\n      <td>-0.14094</td>\n      <td>Entire home/apt</td>\n      <td>6</td>\n      <td>...</td>\n      <td>[\"Dishwasher\", \"Kitchen\", \"Bed linens\", \"Hange...</td>\n      <td>$307.00</td>\n      <td>42</td>\n      <td>94.0</td>\n      <td>10.0</td>\n      <td>9.0</td>\n      <td>9.0</td>\n      <td>9.0</td>\n      <td>10.0</td>\n      <td>9.0</td>\n    </tr>\n    <tr>\n      <th>4</th>\n      <td>103583</td>\n      <td>25123</td>\n      <td>Clean big Room in London (Room 1)</td>\n      <td>Big room with double bed/ clean sheets/ clean ...</td>\n      <td>Barnet is one of the largest boroughs in Londo...</td>\n      <td>Barnet, England, United Kingdom</td>\n      <td>51.57438</td>\n      <td>-0.21081</td>\n      <td>Private room</td>\n      <td>2</td>\n      <td>...</td>\n      <td>[\"Essentials\", \"Kitchen\", \"Washer\", \"Hair drye...</td>\n      <td>$29.00</td>\n      <td>129</td>\n      <td>96.0</td>\n      <td>10.0</td>\n      <td>10.0</td>\n      <td>10.0</td>\n      <td>10.0</td>\n      <td>9.0</td>\n      <td>10.0</td>\n    </tr>\n  </tbody>\n</table>\n<p>5 rows × 23 columns</p>\n</div>"
     },
     "metadata": {}
    }
   ],
   "execution_count": 5
  },
  {
   "cell_type": "markdown",
   "source": "Let's assume we want to segment the listings by `room_type`. First, let's take a quick look at how many listings of each `room_type` there are in `df_listings`. To do this, we can use the `value_counts()` method. Please run the code below.",
   "metadata": {
    "tags": [],
    "cell_id": "00013-7d435d32-23a9-4455-b13f-cd971bae9808",
    "deepnote_cell_type": "markdown"
   }
  },
  {
   "cell_type": "code",
   "metadata": {
    "tags": [],
    "cell_id": "00003-589ec3dd-36ab-40c1-90ad-860a97e56620",
    "deepnote_to_be_reexecuted": false,
    "source_hash": "97e6acc6",
    "execution_start": 1633510552905,
    "execution_millis": 31,
    "deepnote_cell_type": "code"
   },
   "source": "df_listings['room_type'].value_counts().head()",
   "outputs": [
    {
     "output_type": "execute_result",
     "execution_count": 6,
     "data": {
      "text/plain": "Entire home/apt    15623\nPrivate room       11579\nHotel room           176\nShared room          148\nName: room_type, dtype: int64"
     },
     "metadata": {}
    }
   ],
   "execution_count": 6
  },
  {
   "cell_type": "markdown",
   "source": "### Exercise-03: Identify luxury homes\nYou are a business analyst at a company which a business development manager who asks you to identify the 5 most expensive listings which are entire homes/apartments.\n\nTo do this, you first need to create a new `price_$` column in `df_listings` like we did in `01-Basic.ipynb`. Please do that using the `format_price` function written below.",
   "metadata": {
    "tags": [],
    "cell_id": "00002-b862573b-05d6-4559-94cf-493bfabfadf4",
    "deepnote_cell_type": "markdown"
   }
  },
  {
   "cell_type": "code",
   "metadata": {
    "tags": [],
    "cell_id": "00015-e16a4998-d0e0-4f43-9f4a-62c9c48ee484",
    "deepnote_to_be_reexecuted": false,
    "source_hash": "1c897ce6",
    "execution_start": 1633510552964,
    "execution_millis": 58,
    "deepnote_cell_type": "code"
   },
   "source": "def format_price(price):\n    return(float(price.replace('$','').replace(',','')))\n\n# (SOLUTION) Delete in public branch\ndf_listings['price_$'] = df_listings['price'].apply(format_price) \ndf_listings[['price','price_$']].head()",
   "outputs": [
    {
     "output_type": "execute_result",
     "execution_count": 7,
     "data": {
      "application/vnd.deepnote.dataframe.v2+json": {
       "row_count": 5,
       "column_count": 2,
       "columns": [
        {
         "name": "price",
         "dtype": "object",
         "stats": {
          "unique_count": 5,
          "nan_count": 0,
          "categories": [
           {
            "name": "$110.00",
            "count": 1
           },
           {
            "name": "$40.00",
            "count": 1
           },
           {
            "name": "3 others",
            "count": 3
           }
          ]
         }
        },
        {
         "name": "price_$",
         "dtype": "float64",
         "stats": {
          "unique_count": 5,
          "nan_count": 0,
          "min": "29.0",
          "max": "307.0",
          "histogram": [
           {
            "bin_start": 29,
            "bin_end": 56.8,
            "count": 2
           },
           {
            "bin_start": 56.8,
            "bin_end": 84.6,
            "count": 1
           },
           {
            "bin_start": 84.6,
            "bin_end": 112.4,
            "count": 1
           },
           {
            "bin_start": 112.4,
            "bin_end": 140.2,
            "count": 0
           },
           {
            "bin_start": 140.2,
            "bin_end": 168,
            "count": 0
           },
           {
            "bin_start": 168,
            "bin_end": 195.8,
            "count": 0
           },
           {
            "bin_start": 195.8,
            "bin_end": 223.6,
            "count": 0
           },
           {
            "bin_start": 223.6,
            "bin_end": 251.4,
            "count": 0
           },
           {
            "bin_start": 251.4,
            "bin_end": 279.20000000000005,
            "count": 0
           },
           {
            "bin_start": 279.20000000000005,
            "bin_end": 307,
            "count": 1
           }
          ]
         }
        },
        {
         "name": "_deepnote_index_column",
         "dtype": "int64"
        }
       ],
       "rows_top": [
        {
         "price": "$110.00",
         "price_$": 110,
         "_deepnote_index_column": 0
        },
        {
         "price": "$40.00",
         "price_$": 40,
         "_deepnote_index_column": 1
        },
        {
         "price": "$75.00",
         "price_$": 75,
         "_deepnote_index_column": 2
        },
        {
         "price": "$307.00",
         "price_$": 307,
         "_deepnote_index_column": 3
        },
        {
         "price": "$29.00",
         "price_$": 29,
         "_deepnote_index_column": 4
        }
       ],
       "rows_bottom": null
      },
      "text/plain": "     price  price_$\n0  $110.00    110.0\n1   $40.00     40.0\n2   $75.00     75.0\n3  $307.00    307.0\n4   $29.00     29.0",
      "text/html": "<div>\n<style scoped>\n    .dataframe tbody tr th:only-of-type {\n        vertical-align: middle;\n    }\n\n    .dataframe tbody tr th {\n        vertical-align: top;\n    }\n\n    .dataframe thead th {\n        text-align: right;\n    }\n</style>\n<table border=\"1\" class=\"dataframe\">\n  <thead>\n    <tr style=\"text-align: right;\">\n      <th></th>\n      <th>price</th>\n      <th>price_$</th>\n    </tr>\n  </thead>\n  <tbody>\n    <tr>\n      <th>0</th>\n      <td>$110.00</td>\n      <td>110.0</td>\n    </tr>\n    <tr>\n      <th>1</th>\n      <td>$40.00</td>\n      <td>40.0</td>\n    </tr>\n    <tr>\n      <th>2</th>\n      <td>$75.00</td>\n      <td>75.0</td>\n    </tr>\n    <tr>\n      <th>3</th>\n      <td>$307.00</td>\n      <td>307.0</td>\n    </tr>\n    <tr>\n      <th>4</th>\n      <td>$29.00</td>\n      <td>29.0</td>\n    </tr>\n  </tbody>\n</table>\n</div>"
     },
     "metadata": {}
    }
   ],
   "execution_count": 7
  },
  {
   "cell_type": "markdown",
   "source": "Now we have price values in a format we can use, we can segment the data and run our analysis to meet the manager's request. To do this, we will:\n\n1. Segment `df_listings` to create a new `DataFrame` named `df_entire_home_apt` which contains only listings with `room_type` equal to `Entire home/apt`.\n2. Sort the rows of `df_entire_home_apt` by the values in `price_$` from largest (most expensive) to smallest (cheapest).\n3. Display the top 5 rows to show columns we think most relevant for the 5 most expensive listings which are entire homes/apartments.\n\nWe will do all this by running only the 3 lines of code shown below. Please run the code.",
   "metadata": {
    "tags": [],
    "cell_id": "00016-05dd5e08-bffb-4942-9ca2-b8d8f0e55f9c",
    "deepnote_cell_type": "markdown"
   }
  },
  {
   "cell_type": "code",
   "metadata": {
    "tags": [],
    "cell_id": "00005-c178ce40-626a-4f1e-a5c5-bae461aca1c3",
    "deepnote_to_be_reexecuted": false,
    "source_hash": "129ca33c",
    "execution_start": 1633510553008,
    "execution_millis": 75,
    "deepnote_cell_type": "code"
   },
   "source": "df_entire_home_apt = df_listings[df_listings['room_type']=='Entire home/apt']\ndf_entire_home_apt = df_entire_home_apt.sort_values(by=['price_$'],ascending=False)\ndf_entire_home_apt[['id','name','description','neighbourhood','price_$']].head(5)",
   "outputs": [
    {
     "output_type": "execute_result",
     "execution_count": 8,
     "data": {
      "application/vnd.deepnote.dataframe.v2+json": {
       "row_count": 5,
       "column_count": 5,
       "columns": [
        {
         "name": "id",
         "dtype": "int64",
         "stats": {
          "unique_count": 5,
          "nan_count": 0,
          "min": "8335339",
          "max": "22877483",
          "histogram": [
           {
            "bin_start": 8335339,
            "bin_end": 9789553.4,
            "count": 2
           },
           {
            "bin_start": 9789553.4,
            "bin_end": 11243767.8,
            "count": 1
           },
           {
            "bin_start": 11243767.8,
            "bin_end": 12697982.2,
            "count": 0
           },
           {
            "bin_start": 12697982.2,
            "bin_end": 14152196.6,
            "count": 0
           },
           {
            "bin_start": 14152196.6,
            "bin_end": 15606411,
            "count": 0
           },
           {
            "bin_start": 15606411,
            "bin_end": 17060625.4,
            "count": 0
           },
           {
            "bin_start": 17060625.4,
            "bin_end": 18514839.799999997,
            "count": 0
           },
           {
            "bin_start": 18514839.799999997,
            "bin_end": 19969054.2,
            "count": 0
           },
           {
            "bin_start": 19969054.2,
            "bin_end": 21423268.6,
            "count": 0
           },
           {
            "bin_start": 21423268.6,
            "bin_end": 22877483,
            "count": 2
           }
          ]
         }
        },
        {
         "name": "name",
         "dtype": "object",
         "stats": {
          "unique_count": 5,
          "nan_count": 0,
          "categories": [
           {
            "name": "Historic 1920s House moments from the Thames",
            "count": 1
           },
           {
            "name": "West End Apartment 1 on Wardour St",
            "count": 1
           },
           {
            "name": "3 others",
            "count": 3
           }
          ]
         }
        },
        {
         "name": "description",
         "dtype": "object",
         "stats": {
          "unique_count": 5,
          "nan_count": 0,
          "categories": [
           {
            "name": "The moment you walk through the door you will feel at home. Immaculately refurbished, this is an original 1920s house within a protected area, just moments from the Thames and with access to a beach! <br /><br />Walk ten minutes and you are at Tower Bridge, with the nearby South Bank and Tower of London minutes away. The area is full of great restaurants, bars and nightlife, or if on a working trip you can walk 15 minutes and be in the heart of the City.<br /><br />If the plan is to hit your credit card, jump on the tube at the end of the road and within 15 minutes you will be at Bond Street.<br /><br />The area is within a 1920s conservation zone and is amazingly quiet for central London. At night (before it stopped working for rennovations) you could hear Big Ben chime from 2 miles away.<br /><br /><b>The space</b><br />The uniqueness of this property comes from its centrality and comfort. You could explore London from here on foot: the Tower of London is 15 minutes' walk away, the C",
            "count": 1
           },
           {
            "name": "This brand new luxury one-bed apartment is on the first floor of a small block of holiday flats. Newly refurbished in modern neutral colours, this apartment has one king size bedroom and one bright spacious kitchen/lounge containing a sofabed.  Please note: All bookings for May, June and July 2018 will only be accepted direct through our Indigoflats website.  Please Contact us there direct and we will email a discounted booking link, many thanks, Sarah<br /><br /><b>The space</b><br />This brand new luxury one-bed apartment is on the first floor of a small block of holiday flats. Newly refurbished in modern neutral colours, this apartment has one king size bedroom and one bright spacious kitchen/lounge. The lounge area contains a plasma TV and a 2-seater sofa-bed suitable for two adults. Sleeps: Up to 4, 1 king size bed, 1 sofa bed. Access to the apartment is by walk up stair only (no lift / elevator). It may not therefore be suitable for dis-ambulant or elderly guests.<br /><br />Acce",
            "count": 1
           },
           {
            "name": "3 others",
            "count": 3
           }
          ]
         }
        },
        {
         "name": "neighbourhood",
         "dtype": "object",
         "stats": {
          "unique_count": 2,
          "nan_count": 2,
          "categories": [
           {
            "name": "London, United Kingdom",
            "count": 2
           },
           {
            "name": "London, London, England, United Kingdom",
            "count": 1
           },
           {
            "name": "Missing",
            "count": 2
           }
          ]
         }
        },
        {
         "name": "price_$",
         "dtype": "float64",
         "stats": {
          "unique_count": 3,
          "nan_count": 0,
          "min": "16023.0",
          "max": "17803.0",
          "histogram": [
           {
            "bin_start": 16023,
            "bin_end": 16201,
            "count": 2
           },
           {
            "bin_start": 16201,
            "bin_end": 16379,
            "count": 0
           },
           {
            "bin_start": 16379,
            "bin_end": 16557,
            "count": 0
           },
           {
            "bin_start": 16557,
            "bin_end": 16735,
            "count": 0
           },
           {
            "bin_start": 16735,
            "bin_end": 16913,
            "count": 0
           },
           {
            "bin_start": 16913,
            "bin_end": 17091,
            "count": 0
           },
           {
            "bin_start": 17091,
            "bin_end": 17269,
            "count": 0
           },
           {
            "bin_start": 17269,
            "bin_end": 17447,
            "count": 0
           },
           {
            "bin_start": 17447,
            "bin_end": 17625,
            "count": 0
           },
           {
            "bin_start": 17625,
            "bin_end": 17803,
            "count": 3
           }
          ]
         }
        },
        {
         "name": "_deepnote_index_column",
         "dtype": "int64"
        }
       ],
       "rows_top": [
        {
         "id": 21670579,
         "name": "Historic 1920s House moments from the Thames",
         "description": "The moment you walk through the door you will feel at home. Immaculately refurbished, this is an or…",
         "neighbourhood": "London, United Kingdom",
         "price_$": 17803,
         "_deepnote_index_column": 14629
        },
        {
         "id": 10355508,
         "name": "West End Apartment 1 on Wardour St",
         "description": "This brand new luxury one-bed apartment is on the first floor of a small block of holiday flats. Ne…",
         "neighbourhood": "London, United Kingdom",
         "price_$": 17803,
         "_deepnote_index_column": 6334
        },
        {
         "id": 22877483,
         "name": "Stratford Saffron Apartment",
         "description": "This homely 2 bedroom flat in Central Stratford is conveniently located within walking distance fro…",
         "neighbourhood": "London, London, England, United Kingdom",
         "price_$": 17762,
         "_deepnote_index_column": 15561
        },
        {
         "id": 8335339,
         "name": "Mulberry Flat 6 - Two bedroom 3rd floor",
         "description": "Two bedroom apartment on the third floor (with lift).<br /><br />Colourful, spacious and bright, ea…",
         "neighbourhood": "nan",
         "price_$": 16023,
         "_deepnote_index_column": 5292
        },
        {
         "id": 9769911,
         "name": "Mulberry Flat 4 - Two bedroom 2nd floor",
         "description": "Two bedroom apartment on the second floor (with lift).<br /><br />Colourful, spacious and bright, e…",
         "neighbourhood": "nan",
         "price_$": 16023,
         "_deepnote_index_column": 6084
        }
       ],
       "rows_bottom": null
      },
      "text/plain": "             id                                          name  \\\n14629  21670579  Historic 1920s House moments from the Thames   \n6334   10355508            West End Apartment 1 on Wardour St   \n15561  22877483                   Stratford Saffron Apartment   \n5292    8335339       Mulberry Flat 6 - Two bedroom 3rd floor   \n6084    9769911       Mulberry Flat 4 - Two bedroom 2nd floor   \n\n                                             description  \\\n14629  The moment you walk through the door you will ...   \n6334   This brand new luxury one-bed apartment is on ...   \n15561  This homely 2 bedroom flat in Central Stratfor...   \n5292   Two bedroom apartment on the third floor (with...   \n6084   Two bedroom apartment on the second floor (wit...   \n\n                                 neighbourhood  price_$  \n14629                   London, United Kingdom  17803.0  \n6334                    London, United Kingdom  17803.0  \n15561  London, London, England, United Kingdom  17762.0  \n5292                                       NaN  16023.0  \n6084                                       NaN  16023.0  ",
      "text/html": "<div>\n<style scoped>\n    .dataframe tbody tr th:only-of-type {\n        vertical-align: middle;\n    }\n\n    .dataframe tbody tr th {\n        vertical-align: top;\n    }\n\n    .dataframe thead th {\n        text-align: right;\n    }\n</style>\n<table border=\"1\" class=\"dataframe\">\n  <thead>\n    <tr style=\"text-align: right;\">\n      <th></th>\n      <th>id</th>\n      <th>name</th>\n      <th>description</th>\n      <th>neighbourhood</th>\n      <th>price_$</th>\n    </tr>\n  </thead>\n  <tbody>\n    <tr>\n      <th>14629</th>\n      <td>21670579</td>\n      <td>Historic 1920s House moments from the Thames</td>\n      <td>The moment you walk through the door you will ...</td>\n      <td>London, United Kingdom</td>\n      <td>17803.0</td>\n    </tr>\n    <tr>\n      <th>6334</th>\n      <td>10355508</td>\n      <td>West End Apartment 1 on Wardour St</td>\n      <td>This brand new luxury one-bed apartment is on ...</td>\n      <td>London, United Kingdom</td>\n      <td>17803.0</td>\n    </tr>\n    <tr>\n      <th>15561</th>\n      <td>22877483</td>\n      <td>Stratford Saffron Apartment</td>\n      <td>This homely 2 bedroom flat in Central Stratfor...</td>\n      <td>London, London, England, United Kingdom</td>\n      <td>17762.0</td>\n    </tr>\n    <tr>\n      <th>5292</th>\n      <td>8335339</td>\n      <td>Mulberry Flat 6 - Two bedroom 3rd floor</td>\n      <td>Two bedroom apartment on the third floor (with...</td>\n      <td>NaN</td>\n      <td>16023.0</td>\n    </tr>\n    <tr>\n      <th>6084</th>\n      <td>9769911</td>\n      <td>Mulberry Flat 4 - Two bedroom 2nd floor</td>\n      <td>Two bedroom apartment on the second floor (wit...</td>\n      <td>NaN</td>\n      <td>16023.0</td>\n    </tr>\n  </tbody>\n</table>\n</div>"
     },
     "metadata": {}
    }
   ],
   "execution_count": 8
  },
  {
   "cell_type": "markdown",
   "source": "### Exercise 04: Identify budget rooms\nthe same business development manager now asks you to identify the 5 cheapest listings which are private rooms. Using the above exercise as a guide, run an analysis to meet the manager's request.",
   "metadata": {
    "tags": [],
    "cell_id": "00004-4fa624fe-6cd9-4e58-93eb-48dd59579c08",
    "deepnote_cell_type": "markdown"
   }
  },
  {
   "cell_type": "code",
   "metadata": {
    "tags": [],
    "cell_id": "00004-9098e09e-69e2-414a-b7ac-4fa3391d5686",
    "deepnote_to_be_reexecuted": false,
    "source_hash": "f2cc5168",
    "execution_start": 1633510553086,
    "execution_millis": 49,
    "deepnote_cell_type": "code"
   },
   "source": "# (SOLUTION) Remove from public version\ndf_private_room = df_listings[df_listings['room_type']=='Private room']\ndf_private_room = df_private_room.sort_values(by=['price_$'],ascending=True)\ndf_private_room[['id','name','description','neighbourhood','price_$']].head(5)",
   "outputs": [
    {
     "output_type": "execute_result",
     "execution_count": 9,
     "data": {
      "application/vnd.deepnote.dataframe.v2+json": {
       "row_count": 5,
       "column_count": 5,
       "columns": [
        {
         "name": "id",
         "dtype": "int64",
         "stats": {
          "unique_count": 5,
          "nan_count": 0,
          "min": "12142193",
          "max": "29160253",
          "histogram": [
           {
            "bin_start": 12142193,
            "bin_end": 13843999,
            "count": 1
           },
           {
            "bin_start": 13843999,
            "bin_end": 15545805,
            "count": 0
           },
           {
            "bin_start": 15545805,
            "bin_end": 17247611,
            "count": 0
           },
           {
            "bin_start": 17247611,
            "bin_end": 18949417,
            "count": 0
           },
           {
            "bin_start": 18949417,
            "bin_end": 20651223,
            "count": 1
           },
           {
            "bin_start": 20651223,
            "bin_end": 22353029,
            "count": 1
           },
           {
            "bin_start": 22353029,
            "bin_end": 24054835,
            "count": 1
           },
           {
            "bin_start": 24054835,
            "bin_end": 25756641,
            "count": 0
           },
           {
            "bin_start": 25756641,
            "bin_end": 27458447,
            "count": 0
           },
           {
            "bin_start": 27458447,
            "bin_end": 29160253,
            "count": 1
           }
          ]
         }
        },
        {
         "name": "name",
         "dtype": "object",
         "stats": {
          "unique_count": 5,
          "nan_count": 0,
          "categories": [
           {
            "name": "SPACIOUS ROOM in ALDGATE - MONTHLY STAYS",
            "count": 1
           },
           {
            "name": "My house is welcoming and quirkey.",
            "count": 1
           },
           {
            "name": "3 others",
            "count": 3
           }
          ]
         }
        },
        {
         "name": "description",
         "dtype": "object",
         "stats": {
          "unique_count": 5,
          "nan_count": 0,
          "categories": [
           {
            "name": "Bright double room close to the City of London. 5-6 mins walk to Aldgate East station, Bank station is 15 mins walk away or 10 mins ride by bus. Perfect location for people working in the City. Easy access to the City and Central London through overground too, Whitechapel station is 5 mins away. Close to all amenities, 3 grocery stores in 5 mins walk. Check my reviews below this description on my profile. My guests always enjoyed their stay!<br /><br /><b>The space</b><br />The room, about 16 sqm is very large and is part of a flat to be shared with other 2 professionals close to the City of London, home to headquarters of numerous companies and financial institutions.<br /><br />The room is fully furnished with: <br />- Double bed, wardrobe<br />- Chest of drawers<br />- Laundry box and a mirror<br />- Desk with a chair<br /><br />On your arrival you will find your double bed with all bed linen, including clean bed sheets, the duvet and pillows. Towels will be provided for free if nee",
            "count": 1
           },
           {
            "name": "I am living in a 3 storey townhouse in a quiet cul-de-sac.<br />There are nice views  a lots parks.<br />Transport is good and many buses to Abbey wood train station.<br />Bus 472 takes you too Greenwich underground.",
            "count": 1
           },
           {
            "name": "3 others",
            "count": 3
           }
          ]
         }
        },
        {
         "name": "neighbourhood",
         "dtype": "object",
         "stats": {
          "unique_count": 3,
          "nan_count": 2,
          "categories": [
           {
            "name": "United Kingdom",
            "count": 1
           },
           {
            "name": "2 others",
            "count": 2
           },
           {
            "name": "Missing",
            "count": 2
           }
          ]
         }
        },
        {
         "name": "price_$",
         "dtype": "float64",
         "stats": {
          "unique_count": 3,
          "nan_count": 0,
          "min": "8.0",
          "max": "10.0",
          "histogram": [
           {
            "bin_start": 8,
            "bin_end": 8.2,
            "count": 3
           },
           {
            "bin_start": 8.2,
            "bin_end": 8.4,
            "count": 0
           },
           {
            "bin_start": 8.4,
            "bin_end": 8.6,
            "count": 0
           },
           {
            "bin_start": 8.6,
            "bin_end": 8.8,
            "count": 0
           },
           {
            "bin_start": 8.8,
            "bin_end": 9,
            "count": 0
           },
           {
            "bin_start": 9,
            "bin_end": 9.2,
            "count": 1
           },
           {
            "bin_start": 9.2,
            "bin_end": 9.4,
            "count": 0
           },
           {
            "bin_start": 9.4,
            "bin_end": 9.6,
            "count": 0
           },
           {
            "bin_start": 9.6,
            "bin_end": 9.8,
            "count": 0
           },
           {
            "bin_start": 9.8,
            "bin_end": 10,
            "count": 1
           }
          ]
         }
        },
        {
         "name": "_deepnote_index_column",
         "dtype": "int64"
        }
       ],
       "rows_top": [
        {
         "id": 21529139,
         "name": "SPACIOUS ROOM in ALDGATE - MONTHLY STAYS",
         "description": "Bright double room close to the City of London. 5-6 mins walk to Aldgate East station, Bank station…",
         "neighbourhood": "nan",
         "price_$": 8,
         "_deepnote_index_column": 14487
        },
        {
         "id": 24018258,
         "name": "My house is welcoming and quirkey.",
         "description": "I am living in a 3 storey townhouse in a quiet cul-de-sac.<br />There are nice views  a lots parks.…",
         "neighbourhood": "nan",
         "price_$": 8,
         "_deepnote_index_column": 16373
        },
        {
         "id": 12142193,
         "name": "Room in Clean, Cosy Chiswick flat",
         "description": "Chiswick is a safe, pretty and well connected area of London which new visitors to the area always …",
         "neighbourhood": "United Kingdom",
         "price_$": 8,
         "_deepnote_index_column": 7139
        },
        {
         "id": 20501622,
         "name": "Canary Wharf - Clean and Cosy",
         "description": "Send me an equiry for long term stays, discounts available. Cosy Double room in Canary Wharf, 8-9 m…",
         "neighbourhood": "Greater London, England, United Kingdom",
         "price_$": 9,
         "_deepnote_index_column": 13565
        },
        {
         "id": 29160253,
         "name": "Cute single room 2mins from Victoria line",
         "description": "Single room with big chest of drawers, comfy bed, bedside table, lamp and a chest to keep belonging…",
         "neighbourhood": "London , England, United Kingdom",
         "price_$": 10,
         "_deepnote_index_column": 19758
        }
       ],
       "rows_bottom": null
      },
      "text/plain": "             id                                       name  \\\n14487  21529139   SPACIOUS ROOM in ALDGATE - MONTHLY STAYS   \n16373  24018258         My house is welcoming and quirkey.   \n7139   12142193          Room in Clean, Cosy Chiswick flat   \n13565  20501622              Canary Wharf - Clean and Cosy   \n19758  29160253  Cute single room 2mins from Victoria line   \n\n                                             description  \\\n14487  Bright double room close to the City of London...   \n16373  I am living in a 3 storey townhouse in a quiet...   \n7139   Chiswick is a safe, pretty and well connected ...   \n13565  Send me an equiry for long term stays, discoun...   \n19758  Single room with big chest of drawers, comfy b...   \n\n                                 neighbourhood  price_$  \n14487                                      NaN      8.0  \n16373                                      NaN      8.0  \n7139                            United Kingdom      8.0  \n13565  Greater London, England, United Kingdom      9.0  \n19758         London , England, United Kingdom     10.0  ",
      "text/html": "<div>\n<style scoped>\n    .dataframe tbody tr th:only-of-type {\n        vertical-align: middle;\n    }\n\n    .dataframe tbody tr th {\n        vertical-align: top;\n    }\n\n    .dataframe thead th {\n        text-align: right;\n    }\n</style>\n<table border=\"1\" class=\"dataframe\">\n  <thead>\n    <tr style=\"text-align: right;\">\n      <th></th>\n      <th>id</th>\n      <th>name</th>\n      <th>description</th>\n      <th>neighbourhood</th>\n      <th>price_$</th>\n    </tr>\n  </thead>\n  <tbody>\n    <tr>\n      <th>14487</th>\n      <td>21529139</td>\n      <td>SPACIOUS ROOM in ALDGATE - MONTHLY STAYS</td>\n      <td>Bright double room close to the City of London...</td>\n      <td>NaN</td>\n      <td>8.0</td>\n    </tr>\n    <tr>\n      <th>16373</th>\n      <td>24018258</td>\n      <td>My house is welcoming and quirkey.</td>\n      <td>I am living in a 3 storey townhouse in a quiet...</td>\n      <td>NaN</td>\n      <td>8.0</td>\n    </tr>\n    <tr>\n      <th>7139</th>\n      <td>12142193</td>\n      <td>Room in Clean, Cosy Chiswick flat</td>\n      <td>Chiswick is a safe, pretty and well connected ...</td>\n      <td>United Kingdom</td>\n      <td>8.0</td>\n    </tr>\n    <tr>\n      <th>13565</th>\n      <td>20501622</td>\n      <td>Canary Wharf - Clean and Cosy</td>\n      <td>Send me an equiry for long term stays, discoun...</td>\n      <td>Greater London, England, United Kingdom</td>\n      <td>9.0</td>\n    </tr>\n    <tr>\n      <th>19758</th>\n      <td>29160253</td>\n      <td>Cute single room 2mins from Victoria line</td>\n      <td>Single room with big chest of drawers, comfy b...</td>\n      <td>London , England, United Kingdom</td>\n      <td>10.0</td>\n    </tr>\n  </tbody>\n</table>\n</div>"
     },
     "metadata": {}
    }
   ],
   "execution_count": 9
  },
  {
   "cell_type": "markdown",
   "source": "## Advanced request\nWell done so far! Let's now take it too the next level! Let's used what we have learned so far to meet the following request:\n\n*Identify the 5 listings with highest positive mean sentiment of their reviews, such that the listings have at least 5 reviews less than 3 years old*",
   "metadata": {
    "tags": [],
    "cell_id": "00002-0c75d8a2-e584-4da0-98c2-0f13d8152dce",
    "deepnote_cell_type": "markdown"
   }
  },
  {
   "cell_type": "markdown",
   "source": "### Exercise-05: Filter review data\nFirst we need to load `reviews_sample.csv` and filter it to only keep reviews with:\n1. values of not `nan` in the `comments` column,\n2. values less than 3 years old in the `date` column, and\n3. values in the `listing_id` column corresponding to listings with at least 5 reviews.\n\nThis can all be done by running the following code.",
   "metadata": {
    "tags": [],
    "cell_id": "00002-7d28c2af-73d4-42d7-b2fb-dcbbb4652939",
    "deepnote_cell_type": "markdown"
   }
  },
  {
   "cell_type": "code",
   "metadata": {
    "tags": [],
    "cell_id": "00000-6f9e41dc-39f8-462f-888c-92d2cc0ff357",
    "deepnote_to_be_reexecuted": false,
    "source_hash": "f353607d",
    "execution_start": 1633510553130,
    "execution_millis": 508,
    "deepnote_cell_type": "code"
   },
   "source": "import pandas as pd\ndf_reviews = pd.read_csv('../data/reviews_sample.csv')\n\ndf_reviews = df_reviews[~df_reviews['comments'].isna()]\n\ndf_reviews = df_reviews[df_reviews['date']>'2018-10-05']\n\nlisting_counts = df_reviews['listing_id'].value_counts()\nvalid_listings = listing_counts[listing_counts>=5].index\ndf_reviews = df_reviews[df_reviews['listing_id'].isin(valid_listings)]",
   "outputs": [],
   "execution_count": 10
  },
  {
   "cell_type": "markdown",
   "source": "We can do a \"sanity check\" by running the code below, which should all produce value `0`. Consider how you might use such test to check your code as you develop it.",
   "metadata": {
    "tags": [],
    "cell_id": "00023-60af850b-2d2e-421a-9247-4aeaa401d6ea",
    "deepnote_cell_type": "markdown"
   }
  },
  {
   "cell_type": "code",
   "metadata": {
    "tags": [],
    "cell_id": "00024-511e6b18-e2f2-4406-9244-fb00370ff859",
    "deepnote_to_be_reexecuted": false,
    "source_hash": "e03d4b06",
    "execution_start": 1633510650116,
    "execution_millis": 86,
    "deepnote_cell_type": "code"
   },
   "source": "print(sum(df_reviews['comments'].isna()))\nprint(sum(df_reviews['date']<='2018-10-05'))\nprint(sum(df_reviews['listing_id'].value_counts()<5))",
   "outputs": [
    {
     "name": "stdout",
     "text": "0\n0\n0\n",
     "output_type": "stream"
    }
   ],
   "execution_count": 15
  },
  {
   "cell_type": "markdown",
   "source": "### Exercise-06: Analyse review data\nWe already have most of the pieces we need. Simply `apply` the `calculate_sentiment` function (in the way we did before) to the `comments` column of the (now filtered) `df_reviews` to create a new column named `sentiment` containing the a sentiment value for each reviews comment. Please write the code below and run.\n\n(Note that we are no running the `calculate_sentiment` over every row in the filtered `df_reviews` so it might take a while longer...)",
   "metadata": {
    "tags": [],
    "cell_id": "00023-f33b4ce0-222e-47d4-af7b-19dfd829b4f0",
    "deepnote_cell_type": "markdown"
   }
  },
  {
   "cell_type": "code",
   "metadata": {
    "tags": [],
    "cell_id": "00003-9d0b5a27-934f-4498-a97c-1dc8a75b26f0",
    "deepnote_to_be_reexecuted": false,
    "source_hash": "9a409e5f",
    "execution_start": 1633510553704,
    "execution_millis": 12428,
    "deepnote_cell_type": "code"
   },
   "source": "# SOLUTION (Remove from public version)\ndf_reviews.loc[:,'sentiment'] = df_reviews['comments'].apply(calculate_sentiment)\ndf_reviews.head()",
   "outputs": [
    {
     "output_type": "execute_result",
     "execution_count": 12,
     "data": {
      "application/vnd.deepnote.dataframe.v2+json": {
       "row_count": 5,
       "column_count": 7,
       "columns": [
        {
         "name": "listing_id",
         "dtype": "int64",
         "stats": {
          "unique_count": 5,
          "nan_count": 0,
          "min": "4886845",
          "max": "27425883",
          "histogram": [
           {
            "bin_start": 4886845,
            "bin_end": 7140748.8,
            "count": 1
           },
           {
            "bin_start": 7140748.8,
            "bin_end": 9394652.6,
            "count": 0
           },
           {
            "bin_start": 9394652.6,
            "bin_end": 11648556.399999999,
            "count": 1
           },
           {
            "bin_start": 11648556.399999999,
            "bin_end": 13902460.2,
            "count": 0
           },
           {
            "bin_start": 13902460.2,
            "bin_end": 16156364,
            "count": 0
           },
           {
            "bin_start": 16156364,
            "bin_end": 18410267.799999997,
            "count": 0
           },
           {
            "bin_start": 18410267.799999997,
            "bin_end": 20664171.599999998,
            "count": 1
           },
           {
            "bin_start": 20664171.599999998,
            "bin_end": 22918075.4,
            "count": 0
           },
           {
            "bin_start": 22918075.4,
            "bin_end": 25171979.2,
            "count": 0
           },
           {
            "bin_start": 25171979.2,
            "bin_end": 27425883,
            "count": 2
           }
          ]
         }
        },
        {
         "name": "id",
         "dtype": "int64",
         "stats": {
          "unique_count": 5,
          "nan_count": 0,
          "min": "339317863",
          "max": "592921069",
          "histogram": [
           {
            "bin_start": 339317863,
            "bin_end": 364678183.6,
            "count": 4
           },
           {
            "bin_start": 364678183.6,
            "bin_end": 390038504.2,
            "count": 0
           },
           {
            "bin_start": 390038504.2,
            "bin_end": 415398824.8,
            "count": 0
           },
           {
            "bin_start": 415398824.8,
            "bin_end": 440759145.4,
            "count": 0
           },
           {
            "bin_start": 440759145.4,
            "bin_end": 466119466,
            "count": 0
           },
           {
            "bin_start": 466119466,
            "bin_end": 491479786.6,
            "count": 0
           },
           {
            "bin_start": 491479786.6,
            "bin_end": 516840107.20000005,
            "count": 0
           },
           {
            "bin_start": 516840107.20000005,
            "bin_end": 542200427.8,
            "count": 0
           },
           {
            "bin_start": 542200427.8,
            "bin_end": 567560748.4,
            "count": 0
           },
           {
            "bin_start": 567560748.4,
            "bin_end": 592921069,
            "count": 1
           }
          ]
         }
        },
        {
         "name": "date",
         "dtype": "object",
         "stats": {
          "unique_count": 5,
          "nan_count": 0,
          "categories": [
           {
            "name": "2018-12-03",
            "count": 1
           },
           {
            "name": "2018-11-12",
            "count": 1
           },
           {
            "name": "3 others",
            "count": 3
           }
          ]
         }
        },
        {
         "name": "reviewer_id",
         "dtype": "int64",
         "stats": {
          "unique_count": 5,
          "nan_count": 0,
          "min": "7738609",
          "max": "263178553",
          "histogram": [
           {
            "bin_start": 7738609,
            "bin_end": 33282603.4,
            "count": 2
           },
           {
            "bin_start": 33282603.4,
            "bin_end": 58826597.8,
            "count": 0
           },
           {
            "bin_start": 58826597.8,
            "bin_end": 84370592.19999999,
            "count": 0
           },
           {
            "bin_start": 84370592.19999999,
            "bin_end": 109914586.6,
            "count": 0
           },
           {
            "bin_start": 109914586.6,
            "bin_end": 135458581,
            "count": 1
           },
           {
            "bin_start": 135458581,
            "bin_end": 161002575.39999998,
            "count": 1
           },
           {
            "bin_start": 161002575.39999998,
            "bin_end": 186546569.79999998,
            "count": 0
           },
           {
            "bin_start": 186546569.79999998,
            "bin_end": 212090564.2,
            "count": 0
           },
           {
            "bin_start": 212090564.2,
            "bin_end": 237634558.6,
            "count": 0
           },
           {
            "bin_start": 237634558.6,
            "bin_end": 263178553,
            "count": 1
           }
          ]
         }
        },
        {
         "name": "reviewer_name",
         "dtype": "object",
         "stats": {
          "unique_count": 5,
          "nan_count": 0,
          "categories": [
           {
            "name": "André",
            "count": 1
           },
           {
            "name": "Guille",
            "count": 1
           },
           {
            "name": "3 others",
            "count": 3
           }
          ]
         }
        },
        {
         "name": "comments",
         "dtype": "object",
         "stats": {
          "unique_count": 5,
          "nan_count": 0,
          "categories": [
           {
            "name": "Guests can expect a great hospitality. The studio neighborhood's are very quiet, and the studio itself offer a very comfortable stay. If I come back to London and if the studio is available, it will be my first choice. Very clean and cosy. Definitely recommend it! :)",
            "count": 1
           },
           {
            "name": "Really nice host. He is very kind and sympathic. If you need a place where sleep, this is your place. 10/10",
            "count": 1
           },
           {
            "name": "3 others",
            "count": 3
           }
          ]
         }
        },
        {
         "name": "sentiment",
         "dtype": "float64",
         "stats": {
          "unique_count": 5,
          "nan_count": 0,
          "min": "0.0",
          "max": "0.9594",
          "histogram": [
           {
            "bin_start": 0,
            "bin_end": 0.09594,
            "count": 1
           },
           {
            "bin_start": 0.09594,
            "bin_end": 0.19188,
            "count": 0
           },
           {
            "bin_start": 0.19188,
            "bin_end": 0.28781999999999996,
            "count": 0
           },
           {
            "bin_start": 0.28781999999999996,
            "bin_end": 0.38376,
            "count": 0
           },
           {
            "bin_start": 0.38376,
            "bin_end": 0.4797,
            "count": 0
           },
           {
            "bin_start": 0.4797,
            "bin_end": 0.5756399999999999,
            "count": 0
           },
           {
            "bin_start": 0.5756399999999999,
            "bin_end": 0.67158,
            "count": 0
           },
           {
            "bin_start": 0.67158,
            "bin_end": 0.76752,
            "count": 0
           },
           {
            "bin_start": 0.76752,
            "bin_end": 0.86346,
            "count": 2
           },
           {
            "bin_start": 0.86346,
            "bin_end": 0.9594,
            "count": 2
           }
          ]
         }
        },
        {
         "name": "_deepnote_index_column",
         "dtype": "int64"
        }
       ],
       "rows_top": [
        {
         "listing_id": 27425883,
         "id": 355242699,
         "date": "2018-12-03",
         "reviewer_id": 7738609,
         "reviewer_name": "André",
         "comments": "Guests can expect a great hospitality. The studio neighborhood's are very quiet, and the studio its…",
         "sentiment": 0.9594,
         "_deepnote_index_column": 3
        },
        {
         "listing_id": 26989771,
         "id": 347977056,
         "date": "2018-11-12",
         "reviewer_id": 149133279,
         "reviewer_name": "Guille",
         "comments": "Really nice host. He is very kind and sympathic. If you need a place where sleep, this is your plac…",
         "sentiment": 0.7774,
         "_deepnote_index_column": 5
        },
        {
         "listing_id": 4886845,
         "id": 339317863,
         "date": "2018-10-21",
         "reviewer_id": 26995276,
         "reviewer_name": "Alex",
         "comments": "Soo is a great host, would love to stay at their place again",
         "sentiment": 0.8519,
         "_deepnote_index_column": 8
        },
        {
         "listing_id": 11051591,
         "id": 346128073,
         "date": "2018-11-07",
         "reviewer_id": 111681795,
         "reviewer_name": "Monika",
         "comments": "Gospodarz miły i przyjazny, chętnie służący pomocą w kwestii komunikacji. Dobra lokalizacja, przyst…",
         "sentiment": 0,
         "_deepnote_index_column": 9
        },
        {
         "listing_id": 19928998,
         "id": 592921069,
         "date": "2020-01-14",
         "reviewer_id": 263178553,
         "reviewer_name": "주형",
         "comments": "The host(Carlos) was really nice and kind man. The room was really cozy and comfortable. I think it…",
         "sentiment": 0.9404,
         "_deepnote_index_column": 11
        }
       ],
       "rows_bottom": null
      },
      "text/plain": "    listing_id         id        date  reviewer_id reviewer_name  \\\n3     27425883  355242699  2018-12-03      7738609         André   \n5     26989771  347977056  2018-11-12    149133279        Guille   \n8      4886845  339317863  2018-10-21     26995276          Alex   \n9     11051591  346128073  2018-11-07    111681795        Monika   \n11    19928998  592921069  2020-01-14    263178553            주형   \n\n                                             comments  sentiment  \n3   Guests can expect a great hospitality. The stu...     0.9594  \n5   Really nice host. He is very kind and sympathi...     0.7774  \n8   Soo is a great host, would love to stay at the...     0.8519  \n9   Gospodarz miły i przyjazny, chętnie służący po...     0.0000  \n11  The host(Carlos) was really nice and kind man....     0.9404  ",
      "text/html": "<div>\n<style scoped>\n    .dataframe tbody tr th:only-of-type {\n        vertical-align: middle;\n    }\n\n    .dataframe tbody tr th {\n        vertical-align: top;\n    }\n\n    .dataframe thead th {\n        text-align: right;\n    }\n</style>\n<table border=\"1\" class=\"dataframe\">\n  <thead>\n    <tr style=\"text-align: right;\">\n      <th></th>\n      <th>listing_id</th>\n      <th>id</th>\n      <th>date</th>\n      <th>reviewer_id</th>\n      <th>reviewer_name</th>\n      <th>comments</th>\n      <th>sentiment</th>\n    </tr>\n  </thead>\n  <tbody>\n    <tr>\n      <th>3</th>\n      <td>27425883</td>\n      <td>355242699</td>\n      <td>2018-12-03</td>\n      <td>7738609</td>\n      <td>André</td>\n      <td>Guests can expect a great hospitality. The stu...</td>\n      <td>0.9594</td>\n    </tr>\n    <tr>\n      <th>5</th>\n      <td>26989771</td>\n      <td>347977056</td>\n      <td>2018-11-12</td>\n      <td>149133279</td>\n      <td>Guille</td>\n      <td>Really nice host. He is very kind and sympathi...</td>\n      <td>0.7774</td>\n    </tr>\n    <tr>\n      <th>8</th>\n      <td>4886845</td>\n      <td>339317863</td>\n      <td>2018-10-21</td>\n      <td>26995276</td>\n      <td>Alex</td>\n      <td>Soo is a great host, would love to stay at the...</td>\n      <td>0.8519</td>\n    </tr>\n    <tr>\n      <th>9</th>\n      <td>11051591</td>\n      <td>346128073</td>\n      <td>2018-11-07</td>\n      <td>111681795</td>\n      <td>Monika</td>\n      <td>Gospodarz miły i przyjazny, chętnie służący po...</td>\n      <td>0.0000</td>\n    </tr>\n    <tr>\n      <th>11</th>\n      <td>19928998</td>\n      <td>592921069</td>\n      <td>2020-01-14</td>\n      <td>263178553</td>\n      <td>주형</td>\n      <td>The host(Carlos) was really nice and kind man....</td>\n      <td>0.9404</td>\n    </tr>\n  </tbody>\n</table>\n</div>"
     },
     "metadata": {}
    }
   ],
   "execution_count": 12
  },
  {
   "cell_type": "markdown",
   "source": "Next we need to calculate the mean sentiment for each listing. To do this, we use the `groupby` and `agg` methods on the following way to create a new `DataFrame` named `listing_scored` containing each `listings_id` and the `mean` of its `sentiment` scores. Please run the code below.",
   "metadata": {
    "tags": [],
    "cell_id": "00005-2e327721-cef6-445c-bd4d-73907ceecc87",
    "deepnote_cell_type": "markdown"
   }
  },
  {
   "cell_type": "code",
   "metadata": {
    "tags": [],
    "cell_id": "00007-1560c73a-737a-46e3-a62b-b38601b3ddda",
    "deepnote_to_be_reexecuted": false,
    "source_hash": "76c3be3f",
    "execution_start": 1633510566127,
    "execution_millis": 47,
    "deepnote_cell_type": "code"
   },
   "source": "listings_scored = df_reviews.groupby('listing_id')['sentiment'].agg(['mean']).reset_index()\nlistings_scored.head()",
   "outputs": [
    {
     "output_type": "execute_result",
     "execution_count": 13,
     "data": {
      "application/vnd.deepnote.dataframe.v2+json": {
       "row_count": 5,
       "column_count": 2,
       "columns": [
        {
         "name": "listing_id",
         "dtype": "int64",
         "stats": {
          "unique_count": 5,
          "nan_count": 0,
          "min": "38605",
          "max": "84532",
          "histogram": [
           {
            "bin_start": 38605,
            "bin_end": 43197.7,
            "count": 2
           },
           {
            "bin_start": 43197.7,
            "bin_end": 47790.4,
            "count": 0
           },
           {
            "bin_start": 47790.4,
            "bin_end": 52383.1,
            "count": 0
           },
           {
            "bin_start": 52383.1,
            "bin_end": 56975.8,
            "count": 0
           },
           {
            "bin_start": 56975.8,
            "bin_end": 61568.5,
            "count": 0
           },
           {
            "bin_start": 61568.5,
            "bin_end": 66161.2,
            "count": 2
           },
           {
            "bin_start": 66161.2,
            "bin_end": 70753.9,
            "count": 0
           },
           {
            "bin_start": 70753.9,
            "bin_end": 75346.6,
            "count": 0
           },
           {
            "bin_start": 75346.6,
            "bin_end": 79939.29999999999,
            "count": 0
           },
           {
            "bin_start": 79939.29999999999,
            "bin_end": 84532,
            "count": 1
           }
          ]
         }
        },
        {
         "name": "mean",
         "dtype": "float64",
         "stats": {
          "unique_count": 5,
          "nan_count": 0,
          "min": "0.6174000000000002",
          "max": "0.9267857142857144",
          "histogram": [
           {
            "bin_start": 0.6174000000000002,
            "bin_end": 0.6483385714285717,
            "count": 1
           },
           {
            "bin_start": 0.6483385714285717,
            "bin_end": 0.679277142857143,
            "count": 0
           },
           {
            "bin_start": 0.679277142857143,
            "bin_end": 0.7102157142857144,
            "count": 1
           },
           {
            "bin_start": 0.7102157142857144,
            "bin_end": 0.7411542857142859,
            "count": 0
           },
           {
            "bin_start": 0.7411542857142859,
            "bin_end": 0.7720928571428574,
            "count": 1
           },
           {
            "bin_start": 0.7720928571428574,
            "bin_end": 0.8030314285714287,
            "count": 0
           },
           {
            "bin_start": 0.8030314285714287,
            "bin_end": 0.8339700000000001,
            "count": 0
           },
           {
            "bin_start": 0.8339700000000001,
            "bin_end": 0.8649085714285716,
            "count": 0
           },
           {
            "bin_start": 0.8649085714285716,
            "bin_end": 0.8958471428571431,
            "count": 0
           },
           {
            "bin_start": 0.8958471428571431,
            "bin_end": 0.9267857142857144,
            "count": 2
           }
          ]
         }
        },
        {
         "name": "_deepnote_index_column",
         "dtype": "int64"
        }
       ],
       "rows_top": [
        {
         "listing_id": 38605,
         "mean": 0.6174000000000002,
         "_deepnote_index_column": 0
        },
        {
         "listing_id": 42010,
         "mean": 0.8992,
         "_deepnote_index_column": 1
        },
        {
         "listing_id": 62747,
         "mean": 0.7533000000000001,
         "_deepnote_index_column": 2
        },
        {
         "listing_id": 64429,
         "mean": 0.6833,
         "_deepnote_index_column": 3
        },
        {
         "listing_id": 84532,
         "mean": 0.9267857142857144,
         "_deepnote_index_column": 4
        }
       ],
       "rows_bottom": null
      },
      "text/plain": "   listing_id      mean\n0       38605  0.617400\n1       42010  0.899200\n2       62747  0.753300\n3       64429  0.683300\n4       84532  0.926786",
      "text/html": "<div>\n<style scoped>\n    .dataframe tbody tr th:only-of-type {\n        vertical-align: middle;\n    }\n\n    .dataframe tbody tr th {\n        vertical-align: top;\n    }\n\n    .dataframe thead th {\n        text-align: right;\n    }\n</style>\n<table border=\"1\" class=\"dataframe\">\n  <thead>\n    <tr style=\"text-align: right;\">\n      <th></th>\n      <th>listing_id</th>\n      <th>mean</th>\n    </tr>\n  </thead>\n  <tbody>\n    <tr>\n      <th>0</th>\n      <td>38605</td>\n      <td>0.617400</td>\n    </tr>\n    <tr>\n      <th>1</th>\n      <td>42010</td>\n      <td>0.899200</td>\n    </tr>\n    <tr>\n      <th>2</th>\n      <td>62747</td>\n      <td>0.753300</td>\n    </tr>\n    <tr>\n      <th>3</th>\n      <td>64429</td>\n      <td>0.683300</td>\n    </tr>\n    <tr>\n      <th>4</th>\n      <td>84532</td>\n      <td>0.926786</td>\n    </tr>\n  </tbody>\n</table>\n</div>"
     },
     "metadata": {}
    }
   ],
   "execution_count": 13
  },
  {
   "cell_type": "markdown",
   "source": "Finally, we just need to sort the listings in `listings_scored` by their `mean` value (from high to low) and print the top 5. Easy, you've got this! Please use what you've learned before to do this below.",
   "metadata": {
    "tags": [],
    "cell_id": "00011-4c49117b-bd28-4c19-946a-dcaa92e4838b",
    "deepnote_cell_type": "markdown"
   }
  },
  {
   "cell_type": "code",
   "metadata": {
    "tags": [],
    "cell_id": "00030-f0ac8274-db95-4bb4-aac8-53714e767555",
    "deepnote_to_be_reexecuted": false,
    "source_hash": "79003250",
    "execution_start": 1633510566163,
    "execution_millis": 39,
    "deepnote_cell_type": "code"
   },
   "source": "# SOLUTION (Remove from public version)\nlistings_scored = listings_scored.sort_values(by=['mean'],ascending=False)\nlistings_scored.head()",
   "outputs": [
    {
     "output_type": "execute_result",
     "execution_count": 14,
     "data": {
      "application/vnd.deepnote.dataframe.v2+json": {
       "row_count": 5,
       "column_count": 2,
       "columns": [
        {
         "name": "listing_id",
         "dtype": "int64",
         "stats": {
          "unique_count": 5,
          "nan_count": 0,
          "min": "957861",
          "max": "33510937",
          "histogram": [
           {
            "bin_start": 957861,
            "bin_end": 4213168.6,
            "count": 1
           },
           {
            "bin_start": 4213168.6,
            "bin_end": 7468476.2,
            "count": 0
           },
           {
            "bin_start": 7468476.2,
            "bin_end": 10723783.8,
            "count": 0
           },
           {
            "bin_start": 10723783.8,
            "bin_end": 13979091.4,
            "count": 0
           },
           {
            "bin_start": 13979091.4,
            "bin_end": 17234399,
            "count": 0
           },
           {
            "bin_start": 17234399,
            "bin_end": 20489706.6,
            "count": 1
           },
           {
            "bin_start": 20489706.6,
            "bin_end": 23745014.2,
            "count": 1
           },
           {
            "bin_start": 23745014.2,
            "bin_end": 27000321.8,
            "count": 0
           },
           {
            "bin_start": 27000321.8,
            "bin_end": 30255629.400000002,
            "count": 0
           },
           {
            "bin_start": 30255629.400000002,
            "bin_end": 33510937,
            "count": 2
           }
          ]
         }
        },
        {
         "name": "mean",
         "dtype": "float64",
         "stats": {
          "unique_count": 5,
          "nan_count": 0,
          "min": "0.9717666666666668",
          "max": "0.98116",
          "histogram": [
           {
            "bin_start": 0.9717666666666668,
            "bin_end": 0.9727060000000001,
            "count": 1
           },
           {
            "bin_start": 0.9727060000000001,
            "bin_end": 0.9736453333333335,
            "count": 1
           },
           {
            "bin_start": 0.9736453333333335,
            "bin_end": 0.9745846666666668,
            "count": 0
           },
           {
            "bin_start": 0.9745846666666668,
            "bin_end": 0.9755240000000001,
            "count": 0
           },
           {
            "bin_start": 0.9755240000000001,
            "bin_end": 0.9764633333333335,
            "count": 1
           },
           {
            "bin_start": 0.9764633333333335,
            "bin_end": 0.9774026666666668,
            "count": 0
           },
           {
            "bin_start": 0.9774026666666668,
            "bin_end": 0.978342,
            "count": 0
           },
           {
            "bin_start": 0.978342,
            "bin_end": 0.9792813333333333,
            "count": 1
           },
           {
            "bin_start": 0.9792813333333333,
            "bin_end": 0.9802206666666667,
            "count": 0
           },
           {
            "bin_start": 0.9802206666666667,
            "bin_end": 0.98116,
            "count": 1
           }
          ]
         }
        },
        {
         "name": "_deepnote_index_column",
         "dtype": "int64"
        }
       ],
       "rows_top": [
        {
         "listing_id": 33510937,
         "mean": 0.98116,
         "_deepnote_index_column": 2158
        },
        {
         "listing_id": 32838811,
         "mean": 0.9787166666666667,
         "_deepnote_index_column": 2129
        },
        {
         "listing_id": 957861,
         "mean": 0.97625,
         "_deepnote_index_column": 92
        },
        {
         "listing_id": 23270833,
         "mean": 0.9730400000000001,
         "_deepnote_index_column": 1381
        },
        {
         "listing_id": 17597932,
         "mean": 0.9717666666666668,
         "_deepnote_index_column": 907
        }
       ],
       "rows_bottom": null
      },
      "text/plain": "      listing_id      mean\n2158    33510937  0.981160\n2129    32838811  0.978717\n92        957861  0.976250\n1381    23270833  0.973040\n907     17597932  0.971767",
      "text/html": "<div>\n<style scoped>\n    .dataframe tbody tr th:only-of-type {\n        vertical-align: middle;\n    }\n\n    .dataframe tbody tr th {\n        vertical-align: top;\n    }\n\n    .dataframe thead th {\n        text-align: right;\n    }\n</style>\n<table border=\"1\" class=\"dataframe\">\n  <thead>\n    <tr style=\"text-align: right;\">\n      <th></th>\n      <th>listing_id</th>\n      <th>mean</th>\n    </tr>\n  </thead>\n  <tbody>\n    <tr>\n      <th>2158</th>\n      <td>33510937</td>\n      <td>0.981160</td>\n    </tr>\n    <tr>\n      <th>2129</th>\n      <td>32838811</td>\n      <td>0.978717</td>\n    </tr>\n    <tr>\n      <th>92</th>\n      <td>957861</td>\n      <td>0.976250</td>\n    </tr>\n    <tr>\n      <th>1381</th>\n      <td>23270833</td>\n      <td>0.973040</td>\n    </tr>\n    <tr>\n      <th>907</th>\n      <td>17597932</td>\n      <td>0.971767</td>\n    </tr>\n  </tbody>\n</table>\n</div>"
     },
     "metadata": {}
    }
   ],
   "execution_count": 14
  },
  {
   "cell_type": "markdown",
   "source": "## Inspect results\nHave a play around with the above code. Maybe try to fetch and inspect the reviews of the listings with high and low sentiment socres, and see what types of listings these are.\n\nOr, if you've found this notebook too easy, have a go at `03-Expert.ipynb`.",
   "metadata": {
    "tags": [],
    "cell_id": "00031-07f63de9-ebc3-4dcf-953e-f795dc43d59e",
    "deepnote_cell_type": "markdown"
   }
  },
  {
   "cell_type": "markdown",
   "source": "<a style='text-decoration:none;line-height:16px;display:flex;color:#5B5B62;padding:10px;justify-content:end;' href='https://deepnote.com?utm_source=created-in-deepnote-cell&projectId=2c6f047c-21a6-4149-814c-b3f60a9bf973' target=\"_blank\">\n<img alt='Created in deepnote.com' style='display:inline;max-height:16px;margin:0px;margin-right:7.5px;' src='data:image/svg+xml;base64,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' > </img>\nCreated in <span style='font-weight:600;margin-left:4px;'>Deepnote</span></a>",
   "metadata": {
    "tags": [],
    "created_in_deepnote_cell": true,
    "deepnote_cell_type": "markdown"
   }
  }
 ],
 "nbformat": 4,
 "nbformat_minor": 2,
 "metadata": {
  "orig_nbformat": 2,
  "deepnote": {
   "is_reactive": false
  },
  "deepnote_notebook_id": "2bc253d8-5d82-4e43-b693-93ee90652da4",
  "deepnote_execution_queue": []
 }
}