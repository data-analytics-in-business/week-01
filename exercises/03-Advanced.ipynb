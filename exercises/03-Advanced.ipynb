{
 "cells": [
  {
   "cell_type": "markdown",
   "source": "# 03-Advanced: Segment and rank\n### The problem\nYour manager (/sales rep) asks you to: *rank the listings with at least 5 reviews in the AirBnB sample dataset using the sentiment of the available reviews*. (in London?)\n\n### The method\nYou should:\n\n1. load the reviews and calculate a sentiment score for each review,\n2. load the listings and (join)\n3. find a way to aggregate...?",
   "metadata": {
    "tags": [],
    "cell_id": "00001-f9f152cc-d6ad-4741-b838-4c6fab6abbba",
    "deepnote_cell_type": "markdown"
   }
  },
  {
   "cell_type": "markdown",
   "source": "## Segment\nSegment by room_type.",
   "metadata": {
    "tags": [],
    "cell_id": "00001-d2b6a883-b571-449b-83d3-2f0379123a4e",
    "deepnote_cell_type": "markdown"
   }
  },
  {
   "cell_type": "code",
   "metadata": {
    "tags": [],
    "cell_id": "00002-38d1fa1d-4b4c-47a0-9455-637abde65d4a",
    "deepnote_to_be_reexecuted": false,
    "source_hash": "cfcb653",
    "execution_start": 1633428889843,
    "execution_millis": 1447,
    "deepnote_cell_type": "code"
   },
   "source": "# Load the listings.csv data\nimport pandas as pd\ndf_listings = pd.read_csv('../data/listings_sample.csv')\ndf_listings.head(3)",
   "outputs": [
    {
     "output_type": "execute_result",
     "execution_count": 2,
     "data": {
      "application/vnd.deepnote.dataframe.v2+json": {
       "row_count": 3,
       "column_count": 23,
       "columns": [
        {
         "name": "host_id",
         "dtype": "int64",
         "stats": {
          "unique_count": 3,
          "nan_count": 0,
          "min": "43039",
          "max": "60302",
          "histogram": [
           {
            "bin_start": 43039,
            "bin_end": 44765.3,
            "count": 1
           },
           {
            "bin_start": 44765.3,
            "bin_end": 46491.6,
            "count": 0
           },
           {
            "bin_start": 46491.6,
            "bin_end": 48217.9,
            "count": 0
           },
           {
            "bin_start": 48217.9,
            "bin_end": 49944.2,
            "count": 0
           },
           {
            "bin_start": 49944.2,
            "bin_end": 51670.5,
            "count": 0
           },
           {
            "bin_start": 51670.5,
            "bin_end": 53396.8,
            "count": 0
           },
           {
            "bin_start": 53396.8,
            "bin_end": 55123.1,
            "count": 1
           },
           {
            "bin_start": 55123.1,
            "bin_end": 56849.4,
            "count": 0
           },
           {
            "bin_start": 56849.4,
            "bin_end": 58575.7,
            "count": 0
           },
           {
            "bin_start": 58575.7,
            "bin_end": 60302,
            "count": 1
           }
          ]
         }
        },
        {
         "name": "id",
         "dtype": "int64",
         "stats": {
          "unique_count": 3,
          "nan_count": 0,
          "min": "11551",
          "max": "15400",
          "histogram": [
           {
            "bin_start": 11551,
            "bin_end": 11935.9,
            "count": 1
           },
           {
            "bin_start": 11935.9,
            "bin_end": 12320.8,
            "count": 0
           },
           {
            "bin_start": 12320.8,
            "bin_end": 12705.7,
            "count": 0
           },
           {
            "bin_start": 12705.7,
            "bin_end": 13090.6,
            "count": 0
           },
           {
            "bin_start": 13090.6,
            "bin_end": 13475.5,
            "count": 0
           },
           {
            "bin_start": 13475.5,
            "bin_end": 13860.4,
            "count": 0
           },
           {
            "bin_start": 13860.4,
            "bin_end": 14245.3,
            "count": 1
           },
           {
            "bin_start": 14245.3,
            "bin_end": 14630.2,
            "count": 0
           },
           {
            "bin_start": 14630.2,
            "bin_end": 15015.1,
            "count": 0
           },
           {
            "bin_start": 15015.1,
            "bin_end": 15400,
            "count": 1
           }
          ]
         }
        },
        {
         "name": "name",
         "dtype": "object",
         "stats": {
          "unique_count": 3,
          "nan_count": 0,
          "categories": [
           {
            "name": "Arty and Bright London Apartment in Zone 2",
            "count": 1
           },
           {
            "name": "Holiday London DB Room Let-on going",
            "count": 1
           },
           {
            "name": "Bright Chelsea  Apartment. Chelsea!",
            "count": 1
           }
          ]
         }
        },
        {
         "name": "description",
         "dtype": "object",
         "stats": {
          "unique_count": 3,
          "nan_count": 0,
          "categories": [
           {
            "name": "Unlike most rental apartments my flat gives you a home feel mainly due to the oil paintings from my own collection. The flat has a very well equipped kitchen and a large bathroom, not to mention very fast 250 Mbps Wi-Fi and a 40 inch smart TV. <br />Very close to shops 24hrs and supermarkets providing easy reach to daily essential...not to mention just a 3-minute walk to the fastest (Victoria Line) underground in London.<br /><br /><b>The space</b><br />Amenities<br />Bedding: 1 Double bed, 1 living room with 1 chair that unfolds into a comfortable bed and 1 sofa bed for two, 1 bathroom, 1 kitchen<br />Utilities: Central heating, Wi-fi, 40inch smart TV, Kettle, Toaster, Iron board, Cooker, Fridge, Freezer, Washing machine, crockery, pots, pans, dishes etc. <br />Bed linen is provided along with fresh towels.<br /><br /><b>Guest access</b><br />Guest will have access to the entire apartment<br /><br /><b>Other things to note</b><br />No Smoking (very strict)<br />Check-in time is after ",
            "count": 1
           },
           {
            "name": "My bright double bedroom with a large window has a relaxed feeling! It comfortably fits one or two and is centrally located just two blocks from Finsbury Park. Enjoy great restaurants in the area and easy access to easy transport tubes, trains and buses. Babies and children of all ages are welcome.<br /><br /><b>The space</b><br />Hello Everyone,<br /><br />I'm offering my lovely double bedroom in Finsbury Park area (zone 2) for let in a shared apartment. <br />You will share the apartment with me and it is fully furnished with a self catering kitchen. Two people can easily sleep well as the room has a queen size bed. I also have a travel cot for a baby for guest with small children. <br /><br />I will require a deposit up front as a security gesture on both our parts and will be given back to you when you return the keys. <br /><br />I trust anyone who will be responding to this add would treat my home with care and respect . <br /><br />Best Wishes <br /><br />Alina<br /><br /><b>Gue",
            "count": 1
           },
           {
            "name": "Lots of windows and light.  St Luke's Gardens are at the end of the block, and the river not too far the other way. Ten minutes walk if you go slowly. Buses to everywhere round the corner and shops, restaurants, pubs, the cinema and Waitrose .<br /><br /><b>The space</b><br />Bright Chelsea Apartment <br /><br />This is a bright one bedroom ground floor apartment in an interesting listed building. There is one double bedroom and a living room/kitchen The apartment has a full <br />bathroom and the kitchen is fully equipped. Two wardrobes are available exclusively for guests and bedside tables and two long drawers.<br /><br />This sunny convenient compact flat is just around the corner from the Waitrose supermarket and all sorts of shops, cinemas, restaurants and pubs.  This is a lovely part of London.<br /><br />There is a fun farmers market in the King's Road at the weekend. <br /><br />Buses to everywhere are just round the corner, and two underground stations are within ten minutes ",
            "count": 1
           }
          ]
         }
        },
        {
         "name": "neighborhood_overview",
         "dtype": "object",
         "stats": {
          "unique_count": 3,
          "nan_count": 0,
          "categories": [
           {
            "name": "Not even 10 minutes by metro from Victoria Station there is a community where colours, sounds, flavours make you catapult into a completely new and exotic world. This is precisely the largest Afro-Caribbean London community. As soon as you immerse yourself in the local markets and in the heart of the community to the rhythm of the reggae music that resounds from the locals, you can only understand the artistic, creative and cultural uniqueness. Not surprisingly, people like Bob Marley, David Bowie, Van Gogh, Charlie Chaplin have lived in this area. But what makes Brixton so unique and unexpected? <br />Surely the first thing you notice is the huge amount of local markets and shops. From super-coloured fabrics, fruit and vegetable stand, to the largest selection of butchers and fishmongers you can find in the area, to numerous wig and hairdresser shops, the Brixton markets offer a wide selection of local and Caribbean products. From Brixton Station Road, to the famous Electric Avenue, t",
            "count": 1
           },
           {
            "name": "Finsbury Park is a friendly melting pot community composed of Turkish, French, Spanish, Middle Eastern, Irish and English families. <br />We have a wonderful variety of international restaurants directly under us on Stroud Green Road. And there are many shops and large Tescos supermarket right next door. <br /><br />But you can also venture up to Crouch End and along Greens Lanes where there will endless choice of Turkish and Middle Eastern cuisines.s",
            "count": 1
           },
           {
            "name": "It is Chelsea.",
            "count": 1
           }
          ]
         }
        },
        {
         "name": "neighbourhood",
         "dtype": "object",
         "stats": {
          "unique_count": 2,
          "nan_count": 0,
          "categories": [
           {
            "name": "London, United Kingdom",
            "count": 2
           },
           {
            "name": "Islington, Greater London, United Kingdom",
            "count": 1
           }
          ]
         }
        },
        {
         "name": "latitude",
         "dtype": "float64",
         "stats": {
          "unique_count": 3,
          "nan_count": 0,
          "min": "51.46095",
          "max": "51.56861",
          "histogram": [
           {
            "bin_start": 51.46095,
            "bin_end": 51.471716,
            "count": 1
           },
           {
            "bin_start": 51.471716,
            "bin_end": 51.482482,
            "count": 0
           },
           {
            "bin_start": 51.482482,
            "bin_end": 51.493247999999994,
            "count": 1
           },
           {
            "bin_start": 51.493247999999994,
            "bin_end": 51.504014,
            "count": 0
           },
           {
            "bin_start": 51.504014,
            "bin_end": 51.51478,
            "count": 0
           },
           {
            "bin_start": 51.51478,
            "bin_end": 51.525546,
            "count": 0
           },
           {
            "bin_start": 51.525546,
            "bin_end": 51.536311999999995,
            "count": 0
           },
           {
            "bin_start": 51.536311999999995,
            "bin_end": 51.547078,
            "count": 0
           },
           {
            "bin_start": 51.547078,
            "bin_end": 51.557844,
            "count": 0
           },
           {
            "bin_start": 51.557844,
            "bin_end": 51.56861,
            "count": 1
           }
          ]
         }
        },
        {
         "name": "longitude",
         "dtype": "float64",
         "stats": {
          "unique_count": 3,
          "nan_count": 0,
          "min": "-0.16813",
          "max": "-0.1127",
          "histogram": [
           {
            "bin_start": -0.16813,
            "bin_end": -0.162587,
            "count": 1
           },
           {
            "bin_start": -0.162587,
            "bin_end": -0.157044,
            "count": 0
           },
           {
            "bin_start": -0.157044,
            "bin_end": -0.151501,
            "count": 0
           },
           {
            "bin_start": -0.151501,
            "bin_end": -0.145958,
            "count": 0
           },
           {
            "bin_start": -0.145958,
            "bin_end": -0.140415,
            "count": 0
           },
           {
            "bin_start": -0.140415,
            "bin_end": -0.134872,
            "count": 0
           },
           {
            "bin_start": -0.134872,
            "bin_end": -0.129329,
            "count": 0
           },
           {
            "bin_start": -0.129329,
            "bin_end": -0.123786,
            "count": 0
           },
           {
            "bin_start": -0.123786,
            "bin_end": -0.11824299999999999,
            "count": 0
           },
           {
            "bin_start": -0.11824299999999999,
            "bin_end": -0.1127,
            "count": 2
           }
          ]
         }
        },
        {
         "name": "room_type",
         "dtype": "object",
         "stats": {
          "unique_count": 2,
          "nan_count": 0,
          "categories": [
           {
            "name": "Entire home/apt",
            "count": 2
           },
           {
            "name": "Private room",
            "count": 1
           }
          ]
         }
        },
        {
         "name": "accommodates",
         "dtype": "int64",
         "stats": {
          "unique_count": 2,
          "nan_count": 0,
          "min": "2",
          "max": "4",
          "histogram": [
           {
            "bin_start": 2,
            "bin_end": 2.2,
            "count": 2
           },
           {
            "bin_start": 2.2,
            "bin_end": 2.4,
            "count": 0
           },
           {
            "bin_start": 2.4,
            "bin_end": 2.6,
            "count": 0
           },
           {
            "bin_start": 2.6,
            "bin_end": 2.8,
            "count": 0
           },
           {
            "bin_start": 2.8,
            "bin_end": 3,
            "count": 0
           },
           {
            "bin_start": 3,
            "bin_end": 3.2,
            "count": 0
           },
           {
            "bin_start": 3.2,
            "bin_end": 3.4000000000000004,
            "count": 0
           },
           {
            "bin_start": 3.4000000000000004,
            "bin_end": 3.6,
            "count": 0
           },
           {
            "bin_start": 3.6,
            "bin_end": 3.8,
            "count": 0
           },
           {
            "bin_start": 3.8,
            "bin_end": 4,
            "count": 1
           }
          ]
         }
        },
        {
         "name": "bathrooms_text",
         "dtype": "object",
         "stats": {
          "unique_count": 2,
          "nan_count": 0,
          "categories": [
           {
            "name": "1 bath",
            "count": 2
           },
           {
            "name": "1 shared bath",
            "count": 1
           }
          ]
         }
        },
        {
         "name": "bedrooms",
         "dtype": "float64",
         "stats": {
          "unique_count": 1,
          "nan_count": 0,
          "min": "1.0",
          "max": "1.0",
          "histogram": [
           {
            "bin_start": 0.5,
            "bin_end": 0.6,
            "count": 0
           },
           {
            "bin_start": 0.6,
            "bin_end": 0.7,
            "count": 0
           },
           {
            "bin_start": 0.7,
            "bin_end": 0.8,
            "count": 0
           },
           {
            "bin_start": 0.8,
            "bin_end": 0.9,
            "count": 0
           },
           {
            "bin_start": 0.9,
            "bin_end": 1,
            "count": 0
           },
           {
            "bin_start": 1,
            "bin_end": 1.1,
            "count": 3
           },
           {
            "bin_start": 1.1,
            "bin_end": 1.2000000000000002,
            "count": 0
           },
           {
            "bin_start": 1.2000000000000002,
            "bin_end": 1.3,
            "count": 0
           },
           {
            "bin_start": 1.3,
            "bin_end": 1.4,
            "count": 0
           },
           {
            "bin_start": 1.4,
            "bin_end": 1.5,
            "count": 0
           }
          ]
         }
        },
        {
         "name": "beds",
         "dtype": "float64",
         "stats": {
          "unique_count": 3,
          "nan_count": 0,
          "min": "0.0",
          "max": "3.0",
          "histogram": [
           {
            "bin_start": 0,
            "bin_end": 0.3,
            "count": 1
           },
           {
            "bin_start": 0.3,
            "bin_end": 0.6,
            "count": 0
           },
           {
            "bin_start": 0.6,
            "bin_end": 0.8999999999999999,
            "count": 0
           },
           {
            "bin_start": 0.8999999999999999,
            "bin_end": 1.2,
            "count": 1
           },
           {
            "bin_start": 1.2,
            "bin_end": 1.5,
            "count": 0
           },
           {
            "bin_start": 1.5,
            "bin_end": 1.7999999999999998,
            "count": 0
           },
           {
            "bin_start": 1.7999999999999998,
            "bin_end": 2.1,
            "count": 0
           },
           {
            "bin_start": 2.1,
            "bin_end": 2.4,
            "count": 0
           },
           {
            "bin_start": 2.4,
            "bin_end": 2.6999999999999997,
            "count": 0
           },
           {
            "bin_start": 2.6999999999999997,
            "bin_end": 3,
            "count": 1
           }
          ]
         }
        },
        {
         "name": "amenities",
         "dtype": "object",
         "stats": {
          "unique_count": 3,
          "nan_count": 0,
          "categories": [
           {
            "name": "[\"Hair dryer\", \"Essentials\", \"Washer\", \"Lockbox\", \"Iron\", \"Carbon monoxide alarm\", \"Kitchen\", \"Dedicated workspace\", \"Cooking basics\", \"Long term stays allowed\", \"Coffee maker\", \"Wifi\", \"High chair\", \"Paid parking off premises\", \"Refrigerator\", \"Stove\", \"Fire extinguisher\", \"TV\", \"Microwave\", \"Crib\", \"Pack \\u2019n Play/travel crib\", \"Hangers\", \"Dishes and silverware\", \"Cable TV\", \"Heating\", \"Hot water\", \"Oven\", \"Smoke alarm\"]",
            "count": 1
           },
           {
            "name": "[\"Kitchen\", \"Host greets you\", \"Bed linens\", \"Hangers\", \"Fire extinguisher\", \"Bathtub\", \"Lock on bedroom door\", \"Long term stays allowed\", \"Wifi\", \"Carbon monoxide alarm\", \"Heating\", \"Children\\u2019s books and toys\", \"Paid parking off premises\", \"Essentials\", \"Washer\", \"Hair dryer\", \"Children\\u2019s dinnerware\", \"Dedicated workspace\", \"Free street parking\", \"TV with standard cable\", \"Refrigerator\", \"Room-darkening shades\", \"Iron\", \"Extra pillows and blankets\", \"Cooking basics\", \"Patio or balcony\", \"Ethernet connection\", \"Coffee maker\", \"Outlet covers\", \"Oven\", \"Shampoo\", \"Hot water\", \"Dishes and silverware\", \"Stove\", \"Babysitter recommendations\", \"Crib\", \"Pack \\u2019n Play/travel crib\", \"Luggage dropoff allowed\", \"Cable TV\", \"Smoke alarm\", \"Dryer\"]",
            "count": 1
           },
           {
            "name": "[\"Kitchen\", \"Hangers\", \"Fire extinguisher\", \"Long term stays allowed\", \"Wifi\", \"Heating\", \"Essentials\", \"Washer\", \"Microwave\", \"Hair dryer\", \"Dedicated workspace\", \"Air conditioning\", \"TV with standard cable\", \"Refrigerator\", \"Iron\", \"Cooking basics\", \"Coffee maker\", \"Shampoo\", \"Hot water\", \"Dishes and silverware\", \"Luggage dropoff allowed\", \"Cable TV\", \"Smoke alarm\", \"Dryer\"]",
            "count": 1
           }
          ]
         }
        },
        {
         "name": "price",
         "dtype": "object",
         "stats": {
          "unique_count": 3,
          "nan_count": 0,
          "categories": [
           {
            "name": "$110.00",
            "count": 1
           },
           {
            "name": "$40.00",
            "count": 1
           },
           {
            "name": "$75.00",
            "count": 1
           }
          ]
         }
        },
        {
         "name": "number_of_reviews",
         "dtype": "int64",
         "stats": {
          "unique_count": 3,
          "nan_count": 0,
          "min": "21",
          "max": "193",
          "histogram": [
           {
            "bin_start": 21,
            "bin_end": 38.2,
            "count": 1
           },
           {
            "bin_start": 38.2,
            "bin_end": 55.4,
            "count": 0
           },
           {
            "bin_start": 55.4,
            "bin_end": 72.6,
            "count": 0
           },
           {
            "bin_start": 72.6,
            "bin_end": 89.8,
            "count": 1
           },
           {
            "bin_start": 89.8,
            "bin_end": 107,
            "count": 0
           },
           {
            "bin_start": 107,
            "bin_end": 124.19999999999999,
            "count": 0
           },
           {
            "bin_start": 124.19999999999999,
            "bin_end": 141.39999999999998,
            "count": 0
           },
           {
            "bin_start": 141.39999999999998,
            "bin_end": 158.6,
            "count": 0
           },
           {
            "bin_start": 158.6,
            "bin_end": 175.79999999999998,
            "count": 0
           },
           {
            "bin_start": 175.79999999999998,
            "bin_end": 193,
            "count": 1
           }
          ]
         }
        },
        {
         "name": "review_scores_rating",
         "dtype": "float64",
         "stats": {
          "unique_count": 3,
          "nan_count": 0,
          "min": "91.0",
          "max": "97.0",
          "histogram": [
           {
            "bin_start": 91,
            "bin_end": 91.6,
            "count": 1
           },
           {
            "bin_start": 91.6,
            "bin_end": 92.2,
            "count": 0
           },
           {
            "bin_start": 92.2,
            "bin_end": 92.8,
            "count": 0
           },
           {
            "bin_start": 92.8,
            "bin_end": 93.4,
            "count": 0
           },
           {
            "bin_start": 93.4,
            "bin_end": 94,
            "count": 0
           },
           {
            "bin_start": 94,
            "bin_end": 94.6,
            "count": 0
           },
           {
            "bin_start": 94.6,
            "bin_end": 95.2,
            "count": 0
           },
           {
            "bin_start": 95.2,
            "bin_end": 95.8,
            "count": 0
           },
           {
            "bin_start": 95.8,
            "bin_end": 96.4,
            "count": 1
           },
           {
            "bin_start": 96.4,
            "bin_end": 97,
            "count": 1
           }
          ]
         }
        },
        {
         "name": "review_scores_accuracy",
         "dtype": "float64",
         "stats": {
          "unique_count": 2,
          "nan_count": 0,
          "min": "9.0",
          "max": "10.0",
          "histogram": [
           {
            "bin_start": 9,
            "bin_end": 9.1,
            "count": 1
           },
           {
            "bin_start": 9.1,
            "bin_end": 9.2,
            "count": 0
           },
           {
            "bin_start": 9.2,
            "bin_end": 9.3,
            "count": 0
           },
           {
            "bin_start": 9.3,
            "bin_end": 9.4,
            "count": 0
           },
           {
            "bin_start": 9.4,
            "bin_end": 9.5,
            "count": 0
           },
           {
            "bin_start": 9.5,
            "bin_end": 9.6,
            "count": 0
           },
           {
            "bin_start": 9.6,
            "bin_end": 9.7,
            "count": 0
           },
           {
            "bin_start": 9.7,
            "bin_end": 9.8,
            "count": 0
           },
           {
            "bin_start": 9.8,
            "bin_end": 9.9,
            "count": 0
           },
           {
            "bin_start": 9.9,
            "bin_end": 10,
            "count": 2
           }
          ]
         }
        },
        {
         "name": "review_scores_cleanliness",
         "dtype": "float64",
         "stats": {
          "unique_count": 2,
          "nan_count": 0,
          "min": "9.0",
          "max": "10.0",
          "histogram": [
           {
            "bin_start": 9,
            "bin_end": 9.1,
            "count": 1
           },
           {
            "bin_start": 9.1,
            "bin_end": 9.2,
            "count": 0
           },
           {
            "bin_start": 9.2,
            "bin_end": 9.3,
            "count": 0
           },
           {
            "bin_start": 9.3,
            "bin_end": 9.4,
            "count": 0
           },
           {
            "bin_start": 9.4,
            "bin_end": 9.5,
            "count": 0
           },
           {
            "bin_start": 9.5,
            "bin_end": 9.6,
            "count": 0
           },
           {
            "bin_start": 9.6,
            "bin_end": 9.7,
            "count": 0
           },
           {
            "bin_start": 9.7,
            "bin_end": 9.8,
            "count": 0
           },
           {
            "bin_start": 9.8,
            "bin_end": 9.9,
            "count": 0
           },
           {
            "bin_start": 9.9,
            "bin_end": 10,
            "count": 2
           }
          ]
         }
        },
        {
         "name": "review_scores_checkin",
         "dtype": "float64",
         "stats": {
          "unique_count": 1,
          "nan_count": 0,
          "min": "10.0",
          "max": "10.0",
          "histogram": [
           {
            "bin_start": 9.5,
            "bin_end": 9.6,
            "count": 0
           },
           {
            "bin_start": 9.6,
            "bin_end": 9.7,
            "count": 0
           },
           {
            "bin_start": 9.7,
            "bin_end": 9.8,
            "count": 0
           },
           {
            "bin_start": 9.8,
            "bin_end": 9.9,
            "count": 0
           },
           {
            "bin_start": 9.9,
            "bin_end": 10,
            "count": 0
           },
           {
            "bin_start": 10,
            "bin_end": 10.1,
            "count": 3
           },
           {
            "bin_start": 10.1,
            "bin_end": 10.2,
            "count": 0
           },
           {
            "bin_start": 10.2,
            "bin_end": 10.3,
            "count": 0
           },
           {
            "bin_start": 10.3,
            "bin_end": 10.4,
            "count": 0
           },
           {
            "bin_start": 10.4,
            "bin_end": 10.5,
            "count": 0
           }
          ]
         }
        },
        {
         "name": "review_scores_communication",
         "dtype": "float64",
         "stats": {
          "unique_count": 1,
          "nan_count": 0,
          "min": "10.0",
          "max": "10.0",
          "histogram": [
           {
            "bin_start": 9.5,
            "bin_end": 9.6,
            "count": 0
           },
           {
            "bin_start": 9.6,
            "bin_end": 9.7,
            "count": 0
           },
           {
            "bin_start": 9.7,
            "bin_end": 9.8,
            "count": 0
           },
           {
            "bin_start": 9.8,
            "bin_end": 9.9,
            "count": 0
           },
           {
            "bin_start": 9.9,
            "bin_end": 10,
            "count": 0
           },
           {
            "bin_start": 10,
            "bin_end": 10.1,
            "count": 3
           },
           {
            "bin_start": 10.1,
            "bin_end": 10.2,
            "count": 0
           },
           {
            "bin_start": 10.2,
            "bin_end": 10.3,
            "count": 0
           },
           {
            "bin_start": 10.3,
            "bin_end": 10.4,
            "count": 0
           },
           {
            "bin_start": 10.4,
            "bin_end": 10.5,
            "count": 0
           }
          ]
         }
        },
        {
         "name": "review_scores_location",
         "dtype": "float64",
         "stats": {
          "unique_count": 2,
          "nan_count": 0,
          "min": "9.0",
          "max": "10.0",
          "histogram": [
           {
            "bin_start": 9,
            "bin_end": 9.1,
            "count": 2
           },
           {
            "bin_start": 9.1,
            "bin_end": 9.2,
            "count": 0
           },
           {
            "bin_start": 9.2,
            "bin_end": 9.3,
            "count": 0
           },
           {
            "bin_start": 9.3,
            "bin_end": 9.4,
            "count": 0
           },
           {
            "bin_start": 9.4,
            "bin_end": 9.5,
            "count": 0
           },
           {
            "bin_start": 9.5,
            "bin_end": 9.6,
            "count": 0
           },
           {
            "bin_start": 9.6,
            "bin_end": 9.7,
            "count": 0
           },
           {
            "bin_start": 9.7,
            "bin_end": 9.8,
            "count": 0
           },
           {
            "bin_start": 9.8,
            "bin_end": 9.9,
            "count": 0
           },
           {
            "bin_start": 9.9,
            "bin_end": 10,
            "count": 1
           }
          ]
         }
        },
        {
         "name": "review_scores_value",
         "dtype": "float64",
         "stats": {
          "unique_count": 1,
          "nan_count": 0,
          "min": "9.0",
          "max": "9.0",
          "histogram": [
           {
            "bin_start": 8.5,
            "bin_end": 8.6,
            "count": 0
           },
           {
            "bin_start": 8.6,
            "bin_end": 8.7,
            "count": 0
           },
           {
            "bin_start": 8.7,
            "bin_end": 8.8,
            "count": 0
           },
           {
            "bin_start": 8.8,
            "bin_end": 8.9,
            "count": 0
           },
           {
            "bin_start": 8.9,
            "bin_end": 9,
            "count": 0
           },
           {
            "bin_start": 9,
            "bin_end": 9.1,
            "count": 3
           },
           {
            "bin_start": 9.1,
            "bin_end": 9.2,
            "count": 0
           },
           {
            "bin_start": 9.2,
            "bin_end": 9.3,
            "count": 0
           },
           {
            "bin_start": 9.3,
            "bin_end": 9.4,
            "count": 0
           },
           {
            "bin_start": 9.4,
            "bin_end": 9.5,
            "count": 0
           }
          ]
         }
        },
        {
         "name": "_deepnote_index_column",
         "dtype": "int64"
        }
       ],
       "rows_top": [
        {
         "host_id": 43039,
         "id": 11551,
         "name": "Arty and Bright London Apartment in Zone 2",
         "description": "Unlike most rental apartments my flat gives you a home feel mainly due to the oil paintings from my…",
         "neighborhood_overview": "Not even 10 minutes by metro from Victoria Station there is a community where colours, sounds, flav…",
         "neighbourhood": "London, United Kingdom",
         "latitude": 51.46095,
         "longitude": -0.11758,
         "room_type": "Entire home/apt",
         "accommodates": 4,
         "bathrooms_text": "1 bath",
         "bedrooms": 1,
         "beds": 3,
         "amenities": "[\"Hair dryer\", \"Essentials\", \"Washer\", \"Lockbox\", \"Iron\", \"Carbon monoxide alarm\", \"Kitchen\", \"Dedi…",
         "price": "$110.00",
         "number_of_reviews": 193,
         "review_scores_rating": 91,
         "review_scores_accuracy": 9,
         "review_scores_cleanliness": 9,
         "review_scores_checkin": 10,
         "review_scores_communication": 10,
         "review_scores_location": 9,
         "review_scores_value": 9,
         "_deepnote_index_column": 0
        },
        {
         "host_id": 54730,
         "id": 13913,
         "name": "Holiday London DB Room Let-on going",
         "description": "My bright double bedroom with a large window has a relaxed feeling! It comfortably fits one or two …",
         "neighborhood_overview": "Finsbury Park is a friendly melting pot community composed of Turkish, French, Spanish, Middle East…",
         "neighbourhood": "Islington, Greater London, United Kingdom",
         "latitude": 51.56861,
         "longitude": -0.1127,
         "room_type": "Private room",
         "accommodates": 2,
         "bathrooms_text": "1 shared bath",
         "bedrooms": 1,
         "beds": 0,
         "amenities": "[\"Kitchen\", \"Host greets you\", \"Bed linens\", \"Hangers\", \"Fire extinguisher\", \"Bathtub\", \"Lock on be…",
         "price": "$40.00",
         "number_of_reviews": 21,
         "review_scores_rating": 97,
         "review_scores_accuracy": 10,
         "review_scores_cleanliness": 10,
         "review_scores_checkin": 10,
         "review_scores_communication": 10,
         "review_scores_location": 9,
         "review_scores_value": 9,
         "_deepnote_index_column": 1
        },
        {
         "host_id": 60302,
         "id": 15400,
         "name": "Bright Chelsea  Apartment. Chelsea!",
         "description": "Lots of windows and light.  St Luke's Gardens are at the end of the block, and the river not too fa…",
         "neighborhood_overview": "It is Chelsea.",
         "neighbourhood": "London, United Kingdom",
         "latitude": 51.4878,
         "longitude": -0.16813,
         "room_type": "Entire home/apt",
         "accommodates": 2,
         "bathrooms_text": "1 bath",
         "bedrooms": 1,
         "beds": 1,
         "amenities": "[\"Kitchen\", \"Hangers\", \"Fire extinguisher\", \"Long term stays allowed\", \"Wifi\", \"Heating\", \"Essentia…",
         "price": "$75.00",
         "number_of_reviews": 89,
         "review_scores_rating": 96,
         "review_scores_accuracy": 10,
         "review_scores_cleanliness": 10,
         "review_scores_checkin": 10,
         "review_scores_communication": 10,
         "review_scores_location": 10,
         "review_scores_value": 9,
         "_deepnote_index_column": 2
        }
       ],
       "rows_bottom": null
      },
      "text/plain": "   host_id     id                                        name  \\\n0    43039  11551  Arty and Bright London Apartment in Zone 2   \n1    54730  13913         Holiday London DB Room Let-on going   \n2    60302  15400         Bright Chelsea  Apartment. Chelsea!   \n\n                                         description  \\\n0  Unlike most rental apartments my flat gives yo...   \n1  My bright double bedroom with a large window h...   \n2  Lots of windows and light.  St Luke's Gardens ...   \n\n                               neighborhood_overview  \\\n0  Not even 10 minutes by metro from Victoria Sta...   \n1  Finsbury Park is a friendly melting pot commun...   \n2                                     It is Chelsea.   \n\n                               neighbourhood  latitude  longitude  \\\n0                     London, United Kingdom  51.46095   -0.11758   \n1  Islington, Greater London, United Kingdom  51.56861   -0.11270   \n2                     London, United Kingdom  51.48780   -0.16813   \n\n         room_type  accommodates  ...  \\\n0  Entire home/apt             4  ...   \n1     Private room             2  ...   \n2  Entire home/apt             2  ...   \n\n                                           amenities    price  \\\n0  [\"Hair dryer\", \"Essentials\", \"Washer\", \"Lockbo...  $110.00   \n1  [\"Kitchen\", \"Host greets you\", \"Bed linens\", \"...   $40.00   \n2  [\"Kitchen\", \"Hangers\", \"Fire extinguisher\", \"L...   $75.00   \n\n   number_of_reviews review_scores_rating review_scores_accuracy  \\\n0                193                 91.0                    9.0   \n1                 21                 97.0                   10.0   \n2                 89                 96.0                   10.0   \n\n   review_scores_cleanliness  review_scores_checkin  \\\n0                        9.0                   10.0   \n1                       10.0                   10.0   \n2                       10.0                   10.0   \n\n   review_scores_communication  review_scores_location  review_scores_value  \n0                         10.0                     9.0                  9.0  \n1                         10.0                     9.0                  9.0  \n2                         10.0                    10.0                  9.0  \n\n[3 rows x 23 columns]",
      "text/html": "<div>\n<style scoped>\n    .dataframe tbody tr th:only-of-type {\n        vertical-align: middle;\n    }\n\n    .dataframe tbody tr th {\n        vertical-align: top;\n    }\n\n    .dataframe thead th {\n        text-align: right;\n    }\n</style>\n<table border=\"1\" class=\"dataframe\">\n  <thead>\n    <tr style=\"text-align: right;\">\n      <th></th>\n      <th>host_id</th>\n      <th>id</th>\n      <th>name</th>\n      <th>description</th>\n      <th>neighborhood_overview</th>\n      <th>neighbourhood</th>\n      <th>latitude</th>\n      <th>longitude</th>\n      <th>room_type</th>\n      <th>accommodates</th>\n      <th>...</th>\n      <th>amenities</th>\n      <th>price</th>\n      <th>number_of_reviews</th>\n      <th>review_scores_rating</th>\n      <th>review_scores_accuracy</th>\n      <th>review_scores_cleanliness</th>\n      <th>review_scores_checkin</th>\n      <th>review_scores_communication</th>\n      <th>review_scores_location</th>\n      <th>review_scores_value</th>\n    </tr>\n  </thead>\n  <tbody>\n    <tr>\n      <th>0</th>\n      <td>43039</td>\n      <td>11551</td>\n      <td>Arty and Bright London Apartment in Zone 2</td>\n      <td>Unlike most rental apartments my flat gives yo...</td>\n      <td>Not even 10 minutes by metro from Victoria Sta...</td>\n      <td>London, United Kingdom</td>\n      <td>51.46095</td>\n      <td>-0.11758</td>\n      <td>Entire home/apt</td>\n      <td>4</td>\n      <td>...</td>\n      <td>[\"Hair dryer\", \"Essentials\", \"Washer\", \"Lockbo...</td>\n      <td>$110.00</td>\n      <td>193</td>\n      <td>91.0</td>\n      <td>9.0</td>\n      <td>9.0</td>\n      <td>10.0</td>\n      <td>10.0</td>\n      <td>9.0</td>\n      <td>9.0</td>\n    </tr>\n    <tr>\n      <th>1</th>\n      <td>54730</td>\n      <td>13913</td>\n      <td>Holiday London DB Room Let-on going</td>\n      <td>My bright double bedroom with a large window h...</td>\n      <td>Finsbury Park is a friendly melting pot commun...</td>\n      <td>Islington, Greater London, United Kingdom</td>\n      <td>51.56861</td>\n      <td>-0.11270</td>\n      <td>Private room</td>\n      <td>2</td>\n      <td>...</td>\n      <td>[\"Kitchen\", \"Host greets you\", \"Bed linens\", \"...</td>\n      <td>$40.00</td>\n      <td>21</td>\n      <td>97.0</td>\n      <td>10.0</td>\n      <td>10.0</td>\n      <td>10.0</td>\n      <td>10.0</td>\n      <td>9.0</td>\n      <td>9.0</td>\n    </tr>\n    <tr>\n      <th>2</th>\n      <td>60302</td>\n      <td>15400</td>\n      <td>Bright Chelsea  Apartment. Chelsea!</td>\n      <td>Lots of windows and light.  St Luke's Gardens ...</td>\n      <td>It is Chelsea.</td>\n      <td>London, United Kingdom</td>\n      <td>51.48780</td>\n      <td>-0.16813</td>\n      <td>Entire home/apt</td>\n      <td>2</td>\n      <td>...</td>\n      <td>[\"Kitchen\", \"Hangers\", \"Fire extinguisher\", \"L...</td>\n      <td>$75.00</td>\n      <td>89</td>\n      <td>96.0</td>\n      <td>10.0</td>\n      <td>10.0</td>\n      <td>10.0</td>\n      <td>10.0</td>\n      <td>10.0</td>\n      <td>9.0</td>\n    </tr>\n  </tbody>\n</table>\n<p>3 rows × 23 columns</p>\n</div>"
     },
     "metadata": {}
    }
   ],
   "execution_count": null
  },
  {
   "cell_type": "code",
   "metadata": {
    "tags": [],
    "cell_id": "00003-589ec3dd-36ab-40c1-90ad-860a97e56620",
    "deepnote_to_be_reexecuted": false,
    "source_hash": "62f329bf",
    "execution_start": 1633428914103,
    "execution_millis": 5,
    "deepnote_cell_type": "code"
   },
   "source": "# Use 'value_counts()' to inspect neighbourhoods listed\ndf_listings['room_type'].value_counts().head()",
   "outputs": [
    {
     "output_type": "execute_result",
     "execution_count": 3,
     "data": {
      "text/plain": "Entire home/apt    15623\nPrivate room       11579\nHotel room           176\nShared room          148\nName: room_type, dtype: int64"
     },
     "metadata": {}
    }
   ],
   "execution_count": null
  },
  {
   "cell_type": "code",
   "source": "df_listings['price'].apply(lambda p: float(p.replace('$', '').replace(',', ''))).sort_values(ascending=False)",
   "metadata": {
    "tags": [],
    "cell_id": "00004-821746bd-f284-44e9-ae58-8f9dc6331d61",
    "deepnote_to_be_reexecuted": false,
    "source_hash": "27f3fb6b",
    "execution_start": 1633429573075,
    "execution_millis": 12,
    "deepnote_cell_type": "code"
   },
   "outputs": [
    {
     "output_type": "execute_result",
     "execution_count": 17,
     "data": {
      "text/plain": "6334     17803.0\n14629    17803.0\n15561    17762.0\n9822     16023.0\n5292     16023.0\n          ...   \n13565        9.0\n16650        9.0\n14487        8.0\n16373        8.0\n7139         8.0\nName: price, Length: 27526, dtype: float64"
     },
     "metadata": {}
    }
   ],
   "execution_count": null
  },
  {
   "cell_type": "markdown",
   "source": "#### Example 03-01: Identify luxury homes/apartement listings\nThe 10 most expensive home/apartment listings can be found using the following code:",
   "metadata": {
    "tags": [],
    "cell_id": "00002-b862573b-05d6-4559-94cf-493bfabfadf4",
    "deepnote_cell_type": "markdown"
   }
  },
  {
   "cell_type": "code",
   "source": "df_lux_top5 = df_listings[df_listings['room_type']=='Entire home/apt'].sort_values(by=['price']).head(5)\ndf_lux_top5",
   "metadata": {
    "tags": [],
    "cell_id": "00005-c178ce40-626a-4f1e-a5c5-bae461aca1c3",
    "deepnote_to_be_reexecuted": false,
    "source_hash": "2306f425",
    "execution_start": 1633429192621,
    "execution_millis": 120,
    "deepnote_cell_type": "code"
   },
   "outputs": [
    {
     "output_type": "execute_result",
     "execution_count": 6,
     "data": {
      "application/vnd.deepnote.dataframe.v2+json": {
       "row_count": 5,
       "column_count": 23,
       "columns": [
        {
         "name": "host_id",
         "dtype": "int64",
         "stats": {
          "unique_count": 5,
          "nan_count": 0,
          "min": "36196974",
          "max": "273701605",
          "histogram": [
           {
            "bin_start": 36196974,
            "bin_end": 59947437.1,
            "count": 2
           },
           {
            "bin_start": 59947437.1,
            "bin_end": 83697900.2,
            "count": 0
           },
           {
            "bin_start": 83697900.2,
            "bin_end": 107448363.30000001,
            "count": 0
           },
           {
            "bin_start": 107448363.30000001,
            "bin_end": 131198826.4,
            "count": 0
           },
           {
            "bin_start": 131198826.4,
            "bin_end": 154949289.5,
            "count": 0
           },
           {
            "bin_start": 154949289.5,
            "bin_end": 178699752.60000002,
            "count": 1
           },
           {
            "bin_start": 178699752.60000002,
            "bin_end": 202450215.70000002,
            "count": 0
           },
           {
            "bin_start": 202450215.70000002,
            "bin_end": 226200678.8,
            "count": 0
           },
           {
            "bin_start": 226200678.8,
            "bin_end": 249951141.9,
            "count": 0
           },
           {
            "bin_start": 249951141.9,
            "bin_end": 273701605,
            "count": 2
           }
          ]
         }
        },
        {
         "name": "id",
         "dtype": "int64",
         "stats": {
          "unique_count": 5,
          "nan_count": 0,
          "min": "6907168",
          "max": "41251650",
          "histogram": [
           {
            "bin_start": 6907168,
            "bin_end": 10341616.2,
            "count": 2
           },
           {
            "bin_start": 10341616.2,
            "bin_end": 13776064.4,
            "count": 0
           },
           {
            "bin_start": 13776064.4,
            "bin_end": 17210512.6,
            "count": 0
           },
           {
            "bin_start": 17210512.6,
            "bin_end": 20644960.8,
            "count": 0
           },
           {
            "bin_start": 20644960.8,
            "bin_end": 24079409,
            "count": 0
           },
           {
            "bin_start": 24079409,
            "bin_end": 27513857.200000003,
            "count": 0
           },
           {
            "bin_start": 27513857.200000003,
            "bin_end": 30948305.400000002,
            "count": 0
           },
           {
            "bin_start": 30948305.400000002,
            "bin_end": 34382753.6,
            "count": 0
           },
           {
            "bin_start": 34382753.6,
            "bin_end": 37817201.8,
            "count": 2
           },
           {
            "bin_start": 37817201.8,
            "bin_end": 41251650,
            "count": 1
           }
          ]
         }
        },
        {
         "name": "name",
         "dtype": "object",
         "stats": {
          "unique_count": 5,
          "nan_count": 0,
          "categories": [
           {
            "name": "Stunning spacious 3 bdr with roof terrace UNIQUE!!",
            "count": 1
           },
           {
            "name": "Fulham family home 6 bedrooms",
            "count": 1
           },
           {
            "name": "3 others",
            "count": 3
           }
          ]
         }
        },
        {
         "name": "description",
         "dtype": "object",
         "stats": {
          "unique_count": 5,
          "nan_count": 0,
          "categories": [
           {
            "name": "Spacious, bright and beautifully furnished 3-bedroom triplex apartment in Parsons Green (quiet residential area). 5mins from Parsons Green underground station (District Line). 20mins to South Ken (museums), Hyde Park and Knightsbridge (Harrods). 1 min from bus stop (22 to Piccadilly) . Large living room lined with art and books, very comfortable bedrooms and a private garden terrace. Luxuriously appointed to a high standard with all modern amenities including high-speed wifi.<br /><br /><b>The space</b><br />Living Room: Spacious and light-filled space lined with art and books. Large-screen TV with entertainment options.<br /><br />Bedrooms (3): Bright and comfortable with memory foam mattresses (super King and Double), luxurious bed linens, silk duvets, down pillows. A large inflatable mattress is provided if needed for additional guests.<br /><br />Bathrooms (2). One with a large bath tub and the second with a shower. Towels and basic toiletries provided.<br /><br />Terrace: Beautifu",
            "count": 1
           },
           {
            "name": "Stunning newly refurbished lion house in leafy street near Parsons Green in fulham. Boasting six large bedrooms (5 double rooms and 1 cot room) and a large south facing garden. <br /><br />The house has all mod-cons like sky, wifi, underfloor heating, boiling tap, etc<br /><br />Luxury property Plum Guide Winner<br /><br /><b>The space</b><br />Newly refurbished house with lovely fresh feel with all the mod cons. <br /><br />The ground floor and basement have lovely under floor heating and a combination of sweeping oak flooring and bringer stone kitchen floor leading into a large south facing garden. <br /><br />Kitchen has all appliances you could need including hot water boiling tap, induction hob, 2 X combination ovens and microwaves, American style fridge / freezer and a large dining table to seat 10 people. It also has a sofa and 60 inch Tv with sky and blue ray player. <br /><br />The basement has 1 large double bedroom with en suite shower room this has large double doors openin",
            "count": 1
           },
           {
            "name": "3 others",
            "count": 3
           }
          ]
         }
        },
        {
         "name": "neighborhood_overview",
         "dtype": "object",
         "stats": {
          "unique_count": 5,
          "nan_count": 0,
          "categories": [
           {
            "name": "The quintessential London neighbourhood, Parsons Green is a charming, leafy, quiet residential enclave within Fulham in central London. It has a lively restaurant and bar scene, all amenities such as supermarkets, as well as easy and quick transportation links to the most popular sights, shopping and entertainment districts in London. It the perfect base for exploring London!",
            "count": 1
           },
           {
            "name": "Fulham is a lovely leafy neighbourhood which a really family feel. There are cafes, restaurants, shops, hairdressers, beauty salons etc all within 2-5min walk. <br /><br />It is a very easy area to access most of London from as it is 7 minute walk from Parsons Green tube station and Fulham Broadway tube station both on the district line. There is a bus stop 1 minute away going to High Street Kensington or Clapham junction. <br /><br />There are other buses (PHONE NUMBER HIDDEN) within a 5 minute walk which go to Putney, Earl's Court, Sloane Square, South Kensington and Mayfair very easily. <br /><br />Easy distance from Heathrow and gatwick airports. <br /><br />Meter car parking outside the house Monday to Saturday. Easy access to he Boris bike rack on the edge of eel brook common etc",
            "count": 1
           },
           {
            "name": "3 others",
            "count": 3
           }
          ]
         }
        },
        {
         "name": "neighbourhood",
         "dtype": "object",
         "stats": {
          "unique_count": 3,
          "nan_count": 0,
          "categories": [
           {
            "name": "Greater London, England, United Kingdom",
            "count": 3
           },
           {
            "name": "London, United Kingdom",
            "count": 1
           },
           {
            "name": "London, Fulham, United Kingdom",
            "count": 1
           }
          ]
         }
        },
        {
         "name": "latitude",
         "dtype": "float64",
         "stats": {
          "unique_count": 5,
          "nan_count": 0,
          "min": "51.47303",
          "max": "51.59092",
          "histogram": [
           {
            "bin_start": 51.47303,
            "bin_end": 51.484819,
            "count": 2
           },
           {
            "bin_start": 51.484819,
            "bin_end": 51.496608,
            "count": 0
           },
           {
            "bin_start": 51.496608,
            "bin_end": 51.508397,
            "count": 0
           },
           {
            "bin_start": 51.508397,
            "bin_end": 51.520186,
            "count": 1
           },
           {
            "bin_start": 51.520186,
            "bin_end": 51.531975,
            "count": 0
           },
           {
            "bin_start": 51.531975,
            "bin_end": 51.543763999999996,
            "count": 0
           },
           {
            "bin_start": 51.543763999999996,
            "bin_end": 51.555552999999996,
            "count": 0
           },
           {
            "bin_start": 51.555552999999996,
            "bin_end": 51.567342,
            "count": 1
           },
           {
            "bin_start": 51.567342,
            "bin_end": 51.579131,
            "count": 0
           },
           {
            "bin_start": 51.579131,
            "bin_end": 51.59092,
            "count": 1
           }
          ]
         }
        },
        {
         "name": "longitude",
         "dtype": "float64",
         "stats": {
          "unique_count": 5,
          "nan_count": 0,
          "min": "-0.25941",
          "max": "-0.1241",
          "histogram": [
           {
            "bin_start": -0.25941,
            "bin_end": -0.245879,
            "count": 1
           },
           {
            "bin_start": -0.245879,
            "bin_end": -0.23234799999999997,
            "count": 0
           },
           {
            "bin_start": -0.23234799999999997,
            "bin_end": -0.21881699999999998,
            "count": 0
           },
           {
            "bin_start": -0.21881699999999998,
            "bin_end": -0.20528599999999997,
            "count": 0
           },
           {
            "bin_start": -0.20528599999999997,
            "bin_end": -0.19175499999999998,
            "count": 2
           },
           {
            "bin_start": -0.19175499999999998,
            "bin_end": -0.178224,
            "count": 0
           },
           {
            "bin_start": -0.178224,
            "bin_end": -0.16469299999999998,
            "count": 0
           },
           {
            "bin_start": -0.16469299999999998,
            "bin_end": -0.151162,
            "count": 0
           },
           {
            "bin_start": -0.151162,
            "bin_end": -0.137631,
            "count": 1
           },
           {
            "bin_start": -0.137631,
            "bin_end": -0.1241,
            "count": 1
           }
          ]
         }
        },
        {
         "name": "room_type",
         "dtype": "object",
         "stats": {
          "unique_count": 1,
          "nan_count": 0,
          "categories": [
           {
            "name": "Entire home/apt",
            "count": 5
           }
          ]
         }
        },
        {
         "name": "accommodates",
         "dtype": "int64",
         "stats": {
          "unique_count": 5,
          "nan_count": 0,
          "min": "2",
          "max": "10",
          "histogram": [
           {
            "bin_start": 2,
            "bin_end": 2.8,
            "count": 1
           },
           {
            "bin_start": 2.8,
            "bin_end": 3.6,
            "count": 0
           },
           {
            "bin_start": 3.6,
            "bin_end": 4.4,
            "count": 1
           },
           {
            "bin_start": 4.4,
            "bin_end": 5.2,
            "count": 0
           },
           {
            "bin_start": 5.2,
            "bin_end": 6,
            "count": 0
           },
           {
            "bin_start": 6,
            "bin_end": 6.800000000000001,
            "count": 1
           },
           {
            "bin_start": 6.800000000000001,
            "bin_end": 7.6000000000000005,
            "count": 0
           },
           {
            "bin_start": 7.6000000000000005,
            "bin_end": 8.4,
            "count": 1
           },
           {
            "bin_start": 8.4,
            "bin_end": 9.2,
            "count": 0
           },
           {
            "bin_start": 9.2,
            "bin_end": 10,
            "count": 1
           }
          ]
         }
        },
        {
         "name": "bathrooms_text",
         "dtype": "object",
         "stats": {
          "unique_count": 3,
          "nan_count": 0,
          "categories": [
           {
            "name": "1 bath",
            "count": 3
           },
           {
            "name": "3 baths",
            "count": 1
           },
           {
            "name": "4 baths",
            "count": 1
           }
          ]
         }
        },
        {
         "name": "bedrooms",
         "dtype": "float64",
         "stats": {
          "unique_count": 3,
          "nan_count": 1,
          "min": "2.0",
          "max": "6.0",
          "histogram": [
           {
            "bin_start": 2,
            "bin_end": 2.4,
            "count": 2
           },
           {
            "bin_start": 2.4,
            "bin_end": 2.8,
            "count": 0
           },
           {
            "bin_start": 2.8,
            "bin_end": 3.2,
            "count": 1
           },
           {
            "bin_start": 3.2,
            "bin_end": 3.6,
            "count": 0
           },
           {
            "bin_start": 3.6,
            "bin_end": 4,
            "count": 0
           },
           {
            "bin_start": 4,
            "bin_end": 4.4,
            "count": 0
           },
           {
            "bin_start": 4.4,
            "bin_end": 4.800000000000001,
            "count": 0
           },
           {
            "bin_start": 4.800000000000001,
            "bin_end": 5.2,
            "count": 0
           },
           {
            "bin_start": 5.2,
            "bin_end": 5.6,
            "count": 0
           },
           {
            "bin_start": 5.6,
            "bin_end": 6,
            "count": 1
           }
          ]
         }
        },
        {
         "name": "beds",
         "dtype": "float64",
         "stats": {
          "unique_count": 4,
          "nan_count": 0,
          "min": "1.0",
          "max": "5.0",
          "histogram": [
           {
            "bin_start": 1,
            "bin_end": 1.4,
            "count": 1
           },
           {
            "bin_start": 1.4,
            "bin_end": 1.8,
            "count": 0
           },
           {
            "bin_start": 1.8,
            "bin_end": 2.2,
            "count": 1
           },
           {
            "bin_start": 2.2,
            "bin_end": 2.6,
            "count": 0
           },
           {
            "bin_start": 2.6,
            "bin_end": 3,
            "count": 0
           },
           {
            "bin_start": 3,
            "bin_end": 3.4000000000000004,
            "count": 2
           },
           {
            "bin_start": 3.4000000000000004,
            "bin_end": 3.8000000000000003,
            "count": 0
           },
           {
            "bin_start": 3.8000000000000003,
            "bin_end": 4.2,
            "count": 0
           },
           {
            "bin_start": 4.2,
            "bin_end": 4.6,
            "count": 0
           },
           {
            "bin_start": 4.6,
            "bin_end": 5,
            "count": 1
           }
          ]
         }
        },
        {
         "name": "amenities",
         "dtype": "object",
         "stats": {
          "unique_count": 5,
          "nan_count": 0,
          "categories": [
           {
            "name": "[\"Kitchen\", \"Hangers\", \"Fire extinguisher\", \"Long term stays allowed\", \"Wifi\", \"Carbon monoxide alarm\", \"Heating\", \"Essentials\", \"Washer\", \"Microwave\", \"Hair dryer\", \"First aid kit\", \"Dedicated workspace\", \"TV with standard cable\", \"Refrigerator\", \"Iron\", \"Cooking basics\", \"Coffee maker\", \"Shampoo\", \"Dishes and silverware\", \"Cable TV\", \"Smoke alarm\", \"Dryer\"]",
            "count": 1
           },
           {
            "name": "[\"Dishwasher\", \"Kitchen\", \"Host greets you\", \"Hangers\", \"Bathtub\", \"Long term stays allowed\", \"Wifi\", \"Carbon monoxide alarm\", \"Heating\", \"Children\\u2019s books and toys\", \"BBQ grill\", \"High chair\", \"Essentials\", \"Washer\", \"Microwave\", \"First aid kit\", \"Children\\u2019s dinnerware\", \"Dedicated workspace\", \"Window guards\", \"Refrigerator\", \"Room-darkening shades\", \"Iron\", \"Cooking basics\", \"Baby safety gates\", \"Oven\", \"Hot water\", \"Dishes and silverware\", \"Stove\", \"Crib\", \"Backyard\", \"Paid parking on premises\", \"TV\", \"Cable TV\", \"Smoke alarm\", \"Dryer\"]",
            "count": 1
           },
           {
            "name": "3 others",
            "count": 3
           }
          ]
         }
        },
        {
         "name": "price",
         "dtype": "object",
         "stats": {
          "unique_count": 1,
          "nan_count": 0,
          "categories": [
           {
            "name": "$1,000.00",
            "count": 5
           }
          ]
         }
        },
        {
         "name": "number_of_reviews",
         "dtype": "int64",
         "stats": {
          "unique_count": 4,
          "nan_count": 0,
          "min": "7",
          "max": "39",
          "histogram": [
           {
            "bin_start": 7,
            "bin_end": 10.2,
            "count": 2
           },
           {
            "bin_start": 10.2,
            "bin_end": 13.4,
            "count": 0
           },
           {
            "bin_start": 13.4,
            "bin_end": 16.6,
            "count": 0
           },
           {
            "bin_start": 16.6,
            "bin_end": 19.8,
            "count": 0
           },
           {
            "bin_start": 19.8,
            "bin_end": 23,
            "count": 0
           },
           {
            "bin_start": 23,
            "bin_end": 26.200000000000003,
            "count": 0
           },
           {
            "bin_start": 26.200000000000003,
            "bin_end": 29.400000000000002,
            "count": 1
           },
           {
            "bin_start": 29.400000000000002,
            "bin_end": 32.6,
            "count": 0
           },
           {
            "bin_start": 32.6,
            "bin_end": 35.8,
            "count": 0
           },
           {
            "bin_start": 35.8,
            "bin_end": 39,
            "count": 2
           }
          ]
         }
        },
        {
         "name": "review_scores_rating",
         "dtype": "float64",
         "stats": {
          "unique_count": 4,
          "nan_count": 0,
          "min": "93.0",
          "max": "100.0",
          "histogram": [
           {
            "bin_start": 93,
            "bin_end": 93.7,
            "count": 2
           },
           {
            "bin_start": 93.7,
            "bin_end": 94.4,
            "count": 1
           },
           {
            "bin_start": 94.4,
            "bin_end": 95.1,
            "count": 0
           },
           {
            "bin_start": 95.1,
            "bin_end": 95.8,
            "count": 0
           },
           {
            "bin_start": 95.8,
            "bin_end": 96.5,
            "count": 0
           },
           {
            "bin_start": 96.5,
            "bin_end": 97.2,
            "count": 0
           },
           {
            "bin_start": 97.2,
            "bin_end": 97.9,
            "count": 0
           },
           {
            "bin_start": 97.9,
            "bin_end": 98.6,
            "count": 0
           },
           {
            "bin_start": 98.6,
            "bin_end": 99.3,
            "count": 1
           },
           {
            "bin_start": 99.3,
            "bin_end": 100,
            "count": 1
           }
          ]
         }
        },
        {
         "name": "review_scores_accuracy",
         "dtype": "float64",
         "stats": {
          "unique_count": 2,
          "nan_count": 0,
          "min": "9.0",
          "max": "10.0",
          "histogram": [
           {
            "bin_start": 9,
            "bin_end": 9.1,
            "count": 1
           },
           {
            "bin_start": 9.1,
            "bin_end": 9.2,
            "count": 0
           },
           {
            "bin_start": 9.2,
            "bin_end": 9.3,
            "count": 0
           },
           {
            "bin_start": 9.3,
            "bin_end": 9.4,
            "count": 0
           },
           {
            "bin_start": 9.4,
            "bin_end": 9.5,
            "count": 0
           },
           {
            "bin_start": 9.5,
            "bin_end": 9.6,
            "count": 0
           },
           {
            "bin_start": 9.6,
            "bin_end": 9.7,
            "count": 0
           },
           {
            "bin_start": 9.7,
            "bin_end": 9.8,
            "count": 0
           },
           {
            "bin_start": 9.8,
            "bin_end": 9.9,
            "count": 0
           },
           {
            "bin_start": 9.9,
            "bin_end": 10,
            "count": 4
           }
          ]
         }
        },
        {
         "name": "review_scores_cleanliness",
         "dtype": "float64",
         "stats": {
          "unique_count": 1,
          "nan_count": 0,
          "min": "10.0",
          "max": "10.0",
          "histogram": [
           {
            "bin_start": 9.5,
            "bin_end": 9.6,
            "count": 0
           },
           {
            "bin_start": 9.6,
            "bin_end": 9.7,
            "count": 0
           },
           {
            "bin_start": 9.7,
            "bin_end": 9.8,
            "count": 0
           },
           {
            "bin_start": 9.8,
            "bin_end": 9.9,
            "count": 0
           },
           {
            "bin_start": 9.9,
            "bin_end": 10,
            "count": 0
           },
           {
            "bin_start": 10,
            "bin_end": 10.1,
            "count": 5
           },
           {
            "bin_start": 10.1,
            "bin_end": 10.2,
            "count": 0
           },
           {
            "bin_start": 10.2,
            "bin_end": 10.3,
            "count": 0
           },
           {
            "bin_start": 10.3,
            "bin_end": 10.4,
            "count": 0
           },
           {
            "bin_start": 10.4,
            "bin_end": 10.5,
            "count": 0
           }
          ]
         }
        },
        {
         "name": "review_scores_checkin",
         "dtype": "float64",
         "stats": {
          "unique_count": 1,
          "nan_count": 0,
          "min": "10.0",
          "max": "10.0",
          "histogram": [
           {
            "bin_start": 9.5,
            "bin_end": 9.6,
            "count": 0
           },
           {
            "bin_start": 9.6,
            "bin_end": 9.7,
            "count": 0
           },
           {
            "bin_start": 9.7,
            "bin_end": 9.8,
            "count": 0
           },
           {
            "bin_start": 9.8,
            "bin_end": 9.9,
            "count": 0
           },
           {
            "bin_start": 9.9,
            "bin_end": 10,
            "count": 0
           },
           {
            "bin_start": 10,
            "bin_end": 10.1,
            "count": 5
           },
           {
            "bin_start": 10.1,
            "bin_end": 10.2,
            "count": 0
           },
           {
            "bin_start": 10.2,
            "bin_end": 10.3,
            "count": 0
           },
           {
            "bin_start": 10.3,
            "bin_end": 10.4,
            "count": 0
           },
           {
            "bin_start": 10.4,
            "bin_end": 10.5,
            "count": 0
           }
          ]
         }
        },
        {
         "name": "review_scores_communication",
         "dtype": "float64",
         "stats": {
          "unique_count": 1,
          "nan_count": 0,
          "min": "10.0",
          "max": "10.0",
          "histogram": [
           {
            "bin_start": 9.5,
            "bin_end": 9.6,
            "count": 0
           },
           {
            "bin_start": 9.6,
            "bin_end": 9.7,
            "count": 0
           },
           {
            "bin_start": 9.7,
            "bin_end": 9.8,
            "count": 0
           },
           {
            "bin_start": 9.8,
            "bin_end": 9.9,
            "count": 0
           },
           {
            "bin_start": 9.9,
            "bin_end": 10,
            "count": 0
           },
           {
            "bin_start": 10,
            "bin_end": 10.1,
            "count": 5
           },
           {
            "bin_start": 10.1,
            "bin_end": 10.2,
            "count": 0
           },
           {
            "bin_start": 10.2,
            "bin_end": 10.3,
            "count": 0
           },
           {
            "bin_start": 10.3,
            "bin_end": 10.4,
            "count": 0
           },
           {
            "bin_start": 10.4,
            "bin_end": 10.5,
            "count": 0
           }
          ]
         }
        },
        {
         "name": "review_scores_location",
         "dtype": "float64",
         "stats": {
          "unique_count": 2,
          "nan_count": 0,
          "min": "9.0",
          "max": "10.0",
          "histogram": [
           {
            "bin_start": 9,
            "bin_end": 9.1,
            "count": 2
           },
           {
            "bin_start": 9.1,
            "bin_end": 9.2,
            "count": 0
           },
           {
            "bin_start": 9.2,
            "bin_end": 9.3,
            "count": 0
           },
           {
            "bin_start": 9.3,
            "bin_end": 9.4,
            "count": 0
           },
           {
            "bin_start": 9.4,
            "bin_end": 9.5,
            "count": 0
           },
           {
            "bin_start": 9.5,
            "bin_end": 9.6,
            "count": 0
           },
           {
            "bin_start": 9.6,
            "bin_end": 9.7,
            "count": 0
           },
           {
            "bin_start": 9.7,
            "bin_end": 9.8,
            "count": 0
           },
           {
            "bin_start": 9.8,
            "bin_end": 9.9,
            "count": 0
           },
           {
            "bin_start": 9.9,
            "bin_end": 10,
            "count": 3
           }
          ]
         }
        },
        {
         "name": "review_scores_value",
         "dtype": "float64",
         "stats": {
          "unique_count": 2,
          "nan_count": 0,
          "min": "9.0",
          "max": "10.0",
          "histogram": [
           {
            "bin_start": 9,
            "bin_end": 9.1,
            "count": 3
           },
           {
            "bin_start": 9.1,
            "bin_end": 9.2,
            "count": 0
           },
           {
            "bin_start": 9.2,
            "bin_end": 9.3,
            "count": 0
           },
           {
            "bin_start": 9.3,
            "bin_end": 9.4,
            "count": 0
           },
           {
            "bin_start": 9.4,
            "bin_end": 9.5,
            "count": 0
           },
           {
            "bin_start": 9.5,
            "bin_end": 9.6,
            "count": 0
           },
           {
            "bin_start": 9.6,
            "bin_end": 9.7,
            "count": 0
           },
           {
            "bin_start": 9.7,
            "bin_end": 9.8,
            "count": 0
           },
           {
            "bin_start": 9.8,
            "bin_end": 9.9,
            "count": 0
           },
           {
            "bin_start": 9.9,
            "bin_end": 10,
            "count": 2
           }
          ]
         }
        },
        {
         "name": "_deepnote_index_column",
         "dtype": "int64"
        }
       ],
       "rows_top": [
        {
         "host_id": 36196974,
         "id": 6907168,
         "name": "Stunning spacious 3 bdr with roof terrace UNIQUE!!",
         "description": "Spacious, bright and beautifully furnished 3-bedroom triplex apartment in Parsons Green (quiet resi…",
         "neighborhood_overview": "The quintessential London neighbourhood, Parsons Green is a charming, leafy, quiet residential encl…",
         "neighbourhood": "London, United Kingdom",
         "latitude": 51.47311,
         "longitude": -0.20212,
         "room_type": "Entire home/apt",
         "accommodates": 8,
         "bathrooms_text": "3 baths",
         "bedrooms": 3,
         "beds": 3,
         "amenities": "[\"Kitchen\", \"Hangers\", \"Fire extinguisher\", \"Long term stays allowed\", \"Wifi\", \"Carbon monoxide ala…",
         "price": "$1,000.00",
         "number_of_reviews": 39,
         "review_scores_rating": 99,
         "review_scores_accuracy": 10,
         "review_scores_cleanliness": 10,
         "review_scores_checkin": 10,
         "review_scores_communication": 10,
         "review_scores_location": 10,
         "review_scores_value": 10,
         "_deepnote_index_column": 4395
        },
        {
         "host_id": 50298404,
         "id": 9751604,
         "name": "Fulham family home 6 bedrooms",
         "description": "Stunning newly refurbished lion house in leafy street near Parsons Green in fulham. Boasting six la…",
         "neighborhood_overview": "Fulham is a lovely leafy neighbourhood which a really family feel. There are cafes, restaurants, sh…",
         "neighbourhood": "London, Fulham, United Kingdom",
         "latitude": 51.47303,
         "longitude": -0.19226,
         "room_type": "Entire home/apt",
         "accommodates": 10,
         "bathrooms_text": "4 baths",
         "bedrooms": 6,
         "beds": 5,
         "amenities": "[\"Dishwasher\", \"Kitchen\", \"Host greets you\", \"Hangers\", \"Bathtub\", \"Long term stays allowed\", \"Wifi…",
         "price": "$1,000.00",
         "number_of_reviews": 7,
         "review_scores_rating": 100,
         "review_scores_accuracy": 10,
         "review_scores_cleanliness": 10,
         "review_scores_checkin": 10,
         "review_scores_communication": 10,
         "review_scores_location": 10,
         "review_scores_value": 9,
         "_deepnote_index_column": 6070
        },
        {
         "host_id": 174234692,
         "id": 35571333,
         "name": "Modern flat with courtyard garden Islington zone 2",
         "description": "Clean and contemporary flat set over ground and lower ground levels comprising of 2 bedrooms, livin…",
         "neighborhood_overview": "The flat is part of a very small parade of shops; you’ll find a handy convenience store in the para…",
         "neighbourhood": "Greater London, England, United Kingdom",
         "latitude": 51.55718,
         "longitude": -0.1241,
         "room_type": "Entire home/apt",
         "accommodates": 6,
         "bathrooms_text": "1 bath",
         "bedrooms": 2,
         "beds": 3,
         "amenities": "[\"Dishwasher\", \"Kitchen\", \"Bed linens\", \"Hangers\", \"Private entrance\", \"Bathtub\", \"Long term stays …",
         "price": "$1,000.00",
         "number_of_reviews": 28,
         "review_scores_rating": 93,
         "review_scores_accuracy": 10,
         "review_scores_cleanliness": 10,
         "review_scores_checkin": 10,
         "review_scores_communication": 10,
         "review_scores_location": 9,
         "review_scores_value": 9,
         "_deepnote_index_column": 23445
        },
        {
         "host_id": 259627797,
         "id": 34391573,
         "name": "studio flat to rent in  London Kingsbury  nw9",
         "description": "studio flat double bed with   4-drawer small cupboard three-seater sofa TV small kitchen with elect…",
         "neighborhood_overview": "Close to shops and  transport And a good  quiet area.",
         "neighbourhood": "Greater London, England, United Kingdom",
         "latitude": 51.59092,
         "longitude": -0.25941,
         "room_type": "Entire home/apt",
         "accommodates": 2,
         "bathrooms_text": "1 bath",
         "bedrooms": "nan",
         "beds": 1,
         "amenities": "[\"TV\", \"Essentials\", \"Kitchen\", \"Hangers\", \"Private entrance\", \"Free street parking\", \"Shampoo\", \"B…",
         "price": "$1,000.00",
         "number_of_reviews": 37,
         "review_scores_rating": 93,
         "review_scores_accuracy": 10,
         "review_scores_cleanliness": 10,
         "review_scores_checkin": 10,
         "review_scores_communication": 10,
         "review_scores_location": 9,
         "review_scores_value": 9,
         "_deepnote_index_column": 22791
        },
        {
         "host_id": 273701605,
         "id": 41251650,
         "name": "Newly-Renovated 2bd in Heart of Exclusive Mayfair",
         "description": "Situated in central Mayfair, London's most sought after area, this two bedroom home is modern and s…",
         "neighborhood_overview": "Kensington is a district of west London, within the Royal Borough of Kensington and Chelsea. An aff…",
         "neighbourhood": "Greater London, England, United Kingdom",
         "latitude": 51.51147,
         "longitude": -0.1493,
         "room_type": "Entire home/apt",
         "accommodates": 4,
         "bathrooms_text": "1 bath",
         "bedrooms": 2,
         "beds": 2,
         "amenities": "[\"Dishwasher\", \"Kitchen\", \"Bed linens\", \"Hangers\", \"Private entrance\", \"Bathtub\", \"Long term stays …",
         "price": "$1,000.00",
         "number_of_reviews": 7,
         "review_scores_rating": 94,
         "review_scores_accuracy": 9,
         "review_scores_cleanliness": 10,
         "review_scores_checkin": 10,
         "review_scores_communication": 10,
         "review_scores_location": 10,
         "review_scores_value": 10,
         "_deepnote_index_column": 26255
        }
       ],
       "rows_bottom": null
      },
      "text/plain": "         host_id        id                                               name  \\\n4395    36196974   6907168  Stunning spacious 3 bdr with roof terrace UNIQ...   \n6070    50298404   9751604                      Fulham family home 6 bedrooms   \n23445  174234692  35571333  Modern flat with courtyard garden Islington zo...   \n22791  259627797  34391573      studio flat to rent in  London Kingsbury  nw9   \n26255  273701605  41251650  Newly-Renovated 2bd in Heart of Exclusive Mayfair   \n\n                                             description  \\\n4395   Spacious, bright and beautifully furnished 3-b...   \n6070   Stunning newly refurbished lion house in leafy...   \n23445  Clean and contemporary flat set over ground an...   \n22791  studio flat double bed with   4-drawer small c...   \n26255  Situated in central Mayfair, London's most sou...   \n\n                                   neighborhood_overview  \\\n4395   The quintessential London neighbourhood, Parso...   \n6070   Fulham is a lovely leafy neighbourhood which a...   \n23445  The flat is part of a very small parade of sho...   \n22791  Close to shops and  transport And a good  quie...   \n26255  Kensington is a district of west London, withi...   \n\n                                 neighbourhood  latitude  longitude  \\\n4395                    London, United Kingdom  51.47311   -0.20212   \n6070            London, Fulham, United Kingdom  51.47303   -0.19226   \n23445  Greater London, England, United Kingdom  51.55718   -0.12410   \n22791  Greater London, England, United Kingdom  51.59092   -0.25941   \n26255  Greater London, England, United Kingdom  51.51147   -0.14930   \n\n             room_type  accommodates  ...  \\\n4395   Entire home/apt             8  ...   \n6070   Entire home/apt            10  ...   \n23445  Entire home/apt             6  ...   \n22791  Entire home/apt             2  ...   \n26255  Entire home/apt             4  ...   \n\n                                               amenities      price  \\\n4395   [\"Kitchen\", \"Hangers\", \"Fire extinguisher\", \"L...  $1,000.00   \n6070   [\"Dishwasher\", \"Kitchen\", \"Host greets you\", \"...  $1,000.00   \n23445  [\"Dishwasher\", \"Kitchen\", \"Bed linens\", \"Hange...  $1,000.00   \n22791  [\"TV\", \"Essentials\", \"Kitchen\", \"Hangers\", \"Pr...  $1,000.00   \n26255  [\"Dishwasher\", \"Kitchen\", \"Bed linens\", \"Hange...  $1,000.00   \n\n       number_of_reviews review_scores_rating review_scores_accuracy  \\\n4395                  39                 99.0                   10.0   \n6070                   7                100.0                   10.0   \n23445                 28                 93.0                   10.0   \n22791                 37                 93.0                   10.0   \n26255                  7                 94.0                    9.0   \n\n       review_scores_cleanliness  review_scores_checkin  \\\n4395                        10.0                   10.0   \n6070                        10.0                   10.0   \n23445                       10.0                   10.0   \n22791                       10.0                   10.0   \n26255                       10.0                   10.0   \n\n       review_scores_communication  review_scores_location  \\\n4395                          10.0                    10.0   \n6070                          10.0                    10.0   \n23445                         10.0                     9.0   \n22791                         10.0                     9.0   \n26255                         10.0                    10.0   \n\n       review_scores_value  \n4395                  10.0  \n6070                   9.0  \n23445                  9.0  \n22791                  9.0  \n26255                 10.0  \n\n[5 rows x 23 columns]",
      "text/html": "<div>\n<style scoped>\n    .dataframe tbody tr th:only-of-type {\n        vertical-align: middle;\n    }\n\n    .dataframe tbody tr th {\n        vertical-align: top;\n    }\n\n    .dataframe thead th {\n        text-align: right;\n    }\n</style>\n<table border=\"1\" class=\"dataframe\">\n  <thead>\n    <tr style=\"text-align: right;\">\n      <th></th>\n      <th>host_id</th>\n      <th>id</th>\n      <th>name</th>\n      <th>description</th>\n      <th>neighborhood_overview</th>\n      <th>neighbourhood</th>\n      <th>latitude</th>\n      <th>longitude</th>\n      <th>room_type</th>\n      <th>accommodates</th>\n      <th>...</th>\n      <th>amenities</th>\n      <th>price</th>\n      <th>number_of_reviews</th>\n      <th>review_scores_rating</th>\n      <th>review_scores_accuracy</th>\n      <th>review_scores_cleanliness</th>\n      <th>review_scores_checkin</th>\n      <th>review_scores_communication</th>\n      <th>review_scores_location</th>\n      <th>review_scores_value</th>\n    </tr>\n  </thead>\n  <tbody>\n    <tr>\n      <th>4395</th>\n      <td>36196974</td>\n      <td>6907168</td>\n      <td>Stunning spacious 3 bdr with roof terrace UNIQ...</td>\n      <td>Spacious, bright and beautifully furnished 3-b...</td>\n      <td>The quintessential London neighbourhood, Parso...</td>\n      <td>London, United Kingdom</td>\n      <td>51.47311</td>\n      <td>-0.20212</td>\n      <td>Entire home/apt</td>\n      <td>8</td>\n      <td>...</td>\n      <td>[\"Kitchen\", \"Hangers\", \"Fire extinguisher\", \"L...</td>\n      <td>$1,000.00</td>\n      <td>39</td>\n      <td>99.0</td>\n      <td>10.0</td>\n      <td>10.0</td>\n      <td>10.0</td>\n      <td>10.0</td>\n      <td>10.0</td>\n      <td>10.0</td>\n    </tr>\n    <tr>\n      <th>6070</th>\n      <td>50298404</td>\n      <td>9751604</td>\n      <td>Fulham family home 6 bedrooms</td>\n      <td>Stunning newly refurbished lion house in leafy...</td>\n      <td>Fulham is a lovely leafy neighbourhood which a...</td>\n      <td>London, Fulham, United Kingdom</td>\n      <td>51.47303</td>\n      <td>-0.19226</td>\n      <td>Entire home/apt</td>\n      <td>10</td>\n      <td>...</td>\n      <td>[\"Dishwasher\", \"Kitchen\", \"Host greets you\", \"...</td>\n      <td>$1,000.00</td>\n      <td>7</td>\n      <td>100.0</td>\n      <td>10.0</td>\n      <td>10.0</td>\n      <td>10.0</td>\n      <td>10.0</td>\n      <td>10.0</td>\n      <td>9.0</td>\n    </tr>\n    <tr>\n      <th>23445</th>\n      <td>174234692</td>\n      <td>35571333</td>\n      <td>Modern flat with courtyard garden Islington zo...</td>\n      <td>Clean and contemporary flat set over ground an...</td>\n      <td>The flat is part of a very small parade of sho...</td>\n      <td>Greater London, England, United Kingdom</td>\n      <td>51.55718</td>\n      <td>-0.12410</td>\n      <td>Entire home/apt</td>\n      <td>6</td>\n      <td>...</td>\n      <td>[\"Dishwasher\", \"Kitchen\", \"Bed linens\", \"Hange...</td>\n      <td>$1,000.00</td>\n      <td>28</td>\n      <td>93.0</td>\n      <td>10.0</td>\n      <td>10.0</td>\n      <td>10.0</td>\n      <td>10.0</td>\n      <td>9.0</td>\n      <td>9.0</td>\n    </tr>\n    <tr>\n      <th>22791</th>\n      <td>259627797</td>\n      <td>34391573</td>\n      <td>studio flat to rent in  London Kingsbury  nw9</td>\n      <td>studio flat double bed with   4-drawer small c...</td>\n      <td>Close to shops and  transport And a good  quie...</td>\n      <td>Greater London, England, United Kingdom</td>\n      <td>51.59092</td>\n      <td>-0.25941</td>\n      <td>Entire home/apt</td>\n      <td>2</td>\n      <td>...</td>\n      <td>[\"TV\", \"Essentials\", \"Kitchen\", \"Hangers\", \"Pr...</td>\n      <td>$1,000.00</td>\n      <td>37</td>\n      <td>93.0</td>\n      <td>10.0</td>\n      <td>10.0</td>\n      <td>10.0</td>\n      <td>10.0</td>\n      <td>9.0</td>\n      <td>9.0</td>\n    </tr>\n    <tr>\n      <th>26255</th>\n      <td>273701605</td>\n      <td>41251650</td>\n      <td>Newly-Renovated 2bd in Heart of Exclusive Mayfair</td>\n      <td>Situated in central Mayfair, London's most sou...</td>\n      <td>Kensington is a district of west London, withi...</td>\n      <td>Greater London, England, United Kingdom</td>\n      <td>51.51147</td>\n      <td>-0.14930</td>\n      <td>Entire home/apt</td>\n      <td>4</td>\n      <td>...</td>\n      <td>[\"Dishwasher\", \"Kitchen\", \"Bed linens\", \"Hange...</td>\n      <td>$1,000.00</td>\n      <td>7</td>\n      <td>94.0</td>\n      <td>9.0</td>\n      <td>10.0</td>\n      <td>10.0</td>\n      <td>10.0</td>\n      <td>10.0</td>\n      <td>10.0</td>\n    </tr>\n  </tbody>\n</table>\n<p>5 rows × 23 columns</p>\n</div>"
     },
     "metadata": {}
    }
   ],
   "execution_count": null
  },
  {
   "cell_type": "markdown",
   "source": "#### Exercise 03-01: Identify budget private room listings\nThe 10 cheapest private room listings can be found using the following code:",
   "metadata": {
    "tags": [],
    "cell_id": "00004-4fa624fe-6cd9-4e58-93eb-48dd59579c08",
    "deepnote_cell_type": "markdown"
   }
  },
  {
   "cell_type": "code",
   "metadata": {
    "tags": [],
    "cell_id": "00004-9098e09e-69e2-414a-b7ac-4fa3391d5686",
    "deepnote_to_be_reexecuted": false,
    "source_hash": "8187f284",
    "execution_start": 1633429356372,
    "execution_millis": 117,
    "deepnote_cell_type": "code"
   },
   "source": "df_bud_top5 = df_listings[df_listings['room_type']=='Private room'].sort_values(by=['price'], ascending=True).head(5)\ndf_bud_top5",
   "outputs": [
    {
     "output_type": "execute_result",
     "execution_count": 9,
     "data": {
      "application/vnd.deepnote.dataframe.v2+json": {
       "row_count": 5,
       "column_count": 23,
       "columns": [
        {
         "name": "host_id",
         "dtype": "int64",
         "stats": {
          "unique_count": 4,
          "nan_count": 0,
          "min": "96270773",
          "max": "278107161",
          "histogram": [
           {
            "bin_start": 96270773,
            "bin_end": 114454411.8,
            "count": 1
           },
           {
            "bin_start": 114454411.8,
            "bin_end": 132638050.6,
            "count": 0
           },
           {
            "bin_start": 132638050.6,
            "bin_end": 150821689.4,
            "count": 0
           },
           {
            "bin_start": 150821689.4,
            "bin_end": 169005328.2,
            "count": 0
           },
           {
            "bin_start": 169005328.2,
            "bin_end": 187188967,
            "count": 0
           },
           {
            "bin_start": 187188967,
            "bin_end": 205372605.8,
            "count": 0
           },
           {
            "bin_start": 205372605.8,
            "bin_end": 223556244.60000002,
            "count": 0
           },
           {
            "bin_start": 223556244.60000002,
            "bin_end": 241739883.4,
            "count": 0
           },
           {
            "bin_start": 241739883.4,
            "bin_end": 259923522.20000002,
            "count": 0
           },
           {
            "bin_start": 259923522.20000002,
            "bin_end": 278107161,
            "count": 4
           }
          ]
         }
        },
        {
         "name": "id",
         "dtype": "int64",
         "stats": {
          "unique_count": 5,
          "nan_count": 0,
          "min": "15186185",
          "max": "37018690",
          "histogram": [
           {
            "bin_start": 15186185,
            "bin_end": 17369435.5,
            "count": 1
           },
           {
            "bin_start": 17369435.5,
            "bin_end": 19552686,
            "count": 0
           },
           {
            "bin_start": 19552686,
            "bin_end": 21735936.5,
            "count": 0
           },
           {
            "bin_start": 21735936.5,
            "bin_end": 23919187,
            "count": 0
           },
           {
            "bin_start": 23919187,
            "bin_end": 26102437.5,
            "count": 0
           },
           {
            "bin_start": 26102437.5,
            "bin_end": 28285688,
            "count": 0
           },
           {
            "bin_start": 28285688,
            "bin_end": 30468938.5,
            "count": 0
           },
           {
            "bin_start": 30468938.5,
            "bin_end": 32652189,
            "count": 0
           },
           {
            "bin_start": 32652189,
            "bin_end": 34835439.5,
            "count": 0
           },
           {
            "bin_start": 34835439.5,
            "bin_end": 37018690,
            "count": 4
           }
          ]
         }
        },
        {
         "name": "name",
         "dtype": "object",
         "stats": {
          "unique_count": 5,
          "nan_count": 0,
          "categories": [
           {
            "name": "OYO Apollo Bayswater, Standard Triple Room",
            "count": 1
           },
           {
            "name": "Perfect Room in London",
            "count": 1
           },
           {
            "name": "3 others",
            "count": 3
           }
          ]
         }
        },
        {
         "name": "description",
         "dtype": "object",
         "stats": {
          "unique_count": 4,
          "nan_count": 0,
          "categories": [
           {
            "name": "Relax, re-charge your batteries and feel like home in a modern, clean, tastefully furnished and safe accommodation situated in Inverness. The unit covers a wide range of amenities like free wifi, daily housekeeping, fire extinguisher, reception and CCTV Cameras in public areas.<br /><br /><b>The space</b><br />Comfortable, compact rooms (correctly) assume you’ll be spending the bulk of your time in London out and about. Ultra-central address makes it easy to cram in a whole lotta museuming, sightseeing, shopping and noshing. Grab a quick breakfast onsite before heading out for the day.<br /><br />Your room will include:<br />Free WiFi<br />Flat-screen TV<br />Bath amenities Coffee/tea fixings<br /><br />The space offers:<br />Continental breakfast<br />24/7 reception<br /><br /><b>Other things to note</b><br />Bakers Hotel is just a stone’s throw from theater land plus, the shops and restaurants of the West End but tucked away on a quiet residential street within easy distance of Victo",
            "count": 2
           },
           {
            "name": "Relax, re-charge your batteries and feel like home in a modern, clean, tastefully furnished and safe accommodation situated in UK East, London. The unit covers a wide range of amenities like free wifi, daily housekeeping, fire extinguisher, reception and CCTV Cameras in public areas.<br /><br /><b>The space</b><br />The unit offers a spacious bedroom with an attached lavatory. The bedroom is well-equipped with comfortable bed. The attached bathroom is decently tiled and fitted with western sanitary fittings. Everyday toiletries and bath linens are also provided for your comfort. The rooms feature a flat-screen to ensure guest entertainment while indoors. The accommodation is perfect for guests looking for a budget-friendly stay in London.<br /><br /><b>Guest access</b><br />Guests will have access to the entire unit. Feel free to use all the amenities provided.<br /><br /><b>Other things to note</b><br />Smoking is prohibited inside the premises.<br />Couples are welcome.<br />Property",
            "count": 1
           },
           {
            "name": "2 others",
            "count": 2
           }
          ]
         }
        },
        {
         "name": "neighborhood_overview",
         "dtype": "object",
         "stats": {
          "unique_count": 4,
          "nan_count": 0,
          "categories": [
           {
            "name": "The Chelsea Psychic Garden, Apollo Victoria Theater and Big Ben are all close by. And Pimlico is bordered by fellow affluent neighborhoods Belgravia, Knightsbridge and Chelsea which are a hotspot for luxury shopping.<br />With top tourist attractions such as Buckingham Palace, the House of Parliament and the London Eye all under a 30 minute walk away, Pimlico is an ideal spot for seeing the best of London.",
            "count": 2
           },
           {
            "name": "Smoking is prohibited inside the premises.<br />Couples are welcome.<br />Property is suitable for children.<br />Guests can check in using any domestic or international government issued ID proof.",
            "count": 1
           },
           {
            "name": "2 others",
            "count": 2
           }
          ]
         }
        },
        {
         "name": "neighbourhood",
         "dtype": "object",
         "stats": {
          "unique_count": 2,
          "nan_count": 0,
          "categories": [
           {
            "name": "Greater London, England, United Kingdom",
            "count": 4
           },
           {
            "name": "London, England, United Kingdom",
            "count": 1
           }
          ]
         }
        },
        {
         "name": "latitude",
         "dtype": "float64",
         "stats": {
          "unique_count": 5,
          "nan_count": 0,
          "min": "51.49094",
          "max": "51.56383",
          "histogram": [
           {
            "bin_start": 51.49094,
            "bin_end": 51.498229,
            "count": 2
           },
           {
            "bin_start": 51.498229,
            "bin_end": 51.505518,
            "count": 0
           },
           {
            "bin_start": 51.505518,
            "bin_end": 51.512807,
            "count": 2
           },
           {
            "bin_start": 51.512807,
            "bin_end": 51.520096,
            "count": 0
           },
           {
            "bin_start": 51.520096,
            "bin_end": 51.527385,
            "count": 0
           },
           {
            "bin_start": 51.527385,
            "bin_end": 51.534674,
            "count": 0
           },
           {
            "bin_start": 51.534674,
            "bin_end": 51.541963,
            "count": 0
           },
           {
            "bin_start": 51.541963,
            "bin_end": 51.549252,
            "count": 0
           },
           {
            "bin_start": 51.549252,
            "bin_end": 51.556541,
            "count": 0
           },
           {
            "bin_start": 51.556541,
            "bin_end": 51.56383,
            "count": 1
           }
          ]
         }
        },
        {
         "name": "longitude",
         "dtype": "float64",
         "stats": {
          "unique_count": 5,
          "nan_count": 0,
          "min": "-0.22609",
          "max": "-0.10304",
          "histogram": [
           {
            "bin_start": -0.22609,
            "bin_end": -0.213785,
            "count": 1
           },
           {
            "bin_start": -0.213785,
            "bin_end": -0.20148000000000002,
            "count": 0
           },
           {
            "bin_start": -0.20148000000000002,
            "bin_end": -0.189175,
            "count": 0
           },
           {
            "bin_start": -0.189175,
            "bin_end": -0.17687000000000003,
            "count": 1
           },
           {
            "bin_start": -0.17687000000000003,
            "bin_end": -0.16456500000000002,
            "count": 0
           },
           {
            "bin_start": -0.16456500000000002,
            "bin_end": -0.15226,
            "count": 0
           },
           {
            "bin_start": -0.15226,
            "bin_end": -0.139955,
            "count": 2
           },
           {
            "bin_start": -0.139955,
            "bin_end": -0.12765,
            "count": 0
           },
           {
            "bin_start": -0.12765,
            "bin_end": -0.11534500000000002,
            "count": 0
           },
           {
            "bin_start": -0.11534500000000002,
            "bin_end": -0.10304,
            "count": 1
           }
          ]
         }
        },
        {
         "name": "room_type",
         "dtype": "object",
         "stats": {
          "unique_count": 1,
          "nan_count": 0,
          "categories": [
           {
            "name": "Private room",
            "count": 5
           }
          ]
         }
        },
        {
         "name": "accommodates",
         "dtype": "int64",
         "stats": {
          "unique_count": 3,
          "nan_count": 0,
          "min": "1",
          "max": "3",
          "histogram": [
           {
            "bin_start": 1,
            "bin_end": 1.2,
            "count": 1
           },
           {
            "bin_start": 1.2,
            "bin_end": 1.4,
            "count": 0
           },
           {
            "bin_start": 1.4,
            "bin_end": 1.6,
            "count": 0
           },
           {
            "bin_start": 1.6,
            "bin_end": 1.8,
            "count": 0
           },
           {
            "bin_start": 1.8,
            "bin_end": 2,
            "count": 0
           },
           {
            "bin_start": 2,
            "bin_end": 2.2,
            "count": 3
           },
           {
            "bin_start": 2.2,
            "bin_end": 2.4000000000000004,
            "count": 0
           },
           {
            "bin_start": 2.4000000000000004,
            "bin_end": 2.6,
            "count": 0
           },
           {
            "bin_start": 2.6,
            "bin_end": 2.8,
            "count": 0
           },
           {
            "bin_start": 2.8,
            "bin_end": 3,
            "count": 1
           }
          ]
         }
        },
        {
         "name": "bathrooms_text",
         "dtype": "object",
         "stats": {
          "unique_count": 4,
          "nan_count": 0,
          "categories": [
           {
            "name": "1 shared bath",
            "count": 2
           },
           {
            "name": "1 private bath",
            "count": 1
           },
           {
            "name": "2 others",
            "count": 2
           }
          ]
         }
        },
        {
         "name": "bedrooms",
         "dtype": "float64",
         "stats": {
          "unique_count": 1,
          "nan_count": 0,
          "min": "1.0",
          "max": "1.0",
          "histogram": [
           {
            "bin_start": 0.5,
            "bin_end": 0.6,
            "count": 0
           },
           {
            "bin_start": 0.6,
            "bin_end": 0.7,
            "count": 0
           },
           {
            "bin_start": 0.7,
            "bin_end": 0.8,
            "count": 0
           },
           {
            "bin_start": 0.8,
            "bin_end": 0.9,
            "count": 0
           },
           {
            "bin_start": 0.9,
            "bin_end": 1,
            "count": 0
           },
           {
            "bin_start": 1,
            "bin_end": 1.1,
            "count": 5
           },
           {
            "bin_start": 1.1,
            "bin_end": 1.2000000000000002,
            "count": 0
           },
           {
            "bin_start": 1.2000000000000002,
            "bin_end": 1.3,
            "count": 0
           },
           {
            "bin_start": 1.3,
            "bin_end": 1.4,
            "count": 0
           },
           {
            "bin_start": 1.4,
            "bin_end": 1.5,
            "count": 0
           }
          ]
         }
        },
        {
         "name": "beds",
         "dtype": "float64",
         "stats": {
          "unique_count": 2,
          "nan_count": 0,
          "min": "1.0",
          "max": "2.0",
          "histogram": [
           {
            "bin_start": 1,
            "bin_end": 1.1,
            "count": 4
           },
           {
            "bin_start": 1.1,
            "bin_end": 1.2,
            "count": 0
           },
           {
            "bin_start": 1.2,
            "bin_end": 1.3,
            "count": 0
           },
           {
            "bin_start": 1.3,
            "bin_end": 1.4,
            "count": 0
           },
           {
            "bin_start": 1.4,
            "bin_end": 1.5,
            "count": 0
           },
           {
            "bin_start": 1.5,
            "bin_end": 1.6,
            "count": 0
           },
           {
            "bin_start": 1.6,
            "bin_end": 1.7000000000000002,
            "count": 0
           },
           {
            "bin_start": 1.7000000000000002,
            "bin_end": 1.8,
            "count": 0
           },
           {
            "bin_start": 1.8,
            "bin_end": 1.9,
            "count": 0
           },
           {
            "bin_start": 1.9,
            "bin_end": 2,
            "count": 1
           }
          ]
         }
        },
        {
         "name": "amenities",
         "dtype": "object",
         "stats": {
          "unique_count": 5,
          "nan_count": 0,
          "categories": [
           {
            "name": "[\"TV\", \"Essentials\", \"Bed linens\", \"Hangers\", \"First aid kit\", \"Private entrance\", \"Fire extinguisher\", \"Shampoo\", \"Lock on bedroom door\", \"Breakfast\", \"Long term stays allowed\", \"Wifi\", \"Carbon monoxide alarm\", \"Smoke alarm\"]",
            "count": 1
           },
           {
            "name": "[\"TV\", \"Essentials\", \"Kitchen\", \"Host greets you\", \"Washer\", \"Hair dryer\", \"Hangers\", \"First aid kit\", \"Dedicated workspace\", \"Shampoo\", \"Lock on bedroom door\", \"Breakfast\", \"Wifi\", \"Carbon monoxide alarm\", \"Heating\", \"Smoke alarm\", \"Iron\"]",
            "count": 1
           },
           {
            "name": "3 others",
            "count": 3
           }
          ]
         }
        },
        {
         "name": "price",
         "dtype": "object",
         "stats": {
          "unique_count": 1,
          "nan_count": 0,
          "categories": [
           {
            "name": "$1,000.00",
            "count": 5
           }
          ]
         }
        },
        {
         "name": "number_of_reviews",
         "dtype": "int64",
         "stats": {
          "unique_count": 4,
          "nan_count": 0,
          "min": "1",
          "max": "83",
          "histogram": [
           {
            "bin_start": 1,
            "bin_end": 9.2,
            "count": 2
           },
           {
            "bin_start": 9.2,
            "bin_end": 17.4,
            "count": 2
           },
           {
            "bin_start": 17.4,
            "bin_end": 25.599999999999998,
            "count": 0
           },
           {
            "bin_start": 25.599999999999998,
            "bin_end": 33.8,
            "count": 0
           },
           {
            "bin_start": 33.8,
            "bin_end": 42,
            "count": 0
           },
           {
            "bin_start": 42,
            "bin_end": 50.199999999999996,
            "count": 0
           },
           {
            "bin_start": 50.199999999999996,
            "bin_end": 58.39999999999999,
            "count": 0
           },
           {
            "bin_start": 58.39999999999999,
            "bin_end": 66.6,
            "count": 0
           },
           {
            "bin_start": 66.6,
            "bin_end": 74.8,
            "count": 0
           },
           {
            "bin_start": 74.8,
            "bin_end": 83,
            "count": 1
           }
          ]
         }
        },
        {
         "name": "review_scores_rating",
         "dtype": "float64",
         "stats": {
          "unique_count": 5,
          "nan_count": 0,
          "min": "20.0",
          "max": "100.0",
          "histogram": [
           {
            "bin_start": 20,
            "bin_end": 28,
            "count": 1
           },
           {
            "bin_start": 28,
            "bin_end": 36,
            "count": 0
           },
           {
            "bin_start": 36,
            "bin_end": 44,
            "count": 0
           },
           {
            "bin_start": 44,
            "bin_end": 52,
            "count": 0
           },
           {
            "bin_start": 52,
            "bin_end": 60,
            "count": 0
           },
           {
            "bin_start": 60,
            "bin_end": 68,
            "count": 0
           },
           {
            "bin_start": 68,
            "bin_end": 76,
            "count": 0
           },
           {
            "bin_start": 76,
            "bin_end": 84,
            "count": 1
           },
           {
            "bin_start": 84,
            "bin_end": 92,
            "count": 1
           },
           {
            "bin_start": 92,
            "bin_end": 100,
            "count": 2
           }
          ]
         }
        },
        {
         "name": "review_scores_accuracy",
         "dtype": "float64",
         "stats": {
          "unique_count": 3,
          "nan_count": 0,
          "min": "2.0",
          "max": "10.0",
          "histogram": [
           {
            "bin_start": 2,
            "bin_end": 2.8,
            "count": 1
           },
           {
            "bin_start": 2.8,
            "bin_end": 3.6,
            "count": 0
           },
           {
            "bin_start": 3.6,
            "bin_end": 4.4,
            "count": 0
           },
           {
            "bin_start": 4.4,
            "bin_end": 5.2,
            "count": 0
           },
           {
            "bin_start": 5.2,
            "bin_end": 6,
            "count": 0
           },
           {
            "bin_start": 6,
            "bin_end": 6.800000000000001,
            "count": 0
           },
           {
            "bin_start": 6.800000000000001,
            "bin_end": 7.6000000000000005,
            "count": 0
           },
           {
            "bin_start": 7.6000000000000005,
            "bin_end": 8.4,
            "count": 0
           },
           {
            "bin_start": 8.4,
            "bin_end": 9.2,
            "count": 2
           },
           {
            "bin_start": 9.2,
            "bin_end": 10,
            "count": 2
           }
          ]
         }
        },
        {
         "name": "review_scores_cleanliness",
         "dtype": "float64",
         "stats": {
          "unique_count": 3,
          "nan_count": 0,
          "min": "2.0",
          "max": "10.0",
          "histogram": [
           {
            "bin_start": 2,
            "bin_end": 2.8,
            "count": 1
           },
           {
            "bin_start": 2.8,
            "bin_end": 3.6,
            "count": 0
           },
           {
            "bin_start": 3.6,
            "bin_end": 4.4,
            "count": 0
           },
           {
            "bin_start": 4.4,
            "bin_end": 5.2,
            "count": 0
           },
           {
            "bin_start": 5.2,
            "bin_end": 6,
            "count": 0
           },
           {
            "bin_start": 6,
            "bin_end": 6.800000000000001,
            "count": 0
           },
           {
            "bin_start": 6.800000000000001,
            "bin_end": 7.6000000000000005,
            "count": 0
           },
           {
            "bin_start": 7.6000000000000005,
            "bin_end": 8.4,
            "count": 0
           },
           {
            "bin_start": 8.4,
            "bin_end": 9.2,
            "count": 1
           },
           {
            "bin_start": 9.2,
            "bin_end": 10,
            "count": 3
           }
          ]
         }
        },
        {
         "name": "review_scores_checkin",
         "dtype": "float64",
         "stats": {
          "unique_count": 3,
          "nan_count": 0,
          "min": "2.0",
          "max": "10.0",
          "histogram": [
           {
            "bin_start": 2,
            "bin_end": 2.8,
            "count": 1
           },
           {
            "bin_start": 2.8,
            "bin_end": 3.6,
            "count": 0
           },
           {
            "bin_start": 3.6,
            "bin_end": 4.4,
            "count": 0
           },
           {
            "bin_start": 4.4,
            "bin_end": 5.2,
            "count": 0
           },
           {
            "bin_start": 5.2,
            "bin_end": 6,
            "count": 0
           },
           {
            "bin_start": 6,
            "bin_end": 6.800000000000001,
            "count": 0
           },
           {
            "bin_start": 6.800000000000001,
            "bin_end": 7.6000000000000005,
            "count": 0
           },
           {
            "bin_start": 7.6000000000000005,
            "bin_end": 8.4,
            "count": 0
           },
           {
            "bin_start": 8.4,
            "bin_end": 9.2,
            "count": 3
           },
           {
            "bin_start": 9.2,
            "bin_end": 10,
            "count": 1
           }
          ]
         }
        },
        {
         "name": "review_scores_communication",
         "dtype": "float64",
         "stats": {
          "unique_count": 4,
          "nan_count": 0,
          "min": "2.0",
          "max": "10.0",
          "histogram": [
           {
            "bin_start": 2,
            "bin_end": 2.8,
            "count": 1
           },
           {
            "bin_start": 2.8,
            "bin_end": 3.6,
            "count": 0
           },
           {
            "bin_start": 3.6,
            "bin_end": 4.4,
            "count": 0
           },
           {
            "bin_start": 4.4,
            "bin_end": 5.2,
            "count": 0
           },
           {
            "bin_start": 5.2,
            "bin_end": 6,
            "count": 0
           },
           {
            "bin_start": 6,
            "bin_end": 6.800000000000001,
            "count": 0
           },
           {
            "bin_start": 6.800000000000001,
            "bin_end": 7.6000000000000005,
            "count": 0
           },
           {
            "bin_start": 7.6000000000000005,
            "bin_end": 8.4,
            "count": 1
           },
           {
            "bin_start": 8.4,
            "bin_end": 9.2,
            "count": 1
           },
           {
            "bin_start": 9.2,
            "bin_end": 10,
            "count": 2
           }
          ]
         }
        },
        {
         "name": "review_scores_location",
         "dtype": "float64",
         "stats": {
          "unique_count": 3,
          "nan_count": 0,
          "min": "2.0",
          "max": "10.0",
          "histogram": [
           {
            "bin_start": 2,
            "bin_end": 2.8,
            "count": 1
           },
           {
            "bin_start": 2.8,
            "bin_end": 3.6,
            "count": 0
           },
           {
            "bin_start": 3.6,
            "bin_end": 4.4,
            "count": 0
           },
           {
            "bin_start": 4.4,
            "bin_end": 5.2,
            "count": 0
           },
           {
            "bin_start": 5.2,
            "bin_end": 6,
            "count": 0
           },
           {
            "bin_start": 6,
            "bin_end": 6.800000000000001,
            "count": 0
           },
           {
            "bin_start": 6.800000000000001,
            "bin_end": 7.6000000000000005,
            "count": 0
           },
           {
            "bin_start": 7.6000000000000005,
            "bin_end": 8.4,
            "count": 0
           },
           {
            "bin_start": 8.4,
            "bin_end": 9.2,
            "count": 2
           },
           {
            "bin_start": 9.2,
            "bin_end": 10,
            "count": 2
           }
          ]
         }
        },
        {
         "name": "review_scores_value",
         "dtype": "float64",
         "stats": {
          "unique_count": 4,
          "nan_count": 0,
          "min": "2.0",
          "max": "10.0",
          "histogram": [
           {
            "bin_start": 2,
            "bin_end": 2.8,
            "count": 1
           },
           {
            "bin_start": 2.8,
            "bin_end": 3.6,
            "count": 0
           },
           {
            "bin_start": 3.6,
            "bin_end": 4.4,
            "count": 0
           },
           {
            "bin_start": 4.4,
            "bin_end": 5.2,
            "count": 0
           },
           {
            "bin_start": 5.2,
            "bin_end": 6,
            "count": 0
           },
           {
            "bin_start": 6,
            "bin_end": 6.800000000000001,
            "count": 0
           },
           {
            "bin_start": 6.800000000000001,
            "bin_end": 7.6000000000000005,
            "count": 0
           },
           {
            "bin_start": 7.6000000000000005,
            "bin_end": 8.4,
            "count": 1
           },
           {
            "bin_start": 8.4,
            "bin_end": 9.2,
            "count": 1
           },
           {
            "bin_start": 9.2,
            "bin_end": 10,
            "count": 2
           }
          ]
         }
        },
        {
         "name": "_deepnote_index_column",
         "dtype": "int64"
        }
       ],
       "rows_top": [
        {
         "host_id": 277371026,
         "id": 36941802,
         "name": "OYO Apollo Bayswater, Standard Triple Room",
         "description": "Relax, re-charge your batteries and feel like home in a modern, clean, tastefully furnished and saf…",
         "neighborhood_overview": "Smoking is prohibited inside the premises.<br />Couples are welcome.<br />Property is suitable for …",
         "neighbourhood": "Greater London, England, United Kingdom",
         "latitude": 51.51007,
         "longitude": -0.18607,
         "room_type": "Private room",
         "accommodates": 3,
         "bathrooms_text": "1 private bath",
         "bedrooms": 1,
         "beds": 2,
         "amenities": "[\"TV\", \"Essentials\", \"Bed linens\", \"Hangers\", \"First aid kit\", \"Private entrance\", \"Fire extinguish…",
         "price": "$1,000.00",
         "number_of_reviews": 1,
         "review_scores_rating": 20,
         "review_scores_accuracy": 2,
         "review_scores_cleanliness": 2,
         "review_scores_checkin": 2,
         "review_scores_communication": 2,
         "review_scores_location": 2,
         "review_scores_value": 2,
         "_deepnote_index_column": 24193
        },
        {
         "host_id": 96270773,
         "id": 15186185,
         "name": "Perfect Room in London",
         "description": "Enjoy a comfortable room in a warm and welcoming home. We offer a relaxed and easy going stay in Lo…",
         "neighborhood_overview": "The neighbourhood is safe and friendly.",
         "neighbourhood": "London, England, United Kingdom",
         "latitude": 51.56383,
         "longitude": -0.10304,
         "room_type": "Private room",
         "accommodates": 2,
         "bathrooms_text": "1.5 shared baths",
         "bedrooms": 1,
         "beds": 1,
         "amenities": "[\"TV\", \"Essentials\", \"Kitchen\", \"Host greets you\", \"Washer\", \"Hair dryer\", \"Hangers\", \"First aid ki…",
         "price": "$1,000.00",
         "number_of_reviews": 83,
         "review_scores_rating": 87,
         "review_scores_accuracy": 9,
         "review_scores_cleanliness": 9,
         "review_scores_checkin": 9,
         "review_scores_communication": 9,
         "review_scores_location": 9,
         "review_scores_value": 9,
         "_deepnote_index_column": 9186
        },
        {
         "host_id": 278107161,
         "id": 37018690,
         "name": "OYO Abbey Hotel, Standard Single Room",
         "description": "Relax, re-charge your batteries and feel like home in a modern, clean, tastefully furnished and saf…",
         "neighborhood_overview": "\"The well-equipped deluxe accommodation is well-located in the capital city of England, London. It'…",
         "neighbourhood": "Greater London, England, United Kingdom",
         "latitude": 51.50718,
         "longitude": -0.22609,
         "room_type": "Private room",
         "accommodates": 1,
         "bathrooms_text": "1 bath",
         "bedrooms": 1,
         "beds": 1,
         "amenities": "[\"TV\", \"Essentials\", \"First aid kit\", \"Fire extinguisher\", \"Shampoo\", \"Lock on bedroom door\", \"Long…",
         "price": "$1,000.00",
         "number_of_reviews": 2,
         "review_scores_rating": 100,
         "review_scores_accuracy": 10,
         "review_scores_cleanliness": 10,
         "review_scores_checkin": 10,
         "review_scores_communication": 10,
         "review_scores_location": 10,
         "review_scores_value": 10,
         "_deepnote_index_column": 24242
        },
        {
         "host_id": 277374821,
         "id": 36943146,
         "name": "OYO Bakers Hotel, Standard Single with Shared Bath",
         "description": "Relax, re-charge your batteries and feel like home in a modern, clean, tastefully furnished and saf…",
         "neighborhood_overview": "The Chelsea Psychic Garden, Apollo Victoria Theater and Big Ben are all close by. And Pimlico is bo…",
         "neighbourhood": "Greater London, England, United Kingdom",
         "latitude": 51.49094,
         "longitude": -0.14548,
         "room_type": "Private room",
         "accommodates": 2,
         "bathrooms_text": "1 shared bath",
         "bedrooms": 1,
         "beds": 1,
         "amenities": "[\"TV\", \"Essentials\", \"Hangers\", \"First aid kit\", \"Fire extinguisher\", \"Shampoo\", \"Lock on bedroom d…",
         "price": "$1,000.00",
         "number_of_reviews": 10,
         "review_scores_rating": 82,
         "review_scores_accuracy": 9,
         "review_scores_cleanliness": 10,
         "review_scores_checkin": 9,
         "review_scores_communication": 8,
         "review_scores_location": 9,
         "review_scores_value": 8,
         "_deepnote_index_column": 24197
        },
        {
         "host_id": 277374821,
         "id": 36942855,
         "name": "OYO Bakers Hotel, Double En-Suite Room",
         "description": "Relax, re-charge your batteries and feel like home in a modern, clean, tastefully furnished and saf…",
         "neighborhood_overview": "The Chelsea Psychic Garden, Apollo Victoria Theater and Big Ben are all close by. And Pimlico is bo…",
         "neighbourhood": "Greater London, England, United Kingdom",
         "latitude": 51.49173,
         "longitude": -0.14538,
         "room_type": "Private room",
         "accommodates": 2,
         "bathrooms_text": "1 shared bath",
         "bedrooms": 1,
         "beds": 1,
         "amenities": "[\"TV\", \"Essentials\", \"Hangers\", \"First aid kit\", \"Private entrance\", \"Fire extinguisher\", \"Shampoo\"…",
         "price": "$1,000.00",
         "number_of_reviews": 10,
         "review_scores_rating": 94,
         "review_scores_accuracy": 10,
         "review_scores_cleanliness": 10,
         "review_scores_checkin": 9,
         "review_scores_communication": 10,
         "review_scores_location": 10,
         "review_scores_value": 10,
         "_deepnote_index_column": 24196
        }
       ],
       "rows_bottom": null
      },
      "text/plain": "         host_id        id                                               name  \\\n24193  277371026  36941802         OYO Apollo Bayswater, Standard Triple Room   \n9186    96270773  15186185                             Perfect Room in London   \n24242  278107161  37018690              OYO Abbey Hotel, Standard Single Room   \n24197  277374821  36943146  OYO Bakers Hotel, Standard Single with Shared ...   \n24196  277374821  36942855             OYO Bakers Hotel, Double En-Suite Room   \n\n                                             description  \\\n24193  Relax, re-charge your batteries and feel like ...   \n9186   Enjoy a comfortable room in a warm and welcomi...   \n24242  Relax, re-charge your batteries and feel like ...   \n24197  Relax, re-charge your batteries and feel like ...   \n24196  Relax, re-charge your batteries and feel like ...   \n\n                                   neighborhood_overview  \\\n24193  Smoking is prohibited inside the premises.<br ...   \n9186             The neighbourhood is safe and friendly.   \n24242  \"The well-equipped deluxe accommodation is wel...   \n24197  The Chelsea Psychic Garden, Apollo Victoria Th...   \n24196  The Chelsea Psychic Garden, Apollo Victoria Th...   \n\n                                 neighbourhood  latitude  longitude  \\\n24193  Greater London, England, United Kingdom  51.51007   -0.18607   \n9186           London, England, United Kingdom  51.56383   -0.10304   \n24242  Greater London, England, United Kingdom  51.50718   -0.22609   \n24197  Greater London, England, United Kingdom  51.49094   -0.14548   \n24196  Greater London, England, United Kingdom  51.49173   -0.14538   \n\n          room_type  accommodates  ...  \\\n24193  Private room             3  ...   \n9186   Private room             2  ...   \n24242  Private room             1  ...   \n24197  Private room             2  ...   \n24196  Private room             2  ...   \n\n                                               amenities      price  \\\n24193  [\"TV\", \"Essentials\", \"Bed linens\", \"Hangers\", ...  $1,000.00   \n9186   [\"TV\", \"Essentials\", \"Kitchen\", \"Host greets y...  $1,000.00   \n24242  [\"TV\", \"Essentials\", \"First aid kit\", \"Fire ex...  $1,000.00   \n24197  [\"TV\", \"Essentials\", \"Hangers\", \"First aid kit...  $1,000.00   \n24196  [\"TV\", \"Essentials\", \"Hangers\", \"First aid kit...  $1,000.00   \n\n       number_of_reviews review_scores_rating review_scores_accuracy  \\\n24193                  1                 20.0                    2.0   \n9186                  83                 87.0                    9.0   \n24242                  2                100.0                   10.0   \n24197                 10                 82.0                    9.0   \n24196                 10                 94.0                   10.0   \n\n       review_scores_cleanliness  review_scores_checkin  \\\n24193                        2.0                    2.0   \n9186                         9.0                    9.0   \n24242                       10.0                   10.0   \n24197                       10.0                    9.0   \n24196                       10.0                    9.0   \n\n       review_scores_communication  review_scores_location  \\\n24193                          2.0                     2.0   \n9186                           9.0                     9.0   \n24242                         10.0                    10.0   \n24197                          8.0                     9.0   \n24196                         10.0                    10.0   \n\n       review_scores_value  \n24193                  2.0  \n9186                   9.0  \n24242                 10.0  \n24197                  8.0  \n24196                 10.0  \n\n[5 rows x 23 columns]",
      "text/html": "<div>\n<style scoped>\n    .dataframe tbody tr th:only-of-type {\n        vertical-align: middle;\n    }\n\n    .dataframe tbody tr th {\n        vertical-align: top;\n    }\n\n    .dataframe thead th {\n        text-align: right;\n    }\n</style>\n<table border=\"1\" class=\"dataframe\">\n  <thead>\n    <tr style=\"text-align: right;\">\n      <th></th>\n      <th>host_id</th>\n      <th>id</th>\n      <th>name</th>\n      <th>description</th>\n      <th>neighborhood_overview</th>\n      <th>neighbourhood</th>\n      <th>latitude</th>\n      <th>longitude</th>\n      <th>room_type</th>\n      <th>accommodates</th>\n      <th>...</th>\n      <th>amenities</th>\n      <th>price</th>\n      <th>number_of_reviews</th>\n      <th>review_scores_rating</th>\n      <th>review_scores_accuracy</th>\n      <th>review_scores_cleanliness</th>\n      <th>review_scores_checkin</th>\n      <th>review_scores_communication</th>\n      <th>review_scores_location</th>\n      <th>review_scores_value</th>\n    </tr>\n  </thead>\n  <tbody>\n    <tr>\n      <th>24193</th>\n      <td>277371026</td>\n      <td>36941802</td>\n      <td>OYO Apollo Bayswater, Standard Triple Room</td>\n      <td>Relax, re-charge your batteries and feel like ...</td>\n      <td>Smoking is prohibited inside the premises.&lt;br ...</td>\n      <td>Greater London, England, United Kingdom</td>\n      <td>51.51007</td>\n      <td>-0.18607</td>\n      <td>Private room</td>\n      <td>3</td>\n      <td>...</td>\n      <td>[\"TV\", \"Essentials\", \"Bed linens\", \"Hangers\", ...</td>\n      <td>$1,000.00</td>\n      <td>1</td>\n      <td>20.0</td>\n      <td>2.0</td>\n      <td>2.0</td>\n      <td>2.0</td>\n      <td>2.0</td>\n      <td>2.0</td>\n      <td>2.0</td>\n    </tr>\n    <tr>\n      <th>9186</th>\n      <td>96270773</td>\n      <td>15186185</td>\n      <td>Perfect Room in London</td>\n      <td>Enjoy a comfortable room in a warm and welcomi...</td>\n      <td>The neighbourhood is safe and friendly.</td>\n      <td>London, England, United Kingdom</td>\n      <td>51.56383</td>\n      <td>-0.10304</td>\n      <td>Private room</td>\n      <td>2</td>\n      <td>...</td>\n      <td>[\"TV\", \"Essentials\", \"Kitchen\", \"Host greets y...</td>\n      <td>$1,000.00</td>\n      <td>83</td>\n      <td>87.0</td>\n      <td>9.0</td>\n      <td>9.0</td>\n      <td>9.0</td>\n      <td>9.0</td>\n      <td>9.0</td>\n      <td>9.0</td>\n    </tr>\n    <tr>\n      <th>24242</th>\n      <td>278107161</td>\n      <td>37018690</td>\n      <td>OYO Abbey Hotel, Standard Single Room</td>\n      <td>Relax, re-charge your batteries and feel like ...</td>\n      <td>\"The well-equipped deluxe accommodation is wel...</td>\n      <td>Greater London, England, United Kingdom</td>\n      <td>51.50718</td>\n      <td>-0.22609</td>\n      <td>Private room</td>\n      <td>1</td>\n      <td>...</td>\n      <td>[\"TV\", \"Essentials\", \"First aid kit\", \"Fire ex...</td>\n      <td>$1,000.00</td>\n      <td>2</td>\n      <td>100.0</td>\n      <td>10.0</td>\n      <td>10.0</td>\n      <td>10.0</td>\n      <td>10.0</td>\n      <td>10.0</td>\n      <td>10.0</td>\n    </tr>\n    <tr>\n      <th>24197</th>\n      <td>277374821</td>\n      <td>36943146</td>\n      <td>OYO Bakers Hotel, Standard Single with Shared ...</td>\n      <td>Relax, re-charge your batteries and feel like ...</td>\n      <td>The Chelsea Psychic Garden, Apollo Victoria Th...</td>\n      <td>Greater London, England, United Kingdom</td>\n      <td>51.49094</td>\n      <td>-0.14548</td>\n      <td>Private room</td>\n      <td>2</td>\n      <td>...</td>\n      <td>[\"TV\", \"Essentials\", \"Hangers\", \"First aid kit...</td>\n      <td>$1,000.00</td>\n      <td>10</td>\n      <td>82.0</td>\n      <td>9.0</td>\n      <td>10.0</td>\n      <td>9.0</td>\n      <td>8.0</td>\n      <td>9.0</td>\n      <td>8.0</td>\n    </tr>\n    <tr>\n      <th>24196</th>\n      <td>277374821</td>\n      <td>36942855</td>\n      <td>OYO Bakers Hotel, Double En-Suite Room</td>\n      <td>Relax, re-charge your batteries and feel like ...</td>\n      <td>The Chelsea Psychic Garden, Apollo Victoria Th...</td>\n      <td>Greater London, England, United Kingdom</td>\n      <td>51.49173</td>\n      <td>-0.14538</td>\n      <td>Private room</td>\n      <td>2</td>\n      <td>...</td>\n      <td>[\"TV\", \"Essentials\", \"Hangers\", \"First aid kit...</td>\n      <td>$1,000.00</td>\n      <td>10</td>\n      <td>94.0</td>\n      <td>10.0</td>\n      <td>10.0</td>\n      <td>9.0</td>\n      <td>10.0</td>\n      <td>10.0</td>\n      <td>10.0</td>\n    </tr>\n  </tbody>\n</table>\n<p>5 rows × 23 columns</p>\n</div>"
     },
     "metadata": {}
    }
   ],
   "execution_count": null
  },
  {
   "cell_type": "markdown",
   "source": "## Rank\nRank the listing in a particular segement",
   "metadata": {
    "tags": [],
    "cell_id": "00002-0c75d8a2-e584-4da0-98c2-0f13d8152dce",
    "deepnote_cell_type": "markdown"
   }
  },
  {
   "cell_type": "markdown",
   "source": "### Prepare data\nListing with at least 5 reviews less than 3 years old.",
   "metadata": {
    "tags": [],
    "cell_id": "00002-7d28c2af-73d4-42d7-b2fb-dcbbb4652939",
    "deepnote_cell_type": "markdown"
   }
  },
  {
   "cell_type": "code",
   "metadata": {
    "tags": [],
    "cell_id": "00000-6f9e41dc-39f8-462f-888c-92d2cc0ff357",
    "deepnote_to_be_reexecuted": false,
    "source_hash": "e7be7bb5",
    "execution_start": 1633422836779,
    "execution_millis": 529,
    "deepnote_cell_type": "code"
   },
   "source": "# Load reviews data and remove comments that are NaN\nimport pandas as pd\ndf = pd.read_csv('../data/reviews_sample.csv')\ndf = df[~df['comments'].isna()]\nprint(len(df))\n\n# Filter to reviews less 3 years old\ndf = df[df['date']>'2018-10-05']\nprint(len(df))\n\n# Filter to listings with at least 5 reviews\nlisting_counts = df['listing_id'].value_counts()\nvalid_listings = listing_counts[listing_counts>=5].index\ndf = df[df['listing_id'].isin(valid_listings)]\nprint(len(df))",
   "execution_count": null,
   "outputs": [
    {
     "name": "stdout",
     "text": "99964\n47315\n17888\n",
     "output_type": "stream"
    }
   ]
  },
  {
   "cell_type": "code",
   "metadata": {
    "tags": [],
    "cell_id": "00003-9d0b5a27-934f-4498-a97c-1dc8a75b26f0",
    "deepnote_to_be_reexecuted": false,
    "source_hash": "7e9ab74a",
    "execution_start": 1633422854108,
    "execution_millis": 21,
    "deepnote_cell_type": "code"
   },
   "source": "# Can check...!!!\nprint(len(df[df['comments'].isna()]))\nprint(len(df[df['date']<='2018-10-05']))\nprint(sum(df['listing_id'].value_counts()<5))",
   "execution_count": null,
   "outputs": [
    {
     "name": "stdout",
     "text": "0\n0\n0\n",
     "output_type": "stream"
    }
   ]
  },
  {
   "cell_type": "markdown",
   "source": "### Analyse sentiment",
   "metadata": {
    "tags": [],
    "cell_id": "00005-2e327721-cef6-445c-bd4d-73907ceecc87",
    "deepnote_cell_type": "markdown"
   }
  },
  {
   "cell_type": "code",
   "metadata": {
    "tags": [],
    "cell_id": "00001-ffd62394-dedd-431a-8c52-e2ad6b79ca77",
    "deepnote_to_be_reexecuted": false,
    "source_hash": "b2428694",
    "execution_start": 1633423101639,
    "execution_millis": 8767,
    "deepnote_cell_type": "code"
   },
   "source": "# Calculate a sentiment score for each review\nimport nltk\nfrom nltk.sentiment.vader import SentimentIntensityAnalyzer\nnltk.download('vader_lexicon')\nscorer = SentimentIntensityAnalyzer()\ndf.loc[:,'sentiment'] = df['comments'].apply(lambda s: scorer.polarity_scores(s)['compound'])\ndf.head(3)",
   "execution_count": null,
   "outputs": [
    {
     "name": "stderr",
     "text": "[nltk_data] Downloading package vader_lexicon to /root/nltk_data...\n[nltk_data]   Package vader_lexicon is already up-to-date!\n",
     "output_type": "stream"
    },
    {
     "output_type": "execute_result",
     "execution_count": 24,
     "data": {
      "application/vnd.deepnote.dataframe.v2+json": {
       "row_count": 3,
       "column_count": 7,
       "columns": [
        {
         "name": "listing_id",
         "dtype": "int64",
         "stats": {
          "unique_count": 3,
          "nan_count": 0,
          "min": "4886845",
          "max": "27425883",
          "histogram": [
           {
            "bin_start": 4886845,
            "bin_end": 7140748.8,
            "count": 1
           },
           {
            "bin_start": 7140748.8,
            "bin_end": 9394652.6,
            "count": 0
           },
           {
            "bin_start": 9394652.6,
            "bin_end": 11648556.399999999,
            "count": 0
           },
           {
            "bin_start": 11648556.399999999,
            "bin_end": 13902460.2,
            "count": 0
           },
           {
            "bin_start": 13902460.2,
            "bin_end": 16156364,
            "count": 0
           },
           {
            "bin_start": 16156364,
            "bin_end": 18410267.799999997,
            "count": 0
           },
           {
            "bin_start": 18410267.799999997,
            "bin_end": 20664171.599999998,
            "count": 0
           },
           {
            "bin_start": 20664171.599999998,
            "bin_end": 22918075.4,
            "count": 0
           },
           {
            "bin_start": 22918075.4,
            "bin_end": 25171979.2,
            "count": 0
           },
           {
            "bin_start": 25171979.2,
            "bin_end": 27425883,
            "count": 2
           }
          ]
         }
        },
        {
         "name": "id",
         "dtype": "int64",
         "stats": {
          "unique_count": 3,
          "nan_count": 0,
          "min": "339317863",
          "max": "355242699",
          "histogram": [
           {
            "bin_start": 339317863,
            "bin_end": 340910346.6,
            "count": 1
           },
           {
            "bin_start": 340910346.6,
            "bin_end": 342502830.2,
            "count": 0
           },
           {
            "bin_start": 342502830.2,
            "bin_end": 344095313.8,
            "count": 0
           },
           {
            "bin_start": 344095313.8,
            "bin_end": 345687797.4,
            "count": 0
           },
           {
            "bin_start": 345687797.4,
            "bin_end": 347280281,
            "count": 0
           },
           {
            "bin_start": 347280281,
            "bin_end": 348872764.6,
            "count": 1
           },
           {
            "bin_start": 348872764.6,
            "bin_end": 350465248.2,
            "count": 0
           },
           {
            "bin_start": 350465248.2,
            "bin_end": 352057731.8,
            "count": 0
           },
           {
            "bin_start": 352057731.8,
            "bin_end": 353650215.4,
            "count": 0
           },
           {
            "bin_start": 353650215.4,
            "bin_end": 355242699,
            "count": 1
           }
          ]
         }
        },
        {
         "name": "date",
         "dtype": "object",
         "stats": {
          "unique_count": 3,
          "nan_count": 0,
          "categories": [
           {
            "name": "2018-12-03",
            "count": 1
           },
           {
            "name": "2018-11-12",
            "count": 1
           },
           {
            "name": "2018-10-21",
            "count": 1
           }
          ]
         }
        },
        {
         "name": "reviewer_id",
         "dtype": "int64",
         "stats": {
          "unique_count": 3,
          "nan_count": 0,
          "min": "7738609",
          "max": "149133279",
          "histogram": [
           {
            "bin_start": 7738609,
            "bin_end": 21878076,
            "count": 1
           },
           {
            "bin_start": 21878076,
            "bin_end": 36017543,
            "count": 1
           },
           {
            "bin_start": 36017543,
            "bin_end": 50157010,
            "count": 0
           },
           {
            "bin_start": 50157010,
            "bin_end": 64296477,
            "count": 0
           },
           {
            "bin_start": 64296477,
            "bin_end": 78435944,
            "count": 0
           },
           {
            "bin_start": 78435944,
            "bin_end": 92575411,
            "count": 0
           },
           {
            "bin_start": 92575411,
            "bin_end": 106714878,
            "count": 0
           },
           {
            "bin_start": 106714878,
            "bin_end": 120854345,
            "count": 0
           },
           {
            "bin_start": 120854345,
            "bin_end": 134993812,
            "count": 0
           },
           {
            "bin_start": 134993812,
            "bin_end": 149133279,
            "count": 1
           }
          ]
         }
        },
        {
         "name": "reviewer_name",
         "dtype": "object",
         "stats": {
          "unique_count": 3,
          "nan_count": 0,
          "categories": [
           {
            "name": "André",
            "count": 1
           },
           {
            "name": "Guille",
            "count": 1
           },
           {
            "name": "Alex",
            "count": 1
           }
          ]
         }
        },
        {
         "name": "comments",
         "dtype": "object",
         "stats": {
          "unique_count": 3,
          "nan_count": 0,
          "categories": [
           {
            "name": "Guests can expect a great hospitality. The studio neighborhood's are very quiet, and the studio itself offer a very comfortable stay. If I come back to London and if the studio is available, it will be my first choice. Very clean and cosy. Definitely recommend it! :)",
            "count": 1
           },
           {
            "name": "Really nice host. He is very kind and sympathic. If you need a place where sleep, this is your place. 10/10",
            "count": 1
           },
           {
            "name": "Soo is a great host, would love to stay at their place again",
            "count": 1
           }
          ]
         }
        },
        {
         "name": "sentiment",
         "dtype": "float64",
         "stats": {
          "unique_count": 3,
          "nan_count": 0,
          "min": "0.7774",
          "max": "0.9594",
          "histogram": [
           {
            "bin_start": 0.7774,
            "bin_end": 0.7956,
            "count": 1
           },
           {
            "bin_start": 0.7956,
            "bin_end": 0.8138,
            "count": 0
           },
           {
            "bin_start": 0.8138,
            "bin_end": 0.832,
            "count": 0
           },
           {
            "bin_start": 0.832,
            "bin_end": 0.8502,
            "count": 0
           },
           {
            "bin_start": 0.8502,
            "bin_end": 0.8684000000000001,
            "count": 1
           },
           {
            "bin_start": 0.8684000000000001,
            "bin_end": 0.8866,
            "count": 0
           },
           {
            "bin_start": 0.8866,
            "bin_end": 0.9048,
            "count": 0
           },
           {
            "bin_start": 0.9048,
            "bin_end": 0.923,
            "count": 0
           },
           {
            "bin_start": 0.923,
            "bin_end": 0.9412,
            "count": 0
           },
           {
            "bin_start": 0.9412,
            "bin_end": 0.9594,
            "count": 1
           }
          ]
         }
        },
        {
         "name": "_deepnote_index_column",
         "dtype": "int64"
        }
       ],
       "rows_top": [
        {
         "listing_id": 27425883,
         "id": 355242699,
         "date": "2018-12-03",
         "reviewer_id": 7738609,
         "reviewer_name": "André",
         "comments": "Guests can expect a great hospitality. The studio neighborhood's are very quiet, and the studio its…",
         "sentiment": 0.9594,
         "_deepnote_index_column": 3
        },
        {
         "listing_id": 26989771,
         "id": 347977056,
         "date": "2018-11-12",
         "reviewer_id": 149133279,
         "reviewer_name": "Guille",
         "comments": "Really nice host. He is very kind and sympathic. If you need a place where sleep, this is your plac…",
         "sentiment": 0.7774,
         "_deepnote_index_column": 5
        },
        {
         "listing_id": 4886845,
         "id": 339317863,
         "date": "2018-10-21",
         "reviewer_id": 26995276,
         "reviewer_name": "Alex",
         "comments": "Soo is a great host, would love to stay at their place again",
         "sentiment": 0.8519,
         "_deepnote_index_column": 8
        }
       ],
       "rows_bottom": null
      },
      "text/plain": "   listing_id         id        date  reviewer_id reviewer_name  \\\n3    27425883  355242699  2018-12-03      7738609         André   \n5    26989771  347977056  2018-11-12    149133279        Guille   \n8     4886845  339317863  2018-10-21     26995276          Alex   \n\n                                            comments  sentiment  \n3  Guests can expect a great hospitality. The stu...     0.9594  \n5  Really nice host. He is very kind and sympathi...     0.7774  \n8  Soo is a great host, would love to stay at the...     0.8519  ",
      "text/html": "<div>\n<style scoped>\n    .dataframe tbody tr th:only-of-type {\n        vertical-align: middle;\n    }\n\n    .dataframe tbody tr th {\n        vertical-align: top;\n    }\n\n    .dataframe thead th {\n        text-align: right;\n    }\n</style>\n<table border=\"1\" class=\"dataframe\">\n  <thead>\n    <tr style=\"text-align: right;\">\n      <th></th>\n      <th>listing_id</th>\n      <th>id</th>\n      <th>date</th>\n      <th>reviewer_id</th>\n      <th>reviewer_name</th>\n      <th>comments</th>\n      <th>sentiment</th>\n    </tr>\n  </thead>\n  <tbody>\n    <tr>\n      <th>3</th>\n      <td>27425883</td>\n      <td>355242699</td>\n      <td>2018-12-03</td>\n      <td>7738609</td>\n      <td>André</td>\n      <td>Guests can expect a great hospitality. The stu...</td>\n      <td>0.9594</td>\n    </tr>\n    <tr>\n      <th>5</th>\n      <td>26989771</td>\n      <td>347977056</td>\n      <td>2018-11-12</td>\n      <td>149133279</td>\n      <td>Guille</td>\n      <td>Really nice host. He is very kind and sympathi...</td>\n      <td>0.7774</td>\n    </tr>\n    <tr>\n      <th>8</th>\n      <td>4886845</td>\n      <td>339317863</td>\n      <td>2018-10-21</td>\n      <td>26995276</td>\n      <td>Alex</td>\n      <td>Soo is a great host, would love to stay at the...</td>\n      <td>0.8519</td>\n    </tr>\n  </tbody>\n</table>\n</div>"
     },
     "metadata": {}
    }
   ]
  },
  {
   "cell_type": "code",
   "metadata": {
    "tags": [],
    "cell_id": "00007-1560c73a-737a-46e3-a62b-b38601b3ddda",
    "deepnote_to_be_reexecuted": false,
    "source_hash": "6bb030af",
    "execution_start": 1633423961812,
    "execution_millis": 6,
    "deepnote_cell_type": "code"
   },
   "source": "# Aggregate by taking mean score of sentiments and sort\nlistings_scored = df.groupby('listing_id')['sentiment'].agg(['mean', 'count']).reset_index()\nlistings_scored.sort_values(by=['mean'])",
   "execution_count": null,
   "outputs": [
    {
     "output_type": "execute_result",
     "execution_count": 30,
     "data": {
      "application/vnd.deepnote.dataframe.v2+json": {
       "row_count": 2417,
       "column_count": 3,
       "columns": [
        {
         "name": "listing_id",
         "dtype": "int64",
         "stats": {
          "unique_count": 2417,
          "nan_count": 0,
          "min": "38605",
          "max": "46812109",
          "histogram": [
           {
            "bin_start": 38605,
            "bin_end": 4715955.4,
            "count": 257
           },
           {
            "bin_start": 4715955.4,
            "bin_end": 9393305.8,
            "count": 183
           },
           {
            "bin_start": 9393305.8,
            "bin_end": 14070656.200000001,
            "count": 202
           },
           {
            "bin_start": 14070656.200000001,
            "bin_end": 18748006.6,
            "count": 367
           },
           {
            "bin_start": 18748006.6,
            "bin_end": 23425357,
            "count": 389
           },
           {
            "bin_start": 23425357,
            "bin_end": 28102707.400000002,
            "count": 391
           },
           {
            "bin_start": 28102707.400000002,
            "bin_end": 32780057.800000004,
            "count": 340
           },
           {
            "bin_start": 32780057.800000004,
            "bin_end": 37457408.2,
            "count": 186
           },
           {
            "bin_start": 37457408.2,
            "bin_end": 42134758.6,
            "count": 82
           },
           {
            "bin_start": 42134758.6,
            "bin_end": 46812109,
            "count": 20
           }
          ]
         }
        },
        {
         "name": "mean",
         "dtype": "float64",
         "stats": {
          "unique_count": 2397,
          "nan_count": 0,
          "min": "-0.039800000000000016",
          "max": "0.98116",
          "histogram": [
           {
            "bin_start": -0.039800000000000016,
            "bin_end": 0.06229599999999999,
            "count": 4
           },
           {
            "bin_start": 0.06229599999999999,
            "bin_end": 0.16439199999999998,
            "count": 13
           },
           {
            "bin_start": 0.16439199999999998,
            "bin_end": 0.266488,
            "count": 27
           },
           {
            "bin_start": 0.266488,
            "bin_end": 0.368584,
            "count": 59
           },
           {
            "bin_start": 0.368584,
            "bin_end": 0.47068000000000004,
            "count": 145
           },
           {
            "bin_start": 0.47068000000000004,
            "bin_end": 0.572776,
            "count": 277
           },
           {
            "bin_start": 0.572776,
            "bin_end": 0.674872,
            "count": 373
           },
           {
            "bin_start": 0.674872,
            "bin_end": 0.776968,
            "count": 522
           },
           {
            "bin_start": 0.776968,
            "bin_end": 0.879064,
            "count": 613
           },
           {
            "bin_start": 0.879064,
            "bin_end": 0.98116,
            "count": 384
           }
          ]
         }
        },
        {
         "name": "count",
         "dtype": "int64",
         "stats": {
          "unique_count": 24,
          "nan_count": 0,
          "min": "5",
          "max": "69",
          "histogram": [
           {
            "bin_start": 5,
            "bin_end": 11.4,
            "count": 2206
           },
           {
            "bin_start": 11.4,
            "bin_end": 17.8,
            "count": 176
           },
           {
            "bin_start": 17.8,
            "bin_end": 24.200000000000003,
            "count": 30
           },
           {
            "bin_start": 24.200000000000003,
            "bin_end": 30.6,
            "count": 4
           },
           {
            "bin_start": 30.6,
            "bin_end": 37,
            "count": 0
           },
           {
            "bin_start": 37,
            "bin_end": 43.400000000000006,
            "count": 0
           },
           {
            "bin_start": 43.400000000000006,
            "bin_end": 49.800000000000004,
            "count": 0
           },
           {
            "bin_start": 49.800000000000004,
            "bin_end": 56.2,
            "count": 0
           },
           {
            "bin_start": 56.2,
            "bin_end": 62.6,
            "count": 0
           },
           {
            "bin_start": 62.6,
            "bin_end": 69,
            "count": 1
           }
          ]
         }
        },
        {
         "name": "_deepnote_index_column",
         "dtype": "int64"
        }
       ],
       "rows_top": [
        {
         "listing_id": 2347198,
         "mean": -0.039800000000000016,
         "count": 5,
         "_deepnote_index_column": 144
        },
        {
         "listing_id": 30335074,
         "mean": -0.021219999999999996,
         "count": 5,
         "_deepnote_index_column": 1981
        },
        {
         "listing_id": 12846088,
         "mean": -0.0001600000000000046,
         "count": 5,
         "_deepnote_index_column": 579
        },
        {
         "listing_id": 32582210,
         "mean": 0.03886666666666667,
         "count": 6,
         "_deepnote_index_column": 2117
        },
        {
         "listing_id": 4284972,
         "mean": 0.07110000000000001,
         "count": 5,
         "_deepnote_index_column": 230
        },
        {
         "listing_id": 23822953,
         "mean": 0.07935,
         "count": 6,
         "_deepnote_index_column": 1431
        },
        {
         "listing_id": 35320396,
         "mean": 0.08136000000000002,
         "count": 5,
         "_deepnote_index_column": 2247
        },
        {
         "listing_id": 33939112,
         "mean": 0.08635999999999999,
         "count": 5,
         "_deepnote_index_column": 2168
        },
        {
         "listing_id": 45116139,
         "mean": 0.08883333333333333,
         "count": 6,
         "_deepnote_index_column": 2413
        },
        {
         "listing_id": 24978338,
         "mean": 0.09855,
         "count": 8,
         "_deepnote_index_column": 1528
        },
        {
         "listing_id": 32064584,
         "mean": 0.1047,
         "count": 6,
         "_deepnote_index_column": 2085
        },
        {
         "listing_id": 10130209,
         "mean": 0.10498333333333333,
         "count": 6,
         "_deepnote_index_column": 462
        },
        {
         "listing_id": 17684164,
         "mean": 0.12247999999999999,
         "count": 5,
         "_deepnote_index_column": 915
        },
        {
         "listing_id": 30366408,
         "mean": 0.14932,
         "count": 5,
         "_deepnote_index_column": 1983
        },
        {
         "listing_id": 23116922,
         "mean": 0.16053333333333333,
         "count": 6,
         "_deepnote_index_column": 1364
        },
        {
         "listing_id": 9860808,
         "mean": 0.16108,
         "count": 5,
         "_deepnote_index_column": 455
        },
        {
         "listing_id": 16277113,
         "mean": 0.16435,
         "count": 6,
         "_deepnote_index_column": 811
        },
        {
         "listing_id": 39200969,
         "mean": 0.17637777777777774,
         "count": 9,
         "_deepnote_index_column": 2366
        },
        {
         "listing_id": 16682490,
         "mean": 0.18485714285714286,
         "count": 7,
         "_deepnote_index_column": 828
        },
        {
         "listing_id": 26321398,
         "mean": 0.18716,
         "count": 5,
         "_deepnote_index_column": 1616
        },
        {
         "listing_id": 25000715,
         "mean": 0.20099999999999998,
         "count": 6,
         "_deepnote_index_column": 1530
        },
        {
         "listing_id": 4679555,
         "mean": 0.20364,
         "count": 5,
         "_deepnote_index_column": 256
        },
        {
         "listing_id": 31941911,
         "mean": 0.2071888888888889,
         "count": 9,
         "_deepnote_index_column": 2073
        },
        {
         "listing_id": 28772532,
         "mean": 0.21252000000000004,
         "count": 5,
         "_deepnote_index_column": 1840
        },
        {
         "listing_id": 31490015,
         "mean": 0.21436000000000002,
         "count": 5,
         "_deepnote_index_column": 2037
        },
        {
         "listing_id": 22861561,
         "mean": 0.21833333333333332,
         "count": 9,
         "_deepnote_index_column": 1346
        },
        {
         "listing_id": 36870871,
         "mean": 0.21898,
         "count": 5,
         "_deepnote_index_column": 2299
        },
        {
         "listing_id": 9691113,
         "mean": 0.2214166666666667,
         "count": 6,
         "_deepnote_index_column": 447
        },
        {
         "listing_id": 33248915,
         "mean": 0.22372,
         "count": 5,
         "_deepnote_index_column": 2151
        },
        {
         "listing_id": 32658367,
         "mean": 0.22560000000000002,
         "count": 5,
         "_deepnote_index_column": 2122
        },
        {
         "listing_id": 2689987,
         "mean": 0.23096666666666665,
         "count": 9,
         "_deepnote_index_column": 157
        },
        {
         "listing_id": 20249913,
         "mean": 0.23321999999999998,
         "count": 5,
         "_deepnote_index_column": 1122
        },
        {
         "listing_id": 25431867,
         "mean": 0.24003333333333327,
         "count": 9,
         "_deepnote_index_column": 1553
        },
        {
         "listing_id": 17175413,
         "mean": 0.24055999999999997,
         "count": 5,
         "_deepnote_index_column": 868
        },
        {
         "listing_id": 35218042,
         "mean": 0.24251666666666669,
         "count": 6,
         "_deepnote_index_column": 2240
        },
        {
         "listing_id": 29699712,
         "mean": 0.24665000000000004,
         "count": 10,
         "_deepnote_index_column": 1924
        },
        {
         "listing_id": 31857971,
         "mean": 0.25465714285714286,
         "count": 7,
         "_deepnote_index_column": 2058
        },
        {
         "listing_id": 18670887,
         "mean": 0.2567428571428571,
         "count": 7,
         "_deepnote_index_column": 999
        },
        {
         "listing_id": 10186640,
         "mean": 0.2568444444444445,
         "count": 9,
         "_deepnote_index_column": 465
        },
        {
         "listing_id": 4779607,
         "mean": 0.2571333333333334,
         "count": 6,
         "_deepnote_index_column": 265
        },
        {
         "listing_id": 7847003,
         "mean": 0.25855,
         "count": 8,
         "_deepnote_index_column": 378
        },
        {
         "listing_id": 19379504,
         "mean": 0.25898571428571426,
         "count": 7,
         "_deepnote_index_column": 1062
        },
        {
         "listing_id": 26976842,
         "mean": 0.25904,
         "count": 5,
         "_deepnote_index_column": 1676
        },
        {
         "listing_id": 11051591,
         "mean": 0.26024444444444444,
         "count": 9,
         "_deepnote_index_column": 498
        },
        {
         "listing_id": 28623525,
         "mean": 0.2717333333333333,
         "count": 6,
         "_deepnote_index_column": 1831
        },
        {
         "listing_id": 23158183,
         "mean": 0.2722,
         "count": 16,
         "_deepnote_index_column": 1371
        },
        {
         "listing_id": 36546320,
         "mean": 0.2734,
         "count": 5,
         "_deepnote_index_column": 2285
        },
        {
         "listing_id": 38022485,
         "mean": 0.27465,
         "count": 6,
         "_deepnote_index_column": 2331
        },
        {
         "listing_id": 35154255,
         "mean": 0.27622,
         "count": 5,
         "_deepnote_index_column": 2235
        },
        {
         "listing_id": 34563355,
         "mean": 0.27993333333333337,
         "count": 6,
         "_deepnote_index_column": 2211
        },
        {
         "listing_id": 22981760,
         "mean": 0.28045,
         "count": 10,
         "_deepnote_index_column": 1356
        },
        {
         "listing_id": 5756664,
         "mean": 0.2810888888888889,
         "count": 9,
         "_deepnote_index_column": 305
        },
        {
         "listing_id": 43912920,
         "mean": 0.2831,
         "count": 5,
         "_deepnote_index_column": 2404
        },
        {
         "listing_id": 25559906,
         "mean": 0.28455,
         "count": 6,
         "_deepnote_index_column": 1565
        },
        {
         "listing_id": 28608569,
         "mean": 0.2872571428571428,
         "count": 7,
         "_deepnote_index_column": 1829
        },
        {
         "listing_id": 14757816,
         "mean": 0.28792499999999993,
         "count": 12,
         "_deepnote_index_column": 707
        },
        {
         "listing_id": 24389958,
         "mean": 0.28907,
         "count": 10,
         "_deepnote_index_column": 1472
        },
        {
         "listing_id": 13381921,
         "mean": 0.2891,
         "count": 5,
         "_deepnote_index_column": 604
        },
        {
         "listing_id": 13121751,
         "mean": 0.29013999999999995,
         "count": 5,
         "_deepnote_index_column": 587
        },
        {
         "listing_id": 21630793,
         "mean": 0.2911,
         "count": 5,
         "_deepnote_index_column": 1247
        },
        {
         "listing_id": 19688420,
         "mean": 0.2941888888888889,
         "count": 9,
         "_deepnote_index_column": 1084
        },
        {
         "listing_id": 521547,
         "mean": 0.29453333333333337,
         "count": 6,
         "_deepnote_index_column": 53
        },
        {
         "listing_id": 23729440,
         "mean": 0.2946166666666667,
         "count": 6,
         "_deepnote_index_column": 1422
        },
        {
         "listing_id": 13603144,
         "mean": 0.295725,
         "count": 8,
         "_deepnote_index_column": 621
        },
        {
         "listing_id": 28161039,
         "mean": 0.29753999999999997,
         "count": 5,
         "_deepnote_index_column": 1792
        },
        {
         "listing_id": 8452755,
         "mean": 0.29885,
         "count": 6,
         "_deepnote_index_column": 409
        },
        {
         "listing_id": 31941513,
         "mean": 0.3019625,
         "count": 8,
         "_deepnote_index_column": 2069
        },
        {
         "listing_id": 11077501,
         "mean": 0.3043666666666667,
         "count": 6,
         "_deepnote_index_column": 502
        },
        {
         "listing_id": 17274811,
         "mean": 0.3062090909090909,
         "count": 11,
         "_deepnote_index_column": 879
        },
        {
         "listing_id": 14812944,
         "mean": 0.30996666666666667,
         "count": 6,
         "_deepnote_index_column": 716
        },
        {
         "listing_id": 22387033,
         "mean": 0.3107090909090909,
         "count": 11,
         "_deepnote_index_column": 1314
        },
        {
         "listing_id": 32342622,
         "mean": 0.31521428571428567,
         "count": 7,
         "_deepnote_index_column": 2101
        },
        {
         "listing_id": 23374319,
         "mean": 0.3197466666666667,
         "count": 15,
         "_deepnote_index_column": 1394
        },
        {
         "listing_id": 10999340,
         "mean": 0.32056,
         "count": 5,
         "_deepnote_index_column": 495
        },
        {
         "listing_id": 23768822,
         "mean": 0.32106666666666667,
         "count": 6,
         "_deepnote_index_column": 1426
        },
        {
         "listing_id": 11639604,
         "mean": 0.32204,
         "count": 10,
         "_deepnote_index_column": 525
        },
        {
         "listing_id": 12876566,
         "mean": 0.32326,
         "count": 10,
         "_deepnote_index_column": 580
        },
        {
         "listing_id": 36353532,
         "mean": 0.32328,
         "count": 5,
         "_deepnote_index_column": 2277
        },
        {
         "listing_id": 18345374,
         "mean": 0.32332,
         "count": 5,
         "_deepnote_index_column": 978
        },
        {
         "listing_id": 11051784,
         "mean": 0.3245714285714286,
         "count": 7,
         "_deepnote_index_column": 499
        },
        {
         "listing_id": 38045464,
         "mean": 0.33121999999999996,
         "count": 5,
         "_deepnote_index_column": 2333
        },
        {
         "listing_id": 23695457,
         "mean": 0.3312375,
         "count": 8,
         "_deepnote_index_column": 1418
        },
        {
         "listing_id": 44474429,
         "mean": 0.3395071428571429,
         "count": 14,
         "_deepnote_index_column": 2407
        },
        {
         "listing_id": 12781793,
         "mean": 0.3404833333333333,
         "count": 6,
         "_deepnote_index_column": 576
        },
        {
         "listing_id": 25129032,
         "mean": 0.3421,
         "count": 5,
         "_deepnote_index_column": 1536
        },
        {
         "listing_id": 18034618,
         "mean": 0.34248571428571434,
         "count": 7,
         "_deepnote_index_column": 955
        },
        {
         "listing_id": 36164748,
         "mean": 0.34381999999999996,
         "count": 5,
         "_deepnote_index_column": 2271
        },
        {
         "listing_id": 16013899,
         "mean": 0.34823333333333334,
         "count": 12,
         "_deepnote_index_column": 794
        },
        {
         "listing_id": 15519263,
         "mean": 0.34906,
         "count": 5,
         "_deepnote_index_column": 766
        },
        {
         "listing_id": 615456,
         "mean": 0.3505142857142857,
         "count": 7,
         "_deepnote_index_column": 64
        },
        {
         "listing_id": 27982101,
         "mean": 0.35156666666666664,
         "count": 6,
         "_deepnote_index_column": 1777
        },
        {
         "listing_id": 27348721,
         "mean": 0.35325,
         "count": 6,
         "_deepnote_index_column": 1705
        },
        {
         "listing_id": 1853897,
         "mean": 0.3559666666666667,
         "count": 6,
         "_deepnote_index_column": 134
        },
        {
         "listing_id": 4332039,
         "mean": 0.3559923076923077,
         "count": 13,
         "_deepnote_index_column": 233
        },
        {
         "listing_id": 34594075,
         "mean": 0.35752,
         "count": 5,
         "_deepnote_index_column": 2212
        },
        {
         "listing_id": 18806321,
         "mean": 0.35769999999999996,
         "count": 5,
         "_deepnote_index_column": 1012
        },
        {
         "listing_id": 23853968,
         "mean": 0.359,
         "count": 5,
         "_deepnote_index_column": 1433
        },
        {
         "listing_id": 16821709,
         "mean": 0.36096666666666666,
         "count": 6,
         "_deepnote_index_column": 840
        },
        {
         "listing_id": 19474577,
         "mean": 0.3623166666666667,
         "count": 6,
         "_deepnote_index_column": 1070
        },
        {
         "listing_id": 756481,
         "mean": 0.3639666666666667,
         "count": 6,
         "_deepnote_index_column": 78
        },
        {
         "listing_id": 14153359,
         "mean": 0.36418,
         "count": 5,
         "_deepnote_index_column": 645
        },
        {
         "listing_id": 29065049,
         "mean": 0.36422,
         "count": 5,
         "_deepnote_index_column": 1870
        },
        {
         "listing_id": 682609,
         "mean": 0.3649714285714286,
         "count": 7,
         "_deepnote_index_column": 71
        },
        {
         "listing_id": 33683260,
         "mean": 0.36879999999999996,
         "count": 6,
         "_deepnote_index_column": 2163
        },
        {
         "listing_id": 19821097,
         "mean": 0.37048571428571425,
         "count": 7,
         "_deepnote_index_column": 1096
        },
        {
         "listing_id": 19155827,
         "mean": 0.37068,
         "count": 5,
         "_deepnote_index_column": 1043
        },
        {
         "listing_id": 22759641,
         "mean": 0.37228,
         "count": 10,
         "_deepnote_index_column": 1342
        },
        {
         "listing_id": 20752993,
         "mean": 0.37372,
         "count": 5,
         "_deepnote_index_column": 1167
        },
        {
         "listing_id": 25353190,
         "mean": 0.3738,
         "count": 8,
         "_deepnote_index_column": 1547
        },
        {
         "listing_id": 19010423,
         "mean": 0.37586,
         "count": 5,
         "_deepnote_index_column": 1027
        },
        {
         "listing_id": 27544187,
         "mean": 0.37597142857142857,
         "count": 7,
         "_deepnote_index_column": 1731
        },
        {
         "listing_id": 13895241,
         "mean": 0.3765636363636364,
         "count": 11,
         "_deepnote_index_column": 633
        },
        {
         "listing_id": 37041861,
         "mean": 0.37672000000000005,
         "count": 5,
         "_deepnote_index_column": 2307
        },
        {
         "listing_id": 26764346,
         "mean": 0.3776,
         "count": 5,
         "_deepnote_index_column": 1655
        },
        {
         "listing_id": 15883308,
         "mean": 0.3810166666666667,
         "count": 6,
         "_deepnote_index_column": 784
        },
        {
         "listing_id": 20559079,
         "mean": 0.38583749999999994,
         "count": 8,
         "_deepnote_index_column": 1153
        },
        {
         "listing_id": 40046230,
         "mean": 0.38615714285714287,
         "count": 7,
         "_deepnote_index_column": 2381
        },
        {
         "listing_id": 315238,
         "mean": 0.38641428571428565,
         "count": 7,
         "_deepnote_index_column": 23
        },
        {
         "listing_id": 20827529,
         "mean": 0.3885125,
         "count": 8,
         "_deepnote_index_column": 1173
        },
        {
         "listing_id": 16215403,
         "mean": 0.3889833333333333,
         "count": 6,
         "_deepnote_index_column": 808
        },
        {
         "listing_id": 14242826,
         "mean": 0.39026,
         "count": 5,
         "_deepnote_index_column": 650
        },
        {
         "listing_id": 24494291,
         "mean": 0.3907,
         "count": 8,
         "_deepnote_index_column": 1483
        },
        {
         "listing_id": 24453572,
         "mean": 0.39116666666666666,
         "count": 12,
         "_deepnote_index_column": 1479
        },
        {
         "listing_id": 36597357,
         "mean": 0.391675,
         "count": 8,
         "_deepnote_index_column": 2288
        },
        {
         "listing_id": 15702400,
         "mean": 0.39215000000000005,
         "count": 8,
         "_deepnote_index_column": 777
        },
        {
         "listing_id": 26569477,
         "mean": 0.3922285714285714,
         "count": 7,
         "_deepnote_index_column": 1636
        },
        {
         "listing_id": 25870692,
         "mean": 0.3930428571428571,
         "count": 7,
         "_deepnote_index_column": 1576
        },
        {
         "listing_id": 32524204,
         "mean": 0.39386,
         "count": 5,
         "_deepnote_index_column": 2113
        },
        {
         "listing_id": 19437013,
         "mean": 0.39464,
         "count": 5,
         "_deepnote_index_column": 1065
        },
        {
         "listing_id": 27044850,
         "mean": 0.3948625,
         "count": 8,
         "_deepnote_index_column": 1685
        },
        {
         "listing_id": 17003797,
         "mean": 0.39576,
         "count": 5,
         "_deepnote_index_column": 856
        },
        {
         "listing_id": 24371001,
         "mean": 0.3965000000000001,
         "count": 6,
         "_deepnote_index_column": 1470
        },
        {
         "listing_id": 33040458,
         "mean": 0.39755000000000007,
         "count": 6,
         "_deepnote_index_column": 2143
        },
        {
         "listing_id": 22013522,
         "mean": 0.40034000000000003,
         "count": 5,
         "_deepnote_index_column": 1291
        },
        {
         "listing_id": 30161736,
         "mean": 0.40076666666666666,
         "count": 6,
         "_deepnote_index_column": 1962
        },
        {
         "listing_id": 38072009,
         "mean": 0.40092857142857147,
         "count": 7,
         "_deepnote_index_column": 2335
        },
        {
         "listing_id": 18127851,
         "mean": 0.40145000000000003,
         "count": 6,
         "_deepnote_index_column": 961
        },
        {
         "listing_id": 11938829,
         "mean": 0.40174000000000004,
         "count": 5,
         "_deepnote_index_column": 531
        },
        {
         "listing_id": 29782928,
         "mean": 0.40194,
         "count": 5,
         "_deepnote_index_column": 1929
        },
        {
         "listing_id": 12040663,
         "mean": 0.4022333333333333,
         "count": 6,
         "_deepnote_index_column": 540
        },
        {
         "listing_id": 15946020,
         "mean": 0.40235999999999994,
         "count": 5,
         "_deepnote_index_column": 785
        },
        {
         "listing_id": 3736107,
         "mean": 0.4033666666666667,
         "count": 6,
         "_deepnote_index_column": 205
        },
        {
         "listing_id": 28105097,
         "mean": 0.4045111111111111,
         "count": 9,
         "_deepnote_index_column": 1789
        },
        {
         "listing_id": 713475,
         "mean": 0.40470000000000006,
         "count": 7,
         "_deepnote_index_column": 73
        },
        {
         "listing_id": 17274440,
         "mean": 0.4048333333333334,
         "count": 6,
         "_deepnote_index_column": 876
        },
        {
         "listing_id": 31831270,
         "mean": 0.40712000000000004,
         "count": 5,
         "_deepnote_index_column": 2051
        },
        {
         "listing_id": 6454057,
         "mean": 0.4074125,
         "count": 8,
         "_deepnote_index_column": 324
        },
        {
         "listing_id": 38893052,
         "mean": 0.4084,
         "count": 5,
         "_deepnote_index_column": 2360
        },
        {
         "listing_id": 17278138,
         "mean": 0.40928000000000003,
         "count": 5,
         "_deepnote_index_column": 882
        },
        {
         "listing_id": 22389057,
         "mean": 0.4095166666666667,
         "count": 6,
         "_deepnote_index_column": 1315
        },
        {
         "listing_id": 12443383,
         "mean": 0.40970000000000006,
         "count": 5,
         "_deepnote_index_column": 564
        },
        {
         "listing_id": 33040646,
         "mean": 0.4098,
         "count": 6,
         "_deepnote_index_column": 2144
        },
        {
         "listing_id": 24059136,
         "mean": 0.41181,
         "count": 10,
         "_deepnote_index_column": 1442
        },
        {
         "listing_id": 24671220,
         "mean": 0.41185,
         "count": 6,
         "_deepnote_index_column": 1501
        },
        {
         "listing_id": 21796581,
         "mean": 0.41235999999999995,
         "count": 5,
         "_deepnote_index_column": 1273
        },
        {
         "listing_id": 26251891,
         "mean": 0.41432,
         "count": 5,
         "_deepnote_index_column": 1607
        },
        {
         "listing_id": 15040264,
         "mean": 0.41658,
         "count": 5,
         "_deepnote_index_column": 740
        },
        {
         "listing_id": 12271821,
         "mean": 0.41785999999999995,
         "count": 5,
         "_deepnote_index_column": 549
        },
        {
         "listing_id": 1357673,
         "mean": 0.41818,
         "count": 10,
         "_deepnote_index_column": 117
        },
        {
         "listing_id": 36165018,
         "mean": 0.41856,
         "count": 5,
         "_deepnote_index_column": 2272
        },
        {
         "listing_id": 17440876,
         "mean": 0.41888000000000003,
         "count": 10,
         "_deepnote_index_column": 893
        },
        {
         "listing_id": 17274724,
         "mean": 0.41898,
         "count": 5,
         "_deepnote_index_column": 878
        },
        {
         "listing_id": 19829851,
         "mean": 0.4196615384615384,
         "count": 13,
         "_deepnote_index_column": 1097
        },
        {
         "listing_id": 21344803,
         "mean": 0.42062499999999997,
         "count": 8,
         "_deepnote_index_column": 1218
        },
        {
         "listing_id": 33427175,
         "mean": 0.42214999999999997,
         "count": 6,
         "_deepnote_index_column": 2156
        },
        {
         "listing_id": 19253001,
         "mean": 0.4225,
         "count": 5,
         "_deepnote_index_column": 1056
        }
       ],
       "rows_bottom": [
        {
         "listing_id": 14689248,
         "mean": 0.91928,
         "count": 5,
         "_deepnote_index_column": 703
        },
        {
         "listing_id": 5996097,
         "mean": 0.9194125000000001,
         "count": 8,
         "_deepnote_index_column": 312
        },
        {
         "listing_id": 29271671,
         "mean": 0.9199333333333333,
         "count": 9,
         "_deepnote_index_column": 1891
        },
        {
         "listing_id": 23219485,
         "mean": 0.9204500000000001,
         "count": 6,
         "_deepnote_index_column": 1375
        },
        {
         "listing_id": 15236485,
         "mean": 0.92104,
         "count": 5,
         "_deepnote_index_column": 750
        },
        {
         "listing_id": 31584094,
         "mean": 0.9210799999999999,
         "count": 5,
         "_deepnote_index_column": 2044
        },
        {
         "listing_id": 14559113,
         "mean": 0.9212666666666666,
         "count": 6,
         "_deepnote_index_column": 683
        },
        {
         "listing_id": 12394542,
         "mean": 0.9213,
         "count": 8,
         "_deepnote_index_column": 561
        },
        {
         "listing_id": 16526105,
         "mean": 0.92142,
         "count": 5,
         "_deepnote_index_column": 821
        },
        {
         "listing_id": 21773598,
         "mean": 0.9218333333333334,
         "count": 6,
         "_deepnote_index_column": 1265
        },
        {
         "listing_id": 20390408,
         "mean": 0.9218500000000001,
         "count": 6,
         "_deepnote_index_column": 1135
        },
        {
         "listing_id": 27577427,
         "mean": 0.9220333333333334,
         "count": 6,
         "_deepnote_index_column": 1735
        },
        {
         "listing_id": 31944749,
         "mean": 0.9220600000000001,
         "count": 10,
         "_deepnote_index_column": 2076
        },
        {
         "listing_id": 30286590,
         "mean": 0.9224399999999999,
         "count": 5,
         "_deepnote_index_column": 1973
        },
        {
         "listing_id": 32042004,
         "mean": 0.9224399999999999,
         "count": 5,
         "_deepnote_index_column": 2083
        },
        {
         "listing_id": 10173939,
         "mean": 0.9225199999999999,
         "count": 5,
         "_deepnote_index_column": 464
        },
        {
         "listing_id": 26836778,
         "mean": 0.92254,
         "count": 5,
         "_deepnote_index_column": 1661
        },
        {
         "listing_id": 3430805,
         "mean": 0.9227909090909091,
         "count": 11,
         "_deepnote_index_column": 185
        },
        {
         "listing_id": 19111123,
         "mean": 0.9236599999999999,
         "count": 5,
         "_deepnote_index_column": 1038
        },
        {
         "listing_id": 625296,
         "mean": 0.9239666666666667,
         "count": 6,
         "_deepnote_index_column": 66
        },
        {
         "listing_id": 20993911,
         "mean": 0.9246666666666666,
         "count": 6,
         "_deepnote_index_column": 1184
        },
        {
         "listing_id": 9244494,
         "mean": 0.9248200000000001,
         "count": 5,
         "_deepnote_index_column": 434
        },
        {
         "listing_id": 32593571,
         "mean": 0.92484,
         "count": 5,
         "_deepnote_index_column": 2119
        },
        {
         "listing_id": 11234733,
         "mean": 0.9249666666666666,
         "count": 6,
         "_deepnote_index_column": 512
        },
        {
         "listing_id": 5161205,
         "mean": 0.9252600000000001,
         "count": 5,
         "_deepnote_index_column": 282
        },
        {
         "listing_id": 27677110,
         "mean": 0.9253600000000001,
         "count": 5,
         "_deepnote_index_column": 1745
        },
        {
         "listing_id": 23535209,
         "mean": 0.92548,
         "count": 5,
         "_deepnote_index_column": 1410
        },
        {
         "listing_id": 28251212,
         "mean": 0.9256399999999999,
         "count": 5,
         "_deepnote_index_column": 1799
        },
        {
         "listing_id": 3580923,
         "mean": 0.9256400000000001,
         "count": 5,
         "_deepnote_index_column": 192
        },
        {
         "listing_id": 25205694,
         "mean": 0.9257333333333334,
         "count": 6,
         "_deepnote_index_column": 1540
        },
        {
         "listing_id": 24866987,
         "mean": 0.9259999999999999,
         "count": 5,
         "_deepnote_index_column": 1516
        },
        {
         "listing_id": 21564181,
         "mean": 0.9261750000000001,
         "count": 8,
         "_deepnote_index_column": 1242
        },
        {
         "listing_id": 23899276,
         "mean": 0.9261800000000001,
         "count": 5,
         "_deepnote_index_column": 1435
        },
        {
         "listing_id": 18912004,
         "mean": 0.9262166666666666,
         "count": 6,
         "_deepnote_index_column": 1021
        },
        {
         "listing_id": 19303277,
         "mean": 0.9264666666666667,
         "count": 6,
         "_deepnote_index_column": 1059
        },
        {
         "listing_id": 325673,
         "mean": 0.9267799999999999,
         "count": 5,
         "_deepnote_index_column": 24
        },
        {
         "listing_id": 84532,
         "mean": 0.9267857142857144,
         "count": 7,
         "_deepnote_index_column": 4
        },
        {
         "listing_id": 5010158,
         "mean": 0.9269333333333334,
         "count": 6,
         "_deepnote_index_column": 277
        },
        {
         "listing_id": 12330544,
         "mean": 0.92745,
         "count": 6,
         "_deepnote_index_column": 556
        },
        {
         "listing_id": 20538711,
         "mean": 0.9274666666666667,
         "count": 6,
         "_deepnote_index_column": 1149
        },
        {
         "listing_id": 13120366,
         "mean": 0.9280833333333334,
         "count": 6,
         "_deepnote_index_column": 586
        },
        {
         "listing_id": 17678871,
         "mean": 0.9286428571428571,
         "count": 7,
         "_deepnote_index_column": 914
        },
        {
         "listing_id": 3205932,
         "mean": 0.9286500000000001,
         "count": 6,
         "_deepnote_index_column": 179
        },
        {
         "listing_id": 436257,
         "mean": 0.92872,
         "count": 5,
         "_deepnote_index_column": 45
        },
        {
         "listing_id": 9155099,
         "mean": 0.9289999999999999,
         "count": 6,
         "_deepnote_index_column": 431
        },
        {
         "listing_id": 24565073,
         "mean": 0.9290200000000001,
         "count": 5,
         "_deepnote_index_column": 1494
        },
        {
         "listing_id": 5909215,
         "mean": 0.9290333333333334,
         "count": 6,
         "_deepnote_index_column": 310
        },
        {
         "listing_id": 1520434,
         "mean": 0.9294166666666667,
         "count": 6,
         "_deepnote_index_column": 127
        },
        {
         "listing_id": 7049604,
         "mean": 0.929775,
         "count": 8,
         "_deepnote_index_column": 342
        },
        {
         "listing_id": 22953927,
         "mean": 0.93012,
         "count": 5,
         "_deepnote_index_column": 1352
        },
        {
         "listing_id": 1651191,
         "mean": 0.9302400000000001,
         "count": 5,
         "_deepnote_index_column": 130
        },
        {
         "listing_id": 12077371,
         "mean": 0.9315333333333333,
         "count": 6,
         "_deepnote_index_column": 542
        },
        {
         "listing_id": 17937816,
         "mean": 0.9320999999999998,
         "count": 6,
         "_deepnote_index_column": 941
        },
        {
         "listing_id": 21130241,
         "mean": 0.9321,
         "count": 6,
         "_deepnote_index_column": 1197
        },
        {
         "listing_id": 2931488,
         "mean": 0.9321625,
         "count": 8,
         "_deepnote_index_column": 169
        },
        {
         "listing_id": 27458706,
         "mean": 0.93224,
         "count": 5,
         "_deepnote_index_column": 1714
        },
        {
         "listing_id": 28018740,
         "mean": 0.9324600000000001,
         "count": 5,
         "_deepnote_index_column": 1781
        },
        {
         "listing_id": 27563344,
         "mean": 0.93294,
         "count": 5,
         "_deepnote_index_column": 1733
        },
        {
         "listing_id": 1340622,
         "mean": 0.9334,
         "count": 5,
         "_deepnote_index_column": 114
        },
        {
         "listing_id": 7772878,
         "mean": 0.93348,
         "count": 5,
         "_deepnote_index_column": 374
        },
        {
         "listing_id": 18075710,
         "mean": 0.93395,
         "count": 6,
         "_deepnote_index_column": 959
        },
        {
         "listing_id": 29896303,
         "mean": 0.93414,
         "count": 5,
         "_deepnote_index_column": 1938
        },
        {
         "listing_id": 29566013,
         "mean": 0.93442,
         "count": 5,
         "_deepnote_index_column": 1913
        },
        {
         "listing_id": 27083534,
         "mean": 0.9349000000000001,
         "count": 5,
         "_deepnote_index_column": 1687
        },
        {
         "listing_id": 30590805,
         "mean": 0.9349000000000001,
         "count": 5,
         "_deepnote_index_column": 2001
        },
        {
         "listing_id": 19795285,
         "mean": 0.9349666666666666,
         "count": 12,
         "_deepnote_index_column": 1092
        },
        {
         "listing_id": 26277526,
         "mean": 0.9350625,
         "count": 8,
         "_deepnote_index_column": 1611
        },
        {
         "listing_id": 41104717,
         "mean": 0.9351800000000001,
         "count": 5,
         "_deepnote_index_column": 2389
        },
        {
         "listing_id": 8834649,
         "mean": 0.93542,
         "count": 5,
         "_deepnote_index_column": 418
        },
        {
         "listing_id": 8854954,
         "mean": 0.9354666666666667,
         "count": 9,
         "_deepnote_index_column": 419
        },
        {
         "listing_id": 27520374,
         "mean": 0.9357333333333334,
         "count": 6,
         "_deepnote_index_column": 1723
        },
        {
         "listing_id": 13316054,
         "mean": 0.9357599999999999,
         "count": 5,
         "_deepnote_index_column": 599
        },
        {
         "listing_id": 22536953,
         "mean": 0.9358000000000001,
         "count": 5,
         "_deepnote_index_column": 1325
        },
        {
         "listing_id": 4309179,
         "mean": 0.9358111111111111,
         "count": 9,
         "_deepnote_index_column": 231
        },
        {
         "listing_id": 18494843,
         "mean": 0.9358142857142857,
         "count": 7,
         "_deepnote_index_column": 988
        },
        {
         "listing_id": 9092859,
         "mean": 0.9359399999999999,
         "count": 5,
         "_deepnote_index_column": 427
        },
        {
         "listing_id": 23416257,
         "mean": 0.9362200000000002,
         "count": 5,
         "_deepnote_index_column": 1397
        },
        {
         "listing_id": 16373006,
         "mean": 0.9367666666666667,
         "count": 6,
         "_deepnote_index_column": 812
        },
        {
         "listing_id": 24845142,
         "mean": 0.9373666666666667,
         "count": 6,
         "_deepnote_index_column": 1515
        },
        {
         "listing_id": 29142406,
         "mean": 0.9374166666666667,
         "count": 6,
         "_deepnote_index_column": 1882
        },
        {
         "listing_id": 609218,
         "mean": 0.9374600000000001,
         "count": 5,
         "_deepnote_index_column": 63
        },
        {
         "listing_id": 32758312,
         "mean": 0.9375,
         "count": 6,
         "_deepnote_index_column": 2127
        },
        {
         "listing_id": 18398539,
         "mean": 0.9375499999999999,
         "count": 6,
         "_deepnote_index_column": 982
        },
        {
         "listing_id": 11394007,
         "mean": 0.9377799999999998,
         "count": 5,
         "_deepnote_index_column": 518
        },
        {
         "listing_id": 13400249,
         "mean": 0.9381999999999999,
         "count": 5,
         "_deepnote_index_column": 606
        },
        {
         "listing_id": 20133829,
         "mean": 0.9382222222222221,
         "count": 9,
         "_deepnote_index_column": 1114
        },
        {
         "listing_id": 17012454,
         "mean": 0.93842,
         "count": 5,
         "_deepnote_index_column": 861
        },
        {
         "listing_id": 3551562,
         "mean": 0.9391571428571429,
         "count": 7,
         "_deepnote_index_column": 189
        },
        {
         "listing_id": 30303920,
         "mean": 0.9393799999999999,
         "count": 5,
         "_deepnote_index_column": 1976
        },
        {
         "listing_id": 29069910,
         "mean": 0.9397,
         "count": 5,
         "_deepnote_index_column": 1871
        },
        {
         "listing_id": 877864,
         "mean": 0.9397466666666666,
         "count": 15,
         "_deepnote_index_column": 85
        },
        {
         "listing_id": 31222161,
         "mean": 0.9403600000000001,
         "count": 5,
         "_deepnote_index_column": 2025
        },
        {
         "listing_id": 15637229,
         "mean": 0.9404600000000001,
         "count": 5,
         "_deepnote_index_column": 774
        },
        {
         "listing_id": 17537650,
         "mean": 0.9405,
         "count": 7,
         "_deepnote_index_column": 903
        },
        {
         "listing_id": 435600,
         "mean": 0.9406166666666667,
         "count": 6,
         "_deepnote_index_column": 44
        },
        {
         "listing_id": 6087949,
         "mean": 0.9408,
         "count": 6,
         "_deepnote_index_column": 317
        },
        {
         "listing_id": 13692946,
         "mean": 0.9412142857142857,
         "count": 7,
         "_deepnote_index_column": 627
        },
        {
         "listing_id": 11215921,
         "mean": 0.94138,
         "count": 5,
         "_deepnote_index_column": 510
        },
        {
         "listing_id": 19465153,
         "mean": 0.9414,
         "count": 5,
         "_deepnote_index_column": 1068
        },
        {
         "listing_id": 31971426,
         "mean": 0.94154,
         "count": 5,
         "_deepnote_index_column": 2079
        },
        {
         "listing_id": 6963613,
         "mean": 0.9415857142857144,
         "count": 7,
         "_deepnote_index_column": 339
        },
        {
         "listing_id": 3474515,
         "mean": 0.9420857142857144,
         "count": 7,
         "_deepnote_index_column": 188
        },
        {
         "listing_id": 24884713,
         "mean": 0.9422142857142858,
         "count": 7,
         "_deepnote_index_column": 1518
        },
        {
         "listing_id": 21681213,
         "mean": 0.94224,
         "count": 5,
         "_deepnote_index_column": 1253
        },
        {
         "listing_id": 31727356,
         "mean": 0.9425833333333333,
         "count": 6,
         "_deepnote_index_column": 2048
        },
        {
         "listing_id": 27717783,
         "mean": 0.94278,
         "count": 5,
         "_deepnote_index_column": 1747
        },
        {
         "listing_id": 8127220,
         "mean": 0.9427833333333334,
         "count": 6,
         "_deepnote_index_column": 391
        },
        {
         "listing_id": 28999169,
         "mean": 0.9436,
         "count": 5,
         "_deepnote_index_column": 1861
        },
        {
         "listing_id": 854200,
         "mean": 0.9441600000000001,
         "count": 5,
         "_deepnote_index_column": 84
        },
        {
         "listing_id": 19513588,
         "mean": 0.9443428571428572,
         "count": 7,
         "_deepnote_index_column": 1074
        },
        {
         "listing_id": 32186535,
         "mean": 0.9443666666666667,
         "count": 6,
         "_deepnote_index_column": 2089
        },
        {
         "listing_id": 42217388,
         "mean": 0.9445200000000001,
         "count": 5,
         "_deepnote_index_column": 2397
        },
        {
         "listing_id": 27108901,
         "mean": 0.94515,
         "count": 6,
         "_deepnote_index_column": 1691
        },
        {
         "listing_id": 26915242,
         "mean": 0.9456166666666667,
         "count": 6,
         "_deepnote_index_column": 1670
        },
        {
         "listing_id": 18678369,
         "mean": 0.9468555555555555,
         "count": 9,
         "_deepnote_index_column": 1001
        },
        {
         "listing_id": 24370066,
         "mean": 0.9472,
         "count": 9,
         "_deepnote_index_column": 1469
        },
        {
         "listing_id": 18158812,
         "mean": 0.9473800000000001,
         "count": 5,
         "_deepnote_index_column": 966
        },
        {
         "listing_id": 16555802,
         "mean": 0.9477399999999999,
         "count": 5,
         "_deepnote_index_column": 823
        },
        {
         "listing_id": 30056357,
         "mean": 0.9480999999999999,
         "count": 5,
         "_deepnote_index_column": 1952
        },
        {
         "listing_id": 6782126,
         "mean": 0.94856,
         "count": 5,
         "_deepnote_index_column": 335
        },
        {
         "listing_id": 21873114,
         "mean": 0.9487857142857142,
         "count": 7,
         "_deepnote_index_column": 1281
        },
        {
         "listing_id": 6022576,
         "mean": 0.9491799999999999,
         "count": 5,
         "_deepnote_index_column": 313
        },
        {
         "listing_id": 36234672,
         "mean": 0.9497333333333332,
         "count": 6,
         "_deepnote_index_column": 2274
        },
        {
         "listing_id": 15054681,
         "mean": 0.95068,
         "count": 5,
         "_deepnote_index_column": 741
        },
        {
         "listing_id": 17735942,
         "mean": 0.9509833333333334,
         "count": 6,
         "_deepnote_index_column": 925
        },
        {
         "listing_id": 3664786,
         "mean": 0.9516,
         "count": 5,
         "_deepnote_index_column": 200
        },
        {
         "listing_id": 25366888,
         "mean": 0.952425,
         "count": 8,
         "_deepnote_index_column": 1548
        },
        {
         "listing_id": 21143035,
         "mean": 0.95244,
         "count": 5,
         "_deepnote_index_column": 1201
        },
        {
         "listing_id": 17657876,
         "mean": 0.9525600000000001,
         "count": 15,
         "_deepnote_index_column": 912
        },
        {
         "listing_id": 13455562,
         "mean": 0.9531499999999999,
         "count": 6,
         "_deepnote_index_column": 609
        },
        {
         "listing_id": 1425110,
         "mean": 0.9531600000000001,
         "count": 5,
         "_deepnote_index_column": 122
        },
        {
         "listing_id": 6110207,
         "mean": 0.9532375,
         "count": 8,
         "_deepnote_index_column": 318
        },
        {
         "listing_id": 25881958,
         "mean": 0.9533999999999999,
         "count": 6,
         "_deepnote_index_column": 1579
        },
        {
         "listing_id": 10934528,
         "mean": 0.9537599999999999,
         "count": 5,
         "_deepnote_index_column": 492
        },
        {
         "listing_id": 3907084,
         "mean": 0.954,
         "count": 5,
         "_deepnote_index_column": 214
        },
        {
         "listing_id": 20893572,
         "mean": 0.95404,
         "count": 5,
         "_deepnote_index_column": 1177
        },
        {
         "listing_id": 6968345,
         "mean": 0.9544727272727273,
         "count": 11,
         "_deepnote_index_column": 340
        },
        {
         "listing_id": 6040128,
         "mean": 0.95494,
         "count": 5,
         "_deepnote_index_column": 314
        },
        {
         "listing_id": 27543234,
         "mean": 0.9555333333333333,
         "count": 6,
         "_deepnote_index_column": 1730
        },
        {
         "listing_id": 21156329,
         "mean": 0.9556166666666667,
         "count": 6,
         "_deepnote_index_column": 1203
        },
        {
         "listing_id": 5705518,
         "mean": 0.9556428571428571,
         "count": 7,
         "_deepnote_index_column": 300
        },
        {
         "listing_id": 37736856,
         "mean": 0.9563285714285713,
         "count": 7,
         "_deepnote_index_column": 2324
        },
        {
         "listing_id": 8199098,
         "mean": 0.9569333333333333,
         "count": 6,
         "_deepnote_index_column": 396
        },
        {
         "listing_id": 9252230,
         "mean": 0.957,
         "count": 7,
         "_deepnote_index_column": 436
        },
        {
         "listing_id": 1362167,
         "mean": 0.95702,
         "count": 5,
         "_deepnote_index_column": 118
        },
        {
         "listing_id": 4184780,
         "mean": 0.9577399999999999,
         "count": 5,
         "_deepnote_index_column": 227
        },
        {
         "listing_id": 12103649,
         "mean": 0.95805,
         "count": 6,
         "_deepnote_index_column": 544
        },
        {
         "listing_id": 19977938,
         "mean": 0.9585499999999999,
         "count": 8,
         "_deepnote_index_column": 1107
        },
        {
         "listing_id": 15125562,
         "mean": 0.95862,
         "count": 5,
         "_deepnote_index_column": 745
        },
        {
         "listing_id": 33049068,
         "mean": 0.95938,
         "count": 5,
         "_deepnote_index_column": 2146
        },
        {
         "listing_id": 10664781,
         "mean": 0.9609666666666666,
         "count": 6,
         "_deepnote_index_column": 481
        },
        {
         "listing_id": 30401023,
         "mean": 0.9612,
         "count": 5,
         "_deepnote_index_column": 1987
        },
        {
         "listing_id": 29975379,
         "mean": 0.9612333333333334,
         "count": 6,
         "_deepnote_index_column": 1945
        },
        {
         "listing_id": 1613251,
         "mean": 0.9626,
         "count": 6,
         "_deepnote_index_column": 128
        },
        {
         "listing_id": 18789633,
         "mean": 0.9626857142857144,
         "count": 7,
         "_deepnote_index_column": 1011
        },
        {
         "listing_id": 6620546,
         "mean": 0.9627,
         "count": 6,
         "_deepnote_index_column": 329
        },
        {
         "listing_id": 31506458,
         "mean": 0.9628399999999999,
         "count": 5,
         "_deepnote_index_column": 2039
        },
        {
         "listing_id": 30532883,
         "mean": 0.9637833333333333,
         "count": 6,
         "_deepnote_index_column": 1998
        },
        {
         "listing_id": 26120791,
         "mean": 0.9650400000000001,
         "count": 5,
         "_deepnote_index_column": 1599
        },
        {
         "listing_id": 20882760,
         "mean": 0.96508,
         "count": 5,
         "_deepnote_index_column": 1176
        },
        {
         "listing_id": 24559699,
         "mean": 0.9658,
         "count": 7,
         "_deepnote_index_column": 1492
        },
        {
         "listing_id": 30468598,
         "mean": 0.9684999999999999,
         "count": 5,
         "_deepnote_index_column": 1993
        },
        {
         "listing_id": 17597932,
         "mean": 0.9717666666666668,
         "count": 6,
         "_deepnote_index_column": 907
        },
        {
         "listing_id": 23270833,
         "mean": 0.9730400000000001,
         "count": 5,
         "_deepnote_index_column": 1381
        },
        {
         "listing_id": 957861,
         "mean": 0.97625,
         "count": 6,
         "_deepnote_index_column": 92
        },
        {
         "listing_id": 32838811,
         "mean": 0.9787166666666667,
         "count": 6,
         "_deepnote_index_column": 2129
        },
        {
         "listing_id": 33510937,
         "mean": 0.98116,
         "count": 5,
         "_deepnote_index_column": 2158
        }
       ]
      },
      "text/plain": "      listing_id      mean  count\n144      2347198 -0.039800      5\n1981    30335074 -0.021220      5\n579     12846088 -0.000160      5\n2117    32582210  0.038867      6\n230      4284972  0.071100      5\n...          ...       ...    ...\n907     17597932  0.971767      6\n1381    23270833  0.973040      5\n92        957861  0.976250      6\n2129    32838811  0.978717      6\n2158    33510937  0.981160      5\n\n[2417 rows x 3 columns]",
      "text/html": "<div>\n<style scoped>\n    .dataframe tbody tr th:only-of-type {\n        vertical-align: middle;\n    }\n\n    .dataframe tbody tr th {\n        vertical-align: top;\n    }\n\n    .dataframe thead th {\n        text-align: right;\n    }\n</style>\n<table border=\"1\" class=\"dataframe\">\n  <thead>\n    <tr style=\"text-align: right;\">\n      <th></th>\n      <th>listing_id</th>\n      <th>mean</th>\n      <th>count</th>\n    </tr>\n  </thead>\n  <tbody>\n    <tr>\n      <th>144</th>\n      <td>2347198</td>\n      <td>-0.039800</td>\n      <td>5</td>\n    </tr>\n    <tr>\n      <th>1981</th>\n      <td>30335074</td>\n      <td>-0.021220</td>\n      <td>5</td>\n    </tr>\n    <tr>\n      <th>579</th>\n      <td>12846088</td>\n      <td>-0.000160</td>\n      <td>5</td>\n    </tr>\n    <tr>\n      <th>2117</th>\n      <td>32582210</td>\n      <td>0.038867</td>\n      <td>6</td>\n    </tr>\n    <tr>\n      <th>230</th>\n      <td>4284972</td>\n      <td>0.071100</td>\n      <td>5</td>\n    </tr>\n    <tr>\n      <th>...</th>\n      <td>...</td>\n      <td>...</td>\n      <td>...</td>\n    </tr>\n    <tr>\n      <th>907</th>\n      <td>17597932</td>\n      <td>0.971767</td>\n      <td>6</td>\n    </tr>\n    <tr>\n      <th>1381</th>\n      <td>23270833</td>\n      <td>0.973040</td>\n      <td>5</td>\n    </tr>\n    <tr>\n      <th>92</th>\n      <td>957861</td>\n      <td>0.976250</td>\n      <td>6</td>\n    </tr>\n    <tr>\n      <th>2129</th>\n      <td>32838811</td>\n      <td>0.978717</td>\n      <td>6</td>\n    </tr>\n    <tr>\n      <th>2158</th>\n      <td>33510937</td>\n      <td>0.981160</td>\n      <td>5</td>\n    </tr>\n  </tbody>\n</table>\n<p>2417 rows × 3 columns</p>\n</div>"
     },
     "metadata": {}
    }
   ]
  },
  {
   "cell_type": "markdown",
   "source": "### Inspect results\nLook at the reviews of the top/bottom listing",
   "metadata": {
    "tags": [],
    "cell_id": "00011-4c49117b-bd28-4c19-946a-dcaa92e4838b",
    "deepnote_cell_type": "markdown"
   }
  },
  {
   "cell_type": "markdown",
   "source": "<a style='text-decoration:none;line-height:16px;display:flex;color:#5B5B62;padding:10px;justify-content:end;' href='https://deepnote.com?utm_source=created-in-deepnote-cell&projectId=2c6f047c-21a6-4149-814c-b3f60a9bf973' target=\"_blank\">\n<img alt='Created in deepnote.com' style='display:inline;max-height:16px;margin:0px;margin-right:7.5px;' src='data:image/svg+xml;base64,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' > </img>\nCreated in <span style='font-weight:600;margin-left:4px;'>Deepnote</span></a>",
   "metadata": {
    "tags": [],
    "created_in_deepnote_cell": true,
    "deepnote_cell_type": "markdown"
   }
  }
 ],
 "nbformat": 4,
 "nbformat_minor": 2,
 "metadata": {
  "orig_nbformat": 2,
  "deepnote": {
   "is_reactive": false
  },
  "deepnote_notebook_id": "2bc253d8-5d82-4e43-b693-93ee90652da4",
  "deepnote_execution_queue": []
 }
}