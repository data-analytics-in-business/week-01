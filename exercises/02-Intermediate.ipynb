{
 "cells": [
  {
   "cell_type": "markdown",
   "source": "# 02-Intermediate: Text analysis\nWe are going to:\n- Load in some text data\n- Do a little bit of cleaning\n- Analyse the sentiment of some texts\n- [Prepare for Advanced]",
   "metadata": {
    "tags": [],
    "cell_id": "00001-063bbf4a-abaa-4cff-b47a-c51a429a31d6",
    "deepnote_cell_type": "markdown"
   }
  },
  {
   "cell_type": "markdown",
   "source": "## Prepare text data",
   "metadata": {
    "tags": [],
    "cell_id": "00003-882181c2-036a-4aee-9897-cbe3e1055d52",
    "deepnote_cell_type": "markdown"
   }
  },
  {
   "cell_type": "code",
   "metadata": {
    "tags": [],
    "cell_id": "00002-041954d1-ea40-4f4c-b46f-6ccf1d8aece8",
    "deepnote_to_be_reexecuted": false,
    "source_hash": "83fbb21f",
    "execution_start": 1633422763157,
    "execution_millis": 621,
    "deepnote_cell_type": "code"
   },
   "source": "# Preparing data (have a look to see the nan)\nimport pandas as pd\ndf = pd.read_csv('../data/reviews_sample.csv')\ndf[df['comments'].isna()]",
   "execution_count": null,
   "outputs": [
    {
     "output_type": "execute_result",
     "execution_count": 1,
     "data": {
      "application/vnd.deepnote.dataframe.v2+json": {
       "row_count": 36,
       "column_count": 6,
       "columns": [
        {
         "name": "listing_id",
         "dtype": "int64",
         "stats": {
          "unique_count": 36,
          "nan_count": 0,
          "min": "175892",
          "max": "48659789",
          "histogram": [
           {
            "bin_start": 175892,
            "bin_end": 5024281.7,
            "count": 3
           },
           {
            "bin_start": 5024281.7,
            "bin_end": 9872671.4,
            "count": 3
           },
           {
            "bin_start": 9872671.4,
            "bin_end": 14721061.100000001,
            "count": 4
           },
           {
            "bin_start": 14721061.100000001,
            "bin_end": 19569450.8,
            "count": 4
           },
           {
            "bin_start": 19569450.8,
            "bin_end": 24417840.5,
            "count": 2
           },
           {
            "bin_start": 24417840.5,
            "bin_end": 29266230.200000003,
            "count": 5
           },
           {
            "bin_start": 29266230.200000003,
            "bin_end": 34114619.9,
            "count": 3
           },
           {
            "bin_start": 34114619.9,
            "bin_end": 38963009.6,
            "count": 5
           },
           {
            "bin_start": 38963009.6,
            "bin_end": 43811399.300000004,
            "count": 5
           },
           {
            "bin_start": 43811399.300000004,
            "bin_end": 48659789,
            "count": 2
           }
          ]
         }
        },
        {
         "name": "id",
         "dtype": "int64",
         "stats": {
          "unique_count": 36,
          "nan_count": 0,
          "min": "121470438",
          "max": "746041462",
          "histogram": [
           {
            "bin_start": 121470438,
            "bin_end": 183927540.4,
            "count": 3
           },
           {
            "bin_start": 183927540.4,
            "bin_end": 246384642.8,
            "count": 1
           },
           {
            "bin_start": 246384642.8,
            "bin_end": 308841745.2,
            "count": 1
           },
           {
            "bin_start": 308841745.2,
            "bin_end": 371298847.6,
            "count": 4
           },
           {
            "bin_start": 371298847.6,
            "bin_end": 433755950,
            "count": 2
           },
           {
            "bin_start": 433755950,
            "bin_end": 496213052.4,
            "count": 5
           },
           {
            "bin_start": 496213052.4,
            "bin_end": 558670154.8,
            "count": 3
           },
           {
            "bin_start": 558670154.8,
            "bin_end": 621127257.2,
            "count": 12
           },
           {
            "bin_start": 621127257.2,
            "bin_end": 683584359.6,
            "count": 3
           },
           {
            "bin_start": 683584359.6,
            "bin_end": 746041462,
            "count": 2
           }
          ]
         }
        },
        {
         "name": "date",
         "dtype": "object",
         "stats": {
          "unique_count": 35,
          "nan_count": 0,
          "categories": [
           {
            "name": "2020-02-23",
            "count": 2
           },
           {
            "name": "2020-03-16",
            "count": 1
           },
           {
            "name": "33 others",
            "count": 33
           }
          ]
         }
        },
        {
         "name": "reviewer_id",
         "dtype": "int64",
         "stats": {
          "unique_count": 36,
          "nan_count": 0,
          "min": "1245695",
          "max": "391380202",
          "histogram": [
           {
            "bin_start": 1245695,
            "bin_end": 40259145.7,
            "count": 7
           },
           {
            "bin_start": 40259145.7,
            "bin_end": 79272596.4,
            "count": 5
           },
           {
            "bin_start": 79272596.4,
            "bin_end": 118286047.10000001,
            "count": 3
           },
           {
            "bin_start": 118286047.10000001,
            "bin_end": 157299497.8,
            "count": 2
           },
           {
            "bin_start": 157299497.8,
            "bin_end": 196312948.5,
            "count": 1
           },
           {
            "bin_start": 196312948.5,
            "bin_end": 235326399.20000002,
            "count": 3
           },
           {
            "bin_start": 235326399.20000002,
            "bin_end": 274339849.90000004,
            "count": 7
           },
           {
            "bin_start": 274339849.90000004,
            "bin_end": 313353300.6,
            "count": 4
           },
           {
            "bin_start": 313353300.6,
            "bin_end": 352366751.3,
            "count": 2
           },
           {
            "bin_start": 352366751.3,
            "bin_end": 391380202,
            "count": 2
           }
          ]
         }
        },
        {
         "name": "reviewer_name",
         "dtype": "object",
         "stats": {
          "unique_count": 35,
          "nan_count": 0,
          "categories": [
           {
            "name": "Daniel",
            "count": 2
           },
           {
            "name": "Christopher",
            "count": 1
           },
           {
            "name": "33 others",
            "count": 33
           }
          ]
         }
        },
        {
         "name": "comments",
         "dtype": "object",
         "stats": {
          "unique_count": 0,
          "nan_count": 36,
          "categories": [
           {
            "name": "Missing",
            "count": 36
           }
          ]
         }
        },
        {
         "name": "_deepnote_index_column",
         "dtype": "int64"
        }
       ],
       "rows_top": [
        {
         "listing_id": 24425123,
         "id": 619002895,
         "date": "2020-03-16",
         "reviewer_id": 272113241,
         "reviewer_name": "Christopher",
         "comments": "nan",
         "_deepnote_index_column": 4364
        },
        {
         "listing_id": 14720793,
         "id": 193680502,
         "date": "2017-09-14",
         "reviewer_id": 36572256,
         "reviewer_name": "Ryan",
         "comments": "nan",
         "_deepnote_index_column": 6290
        },
        {
         "listing_id": 37280381,
         "id": 609618747,
         "date": "2020-02-23",
         "reviewer_id": 107140807,
         "reviewer_name": "Taylor",
         "comments": "nan",
         "_deepnote_index_column": 7833
        },
        {
         "listing_id": 48659789,
         "id": 746041462,
         "date": "2021-04-05",
         "reviewer_id": 391380202,
         "reviewer_name": "Waseem",
         "comments": "nan",
         "_deepnote_index_column": 17327
        },
        {
         "listing_id": 26155126,
         "id": 346314858,
         "date": "2018-11-08",
         "reviewer_id": 5848520,
         "reviewer_name": "Julia",
         "comments": "nan",
         "_deepnote_index_column": 21088
        },
        {
         "listing_id": 16850740,
         "id": 329227218,
         "date": "2018-09-28",
         "reviewer_id": 80971223,
         "reviewer_name": "Daniel",
         "comments": "nan",
         "_deepnote_index_column": 22736
        },
        {
         "listing_id": 34419721,
         "id": 546929227,
         "date": "2019-10-14",
         "reviewer_id": 274694990,
         "reviewer_name": "Bartłomiej",
         "comments": "nan",
         "_deepnote_index_column": 24393
        },
        {
         "listing_id": 16991832,
         "id": 424937796,
         "date": "2019-03-17",
         "reviewer_id": 246808558,
         "reviewer_name": "Niklas",
         "comments": "nan",
         "_deepnote_index_column": 30406
        },
        {
         "listing_id": 615456,
         "id": 587644786,
         "date": "2020-01-03",
         "reviewer_id": 285214164,
         "reviewer_name": "Tom",
         "comments": "nan",
         "_deepnote_index_column": 33399
        },
        {
         "listing_id": 24669933,
         "id": 444834813,
         "date": "2019-04-28",
         "reviewer_id": 1725913,
         "reviewer_name": "Sophie",
         "comments": "nan",
         "_deepnote_index_column": 35118
        },
        {
         "listing_id": 175892,
         "id": 355207973,
         "date": "2018-12-03",
         "reviewer_id": 10933336,
         "reviewer_name": "Connor",
         "comments": "nan",
         "_deepnote_index_column": 35126
        },
        {
         "listing_id": 40894137,
         "id": 591429105,
         "date": "2020-01-11",
         "reviewer_id": 232544359,
         "reviewer_name": "Hasan",
         "comments": "nan",
         "_deepnote_index_column": 42616
        },
        {
         "listing_id": 10890946,
         "id": 571442074,
         "date": "2019-12-01",
         "reviewer_id": 162602998,
         "reviewer_name": "Yue",
         "comments": "nan",
         "_deepnote_index_column": 42824
        },
        {
         "listing_id": 6583627,
         "id": 134800716,
         "date": "2017-03-01",
         "reviewer_id": 51275103,
         "reviewer_name": "Richard",
         "comments": "nan",
         "_deepnote_index_column": 46667
        },
        {
         "listing_id": 17875763,
         "id": 419622850,
         "date": "2019-03-04",
         "reviewer_id": 43078678,
         "reviewer_name": "Sam",
         "comments": "nan",
         "_deepnote_index_column": 47162
        },
        {
         "listing_id": 1616435,
         "id": 121470438,
         "date": "2016-12-17",
         "reviewer_id": 77871702,
         "reviewer_name": "Dato",
         "comments": "nan",
         "_deepnote_index_column": 49034
        },
        {
         "listing_id": 21796707,
         "id": 353279825,
         "date": "2018-11-27",
         "reviewer_id": 135346125,
         "reviewer_name": "Bouchra",
         "comments": "nan",
         "_deepnote_index_column": 49664
        },
        {
         "listing_id": 42681833,
         "id": 637755225,
         "date": "2020-07-13",
         "reviewer_id": 22140615,
         "reviewer_name": "Gaelle",
         "comments": "nan",
         "_deepnote_index_column": 51451
        },
        {
         "listing_id": 45218175,
         "id": 671462587,
         "date": "2020-10-05",
         "reviewer_id": 51503855,
         "reviewer_name": "Jem",
         "comments": "nan",
         "_deepnote_index_column": 53307
        },
        {
         "listing_id": 13499733,
         "id": 609802498,
         "date": "2020-02-23",
         "reviewer_id": 139343699,
         "reviewer_name": "Stephie",
         "comments": "nan",
         "_deepnote_index_column": 54325
        },
        {
         "listing_id": 9087606,
         "id": 552332370,
         "date": "2019-10-21",
         "reviewer_id": 243926258,
         "reviewer_name": "Leino",
         "comments": "nan",
         "_deepnote_index_column": 54479
        },
        {
         "listing_id": 39075750,
         "id": 580797143,
         "date": "2019-12-23",
         "reviewer_id": 262547566,
         "reviewer_name": "Yağmur",
         "comments": "nan",
         "_deepnote_index_column": 54850
        },
        {
         "listing_id": 24965799,
         "id": 286090304,
         "date": "2018-07-05",
         "reviewer_id": 197288476,
         "reviewer_name": "Qing",
         "comments": "nan",
         "_deepnote_index_column": 59378
        },
        {
         "listing_id": 29294439,
         "id": 496189348,
         "date": "2019-07-27",
         "reviewer_id": 270382867,
         "reviewer_name": "Dorothea",
         "comments": "nan",
         "_deepnote_index_column": 59827
        },
        {
         "listing_id": 36622164,
         "id": 546234020,
         "date": "2019-10-13",
         "reviewer_id": 217249465,
         "reviewer_name": "Jolanda",
         "comments": "nan",
         "_deepnote_index_column": 59837
        },
        {
         "listing_id": 21135573,
         "id": 635679457,
         "date": "2020-07-07",
         "reviewer_id": 351109868,
         "reviewer_name": "Arnold",
         "comments": "nan",
         "_deepnote_index_column": 62318
        },
        {
         "listing_id": 41819844,
         "id": 608721256,
         "date": "2020-02-21",
         "reviewer_id": 335879956,
         "reviewer_name": "Caleb",
         "comments": "nan",
         "_deepnote_index_column": 63084
        },
        {
         "listing_id": 37928349,
         "id": 567345436,
         "date": "2019-11-22",
         "reviewer_id": 1245695,
         "reviewer_name": "Chris",
         "comments": "nan",
         "_deepnote_index_column": 63896
        },
        {
         "listing_id": 5519383,
         "id": 444152220,
         "date": "2019-04-27",
         "reviewer_id": 254472243,
         "reviewer_name": "Léontine",
         "comments": "nan",
         "_deepnote_index_column": 64393
        },
        {
         "listing_id": 28857428,
         "id": 438745007,
         "date": "2019-04-17",
         "reviewer_id": 104602938,
         "reviewer_name": "Mohamed",
         "comments": "nan",
         "_deepnote_index_column": 83915
        },
        {
         "listing_id": 12303582,
         "id": 129074900,
         "date": "2017-01-29",
         "reviewer_id": 55148486,
         "reviewer_name": "Daniel",
         "comments": "nan",
         "_deepnote_index_column": 90953
        },
        {
         "listing_id": 32252697,
         "id": 561958792,
         "date": "2019-11-10",
         "reviewer_id": 286000490,
         "reviewer_name": "Kiitan",
         "comments": "nan",
         "_deepnote_index_column": 91037
        },
        {
         "listing_id": 38140431,
         "id": 579312885,
         "date": "2019-12-20",
         "reviewer_id": 4654583,
         "reviewer_name": "Aaron",
         "comments": "nan",
         "_deepnote_index_column": 93252
        },
        {
         "listing_id": 16821709,
         "id": 585889460,
         "date": "2020-01-01",
         "reviewer_id": 299451077,
         "reviewer_name": "재영",
         "comments": "nan",
         "_deepnote_index_column": 95421
        },
        {
         "listing_id": 42081759,
         "id": 700365243,
         "date": "2020-10-14",
         "reviewer_id": 368150681,
         "reviewer_name": "Oliver",
         "comments": "nan",
         "_deepnote_index_column": 97453
        },
        {
         "listing_id": 34085325,
         "id": 489168669,
         "date": "2019-07-16",
         "reviewer_id": 263010602,
         "reviewer_name": "Janka",
         "comments": "nan",
         "_deepnote_index_column": 99881
        }
       ],
       "rows_bottom": null
      },
      "text/plain": "       listing_id         id        date  reviewer_id reviewer_name comments\n4364     24425123  619002895  2020-03-16    272113241   Christopher      NaN\n6290     14720793  193680502  2017-09-14     36572256          Ryan      NaN\n7833     37280381  609618747  2020-02-23    107140807        Taylor      NaN\n17327    48659789  746041462  2021-04-05    391380202        Waseem      NaN\n21088    26155126  346314858  2018-11-08      5848520         Julia      NaN\n22736    16850740  329227218  2018-09-28     80971223        Daniel      NaN\n24393    34419721  546929227  2019-10-14    274694990    Bartłomiej      NaN\n30406    16991832  424937796  2019-03-17    246808558        Niklas      NaN\n33399      615456  587644786  2020-01-03    285214164           Tom      NaN\n35118    24669933  444834813  2019-04-28      1725913        Sophie      NaN\n35126      175892  355207973  2018-12-03     10933336        Connor      NaN\n42616    40894137  591429105  2020-01-11    232544359         Hasan      NaN\n42824    10890946  571442074  2019-12-01    162602998           Yue      NaN\n46667     6583627  134800716  2017-03-01     51275103       Richard      NaN\n47162    17875763  419622850  2019-03-04     43078678           Sam      NaN\n49034     1616435  121470438  2016-12-17     77871702          Dato      NaN\n49664    21796707  353279825  2018-11-27    135346125       Bouchra      NaN\n51451    42681833  637755225  2020-07-13     22140615        Gaelle      NaN\n53307    45218175  671462587  2020-10-05     51503855           Jem      NaN\n54325    13499733  609802498  2020-02-23    139343699       Stephie      NaN\n54479     9087606  552332370  2019-10-21    243926258         Leino      NaN\n54850    39075750  580797143  2019-12-23    262547566        Yağmur      NaN\n59378    24965799  286090304  2018-07-05    197288476          Qing      NaN\n59827    29294439  496189348  2019-07-27    270382867      Dorothea      NaN\n59837    36622164  546234020  2019-10-13    217249465       Jolanda      NaN\n62318    21135573  635679457  2020-07-07    351109868        Arnold      NaN\n63084    41819844  608721256  2020-02-21    335879956         Caleb      NaN\n63896    37928349  567345436  2019-11-22      1245695         Chris      NaN\n64393     5519383  444152220  2019-04-27    254472243      Léontine      NaN\n83915    28857428  438745007  2019-04-17    104602938       Mohamed      NaN\n90953    12303582  129074900  2017-01-29     55148486        Daniel      NaN\n91037    32252697  561958792  2019-11-10    286000490        Kiitan      NaN\n93252    38140431  579312885  2019-12-20      4654583         Aaron      NaN\n95421    16821709  585889460  2020-01-01    299451077            재영      NaN\n97453    42081759  700365243  2020-10-14    368150681        Oliver      NaN\n99881    34085325  489168669  2019-07-16    263010602         Janka      NaN",
      "text/html": "<div>\n<style scoped>\n    .dataframe tbody tr th:only-of-type {\n        vertical-align: middle;\n    }\n\n    .dataframe tbody tr th {\n        vertical-align: top;\n    }\n\n    .dataframe thead th {\n        text-align: right;\n    }\n</style>\n<table border=\"1\" class=\"dataframe\">\n  <thead>\n    <tr style=\"text-align: right;\">\n      <th></th>\n      <th>listing_id</th>\n      <th>id</th>\n      <th>date</th>\n      <th>reviewer_id</th>\n      <th>reviewer_name</th>\n      <th>comments</th>\n    </tr>\n  </thead>\n  <tbody>\n    <tr>\n      <th>4364</th>\n      <td>24425123</td>\n      <td>619002895</td>\n      <td>2020-03-16</td>\n      <td>272113241</td>\n      <td>Christopher</td>\n      <td>NaN</td>\n    </tr>\n    <tr>\n      <th>6290</th>\n      <td>14720793</td>\n      <td>193680502</td>\n      <td>2017-09-14</td>\n      <td>36572256</td>\n      <td>Ryan</td>\n      <td>NaN</td>\n    </tr>\n    <tr>\n      <th>7833</th>\n      <td>37280381</td>\n      <td>609618747</td>\n      <td>2020-02-23</td>\n      <td>107140807</td>\n      <td>Taylor</td>\n      <td>NaN</td>\n    </tr>\n    <tr>\n      <th>17327</th>\n      <td>48659789</td>\n      <td>746041462</td>\n      <td>2021-04-05</td>\n      <td>391380202</td>\n      <td>Waseem</td>\n      <td>NaN</td>\n    </tr>\n    <tr>\n      <th>21088</th>\n      <td>26155126</td>\n      <td>346314858</td>\n      <td>2018-11-08</td>\n      <td>5848520</td>\n      <td>Julia</td>\n      <td>NaN</td>\n    </tr>\n    <tr>\n      <th>22736</th>\n      <td>16850740</td>\n      <td>329227218</td>\n      <td>2018-09-28</td>\n      <td>80971223</td>\n      <td>Daniel</td>\n      <td>NaN</td>\n    </tr>\n    <tr>\n      <th>24393</th>\n      <td>34419721</td>\n      <td>546929227</td>\n      <td>2019-10-14</td>\n      <td>274694990</td>\n      <td>Bartłomiej</td>\n      <td>NaN</td>\n    </tr>\n    <tr>\n      <th>30406</th>\n      <td>16991832</td>\n      <td>424937796</td>\n      <td>2019-03-17</td>\n      <td>246808558</td>\n      <td>Niklas</td>\n      <td>NaN</td>\n    </tr>\n    <tr>\n      <th>33399</th>\n      <td>615456</td>\n      <td>587644786</td>\n      <td>2020-01-03</td>\n      <td>285214164</td>\n      <td>Tom</td>\n      <td>NaN</td>\n    </tr>\n    <tr>\n      <th>35118</th>\n      <td>24669933</td>\n      <td>444834813</td>\n      <td>2019-04-28</td>\n      <td>1725913</td>\n      <td>Sophie</td>\n      <td>NaN</td>\n    </tr>\n    <tr>\n      <th>35126</th>\n      <td>175892</td>\n      <td>355207973</td>\n      <td>2018-12-03</td>\n      <td>10933336</td>\n      <td>Connor</td>\n      <td>NaN</td>\n    </tr>\n    <tr>\n      <th>42616</th>\n      <td>40894137</td>\n      <td>591429105</td>\n      <td>2020-01-11</td>\n      <td>232544359</td>\n      <td>Hasan</td>\n      <td>NaN</td>\n    </tr>\n    <tr>\n      <th>42824</th>\n      <td>10890946</td>\n      <td>571442074</td>\n      <td>2019-12-01</td>\n      <td>162602998</td>\n      <td>Yue</td>\n      <td>NaN</td>\n    </tr>\n    <tr>\n      <th>46667</th>\n      <td>6583627</td>\n      <td>134800716</td>\n      <td>2017-03-01</td>\n      <td>51275103</td>\n      <td>Richard</td>\n      <td>NaN</td>\n    </tr>\n    <tr>\n      <th>47162</th>\n      <td>17875763</td>\n      <td>419622850</td>\n      <td>2019-03-04</td>\n      <td>43078678</td>\n      <td>Sam</td>\n      <td>NaN</td>\n    </tr>\n    <tr>\n      <th>49034</th>\n      <td>1616435</td>\n      <td>121470438</td>\n      <td>2016-12-17</td>\n      <td>77871702</td>\n      <td>Dato</td>\n      <td>NaN</td>\n    </tr>\n    <tr>\n      <th>49664</th>\n      <td>21796707</td>\n      <td>353279825</td>\n      <td>2018-11-27</td>\n      <td>135346125</td>\n      <td>Bouchra</td>\n      <td>NaN</td>\n    </tr>\n    <tr>\n      <th>51451</th>\n      <td>42681833</td>\n      <td>637755225</td>\n      <td>2020-07-13</td>\n      <td>22140615</td>\n      <td>Gaelle</td>\n      <td>NaN</td>\n    </tr>\n    <tr>\n      <th>53307</th>\n      <td>45218175</td>\n      <td>671462587</td>\n      <td>2020-10-05</td>\n      <td>51503855</td>\n      <td>Jem</td>\n      <td>NaN</td>\n    </tr>\n    <tr>\n      <th>54325</th>\n      <td>13499733</td>\n      <td>609802498</td>\n      <td>2020-02-23</td>\n      <td>139343699</td>\n      <td>Stephie</td>\n      <td>NaN</td>\n    </tr>\n    <tr>\n      <th>54479</th>\n      <td>9087606</td>\n      <td>552332370</td>\n      <td>2019-10-21</td>\n      <td>243926258</td>\n      <td>Leino</td>\n      <td>NaN</td>\n    </tr>\n    <tr>\n      <th>54850</th>\n      <td>39075750</td>\n      <td>580797143</td>\n      <td>2019-12-23</td>\n      <td>262547566</td>\n      <td>Yağmur</td>\n      <td>NaN</td>\n    </tr>\n    <tr>\n      <th>59378</th>\n      <td>24965799</td>\n      <td>286090304</td>\n      <td>2018-07-05</td>\n      <td>197288476</td>\n      <td>Qing</td>\n      <td>NaN</td>\n    </tr>\n    <tr>\n      <th>59827</th>\n      <td>29294439</td>\n      <td>496189348</td>\n      <td>2019-07-27</td>\n      <td>270382867</td>\n      <td>Dorothea</td>\n      <td>NaN</td>\n    </tr>\n    <tr>\n      <th>59837</th>\n      <td>36622164</td>\n      <td>546234020</td>\n      <td>2019-10-13</td>\n      <td>217249465</td>\n      <td>Jolanda</td>\n      <td>NaN</td>\n    </tr>\n    <tr>\n      <th>62318</th>\n      <td>21135573</td>\n      <td>635679457</td>\n      <td>2020-07-07</td>\n      <td>351109868</td>\n      <td>Arnold</td>\n      <td>NaN</td>\n    </tr>\n    <tr>\n      <th>63084</th>\n      <td>41819844</td>\n      <td>608721256</td>\n      <td>2020-02-21</td>\n      <td>335879956</td>\n      <td>Caleb</td>\n      <td>NaN</td>\n    </tr>\n    <tr>\n      <th>63896</th>\n      <td>37928349</td>\n      <td>567345436</td>\n      <td>2019-11-22</td>\n      <td>1245695</td>\n      <td>Chris</td>\n      <td>NaN</td>\n    </tr>\n    <tr>\n      <th>64393</th>\n      <td>5519383</td>\n      <td>444152220</td>\n      <td>2019-04-27</td>\n      <td>254472243</td>\n      <td>Léontine</td>\n      <td>NaN</td>\n    </tr>\n    <tr>\n      <th>83915</th>\n      <td>28857428</td>\n      <td>438745007</td>\n      <td>2019-04-17</td>\n      <td>104602938</td>\n      <td>Mohamed</td>\n      <td>NaN</td>\n    </tr>\n    <tr>\n      <th>90953</th>\n      <td>12303582</td>\n      <td>129074900</td>\n      <td>2017-01-29</td>\n      <td>55148486</td>\n      <td>Daniel</td>\n      <td>NaN</td>\n    </tr>\n    <tr>\n      <th>91037</th>\n      <td>32252697</td>\n      <td>561958792</td>\n      <td>2019-11-10</td>\n      <td>286000490</td>\n      <td>Kiitan</td>\n      <td>NaN</td>\n    </tr>\n    <tr>\n      <th>93252</th>\n      <td>38140431</td>\n      <td>579312885</td>\n      <td>2019-12-20</td>\n      <td>4654583</td>\n      <td>Aaron</td>\n      <td>NaN</td>\n    </tr>\n    <tr>\n      <th>95421</th>\n      <td>16821709</td>\n      <td>585889460</td>\n      <td>2020-01-01</td>\n      <td>299451077</td>\n      <td>재영</td>\n      <td>NaN</td>\n    </tr>\n    <tr>\n      <th>97453</th>\n      <td>42081759</td>\n      <td>700365243</td>\n      <td>2020-10-14</td>\n      <td>368150681</td>\n      <td>Oliver</td>\n      <td>NaN</td>\n    </tr>\n    <tr>\n      <th>99881</th>\n      <td>34085325</td>\n      <td>489168669</td>\n      <td>2019-07-16</td>\n      <td>263010602</td>\n      <td>Janka</td>\n      <td>NaN</td>\n    </tr>\n  </tbody>\n</table>\n</div>"
     },
     "metadata": {}
    }
   ]
  },
  {
   "cell_type": "code",
   "metadata": {
    "tags": [],
    "cell_id": "00001-7125fff5-93a5-428a-ba94-7f2e6e86e6e6",
    "deepnote_to_be_reexecuted": false,
    "source_hash": "307a976d",
    "execution_start": 1633413723871,
    "execution_millis": 8,
    "deepnote_cell_type": "code"
   },
   "source": "import nltk\nfrom nltk.sentiment.vader import SentimentIntensityAnalyzer\nnltk.download('vader_lexicon')\nscorer = SentimentIntensityAnalyzer()",
   "execution_count": null,
   "outputs": [
    {
     "name": "stderr",
     "text": "[nltk_data] Downloading package vader_lexicon to /root/nltk_data...\n[nltk_data]   Package vader_lexicon is already up-to-date!\n",
     "output_type": "stream"
    }
   ]
  },
  {
   "cell_type": "code",
   "metadata": {
    "tags": [],
    "cell_id": "00002-bce63f66-ae61-4cbb-968b-4632596f195e",
    "deepnote_to_be_reexecuted": false,
    "source_hash": "978c2fd4",
    "execution_start": 1633413757519,
    "execution_millis": 1,
    "deepnote_cell_type": "code"
   },
   "source": "print(scorer.polarity_scores(\"I hate you!\")['compound'])",
   "execution_count": null,
   "outputs": [
    {
     "name": "stdout",
     "text": "-0.6114\n",
     "output_type": "stream"
    }
   ]
  },
  {
   "cell_type": "markdown",
   "source": "<a style='text-decoration:none;line-height:16px;display:flex;color:#5B5B62;padding:10px;justify-content:end;' href='https://deepnote.com?utm_source=created-in-deepnote-cell&projectId=2c6f047c-21a6-4149-814c-b3f60a9bf973' target=\"_blank\">\n<img alt='Created in deepnote.com' style='display:inline;max-height:16px;margin:0px;margin-right:7.5px;' src='data:image/svg+xml;base64,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' > </img>\nCreated in <span style='font-weight:600;margin-left:4px;'>Deepnote</span></a>",
   "metadata": {
    "tags": [],
    "created_in_deepnote_cell": true,
    "deepnote_cell_type": "markdown"
   }
  }
 ],
 "nbformat": 4,
 "nbformat_minor": 2,
 "metadata": {
  "orig_nbformat": 2,
  "deepnote": {
   "is_reactive": false
  },
  "deepnote_notebook_id": "f903dc7c-512e-4d13-a969-bc45549405b0",
  "deepnote_execution_queue": []
 }
}