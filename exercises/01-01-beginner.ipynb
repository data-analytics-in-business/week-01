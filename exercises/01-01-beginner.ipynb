{
 "cells": [
  {
   "cell_type": "markdown",
   "source": "# Exercises - Beginner\nSome chat about this notebook...\n\nFor these exercises, we are going to be using the Pandas Python package, so the first thing to do is to import Pandas. To do this, click on the code block below and press the 'Run' button to the left.",
   "metadata": {
    "tags": [],
    "cell_id": "00000-ae602580-ec42-451a-ac0c-4d077cd699b3",
    "deepnote_cell_type": "markdown"
   }
  },
  {
   "cell_type": "code",
   "metadata": {
    "tags": [],
    "cell_id": "00000-902e64de-aa48-40a4-b837-334195ef5932",
    "deepnote_to_be_reexecuted": false,
    "source_hash": "9b82ee11",
    "execution_start": 1633344960493,
    "execution_millis": 2,
    "deepnote_cell_type": "code"
   },
   "source": "import pandas as pd",
   "execution_count": 1,
   "outputs": []
  },
  {
   "cell_type": "markdown",
   "source": "## Creating data\nPandas uses DataFrame's. Let's create one.",
   "metadata": {
    "tags": [],
    "cell_id": "00001-4c3f8a85-f521-485b-b9ec-6b911ffe7bf3",
    "deepnote_cell_type": "markdown"
   }
  },
  {
   "cell_type": "code",
   "source": "df = pd.DataFrame([[1, 2, 3], [4, 5, 6], [7, 8, 9]],columns=['a', 'b', 'c'])",
   "metadata": {
    "tags": [],
    "cell_id": "00003-a6b0af1e-3cf5-423e-8100-c54cd5afc968",
    "deepnote_to_be_reexecuted": false,
    "source_hash": "e01bf4b9",
    "execution_start": 1633345017399,
    "execution_millis": 4,
    "deepnote_cell_type": "code"
   },
   "outputs": [],
   "execution_count": 3
  },
  {
   "cell_type": "code",
   "source": "df.head()",
   "metadata": {
    "tags": [],
    "cell_id": "00004-c8ba9936-3c4d-464c-b582-804cbddcd1c1",
    "deepnote_to_be_reexecuted": false,
    "source_hash": "c085b6ba",
    "execution_start": 1633345037328,
    "execution_millis": 23,
    "deepnote_cell_type": "code"
   },
   "outputs": [
    {
     "output_type": "execute_result",
     "execution_count": 4,
     "data": {
      "application/vnd.deepnote.dataframe.v2+json": {
       "row_count": 3,
       "column_count": 3,
       "columns": [
        {
         "name": "a",
         "dtype": "int64",
         "stats": {
          "unique_count": 3,
          "nan_count": 0,
          "min": "1",
          "max": "7",
          "histogram": [
           {
            "bin_start": 1,
            "bin_end": 1.6,
            "count": 1
           },
           {
            "bin_start": 1.6,
            "bin_end": 2.2,
            "count": 0
           },
           {
            "bin_start": 2.2,
            "bin_end": 2.8,
            "count": 0
           },
           {
            "bin_start": 2.8,
            "bin_end": 3.4,
            "count": 0
           },
           {
            "bin_start": 3.4,
            "bin_end": 4,
            "count": 0
           },
           {
            "bin_start": 4,
            "bin_end": 4.6,
            "count": 1
           },
           {
            "bin_start": 4.6,
            "bin_end": 5.2,
            "count": 0
           },
           {
            "bin_start": 5.2,
            "bin_end": 5.8,
            "count": 0
           },
           {
            "bin_start": 5.8,
            "bin_end": 6.3999999999999995,
            "count": 0
           },
           {
            "bin_start": 6.3999999999999995,
            "bin_end": 7,
            "count": 1
           }
          ]
         }
        },
        {
         "name": "b",
         "dtype": "int64",
         "stats": {
          "unique_count": 3,
          "nan_count": 0,
          "min": "2",
          "max": "8",
          "histogram": [
           {
            "bin_start": 2,
            "bin_end": 2.6,
            "count": 1
           },
           {
            "bin_start": 2.6,
            "bin_end": 3.2,
            "count": 0
           },
           {
            "bin_start": 3.2,
            "bin_end": 3.8,
            "count": 0
           },
           {
            "bin_start": 3.8,
            "bin_end": 4.4,
            "count": 0
           },
           {
            "bin_start": 4.4,
            "bin_end": 5,
            "count": 0
           },
           {
            "bin_start": 5,
            "bin_end": 5.6,
            "count": 1
           },
           {
            "bin_start": 5.6,
            "bin_end": 6.2,
            "count": 0
           },
           {
            "bin_start": 6.2,
            "bin_end": 6.8,
            "count": 0
           },
           {
            "bin_start": 6.8,
            "bin_end": 7.3999999999999995,
            "count": 0
           },
           {
            "bin_start": 7.3999999999999995,
            "bin_end": 8,
            "count": 1
           }
          ]
         }
        },
        {
         "name": "c",
         "dtype": "int64",
         "stats": {
          "unique_count": 3,
          "nan_count": 0,
          "min": "3",
          "max": "9",
          "histogram": [
           {
            "bin_start": 3,
            "bin_end": 3.6,
            "count": 1
           },
           {
            "bin_start": 3.6,
            "bin_end": 4.2,
            "count": 0
           },
           {
            "bin_start": 4.2,
            "bin_end": 4.8,
            "count": 0
           },
           {
            "bin_start": 4.8,
            "bin_end": 5.4,
            "count": 0
           },
           {
            "bin_start": 5.4,
            "bin_end": 6,
            "count": 0
           },
           {
            "bin_start": 6,
            "bin_end": 6.6,
            "count": 1
           },
           {
            "bin_start": 6.6,
            "bin_end": 7.2,
            "count": 0
           },
           {
            "bin_start": 7.2,
            "bin_end": 7.8,
            "count": 0
           },
           {
            "bin_start": 7.8,
            "bin_end": 8.399999999999999,
            "count": 0
           },
           {
            "bin_start": 8.399999999999999,
            "bin_end": 9,
            "count": 1
           }
          ]
         }
        },
        {
         "name": "_deepnote_index_column",
         "dtype": "int64"
        }
       ],
       "rows_top": [
        {
         "a": 1,
         "b": 2,
         "c": 3,
         "_deepnote_index_column": 0
        },
        {
         "a": 4,
         "b": 5,
         "c": 6,
         "_deepnote_index_column": 1
        },
        {
         "a": 7,
         "b": 8,
         "c": 9,
         "_deepnote_index_column": 2
        }
       ],
       "rows_bottom": null
      },
      "text/plain": "   a  b  c\n0  1  2  3\n1  4  5  6\n2  7  8  9",
      "text/html": "<div>\n<style scoped>\n    .dataframe tbody tr th:only-of-type {\n        vertical-align: middle;\n    }\n\n    .dataframe tbody tr th {\n        vertical-align: top;\n    }\n\n    .dataframe thead th {\n        text-align: right;\n    }\n</style>\n<table border=\"1\" class=\"dataframe\">\n  <thead>\n    <tr style=\"text-align: right;\">\n      <th></th>\n      <th>a</th>\n      <th>b</th>\n      <th>c</th>\n    </tr>\n  </thead>\n  <tbody>\n    <tr>\n      <th>0</th>\n      <td>1</td>\n      <td>2</td>\n      <td>3</td>\n    </tr>\n    <tr>\n      <th>1</th>\n      <td>4</td>\n      <td>5</td>\n      <td>6</td>\n    </tr>\n    <tr>\n      <th>2</th>\n      <td>7</td>\n      <td>8</td>\n      <td>9</td>\n    </tr>\n  </tbody>\n</table>\n</div>"
     },
     "metadata": {}
    }
   ],
   "execution_count": 4
  },
  {
   "cell_type": "markdown",
   "source": "## Loading data\nGoing to use Pandas to load some csv data",
   "metadata": {
    "tags": [],
    "cell_id": "00003-1faf4e52-ad2f-4b91-8f0b-870a9779a0b9",
    "deepnote_cell_type": "markdown"
   }
  },
  {
   "cell_type": "markdown",
   "source": "### Loading data - paths\nSome simple tasks to help identify correct path (should be able to use nbviewer to check...)",
   "metadata": {
    "tags": [],
    "cell_id": "00002-53b0f087-2344-444b-850b-07f08897a2ec",
    "deepnote_cell_type": "markdown"
   }
  },
  {
   "cell_type": "markdown",
   "source": "### Loading data - parameters\nSome simple tasks to help identify correct path (should be able to use nbviewer to check...)",
   "metadata": {
    "tags": [],
    "cell_id": "00004-c24d60ea-03ec-479e-bbb8-5d71f769dd5b",
    "deepnote_cell_type": "markdown"
   }
  },
  {
   "cell_type": "code",
   "metadata": {
    "tags": [],
    "cell_id": "00005-efbf1d20-ae06-47e9-a5bb-bf8fa2b4482e",
    "deepnote_cell_type": "code"
   },
   "source": "",
   "execution_count": null,
   "outputs": []
  },
  {
   "cell_type": "code",
   "metadata": {
    "tags": [],
    "cell_id": "00001-b953a519-b97b-4e7e-952c-52d4b036e640",
    "deepnote_to_be_reexecuted": false,
    "source_hash": "557ba92b",
    "execution_start": 1633338227271,
    "execution_millis": 489,
    "deepnote_cell_type": "code"
   },
   "source": "# Have some exercises of paths!!! (e.g. \"load_test.csv\")\n# \ndf = pd.read_csv('../data/reviews_sample.csv')\n",
   "execution_count": null,
   "outputs": []
  },
  {
   "cell_type": "markdown",
   "source": "## Inspecting data\nBefore doing anything else, taks a look at the data...",
   "metadata": {
    "tags": [],
    "cell_id": "00005-33877b58-8192-49ea-9998-d68ee56df1c1",
    "deepnote_cell_type": "markdown"
   }
  },
  {
   "cell_type": "code",
   "metadata": {
    "tags": [],
    "cell_id": "00008-53332e98-8f41-4a70-a0fd-27387b6e439a",
    "deepnote_to_be_reexecuted": false,
    "source_hash": "c085b6ba",
    "execution_start": 1633338306455,
    "execution_millis": 42,
    "deepnote_cell_type": "code"
   },
   "source": "df.head()",
   "execution_count": null,
   "outputs": [
    {
     "output_type": "execute_result",
     "execution_count": 7,
     "data": {
      "application/vnd.deepnote.dataframe.v2+json": {
       "row_count": 5,
       "column_count": 6,
       "columns": [
        {
         "name": "listing_id",
         "dtype": "int64",
         "stats": {
          "unique_count": 5,
          "nan_count": 0,
          "min": "2569670",
          "max": "42826343",
          "histogram": [
           {
            "bin_start": 2569670,
            "bin_end": 6595337.3,
            "count": 1
           },
           {
            "bin_start": 6595337.3,
            "bin_end": 10621004.6,
            "count": 0
           },
           {
            "bin_start": 10621004.6,
            "bin_end": 14646671.899999999,
            "count": 1
           },
           {
            "bin_start": 14646671.899999999,
            "bin_end": 18672339.2,
            "count": 0
           },
           {
            "bin_start": 18672339.2,
            "bin_end": 22698006.5,
            "count": 1
           },
           {
            "bin_start": 22698006.5,
            "bin_end": 26723673.799999997,
            "count": 0
           },
           {
            "bin_start": 26723673.799999997,
            "bin_end": 30749341.099999998,
            "count": 0
           },
           {
            "bin_start": 30749341.099999998,
            "bin_end": 34775008.4,
            "count": 0
           },
           {
            "bin_start": 34775008.4,
            "bin_end": 38800675.699999996,
            "count": 1
           },
           {
            "bin_start": 38800675.699999996,
            "bin_end": 42826343,
            "count": 1
           }
          ]
         }
        },
        {
         "name": "id",
         "dtype": "int64",
         "stats": {
          "unique_count": 5,
          "nan_count": 0,
          "min": "168001492",
          "max": "658983935",
          "histogram": [
           {
            "bin_start": 168001492,
            "bin_end": 217099736.3,
            "count": 2
           },
           {
            "bin_start": 217099736.3,
            "bin_end": 266197980.6,
            "count": 1
           },
           {
            "bin_start": 266197980.6,
            "bin_end": 315296224.9,
            "count": 0
           },
           {
            "bin_start": 315296224.9,
            "bin_end": 364394469.2,
            "count": 0
           },
           {
            "bin_start": 364394469.2,
            "bin_end": 413492713.5,
            "count": 0
           },
           {
            "bin_start": 413492713.5,
            "bin_end": 462590957.79999995,
            "count": 0
           },
           {
            "bin_start": 462590957.79999995,
            "bin_end": 511689202.09999996,
            "count": 0
           },
           {
            "bin_start": 511689202.09999996,
            "bin_end": 560787446.4,
            "count": 1
           },
           {
            "bin_start": 560787446.4,
            "bin_end": 609885690.7,
            "count": 0
           },
           {
            "bin_start": 609885690.7,
            "bin_end": 658983935,
            "count": 1
           }
          ]
         }
        },
        {
         "name": "date",
         "dtype": "object",
         "stats": {
          "unique_count": 5,
          "nan_count": 0,
          "categories": [
           {
            "name": "2018-04-19",
            "count": 1
           },
           {
            "name": "2017-07-30",
            "count": 1
           },
           {
            "name": "3 others",
            "count": 3
           }
          ]
         }
        },
        {
         "name": "reviewer_id",
         "dtype": "int64",
         "stats": {
          "unique_count": 5,
          "nan_count": 0,
          "min": "16237647",
          "max": "259016500",
          "histogram": [
           {
            "bin_start": 16237647,
            "bin_end": 40515532.3,
            "count": 3
           },
           {
            "bin_start": 40515532.3,
            "bin_end": 64793417.6,
            "count": 0
           },
           {
            "bin_start": 64793417.6,
            "bin_end": 89071302.9,
            "count": 0
           },
           {
            "bin_start": 89071302.9,
            "bin_end": 113349188.2,
            "count": 1
           },
           {
            "bin_start": 113349188.2,
            "bin_end": 137627073.5,
            "count": 0
           },
           {
            "bin_start": 137627073.5,
            "bin_end": 161904958.8,
            "count": 0
           },
           {
            "bin_start": 161904958.8,
            "bin_end": 186182844.1,
            "count": 0
           },
           {
            "bin_start": 186182844.1,
            "bin_end": 210460729.4,
            "count": 0
           },
           {
            "bin_start": 210460729.4,
            "bin_end": 234738614.70000002,
            "count": 0
           },
           {
            "bin_start": 234738614.70000002,
            "bin_end": 259016500,
            "count": 1
           }
          ]
         }
        },
        {
         "name": "reviewer_name",
         "dtype": "object",
         "stats": {
          "unique_count": 5,
          "nan_count": 0,
          "categories": [
           {
            "name": "Markus",
            "count": 1
           },
           {
            "name": "Analyn",
            "count": 1
           },
           {
            "name": "3 others",
            "count": 3
           }
          ]
         }
        },
        {
         "name": "comments",
         "dtype": "object",
         "stats": {
          "unique_count": 5,
          "nan_count": 0,
          "categories": [
           {
            "name": "Good location...a bit difficult to find though.\nOverall, ok.",
            "count": 1
           },
           {
            "name": "The bedroom and shower room in the appartment of Darius are clean. The little garden is so nice and a very calm place. Walking distance to the bus stop.",
            "count": 1
           },
           {
            "name": "3 others",
            "count": 3
           }
          ]
         }
        },
        {
         "name": "_deepnote_index_column",
         "dtype": "int64"
        }
       ],
       "rows_top": [
        {
         "listing_id": 21963071,
         "id": 255127084,
         "date": "2018-04-19",
         "reviewer_id": 27984644,
         "reviewer_name": "Markus",
         "comments": "Good location...a bit difficult to find though.\nOverall, ok.",
         "_deepnote_index_column": 0
        },
        {
         "listing_id": 14521008,
         "id": 176119410,
         "date": "2017-07-30",
         "reviewer_id": 102326588,
         "reviewer_name": "Analyn",
         "comments": "The bedroom and shower room in the appartment of Darius are clean. The little garden is so nice and…",
         "_deepnote_index_column": 1
        },
        {
         "listing_id": 42826343,
         "id": 658983935,
         "date": "2020-08-31",
         "reviewer_id": 259016500,
         "reviewer_name": "Yasir",
         "comments": "Great hostel, accommodating and good services, clean and enjoyable. Slightly loud at night but othe…",
         "_deepnote_index_column": 2
        },
        {
         "listing_id": 35711951,
         "id": 547539260,
         "date": "2019-10-15",
         "reviewer_id": 31054247,
         "reviewer_name": "지원",
         "comments": "위치가 킹스크로스 앞이라 너무 좋았어요!\n방음이 잘 안돼고, 바람이 조금 들어와서 추웠지만 나름 괜찮았어요! 샤워할때 수압이 조금 낮아서 불편했지만 물온도는 맘대로 설정가능합니다…",
         "_deepnote_index_column": 3
        },
        {
         "listing_id": 2569670,
         "id": 168001492,
         "date": "2017-07-08",
         "reviewer_id": 16237647,
         "reviewer_name": "Martha",
         "comments": "This apartment is close to public transportation which made it really easy to get around. Pepe is q…",
         "_deepnote_index_column": 4
        }
       ],
       "rows_bottom": null
      },
      "text/plain": "   listing_id         id        date  reviewer_id reviewer_name  \\\n0    21963071  255127084  2018-04-19     27984644        Markus   \n1    14521008  176119410  2017-07-30    102326588        Analyn   \n2    42826343  658983935  2020-08-31    259016500         Yasir   \n3    35711951  547539260  2019-10-15     31054247            지원   \n4     2569670  168001492  2017-07-08     16237647        Martha   \n\n                                            comments  \n0  Good location...a bit difficult to find though...  \n1  The bedroom and shower room in the appartment ...  \n2  Great hostel, accommodating and good services,...  \n3  위치가 킹스크로스 앞이라 너무 좋았어요!\\n방음이 잘 안돼고, 바람이 조금 들어와서...  \n4  This apartment is close to public transportati...  ",
      "text/html": "<div>\n<style scoped>\n    .dataframe tbody tr th:only-of-type {\n        vertical-align: middle;\n    }\n\n    .dataframe tbody tr th {\n        vertical-align: top;\n    }\n\n    .dataframe thead th {\n        text-align: right;\n    }\n</style>\n<table border=\"1\" class=\"dataframe\">\n  <thead>\n    <tr style=\"text-align: right;\">\n      <th></th>\n      <th>listing_id</th>\n      <th>id</th>\n      <th>date</th>\n      <th>reviewer_id</th>\n      <th>reviewer_name</th>\n      <th>comments</th>\n    </tr>\n  </thead>\n  <tbody>\n    <tr>\n      <th>0</th>\n      <td>21963071</td>\n      <td>255127084</td>\n      <td>2018-04-19</td>\n      <td>27984644</td>\n      <td>Markus</td>\n      <td>Good location...a bit difficult to find though...</td>\n    </tr>\n    <tr>\n      <th>1</th>\n      <td>14521008</td>\n      <td>176119410</td>\n      <td>2017-07-30</td>\n      <td>102326588</td>\n      <td>Analyn</td>\n      <td>The bedroom and shower room in the appartment ...</td>\n    </tr>\n    <tr>\n      <th>2</th>\n      <td>42826343</td>\n      <td>658983935</td>\n      <td>2020-08-31</td>\n      <td>259016500</td>\n      <td>Yasir</td>\n      <td>Great hostel, accommodating and good services,...</td>\n    </tr>\n    <tr>\n      <th>3</th>\n      <td>35711951</td>\n      <td>547539260</td>\n      <td>2019-10-15</td>\n      <td>31054247</td>\n      <td>지원</td>\n      <td>위치가 킹스크로스 앞이라 너무 좋았어요!\\n방음이 잘 안돼고, 바람이 조금 들어와서...</td>\n    </tr>\n    <tr>\n      <th>4</th>\n      <td>2569670</td>\n      <td>168001492</td>\n      <td>2017-07-08</td>\n      <td>16237647</td>\n      <td>Martha</td>\n      <td>This apartment is close to public transportati...</td>\n    </tr>\n  </tbody>\n</table>\n</div>"
     },
     "metadata": {}
    }
   ]
  },
  {
   "cell_type": "markdown",
   "source": "## Querying data\nPandas can be used to retrieve slices of data, like a DB. Let's look at some slices of the data.",
   "metadata": {
    "tags": [],
    "cell_id": "00008-1acab1fc-a5f3-425a-9155-6c95350d312a",
    "deepnote_cell_type": "markdown"
   }
  },
  {
   "cell_type": "markdown",
   "source": "### Querying data - by date\nA common way to query data is by date. Old data, recebt data, data from a particular day.",
   "metadata": {
    "tags": [],
    "cell_id": "00010-ac588612-a81b-40dd-bf80-ca42f4b4fa35",
    "deepnote_cell_type": "markdown"
   }
  },
  {
   "cell_type": "code",
   "metadata": {
    "tags": [],
    "cell_id": "00010-b550fd91-5eeb-4183-b365-af3dd5e5e58c",
    "deepnote_cell_type": "code"
   },
   "source": "df[dd['date']]",
   "execution_count": null,
   "outputs": []
  },
  {
   "cell_type": "markdown",
   "source": "<a style='text-decoration:none;line-height:16px;display:flex;color:#5B5B62;padding:10px;justify-content:end;' href='https://deepnote.com?utm_source=created-in-deepnote-cell&projectId=2c6f047c-21a6-4149-814c-b3f60a9bf973' target=\"_blank\">\n<img alt='Created in deepnote.com' style='display:inline;max-height:16px;margin:0px;margin-right:7.5px;' src='data:image/svg+xml;base64,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' > </img>\nCreated in <span style='font-weight:600;margin-left:4px;'>Deepnote</span></a>",
   "metadata": {
    "tags": [],
    "created_in_deepnote_cell": true,
    "deepnote_cell_type": "markdown"
   }
  }
 ],
 "nbformat": 4,
 "nbformat_minor": 2,
 "metadata": {
  "orig_nbformat": 2,
  "deepnote": {
   "is_reactive": false
  },
  "deepnote_notebook_id": "87ff6789-7acc-4957-bd4c-e3ad91dd050a",
  "deepnote_execution_queue": []
 }
}