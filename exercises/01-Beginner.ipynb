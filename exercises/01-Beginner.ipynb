{
 "cells": [
  {
   "cell_type": "markdown",
   "source": "# 01-Beginner: Pandas essentials\nFor these exercises, we are going to be using the [Pandas](https://pandas.pydata.org/about/) Python package, so the first thing to do is to import Pandas. To do this, click on the code block below and press the 'Run' button to the left.",
   "metadata": {
    "tags": [],
    "cell_id": "00000-ae602580-ec42-451a-ac0c-4d077cd699b3",
    "deepnote_cell_type": "markdown"
   }
  },
  {
   "cell_type": "code",
   "metadata": {
    "tags": [],
    "cell_id": "00000-902e64de-aa48-40a4-b837-334195ef5932",
    "deepnote_to_be_reexecuted": false,
    "source_hash": "9b82ee11",
    "execution_start": 1633444928388,
    "execution_millis": 1,
    "deepnote_cell_type": "code"
   },
   "source": "import pandas as pd",
   "outputs": [],
   "execution_count": 2
  },
  {
   "cell_type": "markdown",
   "source": "## Creating data\nPandas uses `DataFrame` to store and manipulate data. Run the code below to create a `DataFrame` using some simple test data. Here we have used the `head()` method to show (part of) the `DataFrame`.",
   "metadata": {
    "tags": [],
    "cell_id": "00003-1faf4e52-ad2f-4b91-8f0b-870a9779a0b9",
    "deepnote_cell_type": "markdown"
   }
  },
  {
   "cell_type": "code",
   "metadata": {
    "tags": [],
    "cell_id": "00003-b07c3acd-c2b1-4bb3-bdc1-fe1138dfbc2a",
    "deepnote_to_be_reexecuted": false,
    "source_hash": "459b66d0",
    "execution_start": 1633444993816,
    "execution_millis": 20,
    "deepnote_cell_type": "code"
   },
   "source": "df_test = pd.DataFrame(data=[['1',2,3.0],[4,'5',6],[0.07,88.0,999]],columns=['A','B','C'])\ndf_test.head()",
   "outputs": [
    {
     "output_type": "execute_result",
     "execution_count": 3,
     "data": {
      "application/vnd.deepnote.dataframe.v2+json": {
       "row_count": 3,
       "column_count": 3,
       "columns": [
        {
         "name": "A",
         "dtype": "object",
         "stats": {
          "unique_count": 3,
          "nan_count": 0,
          "categories": [
           {
            "name": "1",
            "count": 1
           },
           {
            "name": "4",
            "count": 1
           },
           {
            "name": "0.07",
            "count": 1
           }
          ]
         }
        },
        {
         "name": "B",
         "dtype": "object",
         "stats": {
          "unique_count": 3,
          "nan_count": 0,
          "categories": [
           {
            "name": "2",
            "count": 1
           },
           {
            "name": "5",
            "count": 1
           },
           {
            "name": "88.0",
            "count": 1
           }
          ]
         }
        },
        {
         "name": "C",
         "dtype": "float64",
         "stats": {
          "unique_count": 3,
          "nan_count": 0,
          "min": "3.0",
          "max": "999.0",
          "histogram": [
           {
            "bin_start": 3,
            "bin_end": 102.6,
            "count": 2
           },
           {
            "bin_start": 102.6,
            "bin_end": 202.2,
            "count": 0
           },
           {
            "bin_start": 202.2,
            "bin_end": 301.79999999999995,
            "count": 0
           },
           {
            "bin_start": 301.79999999999995,
            "bin_end": 401.4,
            "count": 0
           },
           {
            "bin_start": 401.4,
            "bin_end": 501,
            "count": 0
           },
           {
            "bin_start": 501,
            "bin_end": 600.5999999999999,
            "count": 0
           },
           {
            "bin_start": 600.5999999999999,
            "bin_end": 700.1999999999999,
            "count": 0
           },
           {
            "bin_start": 700.1999999999999,
            "bin_end": 799.8,
            "count": 0
           },
           {
            "bin_start": 799.8,
            "bin_end": 899.4,
            "count": 0
           },
           {
            "bin_start": 899.4,
            "bin_end": 999,
            "count": 1
           }
          ]
         }
        },
        {
         "name": "_deepnote_index_column",
         "dtype": "int64"
        }
       ],
       "rows_top": [
        {
         "A": "1",
         "B": "2",
         "C": 3,
         "_deepnote_index_column": 0
        },
        {
         "A": "4",
         "B": "5",
         "C": 6,
         "_deepnote_index_column": 1
        },
        {
         "A": "0.07",
         "B": "88.0",
         "C": 999,
         "_deepnote_index_column": 2
        }
       ],
       "rows_bottom": null
      },
      "text/plain": "      A     B      C\n0     1     2    3.0\n1     4     5    6.0\n2  0.07  88.0  999.0",
      "text/html": "<div>\n<style scoped>\n    .dataframe tbody tr th:only-of-type {\n        vertical-align: middle;\n    }\n\n    .dataframe tbody tr th {\n        vertical-align: top;\n    }\n\n    .dataframe thead th {\n        text-align: right;\n    }\n</style>\n<table border=\"1\" class=\"dataframe\">\n  <thead>\n    <tr style=\"text-align: right;\">\n      <th></th>\n      <th>A</th>\n      <th>B</th>\n      <th>C</th>\n    </tr>\n  </thead>\n  <tbody>\n    <tr>\n      <th>0</th>\n      <td>1</td>\n      <td>2</td>\n      <td>3.0</td>\n    </tr>\n    <tr>\n      <th>1</th>\n      <td>4</td>\n      <td>5</td>\n      <td>6.0</td>\n    </tr>\n    <tr>\n      <th>2</th>\n      <td>0.07</td>\n      <td>88.0</td>\n      <td>999.0</td>\n    </tr>\n  </tbody>\n</table>\n</div>"
     },
     "metadata": {}
    }
   ],
   "execution_count": 3
  },
  {
   "cell_type": "markdown",
   "source": "### Exercise-01: Heads and tails\nTry running the above code with `head()` replaced by `head(1)`, `head(2)`, and `head(3)`, respectively. Similarly, try running the above code with `head()` replaced by `tail(1)`, `tail(2)`, and `tail(3)`, respectively. What do `head()` and `tail()` do?",
   "metadata": {
    "tags": [],
    "cell_id": "00004-8dba1702-5da4-4a8c-90eb-47351c1bf7f1",
    "deepnote_cell_type": "markdown"
   }
  },
  {
   "cell_type": "markdown",
   "source": "## Saving data\nOften it is useful to save data. For example, we can save the previous test data to a comma-separated values (`.csv`) file by running the following code. After you have run the code, identify *where* the file was saved (i.e. which folder?).",
   "metadata": {
    "tags": [],
    "cell_id": "00003-1b041d66-2fd7-4cef-bc97-e5d581f92b84",
    "deepnote_cell_type": "markdown"
   }
  },
  {
   "cell_type": "code",
   "metadata": {
    "tags": [],
    "cell_id": "00004-9775519a-39fc-44e2-8a29-fef396c23cf8",
    "deepnote_to_be_reexecuted": false,
    "source_hash": "93a6ce11",
    "execution_start": 1633445277735,
    "execution_millis": 237,
    "deepnote_cell_type": "code"
   },
   "source": "df_test.to_csv('./test.csv')",
   "outputs": [],
   "execution_count": 4
  },
  {
   "cell_type": "markdown",
   "source": "### Exercise-02: Parents and siblings\nSometimes we need to save/load data not in the current directory. Run the code below to save the same test data to two other locations. After you have run the code, identify *where* the files were saved.",
   "metadata": {
    "tags": [],
    "cell_id": "00007-51592b93-3108-4bdd-aaa6-320790e0f876",
    "deepnote_cell_type": "markdown"
   }
  },
  {
   "cell_type": "code",
   "metadata": {
    "tags": [],
    "cell_id": "00008-3202a2d0-3dbb-4abe-a623-2f5628cba24f",
    "deepnote_cell_type": "code"
   },
   "source": "df_test.to_csv('../test_parent.csv')\ndf_test.to_csv('../data/test_sibling.csv')",
   "outputs": [],
   "execution_count": null
  },
  {
   "cell_type": "markdown",
   "source": "Before we move on, let's clean up the mess you made! Run the code below to remove the test `.csv` files we just created.",
   "metadata": {
    "tags": [],
    "cell_id": "00006-804e8199-0836-44ea-9b6e-e331377b8228",
    "deepnote_cell_type": "markdown"
   }
  },
  {
   "cell_type": "code",
   "metadata": {
    "tags": [],
    "cell_id": "00009-31d200fe-4f1d-411e-9138-23b630ce2716",
    "deepnote_to_be_reexecuted": false,
    "source_hash": "95261650",
    "execution_start": 1633432078251,
    "execution_millis": 784,
    "deepnote_cell_type": "code"
   },
   "source": "!rm ./test.csv\n!rm ../test_parent.csv\n!rm ../data/test_sibling.csv",
   "outputs": [],
   "execution_count": null
  },
  {
   "cell_type": "markdown",
   "source": "(Note that the above code uses `!` to run terminal commands from inside a notebook!) Cool, no?",
   "metadata": {
    "tags": [],
    "cell_id": "00011-77dc2a14-02e2-4d4a-98f4-9f6a04166abb",
    "deepnote_cell_type": "markdown"
   }
  },
  {
   "cell_type": "markdown",
   "source": "## Loading data\nOk, let's get started with some *real* data. To work with real data, we first need to load it. If the data is in a `.csv` file then we can load the data simply using the Pandas `read_csv` function. Run the code below to load the `listings_sample.csv` data into a Pandas `DataFrame`.",
   "metadata": {
    "tags": [],
    "cell_id": "00003-cf22710b-32cd-45aa-91a6-afc41122bf4a",
    "deepnote_cell_type": "markdown"
   }
  },
  {
   "cell_type": "code",
   "metadata": {
    "tags": [],
    "cell_id": "00001-b953a519-b97b-4e7e-952c-52d4b036e640",
    "deepnote_to_be_reexecuted": false,
    "source_hash": "162f1b4a",
    "execution_start": 1633446178299,
    "execution_millis": 929,
    "deepnote_cell_type": "code"
   },
   "source": "import pandas as pd\ndf_listings = pd.read_csv('../data/listings_sample.csv', \n                usecols=['host_id','id','name','room_type','price'])\ndf_listings.head()",
   "outputs": [
    {
     "output_type": "execute_result",
     "execution_count": 5,
     "data": {
      "application/vnd.deepnote.dataframe.v2+json": {
       "row_count": 5,
       "column_count": 5,
       "columns": [
        {
         "name": "host_id",
         "dtype": "int64",
         "stats": {
          "unique_count": 5,
          "nan_count": 0,
          "min": "43039",
          "max": "103583",
          "histogram": [
           {
            "bin_start": 43039,
            "bin_end": 49093.4,
            "count": 1
           },
           {
            "bin_start": 49093.4,
            "bin_end": 55147.8,
            "count": 1
           },
           {
            "bin_start": 55147.8,
            "bin_end": 61202.2,
            "count": 1
           },
           {
            "bin_start": 61202.2,
            "bin_end": 67256.6,
            "count": 0
           },
           {
            "bin_start": 67256.6,
            "bin_end": 73311,
            "count": 1
           },
           {
            "bin_start": 73311,
            "bin_end": 79365.4,
            "count": 0
           },
           {
            "bin_start": 79365.4,
            "bin_end": 85419.79999999999,
            "count": 0
           },
           {
            "bin_start": 85419.79999999999,
            "bin_end": 91474.2,
            "count": 0
           },
           {
            "bin_start": 91474.2,
            "bin_end": 97528.6,
            "count": 0
           },
           {
            "bin_start": 97528.6,
            "bin_end": 103583,
            "count": 1
           }
          ]
         }
        },
        {
         "name": "id",
         "dtype": "int64",
         "stats": {
          "unique_count": 5,
          "nan_count": 0,
          "min": "11551",
          "max": "25123",
          "histogram": [
           {
            "bin_start": 11551,
            "bin_end": 12908.2,
            "count": 1
           },
           {
            "bin_start": 12908.2,
            "bin_end": 14265.4,
            "count": 1
           },
           {
            "bin_start": 14265.4,
            "bin_end": 15622.6,
            "count": 1
           },
           {
            "bin_start": 15622.6,
            "bin_end": 16979.8,
            "count": 0
           },
           {
            "bin_start": 16979.8,
            "bin_end": 18337,
            "count": 1
           },
           {
            "bin_start": 18337,
            "bin_end": 19694.2,
            "count": 0
           },
           {
            "bin_start": 19694.2,
            "bin_end": 21051.4,
            "count": 0
           },
           {
            "bin_start": 21051.4,
            "bin_end": 22408.6,
            "count": 0
           },
           {
            "bin_start": 22408.6,
            "bin_end": 23765.800000000003,
            "count": 0
           },
           {
            "bin_start": 23765.800000000003,
            "bin_end": 25123,
            "count": 1
           }
          ]
         }
        },
        {
         "name": "name",
         "dtype": "object",
         "stats": {
          "unique_count": 5,
          "nan_count": 0,
          "categories": [
           {
            "name": "Arty and Bright London Apartment in Zone 2",
            "count": 1
           },
           {
            "name": "Holiday London DB Room Let-on going",
            "count": 1
           },
           {
            "name": "3 others",
            "count": 3
           }
          ]
         }
        },
        {
         "name": "room_type",
         "dtype": "object",
         "stats": {
          "unique_count": 2,
          "nan_count": 0,
          "categories": [
           {
            "name": "Entire home/apt",
            "count": 3
           },
           {
            "name": "Private room",
            "count": 2
           }
          ]
         }
        },
        {
         "name": "price",
         "dtype": "object",
         "stats": {
          "unique_count": 5,
          "nan_count": 0,
          "categories": [
           {
            "name": "$110.00",
            "count": 1
           },
           {
            "name": "$40.00",
            "count": 1
           },
           {
            "name": "3 others",
            "count": 3
           }
          ]
         }
        },
        {
         "name": "_deepnote_index_column",
         "dtype": "int64"
        }
       ],
       "rows_top": [
        {
         "host_id": 43039,
         "id": 11551,
         "name": "Arty and Bright London Apartment in Zone 2",
         "room_type": "Entire home/apt",
         "price": "$110.00",
         "_deepnote_index_column": 0
        },
        {
         "host_id": 54730,
         "id": 13913,
         "name": "Holiday London DB Room Let-on going",
         "room_type": "Private room",
         "price": "$40.00",
         "_deepnote_index_column": 1
        },
        {
         "host_id": 60302,
         "id": 15400,
         "name": "Bright Chelsea  Apartment. Chelsea!",
         "room_type": "Entire home/apt",
         "price": "$75.00",
         "_deepnote_index_column": 2
        },
        {
         "host_id": 67564,
         "id": 17402,
         "name": "Superb 3-Bed/2 Bath & Wifi: Trendy W1",
         "room_type": "Entire home/apt",
         "price": "$307.00",
         "_deepnote_index_column": 3
        },
        {
         "host_id": 103583,
         "id": 25123,
         "name": "Clean big Room in London (Room 1)",
         "room_type": "Private room",
         "price": "$29.00",
         "_deepnote_index_column": 4
        }
       ],
       "rows_bottom": null
      },
      "text/plain": "   host_id     id                                        name  \\\n0    43039  11551  Arty and Bright London Apartment in Zone 2   \n1    54730  13913         Holiday London DB Room Let-on going   \n2    60302  15400         Bright Chelsea  Apartment. Chelsea!   \n3    67564  17402       Superb 3-Bed/2 Bath & Wifi: Trendy W1   \n4   103583  25123           Clean big Room in London (Room 1)   \n\n         room_type    price  \n0  Entire home/apt  $110.00  \n1     Private room   $40.00  \n2  Entire home/apt   $75.00  \n3  Entire home/apt  $307.00  \n4     Private room   $29.00  ",
      "text/html": "<div>\n<style scoped>\n    .dataframe tbody tr th:only-of-type {\n        vertical-align: middle;\n    }\n\n    .dataframe tbody tr th {\n        vertical-align: top;\n    }\n\n    .dataframe thead th {\n        text-align: right;\n    }\n</style>\n<table border=\"1\" class=\"dataframe\">\n  <thead>\n    <tr style=\"text-align: right;\">\n      <th></th>\n      <th>host_id</th>\n      <th>id</th>\n      <th>name</th>\n      <th>room_type</th>\n      <th>price</th>\n    </tr>\n  </thead>\n  <tbody>\n    <tr>\n      <th>0</th>\n      <td>43039</td>\n      <td>11551</td>\n      <td>Arty and Bright London Apartment in Zone 2</td>\n      <td>Entire home/apt</td>\n      <td>$110.00</td>\n    </tr>\n    <tr>\n      <th>1</th>\n      <td>54730</td>\n      <td>13913</td>\n      <td>Holiday London DB Room Let-on going</td>\n      <td>Private room</td>\n      <td>$40.00</td>\n    </tr>\n    <tr>\n      <th>2</th>\n      <td>60302</td>\n      <td>15400</td>\n      <td>Bright Chelsea  Apartment. Chelsea!</td>\n      <td>Entire home/apt</td>\n      <td>$75.00</td>\n    </tr>\n    <tr>\n      <th>3</th>\n      <td>67564</td>\n      <td>17402</td>\n      <td>Superb 3-Bed/2 Bath &amp; Wifi: Trendy W1</td>\n      <td>Entire home/apt</td>\n      <td>$307.00</td>\n    </tr>\n    <tr>\n      <th>4</th>\n      <td>103583</td>\n      <td>25123</td>\n      <td>Clean big Room in London (Room 1)</td>\n      <td>Private room</td>\n      <td>$29.00</td>\n    </tr>\n  </tbody>\n</table>\n</div>"
     },
     "metadata": {}
    }
   ],
   "execution_count": 5
  },
  {
   "cell_type": "markdown",
   "source": "The data you just loaded relates to real listings on [Airbnb](airbnb.com), sampled from a dataset from the [Inside Airbnb](http://insideairbnb.com/about.html) website. Note how the `usecols` argument was used to specify which columns of the data to load.",
   "metadata": {
    "tags": [],
    "cell_id": "00014-c4625856-2b5b-4f6e-8b44-50852bf9aea2",
    "deepnote_cell_type": "markdown"
   }
  },
  {
   "cell_type": "markdown",
   "source": "### Exercise-03: Load host data\nNow it's time to try to load some data yourself. Using the code above as a guide, load the `hosts_sample.csv` file into a data-frame named `df_hosts` with columns `['id','host_name','host_since']`.",
   "metadata": {
    "tags": [],
    "cell_id": "00013-cb6fa3ea-2f15-412a-a889-eedc9c3491aa",
    "deepnote_cell_type": "markdown"
   }
  },
  {
   "cell_type": "code",
   "metadata": {
    "tags": [],
    "cell_id": "00014-7e16f38b-8009-4983-8bbc-b8566f4fb889",
    "deepnote_to_be_reexecuted": false,
    "source_hash": "ee5b1e3f",
    "execution_start": 1633446606151,
    "execution_millis": 30,
    "deepnote_cell_type": "code"
   },
   "source": "# (SOLUTION) Delete in public branch\ndf_hosts = pd.read_csv('../data/hosts_sample.csv', usecols=['id','host_name','host_since'])\ndf_hosts.head()",
   "outputs": [
    {
     "output_type": "execute_result",
     "execution_count": 6,
     "data": {
      "application/vnd.deepnote.dataframe.v2+json": {
       "row_count": 5,
       "column_count": 3,
       "columns": [
        {
         "name": "id",
         "dtype": "float64",
         "stats": {
          "unique_count": 5,
          "nan_count": 0,
          "min": "43039.0",
          "max": "103583.0",
          "histogram": [
           {
            "bin_start": 43039,
            "bin_end": 49093.4,
            "count": 1
           },
           {
            "bin_start": 49093.4,
            "bin_end": 55147.8,
            "count": 1
           },
           {
            "bin_start": 55147.8,
            "bin_end": 61202.2,
            "count": 1
           },
           {
            "bin_start": 61202.2,
            "bin_end": 67256.6,
            "count": 0
           },
           {
            "bin_start": 67256.6,
            "bin_end": 73311,
            "count": 1
           },
           {
            "bin_start": 73311,
            "bin_end": 79365.4,
            "count": 0
           },
           {
            "bin_start": 79365.4,
            "bin_end": 85419.79999999999,
            "count": 0
           },
           {
            "bin_start": 85419.79999999999,
            "bin_end": 91474.2,
            "count": 0
           },
           {
            "bin_start": 91474.2,
            "bin_end": 97528.6,
            "count": 0
           },
           {
            "bin_start": 97528.6,
            "bin_end": 103583,
            "count": 1
           }
          ]
         }
        },
        {
         "name": "host_name",
         "dtype": "object",
         "stats": {
          "unique_count": 5,
          "nan_count": 0,
          "categories": [
           {
            "name": "Adriano",
            "count": 1
           },
           {
            "name": "Alina",
            "count": 1
           },
           {
            "name": "3 others",
            "count": 3
           }
          ]
         }
        },
        {
         "name": "host_since",
         "dtype": "object",
         "stats": {
          "unique_count": 5,
          "nan_count": 0,
          "categories": [
           {
            "name": "2009-10-03",
            "count": 1
           },
           {
            "name": "2009-11-16",
            "count": 1
           },
           {
            "name": "3 others",
            "count": 3
           }
          ]
         }
        },
        {
         "name": "_deepnote_index_column",
         "dtype": "int64"
        }
       ],
       "rows_top": [
        {
         "id": 43039,
         "host_name": "Adriano",
         "host_since": "2009-10-03",
         "_deepnote_index_column": 0
        },
        {
         "id": 54730,
         "host_name": "Alina",
         "host_since": "2009-11-16",
         "_deepnote_index_column": 1
        },
        {
         "id": 60302,
         "host_name": "Philippa",
         "host_since": "2009-12-05",
         "_deepnote_index_column": 2
        },
        {
         "id": 67564,
         "host_name": "Liz",
         "host_since": "2010-01-04",
         "_deepnote_index_column": 3
        },
        {
         "id": 103583,
         "host_name": "Grace",
         "host_since": "2010-04-05",
         "_deepnote_index_column": 4
        }
       ],
       "rows_bottom": null
      },
      "text/plain": "         id host_name  host_since\n0   43039.0   Adriano  2009-10-03\n1   54730.0     Alina  2009-11-16\n2   60302.0  Philippa  2009-12-05\n3   67564.0       Liz  2010-01-04\n4  103583.0     Grace  2010-04-05",
      "text/html": "<div>\n<style scoped>\n    .dataframe tbody tr th:only-of-type {\n        vertical-align: middle;\n    }\n\n    .dataframe tbody tr th {\n        vertical-align: top;\n    }\n\n    .dataframe thead th {\n        text-align: right;\n    }\n</style>\n<table border=\"1\" class=\"dataframe\">\n  <thead>\n    <tr style=\"text-align: right;\">\n      <th></th>\n      <th>id</th>\n      <th>host_name</th>\n      <th>host_since</th>\n    </tr>\n  </thead>\n  <tbody>\n    <tr>\n      <th>0</th>\n      <td>43039.0</td>\n      <td>Adriano</td>\n      <td>2009-10-03</td>\n    </tr>\n    <tr>\n      <th>1</th>\n      <td>54730.0</td>\n      <td>Alina</td>\n      <td>2009-11-16</td>\n    </tr>\n    <tr>\n      <th>2</th>\n      <td>60302.0</td>\n      <td>Philippa</td>\n      <td>2009-12-05</td>\n    </tr>\n    <tr>\n      <th>3</th>\n      <td>67564.0</td>\n      <td>Liz</td>\n      <td>2010-01-04</td>\n    </tr>\n    <tr>\n      <th>4</th>\n      <td>103583.0</td>\n      <td>Grace</td>\n      <td>2010-04-05</td>\n    </tr>\n  </tbody>\n</table>\n</div>"
     },
     "metadata": {}
    }
   ],
   "execution_count": 6
  },
  {
   "cell_type": "markdown",
   "source": "## Preparing data\nOften the data we load for analysis comes with values we cannot immediately work with, and we need to remove/format those values to be able to do the analysis we want to do. ",
   "metadata": {
    "tags": [],
    "cell_id": "00013-9db7c868-bed5-4aa7-8b8b-fe85e456913c",
    "deepnote_cell_type": "markdown"
   }
  },
  {
   "cell_type": "code",
   "source": "sum(df_listings['price'].isna())",
   "metadata": {
    "tags": [],
    "cell_id": "00018-81fa3c13-10ea-46a3-a385-0399065c429a",
    "deepnote_cell_type": "code"
   },
   "outputs": [],
   "execution_count": null
  },
  {
   "cell_type": "markdown",
   "source": "As another example, the `price` column in `df_listings` contains [strings](https://www.w3schools.com/python/python_strings.asp) with currency symbols (e.g.`$`) and commas (e.g. `1,000,000`) and we would need to format these string values to a valid numerical/float value before we can use the values in the `price` column in an analysis.",
   "metadata": {
    "tags": [],
    "cell_id": "00018-b31575f8-f686-4f8a-8494-13da6bdf1c0b",
    "deepnote_cell_type": "markdown"
   }
  },
  {
   "cell_type": "code",
   "metadata": {
    "tags": [],
    "cell_id": "00014-833b123a-cdad-484c-b793-cfc5b6963fc4",
    "deepnote_to_be_reexecuted": false,
    "source_hash": "fa8d34f9",
    "execution_start": 1633436307810,
    "execution_millis": 36,
    "deepnote_cell_type": "code"
   },
   "source": "def format_price(price):\n    return(float(price.replace('$','').replace(',','')))\n\ndf_listings['price_$'] = df_listings['price'].apply(format_price)\ndf_listings[['price','price_$']].head()",
   "outputs": [
    {
     "output_type": "execute_result",
     "execution_count": 54,
     "data": {
      "application/vnd.deepnote.dataframe.v2+json": {
       "row_count": 5,
       "column_count": 2,
       "columns": [
        {
         "name": "price",
         "dtype": "object",
         "stats": {
          "unique_count": 5,
          "nan_count": 0,
          "categories": [
           {
            "name": "$110.00",
            "count": 1
           },
           {
            "name": "$40.00",
            "count": 1
           },
           {
            "name": "3 others",
            "count": 3
           }
          ]
         }
        },
        {
         "name": "price_$",
         "dtype": "float64",
         "stats": {
          "unique_count": 5,
          "nan_count": 0,
          "min": "29.0",
          "max": "307.0",
          "histogram": [
           {
            "bin_start": 29,
            "bin_end": 56.8,
            "count": 2
           },
           {
            "bin_start": 56.8,
            "bin_end": 84.6,
            "count": 1
           },
           {
            "bin_start": 84.6,
            "bin_end": 112.4,
            "count": 1
           },
           {
            "bin_start": 112.4,
            "bin_end": 140.2,
            "count": 0
           },
           {
            "bin_start": 140.2,
            "bin_end": 168,
            "count": 0
           },
           {
            "bin_start": 168,
            "bin_end": 195.8,
            "count": 0
           },
           {
            "bin_start": 195.8,
            "bin_end": 223.6,
            "count": 0
           },
           {
            "bin_start": 223.6,
            "bin_end": 251.4,
            "count": 0
           },
           {
            "bin_start": 251.4,
            "bin_end": 279.20000000000005,
            "count": 0
           },
           {
            "bin_start": 279.20000000000005,
            "bin_end": 307,
            "count": 1
           }
          ]
         }
        },
        {
         "name": "_deepnote_index_column",
         "dtype": "int64"
        }
       ],
       "rows_top": [
        {
         "price": "$110.00",
         "price_$": 110,
         "_deepnote_index_column": 0
        },
        {
         "price": "$40.00",
         "price_$": 40,
         "_deepnote_index_column": 1
        },
        {
         "price": "$75.00",
         "price_$": 75,
         "_deepnote_index_column": 2
        },
        {
         "price": "$307.00",
         "price_$": 307,
         "_deepnote_index_column": 3
        },
        {
         "price": "$29.00",
         "price_$": 29,
         "_deepnote_index_column": 4
        }
       ],
       "rows_bottom": null
      },
      "text/plain": "     price  price_$\n0  $110.00    110.0\n1   $40.00     40.0\n2   $75.00     75.0\n3  $307.00    307.0\n4   $29.00     29.0",
      "text/html": "<div>\n<style scoped>\n    .dataframe tbody tr th:only-of-type {\n        vertical-align: middle;\n    }\n\n    .dataframe tbody tr th {\n        vertical-align: top;\n    }\n\n    .dataframe thead th {\n        text-align: right;\n    }\n</style>\n<table border=\"1\" class=\"dataframe\">\n  <thead>\n    <tr style=\"text-align: right;\">\n      <th></th>\n      <th>price</th>\n      <th>price_$</th>\n    </tr>\n  </thead>\n  <tbody>\n    <tr>\n      <th>0</th>\n      <td>$110.00</td>\n      <td>110.0</td>\n    </tr>\n    <tr>\n      <th>1</th>\n      <td>$40.00</td>\n      <td>40.0</td>\n    </tr>\n    <tr>\n      <th>2</th>\n      <td>$75.00</td>\n      <td>75.0</td>\n    </tr>\n    <tr>\n      <th>3</th>\n      <td>$307.00</td>\n      <td>307.0</td>\n    </tr>\n    <tr>\n      <th>4</th>\n      <td>$29.00</td>\n      <td>29.0</td>\n    </tr>\n  </tbody>\n</table>\n</div>"
     },
     "metadata": {}
    }
   ],
   "execution_count": null
  },
  {
   "cell_type": "markdown",
   "source": "Note how we defined the `format_price` function and used the `apply` method.",
   "metadata": {
    "tags": [],
    "cell_id": "00017-99764fc9-f29f-4340-bb67-13f6a2468dfc",
    "deepnote_cell_type": "markdown"
   }
  },
  {
   "cell_type": "code",
   "metadata": {
    "tags": [],
    "cell_id": "00018-5f331fc3-fa47-4f24-9260-d9f23dfeb6da",
    "deepnote_to_be_reexecuted": false,
    "source_hash": "a41b6a6b",
    "execution_start": 1633438033266,
    "execution_millis": 27,
    "deepnote_cell_type": "code"
   },
   "source": "def get_year(host_since):\n    return(host_since.split('-')[0])\n\ndf_hosts['host_since_year'] = df_hosts['host_since'].apply(host_age_months)\ndf_hosts.head()",
   "outputs": [
    {
     "output_type": "error",
     "ename": "ValueError",
     "evalue": "time data 'nan' does not match format '%Y-%m-%d'",
     "traceback": [
      "\u001b[0;31m---------------------------------------------------------------------------\u001b[0m",
      "\u001b[0;31mValueError\u001b[0m                                Traceback (most recent call last)",
      "\u001b[0;32m/tmp/ipykernel_371/3088032342.py\u001b[0m in \u001b[0;36m<module>\u001b[0;34m\u001b[0m\n\u001b[1;32m      2\u001b[0m     \u001b[0;32mreturn\u001b[0m\u001b[0;34m(\u001b[0m\u001b[0mhost_since\u001b[0m\u001b[0;34m.\u001b[0m\u001b[0msplit\u001b[0m\u001b[0;34m(\u001b[0m\u001b[0;34m'-'\u001b[0m\u001b[0;34m)\u001b[0m\u001b[0;34m[\u001b[0m\u001b[0;36m0\u001b[0m\u001b[0;34m]\u001b[0m\u001b[0;34m)\u001b[0m\u001b[0;34m\u001b[0m\u001b[0;34m\u001b[0m\u001b[0m\n\u001b[1;32m      3\u001b[0m \u001b[0;34m\u001b[0m\u001b[0m\n\u001b[0;32m----> 4\u001b[0;31m \u001b[0mdf_hosts\u001b[0m\u001b[0;34m[\u001b[0m\u001b[0;34m'host_since_year'\u001b[0m\u001b[0;34m]\u001b[0m \u001b[0;34m=\u001b[0m \u001b[0mdf_hosts\u001b[0m\u001b[0;34m[\u001b[0m\u001b[0;34m'host_since'\u001b[0m\u001b[0;34m]\u001b[0m\u001b[0;34m.\u001b[0m\u001b[0mapply\u001b[0m\u001b[0;34m(\u001b[0m\u001b[0mhost_age_months\u001b[0m\u001b[0;34m)\u001b[0m\u001b[0;34m\u001b[0m\u001b[0;34m\u001b[0m\u001b[0m\n\u001b[0m\u001b[1;32m      5\u001b[0m \u001b[0mdf_hosts\u001b[0m\u001b[0;34m.\u001b[0m\u001b[0mhead\u001b[0m\u001b[0;34m(\u001b[0m\u001b[0;34m)\u001b[0m\u001b[0;34m\u001b[0m\u001b[0;34m\u001b[0m\u001b[0m\n",
      "\u001b[0;32m/shared-libs/python3.7/py/lib/python3.7/site-packages/pandas/core/series.py\u001b[0m in \u001b[0;36mapply\u001b[0;34m(self, func, convert_dtype, args, **kwds)\u001b[0m\n\u001b[1;32m   4136\u001b[0m             \u001b[0;32melse\u001b[0m\u001b[0;34m:\u001b[0m\u001b[0;34m\u001b[0m\u001b[0;34m\u001b[0m\u001b[0m\n\u001b[1;32m   4137\u001b[0m                 \u001b[0mvalues\u001b[0m \u001b[0;34m=\u001b[0m \u001b[0mself\u001b[0m\u001b[0;34m.\u001b[0m\u001b[0mastype\u001b[0m\u001b[0;34m(\u001b[0m\u001b[0mobject\u001b[0m\u001b[0;34m)\u001b[0m\u001b[0;34m.\u001b[0m\u001b[0m_values\u001b[0m\u001b[0;34m\u001b[0m\u001b[0;34m\u001b[0m\u001b[0m\n\u001b[0;32m-> 4138\u001b[0;31m                 \u001b[0mmapped\u001b[0m \u001b[0;34m=\u001b[0m \u001b[0mlib\u001b[0m\u001b[0;34m.\u001b[0m\u001b[0mmap_infer\u001b[0m\u001b[0;34m(\u001b[0m\u001b[0mvalues\u001b[0m\u001b[0;34m,\u001b[0m \u001b[0mf\u001b[0m\u001b[0;34m,\u001b[0m \u001b[0mconvert\u001b[0m\u001b[0;34m=\u001b[0m\u001b[0mconvert_dtype\u001b[0m\u001b[0;34m)\u001b[0m\u001b[0;34m\u001b[0m\u001b[0;34m\u001b[0m\u001b[0m\n\u001b[0m\u001b[1;32m   4139\u001b[0m \u001b[0;34m\u001b[0m\u001b[0m\n\u001b[1;32m   4140\u001b[0m         \u001b[0;32mif\u001b[0m \u001b[0mlen\u001b[0m\u001b[0;34m(\u001b[0m\u001b[0mmapped\u001b[0m\u001b[0;34m)\u001b[0m \u001b[0;32mand\u001b[0m \u001b[0misinstance\u001b[0m\u001b[0;34m(\u001b[0m\u001b[0mmapped\u001b[0m\u001b[0;34m[\u001b[0m\u001b[0;36m0\u001b[0m\u001b[0;34m]\u001b[0m\u001b[0;34m,\u001b[0m \u001b[0mSeries\u001b[0m\u001b[0;34m)\u001b[0m\u001b[0;34m:\u001b[0m\u001b[0;34m\u001b[0m\u001b[0;34m\u001b[0m\u001b[0m\n",
      "\u001b[0;32mpandas/_libs/lib.pyx\u001b[0m in \u001b[0;36mpandas._libs.lib.map_infer\u001b[0;34m()\u001b[0m\n",
      "\u001b[0;32m/tmp/ipykernel_371/4167636118.py\u001b[0m in \u001b[0;36mhost_age_months\u001b[0;34m(host_since)\u001b[0m\n\u001b[1;32m      2\u001b[0m \u001b[0mtoday\u001b[0m \u001b[0;34m=\u001b[0m \u001b[0mdate\u001b[0m\u001b[0;34m.\u001b[0m\u001b[0mtoday\u001b[0m\u001b[0;34m(\u001b[0m\u001b[0;34m)\u001b[0m\u001b[0;34m\u001b[0m\u001b[0;34m\u001b[0m\u001b[0m\n\u001b[1;32m      3\u001b[0m \u001b[0;32mdef\u001b[0m \u001b[0mhost_age_months\u001b[0m\u001b[0;34m(\u001b[0m\u001b[0mhost_since\u001b[0m\u001b[0;34m)\u001b[0m\u001b[0;34m:\u001b[0m\u001b[0;34m\u001b[0m\u001b[0;34m\u001b[0m\u001b[0m\n\u001b[0;32m----> 4\u001b[0;31m     \u001b[0;32mreturn\u001b[0m\u001b[0;34m(\u001b[0m\u001b[0mdatetime\u001b[0m\u001b[0;34m.\u001b[0m\u001b[0mstrptime\u001b[0m\u001b[0;34m(\u001b[0m\u001b[0mstr\u001b[0m\u001b[0;34m(\u001b[0m\u001b[0mhost_since\u001b[0m\u001b[0;34m)\u001b[0m\u001b[0;34m,\u001b[0m \u001b[0;34m'%Y-%m-%d'\u001b[0m\u001b[0;34m)\u001b[0m\u001b[0;34m)\u001b[0m\u001b[0;34m\u001b[0m\u001b[0;34m\u001b[0m\u001b[0m\n\u001b[0m\u001b[1;32m      5\u001b[0m \u001b[0;34m\u001b[0m\u001b[0m\n\u001b[1;32m      6\u001b[0m \u001b[0mdf_hosts\u001b[0m\u001b[0;34m[\u001b[0m\u001b[0;34m'host_age_months'\u001b[0m\u001b[0;34m]\u001b[0m \u001b[0;34m=\u001b[0m \u001b[0mdf_hosts\u001b[0m\u001b[0;34m[\u001b[0m\u001b[0;34m'host_since'\u001b[0m\u001b[0;34m]\u001b[0m\u001b[0;34m.\u001b[0m\u001b[0mapply\u001b[0m\u001b[0;34m(\u001b[0m\u001b[0mhost_age_months\u001b[0m\u001b[0;34m)\u001b[0m\u001b[0;34m\u001b[0m\u001b[0;34m\u001b[0m\u001b[0m\n",
      "\u001b[0;32m/usr/local/lib/python3.7/_strptime.py\u001b[0m in \u001b[0;36m_strptime_datetime\u001b[0;34m(cls, data_string, format)\u001b[0m\n\u001b[1;32m    575\u001b[0m     \"\"\"Return a class cls instance based on the input string and the\n\u001b[1;32m    576\u001b[0m     format string.\"\"\"\n\u001b[0;32m--> 577\u001b[0;31m     \u001b[0mtt\u001b[0m\u001b[0;34m,\u001b[0m \u001b[0mfraction\u001b[0m\u001b[0;34m,\u001b[0m \u001b[0mgmtoff_fraction\u001b[0m \u001b[0;34m=\u001b[0m \u001b[0m_strptime\u001b[0m\u001b[0;34m(\u001b[0m\u001b[0mdata_string\u001b[0m\u001b[0;34m,\u001b[0m \u001b[0mformat\u001b[0m\u001b[0;34m)\u001b[0m\u001b[0;34m\u001b[0m\u001b[0;34m\u001b[0m\u001b[0m\n\u001b[0m\u001b[1;32m    578\u001b[0m     \u001b[0mtzname\u001b[0m\u001b[0;34m,\u001b[0m \u001b[0mgmtoff\u001b[0m \u001b[0;34m=\u001b[0m \u001b[0mtt\u001b[0m\u001b[0;34m[\u001b[0m\u001b[0;34m-\u001b[0m\u001b[0;36m2\u001b[0m\u001b[0;34m:\u001b[0m\u001b[0;34m]\u001b[0m\u001b[0;34m\u001b[0m\u001b[0;34m\u001b[0m\u001b[0m\n\u001b[1;32m    579\u001b[0m     \u001b[0margs\u001b[0m \u001b[0;34m=\u001b[0m \u001b[0mtt\u001b[0m\u001b[0;34m[\u001b[0m\u001b[0;34m:\u001b[0m\u001b[0;36m6\u001b[0m\u001b[0;34m]\u001b[0m \u001b[0;34m+\u001b[0m \u001b[0;34m(\u001b[0m\u001b[0mfraction\u001b[0m\u001b[0;34m,\u001b[0m\u001b[0;34m)\u001b[0m\u001b[0;34m\u001b[0m\u001b[0;34m\u001b[0m\u001b[0m\n",
      "\u001b[0;32m/usr/local/lib/python3.7/_strptime.py\u001b[0m in \u001b[0;36m_strptime\u001b[0;34m(data_string, format)\u001b[0m\n\u001b[1;32m    357\u001b[0m     \u001b[0;32mif\u001b[0m \u001b[0;32mnot\u001b[0m \u001b[0mfound\u001b[0m\u001b[0;34m:\u001b[0m\u001b[0;34m\u001b[0m\u001b[0;34m\u001b[0m\u001b[0m\n\u001b[1;32m    358\u001b[0m         raise ValueError(\"time data %r does not match format %r\" %\n\u001b[0;32m--> 359\u001b[0;31m                          (data_string, format))\n\u001b[0m\u001b[1;32m    360\u001b[0m     \u001b[0;32mif\u001b[0m \u001b[0mlen\u001b[0m\u001b[0;34m(\u001b[0m\u001b[0mdata_string\u001b[0m\u001b[0;34m)\u001b[0m \u001b[0;34m!=\u001b[0m \u001b[0mfound\u001b[0m\u001b[0;34m.\u001b[0m\u001b[0mend\u001b[0m\u001b[0;34m(\u001b[0m\u001b[0;34m)\u001b[0m\u001b[0;34m:\u001b[0m\u001b[0;34m\u001b[0m\u001b[0;34m\u001b[0m\u001b[0m\n\u001b[1;32m    361\u001b[0m         raise ValueError(\"unconverted data remains: %s\" %\n",
      "\u001b[0;31mValueError\u001b[0m: time data 'nan' does not match format '%Y-%m-%d'"
     ]
    }
   ],
   "execution_count": null
  },
  {
   "cell_type": "markdown",
   "source": "## Querying data\nPandas can be used to retrieve slices of data, like a DB. Let's look at some slices of the data.",
   "metadata": {
    "tags": [],
    "cell_id": "00008-1acab1fc-a5f3-425a-9155-6c95350d312a",
    "deepnote_cell_type": "markdown"
   }
  },
  {
   "cell_type": "markdown",
   "source": "### Example 01-04: Query listings by price\nA common way to query data is by date. Old data, recebt data, data from a particular day.",
   "metadata": {
    "tags": [],
    "cell_id": "00010-ac588612-a81b-40dd-bf80-ca42f4b4fa35",
    "deepnote_cell_type": "markdown"
   }
  },
  {
   "cell_type": "code",
   "metadata": {
    "tags": [],
    "cell_id": "00010-b550fd91-5eeb-4183-b365-af3dd5e5e58c",
    "deepnote_cell_type": "code"
   },
   "source": "df[dd['date']]",
   "outputs": [],
   "execution_count": null
  },
  {
   "cell_type": "markdown",
   "source": "### Query listing by number of bedrooms\nEasy... ",
   "metadata": {
    "tags": [],
    "cell_id": "00017-137a89e6-576c-486e-9c92-195ea7c6869c",
    "deepnote_cell_type": "markdown"
   }
  },
  {
   "cell_type": "markdown",
   "source": "<a style='text-decoration:none;line-height:16px;display:flex;color:#5B5B62;padding:10px;justify-content:end;' href='https://deepnote.com?utm_source=created-in-deepnote-cell&projectId=2c6f047c-21a6-4149-814c-b3f60a9bf973' target=\"_blank\">\n<img alt='Created in deepnote.com' style='display:inline;max-height:16px;margin:0px;margin-right:7.5px;' src='data:image/svg+xml;base64,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' > </img>\nCreated in <span style='font-weight:600;margin-left:4px;'>Deepnote</span></a>",
   "metadata": {
    "tags": [],
    "created_in_deepnote_cell": true,
    "deepnote_cell_type": "markdown"
   }
  }
 ],
 "nbformat": 4,
 "nbformat_minor": 2,
 "metadata": {
  "orig_nbformat": 2,
  "deepnote": {
   "is_reactive": false
  },
  "deepnote_notebook_id": "87ff6789-7acc-4957-bd4c-e3ad91dd050a",
  "deepnote_execution_queue": []
 }
}