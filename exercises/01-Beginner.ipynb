{
 "cells": [
  {
   "cell_type": "markdown",
   "source": "# 01-Beginner: Pandas essentials\nFor these exercises, we are going to be using the [Pandas](https://pandas.pydata.org/about/) Python package, so the first thing to do is to import Pandas. To do this, click on the code block below and press the 'Run' button to the left.",
   "metadata": {
    "tags": [],
    "cell_id": "00000-cd14a2b9-8a6f-4690-9457-5f5995338df6",
    "deepnote_cell_type": "markdown"
   }
  },
  {
   "cell_type": "code",
   "metadata": {
    "tags": [],
    "deepnote_to_be_reexecuted": false,
    "source_hash": "9b82ee11",
    "execution_start": 1633451844389,
    "execution_millis": 7,
    "cell_id": "00001-9463a7e8-ef49-4d86-a3fe-9348137f44b6",
    "deepnote_cell_type": "code"
   },
   "source": "import pandas as pd",
   "outputs": [],
   "execution_count": 1
  },
  {
   "cell_type": "markdown",
   "source": "## Creating data\nPandas uses `DataFrame` to store and manipulate data. Run the code below to create a `DataFrame` using some simple test data. Here we have used the `head()` method to show (part of) the `DataFrame`.",
   "metadata": {
    "tags": [],
    "cell_id": "00002-b05b3b8a-07f3-4c30-9165-fe7ba2820661",
    "deepnote_cell_type": "markdown"
   }
  },
  {
   "cell_type": "code",
   "metadata": {
    "tags": [],
    "deepnote_to_be_reexecuted": false,
    "source_hash": "459b66d0",
    "execution_start": 1633451844402,
    "execution_millis": 49,
    "cell_id": "00003-59fe9947-e87c-4b18-930a-f0ea44c1def7",
    "deepnote_cell_type": "code"
   },
   "source": "df_test = pd.DataFrame(data=[['1',2,3.0],[4,'5',6],[0.07,88.0,999]],columns=['A','B','C'])\ndf_test.head()",
   "outputs": [
    {
     "output_type": "execute_result",
     "execution_count": 2,
     "data": {
      "application/vnd.deepnote.dataframe.v2+json": {
       "row_count": 3,
       "column_count": 3,
       "columns": [
        {
         "name": "A",
         "dtype": "object",
         "stats": {
          "unique_count": 3,
          "nan_count": 0,
          "categories": [
           {
            "name": "1",
            "count": 1
           },
           {
            "name": "4",
            "count": 1
           },
           {
            "name": "0.07",
            "count": 1
           }
          ]
         }
        },
        {
         "name": "B",
         "dtype": "object",
         "stats": {
          "unique_count": 3,
          "nan_count": 0,
          "categories": [
           {
            "name": "2",
            "count": 1
           },
           {
            "name": "5",
            "count": 1
           },
           {
            "name": "88.0",
            "count": 1
           }
          ]
         }
        },
        {
         "name": "C",
         "dtype": "float64",
         "stats": {
          "unique_count": 3,
          "nan_count": 0,
          "min": "3.0",
          "max": "999.0",
          "histogram": [
           {
            "bin_start": 3,
            "bin_end": 102.6,
            "count": 2
           },
           {
            "bin_start": 102.6,
            "bin_end": 202.2,
            "count": 0
           },
           {
            "bin_start": 202.2,
            "bin_end": 301.79999999999995,
            "count": 0
           },
           {
            "bin_start": 301.79999999999995,
            "bin_end": 401.4,
            "count": 0
           },
           {
            "bin_start": 401.4,
            "bin_end": 501,
            "count": 0
           },
           {
            "bin_start": 501,
            "bin_end": 600.5999999999999,
            "count": 0
           },
           {
            "bin_start": 600.5999999999999,
            "bin_end": 700.1999999999999,
            "count": 0
           },
           {
            "bin_start": 700.1999999999999,
            "bin_end": 799.8,
            "count": 0
           },
           {
            "bin_start": 799.8,
            "bin_end": 899.4,
            "count": 0
           },
           {
            "bin_start": 899.4,
            "bin_end": 999,
            "count": 1
           }
          ]
         }
        },
        {
         "name": "_deepnote_index_column",
         "dtype": "int64"
        }
       ],
       "rows_top": [
        {
         "A": "1",
         "B": "2",
         "C": 3,
         "_deepnote_index_column": 0
        },
        {
         "A": "4",
         "B": "5",
         "C": 6,
         "_deepnote_index_column": 1
        },
        {
         "A": "0.07",
         "B": "88.0",
         "C": 999,
         "_deepnote_index_column": 2
        }
       ],
       "rows_bottom": null
      },
      "text/plain": "      A     B      C\n0     1     2    3.0\n1     4     5    6.0\n2  0.07  88.0  999.0",
      "text/html": "<div>\n<style scoped>\n    .dataframe tbody tr th:only-of-type {\n        vertical-align: middle;\n    }\n\n    .dataframe tbody tr th {\n        vertical-align: top;\n    }\n\n    .dataframe thead th {\n        text-align: right;\n    }\n</style>\n<table border=\"1\" class=\"dataframe\">\n  <thead>\n    <tr style=\"text-align: right;\">\n      <th></th>\n      <th>A</th>\n      <th>B</th>\n      <th>C</th>\n    </tr>\n  </thead>\n  <tbody>\n    <tr>\n      <th>0</th>\n      <td>1</td>\n      <td>2</td>\n      <td>3.0</td>\n    </tr>\n    <tr>\n      <th>1</th>\n      <td>4</td>\n      <td>5</td>\n      <td>6.0</td>\n    </tr>\n    <tr>\n      <th>2</th>\n      <td>0.07</td>\n      <td>88.0</td>\n      <td>999.0</td>\n    </tr>\n  </tbody>\n</table>\n</div>"
     },
     "metadata": {}
    }
   ],
   "execution_count": 2
  },
  {
   "cell_type": "markdown",
   "source": "### Exercise-01: Heads and tails\nTry running the above code with `head()` replaced by `head(1)`, `head(2)`, and `head(3)`, respectively. Similarly, try running the above code with `head()` replaced by `tail(1)`, `tail(2)`, and `tail(3)`, respectively. What do `head()` and `tail()` do?",
   "metadata": {
    "tags": [],
    "cell_id": "00004-f6c9f591-859c-49e2-b176-2983cbb93b2b",
    "deepnote_cell_type": "markdown"
   }
  },
  {
   "cell_type": "markdown",
   "source": "## Saving data\nOften it is useful to save data. For example, we can save the previous test data to a comma-separated values (`.csv`) file by running the following code. After you have run the code, identify *where* the file was saved (i.e. which folder?).",
   "metadata": {
    "tags": [],
    "cell_id": "00005-34c55a85-e161-4660-8737-9feed320a8e6",
    "deepnote_cell_type": "markdown"
   }
  },
  {
   "cell_type": "code",
   "metadata": {
    "tags": [],
    "deepnote_to_be_reexecuted": false,
    "source_hash": "93a6ce11",
    "execution_start": 1633451844444,
    "execution_millis": 1,
    "cell_id": "00006-67536e63-1e63-420e-a63f-e498cb14682c",
    "deepnote_cell_type": "code"
   },
   "source": "df_test.to_csv('./test.csv')",
   "outputs": [],
   "execution_count": 3
  },
  {
   "cell_type": "markdown",
   "source": "### Exercise-02: Parents and siblings\nSometimes we need to save/load data not in the current directory. Run the code below to save the same test data to two other locations. After you have run the code, identify *where* the files were saved.",
   "metadata": {
    "tags": [],
    "cell_id": "00007-0248b9cd-89b9-4327-b36a-612071ee792e",
    "deepnote_cell_type": "markdown"
   }
  },
  {
   "cell_type": "code",
   "metadata": {
    "tags": [],
    "cell_id": "00008-b8617cee-ecb8-4827-9d45-cea4901e50d0",
    "deepnote_to_be_reexecuted": false,
    "source_hash": "3b0213f1",
    "execution_start": 1633451844445,
    "execution_millis": 44,
    "deepnote_cell_type": "code"
   },
   "source": "df_test.to_csv('../test_parent.csv')\ndf_test.to_csv('../data/test_sibling.csv')",
   "outputs": [],
   "execution_count": 4
  },
  {
   "cell_type": "markdown",
   "source": "Before we move on, let's clean up the mess you made! Run the code below to remove the test `.csv` files we just created.",
   "metadata": {
    "tags": [],
    "cell_id": "00009-2785d7f1-f41a-43e9-9f4d-fe05b6ac259d",
    "deepnote_cell_type": "markdown"
   }
  },
  {
   "cell_type": "code",
   "metadata": {
    "tags": [],
    "deepnote_to_be_reexecuted": false,
    "source_hash": "95261650",
    "execution_start": 1633451844489,
    "execution_millis": 2017,
    "cell_id": "00010-3eaf395d-cd3e-4f5d-83ba-364159146ab4",
    "deepnote_cell_type": "code"
   },
   "source": "!rm ./test.csv\n!rm ../test_parent.csv\n!rm ../data/test_sibling.csv",
   "outputs": [],
   "execution_count": 5
  },
  {
   "cell_type": "markdown",
   "source": "(Note that the above code uses `!` to run terminal commands from inside a notebook!) Cool, no?",
   "metadata": {
    "tags": [],
    "cell_id": "00011-02636c07-9ec6-4270-8fee-193ea4139cab",
    "deepnote_cell_type": "markdown"
   }
  },
  {
   "cell_type": "markdown",
   "source": "## Loading data\nOk, let's get started with some *real* data. To work with real data, we first need to load it. If the data is in a `.csv` file then we can load the data simply using the Pandas `read_csv` function. Run the code below to load the `listings_sample.csv` data into a Pandas `DataFrame`.",
   "metadata": {
    "tags": [],
    "cell_id": "00012-44adb987-bc9a-4e75-a1f7-f8f02306e2a9",
    "deepnote_cell_type": "markdown"
   }
  },
  {
   "cell_type": "code",
   "metadata": {
    "tags": [],
    "deepnote_to_be_reexecuted": false,
    "source_hash": "f61d5314",
    "execution_start": 1633451846512,
    "execution_millis": 427,
    "cell_id": "00013-571dca19-a769-456c-b286-7d77ebcac8c6",
    "deepnote_cell_type": "code"
   },
   "source": "import pandas as pd\ndf_listings = pd.read_csv('../data/listings_sample.csv', \n    usecols=['host_id','id','name','room_type','price'])\ndf_listings.head()",
   "outputs": [
    {
     "output_type": "execute_result",
     "execution_count": 6,
     "data": {
      "application/vnd.deepnote.dataframe.v2+json": {
       "row_count": 5,
       "column_count": 5,
       "columns": [
        {
         "name": "host_id",
         "dtype": "int64",
         "stats": {
          "unique_count": 5,
          "nan_count": 0,
          "min": "43039",
          "max": "103583",
          "histogram": [
           {
            "bin_start": 43039,
            "bin_end": 49093.4,
            "count": 1
           },
           {
            "bin_start": 49093.4,
            "bin_end": 55147.8,
            "count": 1
           },
           {
            "bin_start": 55147.8,
            "bin_end": 61202.2,
            "count": 1
           },
           {
            "bin_start": 61202.2,
            "bin_end": 67256.6,
            "count": 0
           },
           {
            "bin_start": 67256.6,
            "bin_end": 73311,
            "count": 1
           },
           {
            "bin_start": 73311,
            "bin_end": 79365.4,
            "count": 0
           },
           {
            "bin_start": 79365.4,
            "bin_end": 85419.79999999999,
            "count": 0
           },
           {
            "bin_start": 85419.79999999999,
            "bin_end": 91474.2,
            "count": 0
           },
           {
            "bin_start": 91474.2,
            "bin_end": 97528.6,
            "count": 0
           },
           {
            "bin_start": 97528.6,
            "bin_end": 103583,
            "count": 1
           }
          ]
         }
        },
        {
         "name": "id",
         "dtype": "int64",
         "stats": {
          "unique_count": 5,
          "nan_count": 0,
          "min": "11551",
          "max": "25123",
          "histogram": [
           {
            "bin_start": 11551,
            "bin_end": 12908.2,
            "count": 1
           },
           {
            "bin_start": 12908.2,
            "bin_end": 14265.4,
            "count": 1
           },
           {
            "bin_start": 14265.4,
            "bin_end": 15622.6,
            "count": 1
           },
           {
            "bin_start": 15622.6,
            "bin_end": 16979.8,
            "count": 0
           },
           {
            "bin_start": 16979.8,
            "bin_end": 18337,
            "count": 1
           },
           {
            "bin_start": 18337,
            "bin_end": 19694.2,
            "count": 0
           },
           {
            "bin_start": 19694.2,
            "bin_end": 21051.4,
            "count": 0
           },
           {
            "bin_start": 21051.4,
            "bin_end": 22408.6,
            "count": 0
           },
           {
            "bin_start": 22408.6,
            "bin_end": 23765.800000000003,
            "count": 0
           },
           {
            "bin_start": 23765.800000000003,
            "bin_end": 25123,
            "count": 1
           }
          ]
         }
        },
        {
         "name": "name",
         "dtype": "object",
         "stats": {
          "unique_count": 5,
          "nan_count": 0,
          "categories": [
           {
            "name": "Arty and Bright London Apartment in Zone 2",
            "count": 1
           },
           {
            "name": "Holiday London DB Room Let-on going",
            "count": 1
           },
           {
            "name": "3 others",
            "count": 3
           }
          ]
         }
        },
        {
         "name": "room_type",
         "dtype": "object",
         "stats": {
          "unique_count": 2,
          "nan_count": 0,
          "categories": [
           {
            "name": "Entire home/apt",
            "count": 3
           },
           {
            "name": "Private room",
            "count": 2
           }
          ]
         }
        },
        {
         "name": "price",
         "dtype": "object",
         "stats": {
          "unique_count": 5,
          "nan_count": 0,
          "categories": [
           {
            "name": "$110.00",
            "count": 1
           },
           {
            "name": "$40.00",
            "count": 1
           },
           {
            "name": "3 others",
            "count": 3
           }
          ]
         }
        },
        {
         "name": "_deepnote_index_column",
         "dtype": "int64"
        }
       ],
       "rows_top": [
        {
         "host_id": 43039,
         "id": 11551,
         "name": "Arty and Bright London Apartment in Zone 2",
         "room_type": "Entire home/apt",
         "price": "$110.00",
         "_deepnote_index_column": 0
        },
        {
         "host_id": 54730,
         "id": 13913,
         "name": "Holiday London DB Room Let-on going",
         "room_type": "Private room",
         "price": "$40.00",
         "_deepnote_index_column": 1
        },
        {
         "host_id": 60302,
         "id": 15400,
         "name": "Bright Chelsea  Apartment. Chelsea!",
         "room_type": "Entire home/apt",
         "price": "$75.00",
         "_deepnote_index_column": 2
        },
        {
         "host_id": 67564,
         "id": 17402,
         "name": "Superb 3-Bed/2 Bath & Wifi: Trendy W1",
         "room_type": "Entire home/apt",
         "price": "$307.00",
         "_deepnote_index_column": 3
        },
        {
         "host_id": 103583,
         "id": 25123,
         "name": "Clean big Room in London (Room 1)",
         "room_type": "Private room",
         "price": "$29.00",
         "_deepnote_index_column": 4
        }
       ],
       "rows_bottom": null
      },
      "text/plain": "   host_id     id                                        name  \\\n0    43039  11551  Arty and Bright London Apartment in Zone 2   \n1    54730  13913         Holiday London DB Room Let-on going   \n2    60302  15400         Bright Chelsea  Apartment. Chelsea!   \n3    67564  17402       Superb 3-Bed/2 Bath & Wifi: Trendy W1   \n4   103583  25123           Clean big Room in London (Room 1)   \n\n         room_type    price  \n0  Entire home/apt  $110.00  \n1     Private room   $40.00  \n2  Entire home/apt   $75.00  \n3  Entire home/apt  $307.00  \n4     Private room   $29.00  ",
      "text/html": "<div>\n<style scoped>\n    .dataframe tbody tr th:only-of-type {\n        vertical-align: middle;\n    }\n\n    .dataframe tbody tr th {\n        vertical-align: top;\n    }\n\n    .dataframe thead th {\n        text-align: right;\n    }\n</style>\n<table border=\"1\" class=\"dataframe\">\n  <thead>\n    <tr style=\"text-align: right;\">\n      <th></th>\n      <th>host_id</th>\n      <th>id</th>\n      <th>name</th>\n      <th>room_type</th>\n      <th>price</th>\n    </tr>\n  </thead>\n  <tbody>\n    <tr>\n      <th>0</th>\n      <td>43039</td>\n      <td>11551</td>\n      <td>Arty and Bright London Apartment in Zone 2</td>\n      <td>Entire home/apt</td>\n      <td>$110.00</td>\n    </tr>\n    <tr>\n      <th>1</th>\n      <td>54730</td>\n      <td>13913</td>\n      <td>Holiday London DB Room Let-on going</td>\n      <td>Private room</td>\n      <td>$40.00</td>\n    </tr>\n    <tr>\n      <th>2</th>\n      <td>60302</td>\n      <td>15400</td>\n      <td>Bright Chelsea  Apartment. Chelsea!</td>\n      <td>Entire home/apt</td>\n      <td>$75.00</td>\n    </tr>\n    <tr>\n      <th>3</th>\n      <td>67564</td>\n      <td>17402</td>\n      <td>Superb 3-Bed/2 Bath &amp; Wifi: Trendy W1</td>\n      <td>Entire home/apt</td>\n      <td>$307.00</td>\n    </tr>\n    <tr>\n      <th>4</th>\n      <td>103583</td>\n      <td>25123</td>\n      <td>Clean big Room in London (Room 1)</td>\n      <td>Private room</td>\n      <td>$29.00</td>\n    </tr>\n  </tbody>\n</table>\n</div>"
     },
     "metadata": {}
    }
   ],
   "execution_count": 6
  },
  {
   "cell_type": "markdown",
   "source": "The data you just loaded relates to real listings on [Airbnb](airbnb.com), sampled from a dataset from the [Inside Airbnb](http://insideairbnb.com/about.html) website. Note how the `usecols` argument was used to specify which columns of the data to load.",
   "metadata": {
    "tags": [],
    "cell_id": "00014-662dddb1-afb5-4829-8008-87842e34e71b",
    "deepnote_cell_type": "markdown"
   }
  },
  {
   "cell_type": "markdown",
   "source": "### Exercise-03: Load host data\nNow it's time to try to load some data yourself. Using the code above as a guide, load the `hosts_sample.csv` file into a data-frame named `df_hosts` with columns `['id','host_name','host_since']`.",
   "metadata": {
    "tags": [],
    "cell_id": "00015-d3fb7183-c343-4156-be32-06cbf9158fdd",
    "deepnote_cell_type": "markdown"
   }
  },
  {
   "cell_type": "code",
   "metadata": {
    "tags": [],
    "deepnote_to_be_reexecuted": false,
    "source_hash": "b56348a0",
    "execution_start": 1633451846956,
    "execution_millis": 55,
    "cell_id": "00016-c5cb6122-2dc8-491d-968b-c5501ed13917",
    "deepnote_cell_type": "code"
   },
   "source": "# (SOLUTION) Delete in public branch\ndf_hosts = pd.read_csv('../data/hosts_sample.csv', usecols=['id','host_name','host_since'])\ndf_hosts.head()",
   "outputs": [
    {
     "output_type": "execute_result",
     "execution_count": 7,
     "data": {
      "application/vnd.deepnote.dataframe.v2+json": {
       "row_count": 5,
       "column_count": 3,
       "columns": [
        {
         "name": "id",
         "dtype": "float64",
         "stats": {
          "unique_count": 5,
          "nan_count": 0,
          "min": "43039.0",
          "max": "103583.0",
          "histogram": [
           {
            "bin_start": 43039,
            "bin_end": 49093.4,
            "count": 1
           },
           {
            "bin_start": 49093.4,
            "bin_end": 55147.8,
            "count": 1
           },
           {
            "bin_start": 55147.8,
            "bin_end": 61202.2,
            "count": 1
           },
           {
            "bin_start": 61202.2,
            "bin_end": 67256.6,
            "count": 0
           },
           {
            "bin_start": 67256.6,
            "bin_end": 73311,
            "count": 1
           },
           {
            "bin_start": 73311,
            "bin_end": 79365.4,
            "count": 0
           },
           {
            "bin_start": 79365.4,
            "bin_end": 85419.79999999999,
            "count": 0
           },
           {
            "bin_start": 85419.79999999999,
            "bin_end": 91474.2,
            "count": 0
           },
           {
            "bin_start": 91474.2,
            "bin_end": 97528.6,
            "count": 0
           },
           {
            "bin_start": 97528.6,
            "bin_end": 103583,
            "count": 1
           }
          ]
         }
        },
        {
         "name": "host_name",
         "dtype": "object",
         "stats": {
          "unique_count": 5,
          "nan_count": 0,
          "categories": [
           {
            "name": "Adriano",
            "count": 1
           },
           {
            "name": "Alina",
            "count": 1
           },
           {
            "name": "3 others",
            "count": 3
           }
          ]
         }
        },
        {
         "name": "host_since",
         "dtype": "object",
         "stats": {
          "unique_count": 5,
          "nan_count": 0,
          "categories": [
           {
            "name": "2009-10-03",
            "count": 1
           },
           {
            "name": "2009-11-16",
            "count": 1
           },
           {
            "name": "3 others",
            "count": 3
           }
          ]
         }
        },
        {
         "name": "_deepnote_index_column",
         "dtype": "int64"
        }
       ],
       "rows_top": [
        {
         "id": 43039,
         "host_name": "Adriano",
         "host_since": "2009-10-03",
         "_deepnote_index_column": 0
        },
        {
         "id": 54730,
         "host_name": "Alina",
         "host_since": "2009-11-16",
         "_deepnote_index_column": 1
        },
        {
         "id": 60302,
         "host_name": "Philippa",
         "host_since": "2009-12-05",
         "_deepnote_index_column": 2
        },
        {
         "id": 67564,
         "host_name": "Liz",
         "host_since": "2010-01-04",
         "_deepnote_index_column": 3
        },
        {
         "id": 103583,
         "host_name": "Grace",
         "host_since": "2010-04-05",
         "_deepnote_index_column": 4
        }
       ],
       "rows_bottom": null
      },
      "text/plain": "         id host_name  host_since\n0   43039.0   Adriano  2009-10-03\n1   54730.0     Alina  2009-11-16\n2   60302.0  Philippa  2009-12-05\n3   67564.0       Liz  2010-01-04\n4  103583.0     Grace  2010-04-05",
      "text/html": "<div>\n<style scoped>\n    .dataframe tbody tr th:only-of-type {\n        vertical-align: middle;\n    }\n\n    .dataframe tbody tr th {\n        vertical-align: top;\n    }\n\n    .dataframe thead th {\n        text-align: right;\n    }\n</style>\n<table border=\"1\" class=\"dataframe\">\n  <thead>\n    <tr style=\"text-align: right;\">\n      <th></th>\n      <th>id</th>\n      <th>host_name</th>\n      <th>host_since</th>\n    </tr>\n  </thead>\n  <tbody>\n    <tr>\n      <th>0</th>\n      <td>43039.0</td>\n      <td>Adriano</td>\n      <td>2009-10-03</td>\n    </tr>\n    <tr>\n      <th>1</th>\n      <td>54730.0</td>\n      <td>Alina</td>\n      <td>2009-11-16</td>\n    </tr>\n    <tr>\n      <th>2</th>\n      <td>60302.0</td>\n      <td>Philippa</td>\n      <td>2009-12-05</td>\n    </tr>\n    <tr>\n      <th>3</th>\n      <td>67564.0</td>\n      <td>Liz</td>\n      <td>2010-01-04</td>\n    </tr>\n    <tr>\n      <th>4</th>\n      <td>103583.0</td>\n      <td>Grace</td>\n      <td>2010-04-05</td>\n    </tr>\n  </tbody>\n</table>\n</div>"
     },
     "metadata": {}
    }
   ],
   "execution_count": 7
  },
  {
   "cell_type": "markdown",
   "source": "## Preparing data\nOften the data we load for analysis comes with values we cannot immediately work with, and we need to remove or format such (undefind) values to be able to do the analysis we want to do. \n\nFor example, some of the hosts in `df_hosts` have undefind values in the `host_name` and/or `host_since` columns. We can see this by running the code below to show the rows in `df_hosts` where the value in `host_since` is `nan` (i.e. [not a number](https://en.wikipedia.org/wiki/NaN)).",
   "metadata": {
    "tags": [],
    "cell_id": "00017-536c8a81-df57-4de5-8736-9fceb39b74ee",
    "deepnote_cell_type": "markdown"
   }
  },
  {
   "cell_type": "code",
   "metadata": {
    "tags": [],
    "cell_id": "00018-b902f5e6-c807-4210-93c4-fbc21da15e2e",
    "deepnote_to_be_reexecuted": false,
    "source_hash": "ee385073",
    "execution_start": 1633451846999,
    "execution_millis": 12,
    "deepnote_cell_type": "code"
   },
   "source": "df_hosts[df_hosts['host_since'].isna()].head()",
   "outputs": [
    {
     "output_type": "execute_result",
     "execution_count": 8,
     "data": {
      "application/vnd.deepnote.dataframe.v2+json": {
       "row_count": 5,
       "column_count": 3,
       "columns": [
        {
         "name": "id",
         "dtype": "float64",
         "stats": {
          "unique_count": 5,
          "nan_count": 0,
          "min": "503548.0",
          "max": "1467581.0",
          "histogram": [
           {
            "bin_start": 503548,
            "bin_end": 599951.3,
            "count": 1
           },
           {
            "bin_start": 599951.3,
            "bin_end": 696354.6,
            "count": 0
           },
           {
            "bin_start": 696354.6,
            "bin_end": 792757.9,
            "count": 1
           },
           {
            "bin_start": 792757.9,
            "bin_end": 889161.2,
            "count": 0
           },
           {
            "bin_start": 889161.2,
            "bin_end": 985564.5,
            "count": 0
           },
           {
            "bin_start": 985564.5,
            "bin_end": 1081967.8,
            "count": 0
           },
           {
            "bin_start": 1081967.8,
            "bin_end": 1178371.1,
            "count": 0
           },
           {
            "bin_start": 1178371.1,
            "bin_end": 1274774.4,
            "count": 0
           },
           {
            "bin_start": 1274774.4,
            "bin_end": 1371177.7000000002,
            "count": 0
           },
           {
            "bin_start": 1371177.7000000002,
            "bin_end": 1467581,
            "count": 3
           }
          ]
         }
        },
        {
         "name": "host_name",
         "dtype": "object",
         "stats": {
          "unique_count": 0,
          "nan_count": 5,
          "categories": [
           {
            "name": "Missing",
            "count": 5
           }
          ]
         }
        },
        {
         "name": "host_since",
         "dtype": "object",
         "stats": {
          "unique_count": 0,
          "nan_count": 5,
          "categories": [
           {
            "name": "Missing",
            "count": 5
           }
          ]
         }
        },
        {
         "name": "_deepnote_index_column",
         "dtype": "int64"
        }
       ],
       "rows_top": [
        {
         "id": 503548,
         "host_name": "nan",
         "host_since": "nan",
         "_deepnote_index_column": 59
        },
        {
         "id": 761400,
         "host_name": "nan",
         "host_since": "nan",
         "_deepnote_index_column": 93
        },
        {
         "id": 1436390,
         "host_name": "nan",
         "host_since": "nan",
         "_deepnote_index_column": 160
        },
        {
         "id": 1438437,
         "host_name": "nan",
         "host_since": "nan",
         "_deepnote_index_column": 162
        },
        {
         "id": 1467581,
         "host_name": "nan",
         "host_since": "nan",
         "_deepnote_index_column": 167
        }
       ],
       "rows_bottom": null
      },
      "text/plain": "            id host_name host_since\n59    503548.0       NaN        NaN\n93    761400.0       NaN        NaN\n160  1436390.0       NaN        NaN\n162  1438437.0       NaN        NaN\n167  1467581.0       NaN        NaN",
      "text/html": "<div>\n<style scoped>\n    .dataframe tbody tr th:only-of-type {\n        vertical-align: middle;\n    }\n\n    .dataframe tbody tr th {\n        vertical-align: top;\n    }\n\n    .dataframe thead th {\n        text-align: right;\n    }\n</style>\n<table border=\"1\" class=\"dataframe\">\n  <thead>\n    <tr style=\"text-align: right;\">\n      <th></th>\n      <th>id</th>\n      <th>host_name</th>\n      <th>host_since</th>\n    </tr>\n  </thead>\n  <tbody>\n    <tr>\n      <th>59</th>\n      <td>503548.0</td>\n      <td>NaN</td>\n      <td>NaN</td>\n    </tr>\n    <tr>\n      <th>93</th>\n      <td>761400.0</td>\n      <td>NaN</td>\n      <td>NaN</td>\n    </tr>\n    <tr>\n      <th>160</th>\n      <td>1436390.0</td>\n      <td>NaN</td>\n      <td>NaN</td>\n    </tr>\n    <tr>\n      <th>162</th>\n      <td>1438437.0</td>\n      <td>NaN</td>\n      <td>NaN</td>\n    </tr>\n    <tr>\n      <th>167</th>\n      <td>1467581.0</td>\n      <td>NaN</td>\n      <td>NaN</td>\n    </tr>\n  </tbody>\n</table>\n</div>"
     },
     "metadata": {}
    }
   ],
   "execution_count": 8
  },
  {
   "cell_type": "markdown",
   "source": "We can use similar logic to filter `df_hosts` (or any other `DataFrame`) to exclude any rows where a particulr column has value `nan`. For example, run the code below to remove `nan` values from `df_hosts`. Note the use of the `~` character to indicate we want to keep rows that are *not* `nan`.",
   "metadata": {
    "tags": [],
    "cell_id": "00019-00cdca27-2f2a-4773-ab60-3227ad857a5d",
    "deepnote_cell_type": "markdown"
   }
  },
  {
   "cell_type": "code",
   "source": "df_hosts = df_hosts[~df_hosts['host_since'].isna()]\nprint(sum(df_hosts['host_since'].isna())) # Explain this check!",
   "metadata": {
    "tags": [],
    "cell_id": "00020-f547c317-f2f7-4e97-9c01-dd168d9799b3",
    "deepnote_to_be_reexecuted": false,
    "source_hash": "7cbe1922",
    "execution_start": 1633451847006,
    "execution_millis": 13,
    "deepnote_cell_type": "code"
   },
   "outputs": [
    {
     "name": "stdout",
     "text": "0\n",
     "output_type": "stream"
    }
   ],
   "execution_count": 9
  },
  {
   "cell_type": "markdown",
   "source": "As well as undefined values, columns might also contain values in a format which is unsuitable for a particular type of analysis. For example, the values in the `host_since` column of `df_hosts` are [strings](https://www.w3schools.com/python/python_strings.asp) and would need to be formated if we wanted to calculate, for example, how long each host has been a host on Airbnb. Run the code below to use the `apply` method to do such a thing.",
   "metadata": {
    "tags": [],
    "cell_id": "00021-c3c84013-5f8a-4a13-ad79-30ff69f48132",
    "deepnote_cell_type": "markdown"
   }
  },
  {
   "cell_type": "code",
   "source": "def host_years_old(host_since):\n    return(2021 - int(host_since.split('-')[0]))\n\ndf_hosts['host_years_old'] = df_hosts['host_since'].apply(host_years_old)\ndf_hosts.head()",
   "metadata": {
    "tags": [],
    "cell_id": "00022-d3276a55-3115-41e2-bce4-e9e0f988c1ed",
    "deepnote_to_be_reexecuted": false,
    "source_hash": "1378444b",
    "execution_start": 1633451847049,
    "execution_millis": 68,
    "deepnote_cell_type": "code"
   },
   "outputs": [
    {
     "output_type": "execute_result",
     "execution_count": 10,
     "data": {
      "application/vnd.deepnote.dataframe.v2+json": {
       "row_count": 5,
       "column_count": 4,
       "columns": [
        {
         "name": "id",
         "dtype": "float64",
         "stats": {
          "unique_count": 5,
          "nan_count": 0,
          "min": "43039.0",
          "max": "103583.0",
          "histogram": [
           {
            "bin_start": 43039,
            "bin_end": 49093.4,
            "count": 1
           },
           {
            "bin_start": 49093.4,
            "bin_end": 55147.8,
            "count": 1
           },
           {
            "bin_start": 55147.8,
            "bin_end": 61202.2,
            "count": 1
           },
           {
            "bin_start": 61202.2,
            "bin_end": 67256.6,
            "count": 0
           },
           {
            "bin_start": 67256.6,
            "bin_end": 73311,
            "count": 1
           },
           {
            "bin_start": 73311,
            "bin_end": 79365.4,
            "count": 0
           },
           {
            "bin_start": 79365.4,
            "bin_end": 85419.79999999999,
            "count": 0
           },
           {
            "bin_start": 85419.79999999999,
            "bin_end": 91474.2,
            "count": 0
           },
           {
            "bin_start": 91474.2,
            "bin_end": 97528.6,
            "count": 0
           },
           {
            "bin_start": 97528.6,
            "bin_end": 103583,
            "count": 1
           }
          ]
         }
        },
        {
         "name": "host_name",
         "dtype": "object",
         "stats": {
          "unique_count": 5,
          "nan_count": 0,
          "categories": [
           {
            "name": "Adriano",
            "count": 1
           },
           {
            "name": "Alina",
            "count": 1
           },
           {
            "name": "3 others",
            "count": 3
           }
          ]
         }
        },
        {
         "name": "host_since",
         "dtype": "object",
         "stats": {
          "unique_count": 5,
          "nan_count": 0,
          "categories": [
           {
            "name": "2009-10-03",
            "count": 1
           },
           {
            "name": "2009-11-16",
            "count": 1
           },
           {
            "name": "3 others",
            "count": 3
           }
          ]
         }
        },
        {
         "name": "host_years_old",
         "dtype": "int64",
         "stats": {
          "unique_count": 2,
          "nan_count": 0,
          "min": "11",
          "max": "12",
          "histogram": [
           {
            "bin_start": 11,
            "bin_end": 11.1,
            "count": 2
           },
           {
            "bin_start": 11.1,
            "bin_end": 11.2,
            "count": 0
           },
           {
            "bin_start": 11.2,
            "bin_end": 11.3,
            "count": 0
           },
           {
            "bin_start": 11.3,
            "bin_end": 11.4,
            "count": 0
           },
           {
            "bin_start": 11.4,
            "bin_end": 11.5,
            "count": 0
           },
           {
            "bin_start": 11.5,
            "bin_end": 11.6,
            "count": 0
           },
           {
            "bin_start": 11.6,
            "bin_end": 11.7,
            "count": 0
           },
           {
            "bin_start": 11.7,
            "bin_end": 11.8,
            "count": 0
           },
           {
            "bin_start": 11.8,
            "bin_end": 11.9,
            "count": 0
           },
           {
            "bin_start": 11.9,
            "bin_end": 12,
            "count": 3
           }
          ]
         }
        },
        {
         "name": "_deepnote_index_column",
         "dtype": "int64"
        }
       ],
       "rows_top": [
        {
         "id": 43039,
         "host_name": "Adriano",
         "host_since": "2009-10-03",
         "host_years_old": 12,
         "_deepnote_index_column": 0
        },
        {
         "id": 54730,
         "host_name": "Alina",
         "host_since": "2009-11-16",
         "host_years_old": 12,
         "_deepnote_index_column": 1
        },
        {
         "id": 60302,
         "host_name": "Philippa",
         "host_since": "2009-12-05",
         "host_years_old": 12,
         "_deepnote_index_column": 2
        },
        {
         "id": 67564,
         "host_name": "Liz",
         "host_since": "2010-01-04",
         "host_years_old": 11,
         "_deepnote_index_column": 3
        },
        {
         "id": 103583,
         "host_name": "Grace",
         "host_since": "2010-04-05",
         "host_years_old": 11,
         "_deepnote_index_column": 4
        }
       ],
       "rows_bottom": null
      },
      "text/plain": "         id host_name  host_since  host_years_old\n0   43039.0   Adriano  2009-10-03              12\n1   54730.0     Alina  2009-11-16              12\n2   60302.0  Philippa  2009-12-05              12\n3   67564.0       Liz  2010-01-04              11\n4  103583.0     Grace  2010-04-05              11",
      "text/html": "<div>\n<style scoped>\n    .dataframe tbody tr th:only-of-type {\n        vertical-align: middle;\n    }\n\n    .dataframe tbody tr th {\n        vertical-align: top;\n    }\n\n    .dataframe thead th {\n        text-align: right;\n    }\n</style>\n<table border=\"1\" class=\"dataframe\">\n  <thead>\n    <tr style=\"text-align: right;\">\n      <th></th>\n      <th>id</th>\n      <th>host_name</th>\n      <th>host_since</th>\n      <th>host_years_old</th>\n    </tr>\n  </thead>\n  <tbody>\n    <tr>\n      <th>0</th>\n      <td>43039.0</td>\n      <td>Adriano</td>\n      <td>2009-10-03</td>\n      <td>12</td>\n    </tr>\n    <tr>\n      <th>1</th>\n      <td>54730.0</td>\n      <td>Alina</td>\n      <td>2009-11-16</td>\n      <td>12</td>\n    </tr>\n    <tr>\n      <th>2</th>\n      <td>60302.0</td>\n      <td>Philippa</td>\n      <td>2009-12-05</td>\n      <td>12</td>\n    </tr>\n    <tr>\n      <th>3</th>\n      <td>67564.0</td>\n      <td>Liz</td>\n      <td>2010-01-04</td>\n      <td>11</td>\n    </tr>\n    <tr>\n      <th>4</th>\n      <td>103583.0</td>\n      <td>Grace</td>\n      <td>2010-04-05</td>\n      <td>11</td>\n    </tr>\n  </tbody>\n</table>\n</div>"
     },
     "metadata": {}
    }
   ],
   "execution_count": 10
  },
  {
   "cell_type": "markdown",
   "source": "### Exercise-04: Format price data\nThe `price` column in `df_listings` also contains strings, with currency symbols (e.g.`$`) and commas (e.g. `1,000,000`), and we would need to format these string values to float values before we can use them in analysis. Using the above example as a guide, use the `format_price` function defined below to create a new column `price_$` in `df_listings` which contains a float value version of the price of the listing in $.",
   "metadata": {
    "tags": [],
    "cell_id": "00019-e20c32e0-b5c3-4812-a984-c9b0bea765d1",
    "deepnote_cell_type": "markdown"
   }
  },
  {
   "cell_type": "code",
   "metadata": {
    "tags": [],
    "deepnote_to_be_reexecuted": false,
    "source_hash": "1c897ce6",
    "execution_start": 1633451847094,
    "execution_millis": 35,
    "cell_id": "00020-eb9fe918-0a82-4f1c-9183-0d6f25a07955",
    "deepnote_cell_type": "code"
   },
   "source": "def format_price(price):\n    return(float(price.replace('$','').replace(',','')))\n\n# (SOLUTION) Delete in public branch\ndf_listings['price_$'] = df_listings['price'].apply(format_price) \ndf_listings[['price','price_$']].head()",
   "outputs": [
    {
     "output_type": "execute_result",
     "execution_count": 11,
     "data": {
      "application/vnd.deepnote.dataframe.v2+json": {
       "row_count": 5,
       "column_count": 2,
       "columns": [
        {
         "name": "price",
         "dtype": "object",
         "stats": {
          "unique_count": 5,
          "nan_count": 0,
          "categories": [
           {
            "name": "$110.00",
            "count": 1
           },
           {
            "name": "$40.00",
            "count": 1
           },
           {
            "name": "3 others",
            "count": 3
           }
          ]
         }
        },
        {
         "name": "price_$",
         "dtype": "float64",
         "stats": {
          "unique_count": 5,
          "nan_count": 0,
          "min": "29.0",
          "max": "307.0",
          "histogram": [
           {
            "bin_start": 29,
            "bin_end": 56.8,
            "count": 2
           },
           {
            "bin_start": 56.8,
            "bin_end": 84.6,
            "count": 1
           },
           {
            "bin_start": 84.6,
            "bin_end": 112.4,
            "count": 1
           },
           {
            "bin_start": 112.4,
            "bin_end": 140.2,
            "count": 0
           },
           {
            "bin_start": 140.2,
            "bin_end": 168,
            "count": 0
           },
           {
            "bin_start": 168,
            "bin_end": 195.8,
            "count": 0
           },
           {
            "bin_start": 195.8,
            "bin_end": 223.6,
            "count": 0
           },
           {
            "bin_start": 223.6,
            "bin_end": 251.4,
            "count": 0
           },
           {
            "bin_start": 251.4,
            "bin_end": 279.20000000000005,
            "count": 0
           },
           {
            "bin_start": 279.20000000000005,
            "bin_end": 307,
            "count": 1
           }
          ]
         }
        },
        {
         "name": "_deepnote_index_column",
         "dtype": "int64"
        }
       ],
       "rows_top": [
        {
         "price": "$110.00",
         "price_$": 110,
         "_deepnote_index_column": 0
        },
        {
         "price": "$40.00",
         "price_$": 40,
         "_deepnote_index_column": 1
        },
        {
         "price": "$75.00",
         "price_$": 75,
         "_deepnote_index_column": 2
        },
        {
         "price": "$307.00",
         "price_$": 307,
         "_deepnote_index_column": 3
        },
        {
         "price": "$29.00",
         "price_$": 29,
         "_deepnote_index_column": 4
        }
       ],
       "rows_bottom": null
      },
      "text/plain": "     price  price_$\n0  $110.00    110.0\n1   $40.00     40.0\n2   $75.00     75.0\n3  $307.00    307.0\n4   $29.00     29.0",
      "text/html": "<div>\n<style scoped>\n    .dataframe tbody tr th:only-of-type {\n        vertical-align: middle;\n    }\n\n    .dataframe tbody tr th {\n        vertical-align: top;\n    }\n\n    .dataframe thead th {\n        text-align: right;\n    }\n</style>\n<table border=\"1\" class=\"dataframe\">\n  <thead>\n    <tr style=\"text-align: right;\">\n      <th></th>\n      <th>price</th>\n      <th>price_$</th>\n    </tr>\n  </thead>\n  <tbody>\n    <tr>\n      <th>0</th>\n      <td>$110.00</td>\n      <td>110.0</td>\n    </tr>\n    <tr>\n      <th>1</th>\n      <td>$40.00</td>\n      <td>40.0</td>\n    </tr>\n    <tr>\n      <th>2</th>\n      <td>$75.00</td>\n      <td>75.0</td>\n    </tr>\n    <tr>\n      <th>3</th>\n      <td>$307.00</td>\n      <td>307.0</td>\n    </tr>\n    <tr>\n      <th>4</th>\n      <td>$29.00</td>\n      <td>29.0</td>\n    </tr>\n  </tbody>\n</table>\n</div>"
     },
     "metadata": {}
    }
   ],
   "execution_count": 11
  },
  {
   "cell_type": "markdown",
   "source": "## Querying data\nOnce we have loaded and formatted our data *then* the fun times begin! Pandas is great for *querying* `DataFrames` (i.e. filtering a `DataFrame` to create a new `DataFrame` which includes only the data we want!). For example, run the code below to use `df_hosts` to create a new `DataFrame` names `df_hosts_ancient` which contains hosts who have been hosts on Airbnb for more than 10 years.",
   "metadata": {
    "tags": [],
    "cell_id": "00022-d5421d03-0726-4655-908c-cefc82b7dd34",
    "deepnote_cell_type": "markdown"
   }
  },
  {
   "cell_type": "code",
   "source": "df_hosts_ancient = df_hosts[df_hosts['host_years_old']>10]\ndf_hosts_ancient.head()",
   "metadata": {
    "tags": [],
    "cell_id": "00026-c0b9c5ce-e0a4-49b7-9a13-c6b75d6e5b28",
    "deepnote_to_be_reexecuted": false,
    "source_hash": "afe22a14",
    "execution_start": 1633451847103,
    "execution_millis": 26,
    "deepnote_cell_type": "code"
   },
   "outputs": [
    {
     "output_type": "execute_result",
     "execution_count": 12,
     "data": {
      "application/vnd.deepnote.dataframe.v2+json": {
       "row_count": 5,
       "column_count": 4,
       "columns": [
        {
         "name": "id",
         "dtype": "float64",
         "stats": {
          "unique_count": 5,
          "nan_count": 0,
          "min": "43039.0",
          "max": "103583.0",
          "histogram": [
           {
            "bin_start": 43039,
            "bin_end": 49093.4,
            "count": 1
           },
           {
            "bin_start": 49093.4,
            "bin_end": 55147.8,
            "count": 1
           },
           {
            "bin_start": 55147.8,
            "bin_end": 61202.2,
            "count": 1
           },
           {
            "bin_start": 61202.2,
            "bin_end": 67256.6,
            "count": 0
           },
           {
            "bin_start": 67256.6,
            "bin_end": 73311,
            "count": 1
           },
           {
            "bin_start": 73311,
            "bin_end": 79365.4,
            "count": 0
           },
           {
            "bin_start": 79365.4,
            "bin_end": 85419.79999999999,
            "count": 0
           },
           {
            "bin_start": 85419.79999999999,
            "bin_end": 91474.2,
            "count": 0
           },
           {
            "bin_start": 91474.2,
            "bin_end": 97528.6,
            "count": 0
           },
           {
            "bin_start": 97528.6,
            "bin_end": 103583,
            "count": 1
           }
          ]
         }
        },
        {
         "name": "host_name",
         "dtype": "object",
         "stats": {
          "unique_count": 5,
          "nan_count": 0,
          "categories": [
           {
            "name": "Adriano",
            "count": 1
           },
           {
            "name": "Alina",
            "count": 1
           },
           {
            "name": "3 others",
            "count": 3
           }
          ]
         }
        },
        {
         "name": "host_since",
         "dtype": "object",
         "stats": {
          "unique_count": 5,
          "nan_count": 0,
          "categories": [
           {
            "name": "2009-10-03",
            "count": 1
           },
           {
            "name": "2009-11-16",
            "count": 1
           },
           {
            "name": "3 others",
            "count": 3
           }
          ]
         }
        },
        {
         "name": "host_years_old",
         "dtype": "int64",
         "stats": {
          "unique_count": 2,
          "nan_count": 0,
          "min": "11",
          "max": "12",
          "histogram": [
           {
            "bin_start": 11,
            "bin_end": 11.1,
            "count": 2
           },
           {
            "bin_start": 11.1,
            "bin_end": 11.2,
            "count": 0
           },
           {
            "bin_start": 11.2,
            "bin_end": 11.3,
            "count": 0
           },
           {
            "bin_start": 11.3,
            "bin_end": 11.4,
            "count": 0
           },
           {
            "bin_start": 11.4,
            "bin_end": 11.5,
            "count": 0
           },
           {
            "bin_start": 11.5,
            "bin_end": 11.6,
            "count": 0
           },
           {
            "bin_start": 11.6,
            "bin_end": 11.7,
            "count": 0
           },
           {
            "bin_start": 11.7,
            "bin_end": 11.8,
            "count": 0
           },
           {
            "bin_start": 11.8,
            "bin_end": 11.9,
            "count": 0
           },
           {
            "bin_start": 11.9,
            "bin_end": 12,
            "count": 3
           }
          ]
         }
        },
        {
         "name": "_deepnote_index_column",
         "dtype": "int64"
        }
       ],
       "rows_top": [
        {
         "id": 43039,
         "host_name": "Adriano",
         "host_since": "2009-10-03",
         "host_years_old": 12,
         "_deepnote_index_column": 0
        },
        {
         "id": 54730,
         "host_name": "Alina",
         "host_since": "2009-11-16",
         "host_years_old": 12,
         "_deepnote_index_column": 1
        },
        {
         "id": 60302,
         "host_name": "Philippa",
         "host_since": "2009-12-05",
         "host_years_old": 12,
         "_deepnote_index_column": 2
        },
        {
         "id": 67564,
         "host_name": "Liz",
         "host_since": "2010-01-04",
         "host_years_old": 11,
         "_deepnote_index_column": 3
        },
        {
         "id": 103583,
         "host_name": "Grace",
         "host_since": "2010-04-05",
         "host_years_old": 11,
         "_deepnote_index_column": 4
        }
       ],
       "rows_bottom": null
      },
      "text/plain": "         id host_name  host_since  host_years_old\n0   43039.0   Adriano  2009-10-03              12\n1   54730.0     Alina  2009-11-16              12\n2   60302.0  Philippa  2009-12-05              12\n3   67564.0       Liz  2010-01-04              11\n4  103583.0     Grace  2010-04-05              11",
      "text/html": "<div>\n<style scoped>\n    .dataframe tbody tr th:only-of-type {\n        vertical-align: middle;\n    }\n\n    .dataframe tbody tr th {\n        vertical-align: top;\n    }\n\n    .dataframe thead th {\n        text-align: right;\n    }\n</style>\n<table border=\"1\" class=\"dataframe\">\n  <thead>\n    <tr style=\"text-align: right;\">\n      <th></th>\n      <th>id</th>\n      <th>host_name</th>\n      <th>host_since</th>\n      <th>host_years_old</th>\n    </tr>\n  </thead>\n  <tbody>\n    <tr>\n      <th>0</th>\n      <td>43039.0</td>\n      <td>Adriano</td>\n      <td>2009-10-03</td>\n      <td>12</td>\n    </tr>\n    <tr>\n      <th>1</th>\n      <td>54730.0</td>\n      <td>Alina</td>\n      <td>2009-11-16</td>\n      <td>12</td>\n    </tr>\n    <tr>\n      <th>2</th>\n      <td>60302.0</td>\n      <td>Philippa</td>\n      <td>2009-12-05</td>\n      <td>12</td>\n    </tr>\n    <tr>\n      <th>3</th>\n      <td>67564.0</td>\n      <td>Liz</td>\n      <td>2010-01-04</td>\n      <td>11</td>\n    </tr>\n    <tr>\n      <th>4</th>\n      <td>103583.0</td>\n      <td>Grace</td>\n      <td>2010-04-05</td>\n      <td>11</td>\n    </tr>\n  </tbody>\n</table>\n</div>"
     },
     "metadata": {}
    }
   ],
   "execution_count": 12
  },
  {
   "cell_type": "markdown",
   "source": "### Exercise-05: Identify budget listings\nUsing the above code as a guide, use `df_listings` to create a new `DataFrame` named `df_listings_budget` which contains listings whose price is less than $100.",
   "metadata": {
    "tags": [],
    "cell_id": "00023-e9303491-c3d4-4fd3-bb48-ee16497d9156",
    "deepnote_cell_type": "markdown"
   }
  },
  {
   "cell_type": "code",
   "metadata": {
    "tags": [],
    "cell_id": "00024-86121000-3e44-4f2d-b36d-b3829e4eeac3",
    "deepnote_to_be_reexecuted": false,
    "source_hash": "fd218a0c",
    "execution_start": 1633451847145,
    "execution_millis": 9,
    "deepnote_cell_type": "code"
   },
   "source": "# (SOLUTION) Delete in public branch\ndf_listings_budget = df_listings[df_listings['price_$']<100]\ndf_listings_budget.head()",
   "outputs": [
    {
     "output_type": "execute_result",
     "execution_count": 13,
     "data": {
      "application/vnd.deepnote.dataframe.v2+json": {
       "row_count": 5,
       "column_count": 6,
       "columns": [
        {
         "name": "host_id",
         "dtype": "int64",
         "stats": {
          "unique_count": 5,
          "nan_count": 0,
          "min": "54730",
          "max": "157884",
          "histogram": [
           {
            "bin_start": 54730,
            "bin_end": 65045.4,
            "count": 2
           },
           {
            "bin_start": 65045.4,
            "bin_end": 75360.8,
            "count": 0
           },
           {
            "bin_start": 75360.8,
            "bin_end": 85676.2,
            "count": 0
           },
           {
            "bin_start": 85676.2,
            "bin_end": 95991.6,
            "count": 0
           },
           {
            "bin_start": 95991.6,
            "bin_end": 106307,
            "count": 1
           },
           {
            "bin_start": 106307,
            "bin_end": 116622.4,
            "count": 0
           },
           {
            "bin_start": 116622.4,
            "bin_end": 126937.8,
            "count": 0
           },
           {
            "bin_start": 126937.8,
            "bin_end": 137253.2,
            "count": 0
           },
           {
            "bin_start": 137253.2,
            "bin_end": 147568.59999999998,
            "count": 1
           },
           {
            "bin_start": 147568.59999999998,
            "bin_end": 157884,
            "count": 1
           }
          ]
         }
        },
        {
         "name": "id",
         "dtype": "int64",
         "stats": {
          "unique_count": 5,
          "nan_count": 0,
          "min": "13913",
          "max": "36660",
          "histogram": [
           {
            "bin_start": 13913,
            "bin_end": 16187.7,
            "count": 2
           },
           {
            "bin_start": 16187.7,
            "bin_end": 18462.4,
            "count": 0
           },
           {
            "bin_start": 18462.4,
            "bin_end": 20737.1,
            "count": 0
           },
           {
            "bin_start": 20737.1,
            "bin_end": 23011.8,
            "count": 0
           },
           {
            "bin_start": 23011.8,
            "bin_end": 25286.5,
            "count": 1
           },
           {
            "bin_start": 25286.5,
            "bin_end": 27561.199999999997,
            "count": 0
           },
           {
            "bin_start": 27561.199999999997,
            "bin_end": 29835.899999999998,
            "count": 0
           },
           {
            "bin_start": 29835.899999999998,
            "bin_end": 32110.6,
            "count": 0
           },
           {
            "bin_start": 32110.6,
            "bin_end": 34385.3,
            "count": 1
           },
           {
            "bin_start": 34385.3,
            "bin_end": 36660,
            "count": 1
           }
          ]
         }
        },
        {
         "name": "name",
         "dtype": "object",
         "stats": {
          "unique_count": 5,
          "nan_count": 0,
          "categories": [
           {
            "name": "Holiday London DB Room Let-on going",
            "count": 1
           },
           {
            "name": "Bright Chelsea  Apartment. Chelsea!",
            "count": 1
           },
           {
            "name": "3 others",
            "count": 3
           }
          ]
         }
        },
        {
         "name": "room_type",
         "dtype": "object",
         "stats": {
          "unique_count": 2,
          "nan_count": 0,
          "categories": [
           {
            "name": "Private room",
            "count": 4
           },
           {
            "name": "Entire home/apt",
            "count": 1
           }
          ]
         }
        },
        {
         "name": "price",
         "dtype": "object",
         "stats": {
          "unique_count": 5,
          "nan_count": 0,
          "categories": [
           {
            "name": "$40.00",
            "count": 1
           },
           {
            "name": "$75.00",
            "count": 1
           },
           {
            "name": "3 others",
            "count": 3
           }
          ]
         }
        },
        {
         "name": "price_$",
         "dtype": "float64",
         "stats": {
          "unique_count": 5,
          "nan_count": 0,
          "min": "29.0",
          "max": "75.0",
          "histogram": [
           {
            "bin_start": 29,
            "bin_end": 33.6,
            "count": 1
           },
           {
            "bin_start": 33.6,
            "bin_end": 38.2,
            "count": 0
           },
           {
            "bin_start": 38.2,
            "bin_end": 42.8,
            "count": 1
           },
           {
            "bin_start": 42.8,
            "bin_end": 47.4,
            "count": 0
           },
           {
            "bin_start": 47.4,
            "bin_end": 52,
            "count": 0
           },
           {
            "bin_start": 52,
            "bin_end": 56.599999999999994,
            "count": 0
           },
           {
            "bin_start": 56.599999999999994,
            "bin_end": 61.199999999999996,
            "count": 0
           },
           {
            "bin_start": 61.199999999999996,
            "bin_end": 65.8,
            "count": 1
           },
           {
            "bin_start": 65.8,
            "bin_end": 70.4,
            "count": 0
           },
           {
            "bin_start": 70.4,
            "bin_end": 75,
            "count": 2
           }
          ]
         }
        },
        {
         "name": "_deepnote_index_column",
         "dtype": "int64"
        }
       ],
       "rows_top": [
        {
         "host_id": 54730,
         "id": 13913,
         "name": "Holiday London DB Room Let-on going",
         "room_type": "Private room",
         "price": "$40.00",
         "price_$": 40,
         "_deepnote_index_column": 1
        },
        {
         "host_id": 60302,
         "id": 15400,
         "name": "Bright Chelsea  Apartment. Chelsea!",
         "room_type": "Entire home/apt",
         "price": "$75.00",
         "price_$": 75,
         "_deepnote_index_column": 2
        },
        {
         "host_id": 103583,
         "id": 25123,
         "name": "Clean big Room in London (Room 1)",
         "room_type": "Private room",
         "price": "$29.00",
         "price_$": 29,
         "_deepnote_index_column": 4
        },
        {
         "host_id": 144444,
         "id": 33332,
         "name": "Beautiful Ensuite Richmond-upon-Thames borough",
         "room_type": "Private room",
         "price": "$65.00",
         "price_$": 65,
         "_deepnote_index_column": 5
        },
        {
         "host_id": 157884,
         "id": 36660,
         "name": "You are GUARANTEED to love this",
         "room_type": "Private room",
         "price": "$72.00",
         "price_$": 72,
         "_deepnote_index_column": 7
        }
       ],
       "rows_bottom": null
      },
      "text/plain": "   host_id     id                                            name  \\\n1    54730  13913             Holiday London DB Room Let-on going   \n2    60302  15400             Bright Chelsea  Apartment. Chelsea!   \n4   103583  25123               Clean big Room in London (Room 1)   \n5   144444  33332  Beautiful Ensuite Richmond-upon-Thames borough   \n7   157884  36660                 You are GUARANTEED to love this   \n\n         room_type   price  price_$  \n1     Private room  $40.00     40.0  \n2  Entire home/apt  $75.00     75.0  \n4     Private room  $29.00     29.0  \n5     Private room  $65.00     65.0  \n7     Private room  $72.00     72.0  ",
      "text/html": "<div>\n<style scoped>\n    .dataframe tbody tr th:only-of-type {\n        vertical-align: middle;\n    }\n\n    .dataframe tbody tr th {\n        vertical-align: top;\n    }\n\n    .dataframe thead th {\n        text-align: right;\n    }\n</style>\n<table border=\"1\" class=\"dataframe\">\n  <thead>\n    <tr style=\"text-align: right;\">\n      <th></th>\n      <th>host_id</th>\n      <th>id</th>\n      <th>name</th>\n      <th>room_type</th>\n      <th>price</th>\n      <th>price_$</th>\n    </tr>\n  </thead>\n  <tbody>\n    <tr>\n      <th>1</th>\n      <td>54730</td>\n      <td>13913</td>\n      <td>Holiday London DB Room Let-on going</td>\n      <td>Private room</td>\n      <td>$40.00</td>\n      <td>40.0</td>\n    </tr>\n    <tr>\n      <th>2</th>\n      <td>60302</td>\n      <td>15400</td>\n      <td>Bright Chelsea  Apartment. Chelsea!</td>\n      <td>Entire home/apt</td>\n      <td>$75.00</td>\n      <td>75.0</td>\n    </tr>\n    <tr>\n      <th>4</th>\n      <td>103583</td>\n      <td>25123</td>\n      <td>Clean big Room in London (Room 1)</td>\n      <td>Private room</td>\n      <td>$29.00</td>\n      <td>29.0</td>\n    </tr>\n    <tr>\n      <th>5</th>\n      <td>144444</td>\n      <td>33332</td>\n      <td>Beautiful Ensuite Richmond-upon-Thames borough</td>\n      <td>Private room</td>\n      <td>$65.00</td>\n      <td>65.0</td>\n    </tr>\n    <tr>\n      <th>7</th>\n      <td>157884</td>\n      <td>36660</td>\n      <td>You are GUARANTEED to love this</td>\n      <td>Private room</td>\n      <td>$72.00</td>\n      <td>72.0</td>\n    </tr>\n  </tbody>\n</table>\n</div>"
     },
     "metadata": {}
    }
   ],
   "execution_count": 13
  },
  {
   "cell_type": "markdown",
   "source": "<a style='text-decoration:none;line-height:16px;display:flex;color:#5B5B62;padding:10px;justify-content:end;' href='https://deepnote.com?utm_source=created-in-deepnote-cell&projectId=2c6f047c-21a6-4149-814c-b3f60a9bf973' target=\"_blank\">\n<img alt='Created in deepnote.com' style='display:inline;max-height:16px;margin:0px;margin-right:7.5px;' src='data:image/svg+xml;base64,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' > </img>\nCreated in <span style='font-weight:600;margin-left:4px;'>Deepnote</span></a>",
   "metadata": {
    "tags": [],
    "created_in_deepnote_cell": true,
    "deepnote_cell_type": "markdown"
   }
  }
 ],
 "nbformat": 4,
 "nbformat_minor": 2,
 "metadata": {
  "orig_nbformat": 2,
  "deepnote": {
   "is_reactive": false
  },
  "deepnote_notebook_id": "a3448935-844e-4a3d-8582-74593158806f",
  "deepnote_execution_queue": []
 }
}