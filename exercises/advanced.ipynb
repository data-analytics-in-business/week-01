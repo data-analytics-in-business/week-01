{
 "cells": [
  {
   "cell_type": "code",
   "metadata": {
    "tags": [],
    "cell_id": "00000-6f9e41dc-39f8-462f-888c-92d2cc0ff357",
    "deepnote_to_be_reexecuted": false,
    "source_hash": "9b82ee11",
    "execution_start": 1632672693495,
    "execution_millis": 4,
    "deepnote_cell_type": "code"
   },
   "source": "import pandas as pd",
   "outputs": [],
   "execution_count": null
  },
  {
   "cell_type": "code",
   "metadata": {
    "tags": [],
    "cell_id": "00001-ffd62394-dedd-431a-8c52-e2ad6b79ca77",
    "deepnote_to_be_reexecuted": false,
    "source_hash": "bc28e100",
    "execution_start": 1632672915041,
    "execution_millis": 7657,
    "deepnote_cell_type": "code"
   },
   "source": "df = pd.read_csv('/datasets/week-01/reviews.csv')",
   "outputs": [],
   "execution_count": null
  },
  {
   "cell_type": "code",
   "metadata": {
    "tags": [],
    "cell_id": "00002-6cad1740-821a-4a39-92c0-176e13cc2b05",
    "deepnote_to_be_reexecuted": false,
    "source_hash": "f804c160",
    "execution_start": 1632672932269,
    "execution_millis": 259,
    "deepnote_cell_type": "code"
   },
   "source": "df",
   "outputs": [
    {
     "output_type": "execute_result",
     "execution_count": 8,
     "data": {
      "application/vnd.deepnote.dataframe.v2+json": {
       "row_count": 1129280,
       "column_count": 6,
       "columns": [
        {
         "name": "listing_id",
         "dtype": "int64"
        },
        {
         "name": "id",
         "dtype": "int64"
        },
        {
         "name": "date",
         "dtype": "object"
        },
        {
         "name": "reviewer_id",
         "dtype": "int64"
        },
        {
         "name": "reviewer_name",
         "dtype": "object"
        },
        {
         "name": "comments",
         "dtype": "object"
        },
        {
         "name": "_deepnote_index_column",
         "dtype": "int64"
        }
       ],
       "rows_top": [
        {
         "listing_id": 11551,
         "id": 30672,
         "date": "2010-03-21",
         "reviewer_id": 93896,
         "reviewer_name": "Shar-Lyn",
         "comments": "The flat was bright, comfortable and clean and Adriano was pleasant and gracious about accommodatin…",
         "_deepnote_index_column": 0
        },
        {
         "listing_id": 11551,
         "id": 32236,
         "date": "2010-03-29",
         "reviewer_id": 97890,
         "reviewer_name": "Zane",
         "comments": "We stayed with Adriano and Valerio for a week when first moving to London. The apartment is great a…",
         "_deepnote_index_column": 1
        },
        {
         "listing_id": 11551,
         "id": 41044,
         "date": "2010-05-09",
         "reviewer_id": 104133,
         "reviewer_name": "Chase",
         "comments": "Adriano was a fantastic host. We felt very at home while staying there. Our first morning we woke u…",
         "_deepnote_index_column": 2
        },
        {
         "listing_id": 11551,
         "id": 48926,
         "date": "2010-06-01",
         "reviewer_id": 122714,
         "reviewer_name": "John & Sylvia",
         "comments": "We had a most wonderful stay with Adriano and Valerio.  They are both interesting and interested ho…",
         "_deepnote_index_column": 3
        },
        {
         "listing_id": 11551,
         "id": 58352,
         "date": "2010-06-28",
         "reviewer_id": 111543,
         "reviewer_name": "Monique",
         "comments": "  I'm not sure which of us misunderstood the situation, but I was not aware that Adriano and his co…",
         "_deepnote_index_column": 4
        },
        {
         "listing_id": 11551,
         "id": 63238,
         "date": "2010-07-10",
         "reviewer_id": 100872,
         "reviewer_name": "Sarah",
         "comments": "This is a great place to stay! Adriano and Valerio are wonderful hosts, super friendly, welcoming, …",
         "_deepnote_index_column": 5
        },
        {
         "listing_id": 11551,
         "id": 66216,
         "date": "2010-07-18",
         "reviewer_id": 165158,
         "reviewer_name": "Nino",
         "comments": "5***** Stars for Adriano & Valerio\r\nIf you are looking for a nice, cosy and super clean room in Lon…",
         "_deepnote_index_column": 6
        },
        {
         "listing_id": 11551,
         "id": 79600,
         "date": "2010-08-16",
         "reviewer_id": 190950,
         "reviewer_name": "Giuseppina",
         "comments": "the place is in a quiet side road, very convenient (a 2 minute slow walk) to the tube on Victoria l…",
         "_deepnote_index_column": 7
        },
        {
         "listing_id": 11551,
         "id": 89501,
         "date": "2010-09-03",
         "reviewer_id": 156663,
         "reviewer_name": "Duane",
         "comments": "The room was as shown. Didn't have access to the living room much. I'd pick another place to stay c…",
         "_deepnote_index_column": 8
        },
        {
         "listing_id": 11551,
         "id": 97222,
         "date": "2010-09-14",
         "reviewer_id": 217139,
         "reviewer_name": "Sten J. McNeil",
         "comments": "I had a great stay with Adriano! He was very friendly, knowledgeable and helpful. The flat was clea…",
         "_deepnote_index_column": 9
        },
        {
         "listing_id": 11551,
         "id": 97898,
         "date": "2010-09-15",
         "reviewer_id": 224093,
         "reviewer_name": "Melissa",
         "comments": "adriano is a sweet and totally gentle guy. his house is tiny, but SUPER clean and cozy--he keeps hi…",
         "_deepnote_index_column": 10
        },
        {
         "listing_id": 11551,
         "id": 103444,
         "date": "2010-09-23",
         "reviewer_id": 215682,
         "reviewer_name": "Travis & Sandra",
         "comments": "We stayed with Adriano for 5 nights on our visit to London.  His apartment is small but spotless an…",
         "_deepnote_index_column": 11
        },
        {
         "listing_id": 11551,
         "id": 112151,
         "date": "2010-10-05",
         "reviewer_id": 213327,
         "reviewer_name": "Victoria",
         "comments": "Staying with Adriano & Valerio was a plasure, I felt just like at home. Adriano is a very interetin…",
         "_deepnote_index_column": 12
        },
        {
         "listing_id": 11551,
         "id": 123531,
         "date": "2010-10-20",
         "reviewer_id": 256327,
         "reviewer_name": "Gregor",
         "comments": "Clean, tidy, close to the underground and bus. Adriano is friendly and trustful. I had a good time.",
         "_deepnote_index_column": 13
        },
        {
         "listing_id": 11551,
         "id": 126745,
         "date": "2010-10-25",
         "reviewer_id": 250752,
         "reviewer_name": "Chiara",
         "comments": "If you want a cheap and super clean accomodation in London you should book your room at Adriano's p…",
         "_deepnote_index_column": 14
        },
        {
         "listing_id": 11551,
         "id": 140790,
         "date": "2010-11-17",
         "reviewer_id": 257563,
         "reviewer_name": "Guillermo",
         "comments": "This was my first stop in an \"All-AirBNB\" Trip and let me tell you that it was a great place to sta…",
         "_deepnote_index_column": 15
        },
        {
         "listing_id": 11551,
         "id": 143793,
         "date": "2010-11-23",
         "reviewer_id": 289681,
         "reviewer_name": "Berit",
         "comments": "Super perfect 5 star place to stay. \r\n\r\nClean and tidy flatt with a real good feeling to it and pri…",
         "_deepnote_index_column": 16
        },
        {
         "listing_id": 11551,
         "id": 193057,
         "date": "2011-03-06",
         "reviewer_id": 276159,
         "reviewer_name": "Elsa",
         "comments": "My boyfriend and I just came back from London where we stayed a couple of days at Adriano's place.\r…",
         "_deepnote_index_column": 17
        },
        {
         "listing_id": 11551,
         "id": 228327,
         "date": "2011-04-16",
         "reviewer_id": 176390,
         "reviewer_name": "Roland",
         "comments": "Adriano was a thoughtful host, offering touristic suggestions as well as a splendid cappuccino. The…",
         "_deepnote_index_column": 18
        },
        {
         "listing_id": 11551,
         "id": 245212,
         "date": "2011-04-30",
         "reviewer_id": 427435,
         "reviewer_name": "Norma",
         "comments": "This place was perfect to stay in London. Very near the tube, very clean and tidy. Adriano is a ver…",
         "_deepnote_index_column": 19
        },
        {
         "listing_id": 11551,
         "id": 267182,
         "date": "2011-05-17",
         "reviewer_id": 439603,
         "reviewer_name": "Peder & Molly",
         "comments": "The host canceled my reservation 4 days before arrival.",
         "_deepnote_index_column": 20
        },
        {
         "listing_id": 11551,
         "id": 269284,
         "date": "2011-05-18",
         "reviewer_id": 478786,
         "reviewer_name": "Alessio",
         "comments": "Adriano has many good reviews,so i m gonna  to say same things that other people already said.Adria…",
         "_deepnote_index_column": 21
        },
        {
         "listing_id": 11551,
         "id": 287134,
         "date": "2011-05-29",
         "reviewer_id": 537259,
         "reviewer_name": "Donna",
         "comments": "Adriano was quick to help me rent on a couple of hours notice. Clean and lovely reception. ",
         "_deepnote_index_column": 22
        },
        {
         "listing_id": 11551,
         "id": 339787,
         "date": "2011-06-28",
         "reviewer_id": 524508,
         "reviewer_name": "Jim",
         "comments": "Adriano was out ot town. I stayed with his cousin Valerio, who was\r\nvery nice, clean and kept the p…",
         "_deepnote_index_column": 23
        },
        {
         "listing_id": 11551,
         "id": 352195,
         "date": "2011-07-04",
         "reviewer_id": 592407,
         "reviewer_name": "Antony J",
         "comments": "I spent 2 nights at Adriano's flat and enjoyed my experience there very much.  Adriano and his cous…",
         "_deepnote_index_column": 24
        },
        {
         "listing_id": 11551,
         "id": 358355,
         "date": "2011-07-07",
         "reviewer_id": 550031,
         "reviewer_name": "Desley",
         "comments": "We really enjoyed our stay with Adriano. He is a great host, very welcoming, thoughtful and molto s…",
         "_deepnote_index_column": 25
        },
        {
         "listing_id": 11551,
         "id": 363263,
         "date": "2011-07-09",
         "reviewer_id": 780069,
         "reviewer_name": "Takayuki A.",
         "comments": "Andriano is a great host. Very sociable, nice and friendly talks. the Flat is clean, very clean. Be…",
         "_deepnote_index_column": 26
        },
        {
         "listing_id": 11551,
         "id": 374839,
         "date": "2011-07-15",
         "reviewer_id": 722255,
         "reviewer_name": "Heath",
         "comments": "My stay with Adriano, at his bright London flat, was my first through airbnb and it couldn't have b…",
         "_deepnote_index_column": 27
        },
        {
         "listing_id": 11551,
         "id": 381317,
         "date": "2011-07-18",
         "reviewer_id": 779372,
         "reviewer_name": "Thomas",
         "comments": "Adriano was a very friendly and helpful host. He greeted me with a short walk through Brixton and s…",
         "_deepnote_index_column": 28
        },
        {
         "listing_id": 11551,
         "id": 418003,
         "date": "2011-08-03",
         "reviewer_id": 423465,
         "reviewer_name": "James",
         "comments": "I could not have asked for a better host for my first airbnb experience and my first trip to London…",
         "_deepnote_index_column": 29
        },
        {
         "listing_id": 11551,
         "id": 423290,
         "date": "2011-08-06",
         "reviewer_id": 341351,
         "reviewer_name": "Jason",
         "comments": "Adriano is a great host with a lovely flat.  I wish I could've stayed longer!",
         "_deepnote_index_column": 30
        },
        {
         "listing_id": 11551,
         "id": 442191,
         "date": "2011-08-13",
         "reviewer_id": 318589,
         "reviewer_name": "Anne Rose",
         "comments": "The host is very accomodating and the place is very neat.  the location is easy access to public tr…",
         "_deepnote_index_column": 31
        },
        {
         "listing_id": 11551,
         "id": 480825,
         "date": "2011-08-28",
         "reviewer_id": 745727,
         "reviewer_name": "Bill",
         "comments": "Adiano's rented room was fine for my needs...eonomical and near a tube stop.  I especially enjoyed …",
         "_deepnote_index_column": 32
        },
        {
         "listing_id": 11551,
         "id": 514717,
         "date": "2011-09-08",
         "reviewer_id": 1109988,
         "reviewer_name": "Patrick",
         "comments": "Adriano's place is just a three minute walk from Brixton Tube, very tidy and comfortable too. Adria…",
         "_deepnote_index_column": 33
        },
        {
         "listing_id": 11551,
         "id": 528326,
         "date": "2011-09-13",
         "reviewer_id": 803799,
         "reviewer_name": "Antje & Harald",
         "comments": "We had a great stay in London at Adriano's place. His apartment is very well located though absolut…",
         "_deepnote_index_column": 34
        },
        {
         "listing_id": 11551,
         "id": 558465,
         "date": "2011-09-22",
         "reviewer_id": 359503,
         "reviewer_name": "Ricardo",
         "comments": "Adriano is like one of the London sighseeing destinations, you gotta visit, no matter how many time…",
         "_deepnote_index_column": 35
        },
        {
         "listing_id": 11551,
         "id": 584426,
         "date": "2011-09-30",
         "reviewer_id": 1205989,
         "reviewer_name": "Clarissa",
         "comments": "Hi everyone. Adriano was an amazing guest. Very nice and with tons of info. Whenever I come back to…",
         "_deepnote_index_column": 36
        },
        {
         "listing_id": 11551,
         "id": 590263,
         "date": "2011-10-02",
         "reviewer_id": 849895,
         "reviewer_name": "Derek",
         "comments": "I stayed with Adriano for two nights to attend a concert at the Brixton Academy. The place was love…",
         "_deepnote_index_column": 37
        },
        {
         "listing_id": 11551,
         "id": 598493,
         "date": "2011-10-04",
         "reviewer_id": 955126,
         "reviewer_name": "Fabio",
         "comments": "Adriano's flat is comfortable and very clean. A good bed where i slept as my home. The flat is very…",
         "_deepnote_index_column": 38
        },
        {
         "listing_id": 11551,
         "id": 619441,
         "date": "2011-10-11",
         "reviewer_id": 1127997,
         "reviewer_name": "Ursula",
         "comments": "\r\nIt was a very nice weekend in London.\r\nAdriano ist ein sehr guter Gastgeber und wir haben uns  wo…",
         "_deepnote_index_column": 39
        },
        {
         "listing_id": 11551,
         "id": 637757,
         "date": "2011-10-17",
         "reviewer_id": 1188539,
         "reviewer_name": "Robert",
         "comments": "Adriano's place was in a perfect location, literally 2 min walk from Brixton Tube in Zone 2. His pl…",
         "_deepnote_index_column": 40
        },
        {
         "listing_id": 11551,
         "id": 675784,
         "date": "2011-10-30",
         "reviewer_id": 32606,
         "reviewer_name": "Scott",
         "comments": "Adriano's flat is warm and cosy, convenient and well-appointed. And Adriano is a fantastic host--ve…",
         "_deepnote_index_column": 41
        },
        {
         "listing_id": 11551,
         "id": 691652,
         "date": "2011-11-04",
         "reviewer_id": 1284985,
         "reviewer_name": "Elena",
         "comments": "it was absolutly wonderful time in this nice flat and exakt what I was wating for.  Nice clean comf…",
         "_deepnote_index_column": 42
        },
        {
         "listing_id": 11551,
         "id": 718759,
         "date": "2011-11-14",
         "reviewer_id": 950973,
         "reviewer_name": "Gianfranco",
         "comments": "Adriano takes care of the details and was very helpful during my stay. ",
         "_deepnote_index_column": 43
        },
        {
         "listing_id": 11551,
         "id": 728092,
         "date": "2011-11-18",
         "reviewer_id": 951620,
         "reviewer_name": "Joel",
         "comments": "Went to a couple shows at the Brixton Academy and could not have stayed in a more convenient locati…",
         "_deepnote_index_column": 44
        },
        {
         "listing_id": 11551,
         "id": 732601,
         "date": "2011-11-20",
         "reviewer_id": 350419,
         "reviewer_name": "Selim Michel",
         "comments": "WONDERFUL STAY!\r\nI had a chance that others didn't! Met Adriano in his first apartment of Brixton, …",
         "_deepnote_index_column": 45
        },
        {
         "listing_id": 11551,
         "id": 754572,
         "date": "2011-11-29",
         "reviewer_id": 1422908,
         "reviewer_name": "Philip",
         "comments": "Adriano is a great and helpful host. We realy enjoyed staying there and highly recommend this place",
         "_deepnote_index_column": 46
        },
        {
         "listing_id": 11551,
         "id": 777594,
         "date": "2011-12-11",
         "reviewer_id": 1458385,
         "reviewer_name": "Ludovit",
         "comments": "Perfect!!!",
         "_deepnote_index_column": 47
        },
        {
         "listing_id": 11551,
         "id": 790296,
         "date": "2011-12-17",
         "reviewer_id": 1481525,
         "reviewer_name": "Bill",
         "comments": "Adriano is a great, caring person.\r\nThe suite is a bit small and crowded, but very clean. The locat…",
         "_deepnote_index_column": 48
        },
        {
         "listing_id": 11551,
         "id": 797602,
         "date": "2011-12-21",
         "reviewer_id": 835946,
         "reviewer_name": "Rodrigo",
         "comments": "The room is cozy and comfortable, even though it is small. The neighborhood has a vibrant life.\r\nWe…",
         "_deepnote_index_column": 49
        },
        {
         "listing_id": 11551,
         "id": 830273,
         "date": "2012-01-03",
         "reviewer_id": 1377321,
         "reviewer_name": "Dave",
         "comments": "My mates and I needed a place to stay over the holiday's and Adriano's seemed like a great deal. We…",
         "_deepnote_index_column": 50
        },
        {
         "listing_id": 11551,
         "id": 877496,
         "date": "2012-01-23",
         "reviewer_id": 1445320,
         "reviewer_name": "Roberta",
         "comments": "Adriano's is a very good accommodation for people seeking good location and a flexible stay. It was…",
         "_deepnote_index_column": 51
        },
        {
         "listing_id": 11551,
         "id": 908118,
         "date": "2012-02-07",
         "reviewer_id": 264066,
         "reviewer_name": "Peter",
         "comments": "Great place - well worth the value. Brixton is an interesting neighborhood and the tube stop is clo…",
         "_deepnote_index_column": 52
        },
        {
         "listing_id": 11551,
         "id": 922311,
         "date": "2012-02-14",
         "reviewer_id": 1724845,
         "reviewer_name": "Georgi",
         "comments": "My friend and I stayed in this flat on two occasions for over a month's time and were very happy. A…",
         "_deepnote_index_column": 53
        },
        {
         "listing_id": 11551,
         "id": 926100,
         "date": "2012-02-16",
         "reviewer_id": 860194,
         "reviewer_name": "Razvan",
         "comments": "Nice flat, bright host and very very good location.\r\nHighly recommended!",
         "_deepnote_index_column": 54
        },
        {
         "listing_id": 11551,
         "id": 959613,
         "date": "2012-02-28",
         "reviewer_id": 1701240,
         "reviewer_name": "Maël",
         "comments": "We really enjoyed our stay at Adriano'place. His flat is very nice and he knows very well how to we…",
         "_deepnote_index_column": 55
        },
        {
         "listing_id": 11551,
         "id": 980106,
         "date": "2012-03-07",
         "reviewer_id": 1570424,
         "reviewer_name": "Walter",
         "comments": "Trovare un'appartamento pulito, confortevole, adatto a 5 persone, non è cosa facile a Londra. Fortu…",
         "_deepnote_index_column": 56
        },
        {
         "listing_id": 11551,
         "id": 1027305,
         "date": "2012-03-21",
         "reviewer_id": 1718061,
         "reviewer_name": "Ju",
         "comments": "We got upgraded to Adriano's Northern Clapham apartment, which was in a better location than Brixto…",
         "_deepnote_index_column": 57
        },
        {
         "listing_id": 11551,
         "id": 1050575,
         "date": "2012-03-27",
         "reviewer_id": 1762134,
         "reviewer_name": "Maddalena",
         "comments": "Adriano is such a welcoming host. We were taken aback by his incredible hospitality. We were upgrad…",
         "_deepnote_index_column": 58
        },
        {
         "listing_id": 11551,
         "id": 1072451,
         "date": "2012-04-02",
         "reviewer_id": 1807382,
         "reviewer_name": "Burcin",
         "comments": "Nice place, good location.\r\nAdriano is so nice and friendly.\r\nThank you very much,\r\nSincerely,\r\nBur…",
         "_deepnote_index_column": 59
        },
        {
         "listing_id": 11551,
         "id": 1087509,
         "date": "2012-04-05",
         "reviewer_id": 1367610,
         "reviewer_name": "Marcus",
         "comments": "I sent my language student and her boyfriend to stay at Adrian's for a few nights, so this is not a…",
         "_deepnote_index_column": 60
        },
        {
         "listing_id": 11551,
         "id": 1092970,
         "date": "2012-04-07",
         "reviewer_id": 1206265,
         "reviewer_name": "Kyle",
         "comments": "This is a cute little flat in a great neighborhood. Adriana was a great host and told us where to f…",
         "_deepnote_index_column": 61
        },
        {
         "listing_id": 11551,
         "id": 1101037,
         "date": "2012-04-09",
         "reviewer_id": 1468361,
         "reviewer_name": "Matt",
         "comments": "Adriano was an excellent host.  The flat is very well maintained, convenient location - perfect fla…",
         "_deepnote_index_column": 62
        },
        {
         "listing_id": 11551,
         "id": 1130245,
         "date": "2012-04-15",
         "reviewer_id": 806501,
         "reviewer_name": "Sarah",
         "comments": "Adriano is a good guy!  His place is really close to the underground and very convenient.  It has e…",
         "_deepnote_index_column": 63
        },
        {
         "listing_id": 11551,
         "id": 1153500,
         "date": "2012-04-19",
         "reviewer_id": 2138161,
         "reviewer_name": "Jean Philippe",
         "comments": "We had an amazing week end to this place! it was warm, in a comfortable flat, very welcoming, with …",
         "_deepnote_index_column": 64
        },
        {
         "listing_id": 11551,
         "id": 1167028,
         "date": "2012-04-23",
         "reviewer_id": 1092889,
         "reviewer_name": "Lucia",
         "comments": "We enjoyed our stay in Brixton. The flat was warm, comfortable, it has everything you need. The tub…",
         "_deepnote_index_column": 65
        },
        {
         "listing_id": 11551,
         "id": 1207182,
         "date": "2012-05-01",
         "reviewer_id": 1685247,
         "reviewer_name": "Lucia",
         "comments": "The flat is very well located - extremely close to Brixton Subway Station and very clean. Adriano i…",
         "_deepnote_index_column": 66
        },
        {
         "listing_id": 11551,
         "id": 1225187,
         "date": "2012-05-04",
         "reviewer_id": 1591302,
         "reviewer_name": "Victor",
         "comments": "Siendo nuestra primera experiencia en Airbnb sentiamos un poco de desconfianza, pero el mejor inici…",
         "_deepnote_index_column": 67
        },
        {
         "listing_id": 11551,
         "id": 1242269,
         "date": "2012-05-07",
         "reviewer_id": 2202400,
         "reviewer_name": "Christina",
         "comments": "Adriano was there waiting for us even though we were late arriving.  He took us around the neighbor…",
         "_deepnote_index_column": 68
        },
        {
         "listing_id": 11551,
         "id": 1284821,
         "date": "2012-05-15",
         "reviewer_id": 1665832,
         "reviewer_name": "Leslie",
         "comments": "Adriano was very kind and helpfull. He take us to the discrit and show us the place to see. He told…",
         "_deepnote_index_column": 69
        },
        {
         "listing_id": 11551,
         "id": 1309949,
         "date": "2012-05-20",
         "reviewer_id": 2190433,
         "reviewer_name": "Jie",
         "comments": "Adriano was very helpful and welcoming. He made our stay in London very comfortable. Would definite…",
         "_deepnote_index_column": 70
        },
        {
         "listing_id": 11551,
         "id": 1360759,
         "date": "2012-05-28",
         "reviewer_id": 1687146,
         "reviewer_name": "Jeff",
         "comments": "The location of this apartment was great, we were very close to the tube which made it very conveni…",
         "_deepnote_index_column": 71
        },
        {
         "listing_id": 11551,
         "id": 1436576,
         "date": "2012-06-08",
         "reviewer_id": 2062629,
         "reviewer_name": "Julian",
         "comments": "Adriano is a very friendly host, who cares a lot about the people who he accommodates. He gave us a…",
         "_deepnote_index_column": 72
        },
        {
         "listing_id": 11551,
         "id": 1447045,
         "date": "2012-06-09",
         "reviewer_id": 190208,
         "reviewer_name": "Jo And Luka",
         "comments": "It was my parents who stayed at Adriano's place, so I'm leaving this review for them too.  Firstly,…",
         "_deepnote_index_column": 73
        },
        {
         "listing_id": 11551,
         "id": 1467286,
         "date": "2012-06-12",
         "reviewer_id": 2338610,
         "reviewer_name": "Aditya",
         "comments": "great guy - good conversationalist - excellent location with immediate access to all amenities",
         "_deepnote_index_column": 74
        },
        {
         "listing_id": 11551,
         "id": 1490146,
         "date": "2012-06-16",
         "reviewer_id": 2099086,
         "reviewer_name": "D.",
         "comments": "It was my first time in London and my experience at Adriano's was awesome he was very welcoming and…",
         "_deepnote_index_column": 75
        },
        {
         "listing_id": 11551,
         "id": 1600047,
         "date": "2012-07-01",
         "reviewer_id": 1830090,
         "reviewer_name": "Debora",
         "comments": "Adriano is surely a great host! He's very helpful and friendly. He even took me and my friend to a …",
         "_deepnote_index_column": 76
        },
        {
         "listing_id": 11551,
         "id": 1881061,
         "date": "2012-08-04",
         "reviewer_id": 1655143,
         "reviewer_name": "Roseli M Y",
         "comments": "Nossa estadia em Londres foi fantástica, e ficamos muito bem acomodados em Brixton! Adriano foi um …",
         "_deepnote_index_column": 77
        },
        {
         "listing_id": 11551,
         "id": 2110902,
         "date": "2012-08-27",
         "reviewer_id": 1758057,
         "reviewer_name": "Stefanie",
         "comments": "The flat was easy to find, convenient, clean, and had everything we needed. Adriano was very friend…",
         "_deepnote_index_column": 78
        },
        {
         "listing_id": 11551,
         "id": 2272274,
         "date": "2012-09-13",
         "reviewer_id": 1733771,
         "reviewer_name": "Tony",
         "comments": "Siamo stati nell'appartamento di Adriano a inizio settembre per una settimana. L'appartamento è esa…",
         "_deepnote_index_column": 79
        },
        {
         "listing_id": 11551,
         "id": 2373187,
         "date": "2012-09-22",
         "reviewer_id": 2992350,
         "reviewer_name": "Marie",
         "comments": "Adrian is a very nice and very helpful host. For my business trip to London  I had a perfect base i…",
         "_deepnote_index_column": 80
        },
        {
         "listing_id": 11551,
         "id": 2484435,
         "date": "2012-10-02",
         "reviewer_id": 3334109,
         "reviewer_name": "Monica",
         "comments": "We had such a great time in Adriano's place. It was clean, tidy, had everything we needed and was i…",
         "_deepnote_index_column": 81
        },
        {
         "listing_id": 11551,
         "id": 2559863,
         "date": "2012-10-09",
         "reviewer_id": 3460574,
         "reviewer_name": "Sonja",
         "comments": "Adriano is a great host, very nice and interesting! His apartment is very cozy and clean, in a typi…",
         "_deepnote_index_column": 82
        }
       ],
       "rows_bottom": [
        {
         "listing_id": 48699286,
         "id": 742294611,
         "date": "2021-03-26",
         "reviewer_id": 314021026,
         "reviewer_name": "Tino",
         "comments": "Newly refurbished and so it was a clean tidy room. Also really great communication. Thank you !",
         "_deepnote_index_column": 1129197
        },
        {
         "listing_id": 48706675,
         "id": 740990865,
         "date": "2021-03-21",
         "reviewer_id": 390627836,
         "reviewer_name": "Chris",
         "comments": "very clean and efficient  friendly service",
         "_deepnote_index_column": 1129198
        },
        {
         "listing_id": 48706675,
         "id": 741449300,
         "date": "2021-03-22",
         "reviewer_id": 312922570,
         "reviewer_name": "Khalid",
         "comments": "Very clean property with helpful staff. The area is nice and quiet and the whole process was smooth…",
         "_deepnote_index_column": 1129199
        },
        {
         "listing_id": 48706675,
         "id": 743057119,
         "date": "2021-03-28",
         "reviewer_id": 354260707,
         "reviewer_name": "Toby",
         "comments": "Great place and location",
         "_deepnote_index_column": 1129200
        },
        {
         "listing_id": 48706675,
         "id": 746549016,
         "date": "2021-04-07",
         "reviewer_id": 355770078,
         "reviewer_name": "Mayara",
         "comments": "Great place and staff :)",
         "_deepnote_index_column": 1129201
        },
        {
         "listing_id": 48707868,
         "id": 742299505,
         "date": "2021-03-26",
         "reviewer_id": 392208349,
         "reviewer_name": "Anıl",
         "comments": "The place has excess humidty  and  was very cold without a proper heating system.",
         "_deepnote_index_column": 1129202
        },
        {
         "listing_id": 48708506,
         "id": 740223721,
         "date": "2021-03-19",
         "reviewer_id": 265632530,
         "reviewer_name": "Damla",
         "comments": "Flat was very clean and homelike. Fully equipped. On a quiet street, shops and restaurants are down…",
         "_deepnote_index_column": 1129203
        },
        {
         "listing_id": 48708506,
         "id": 741712885,
         "date": "2021-03-23",
         "reviewer_id": 9789783,
         "reviewer_name": "Rob",
         "comments": "Aslan was a wonderful host, responded to all our messages right away. The apartment is light, clean…",
         "_deepnote_index_column": 1129204
        },
        {
         "listing_id": 48709546,
         "id": 743056960,
         "date": "2021-03-28",
         "reviewer_id": 23863844,
         "reviewer_name": "Daniel",
         "comments": "My daughter needed a break from her college dorm and this turned out to be the perfect place to get…",
         "_deepnote_index_column": 1129205
        },
        {
         "listing_id": 48710951,
         "id": 747337665,
         "date": "2021-04-10",
         "reviewer_id": 83226519,
         "reviewer_name": "Stefan",
         "comments": "Great stay!",
         "_deepnote_index_column": 1129206
        },
        {
         "listing_id": 48717444,
         "id": 743995719,
         "date": "2021-03-31",
         "reviewer_id": 385374576,
         "reviewer_name": "Sandra",
         "comments": "Espaço bom",
         "_deepnote_index_column": 1129207
        },
        {
         "listing_id": 48727499,
         "id": 747032442,
         "date": "2021-04-09",
         "reviewer_id": 378696110,
         "reviewer_name": "Daniyal",
         "comments": "Really a clean, nice and modern place, and they had all the amenities lined up. The place was reall…",
         "_deepnote_index_column": 1129208
        },
        {
         "listing_id": 48727499,
         "id": 747318601,
         "date": "2021-04-10",
         "reviewer_id": 394356592,
         "reviewer_name": "Luciano",
         "comments": "Clean and stylish place",
         "_deepnote_index_column": 1129209
        },
        {
         "listing_id": 48746049,
         "id": 746759755,
         "date": "2021-04-08",
         "reviewer_id": 395463716,
         "reviewer_name": "Shawn",
         "comments": "Nice place and nice host!",
         "_deepnote_index_column": 1129210
        },
        {
         "listing_id": 48747814,
         "id": 746054684,
         "date": "2021-04-05",
         "reviewer_id": 82859824,
         "reviewer_name": "Marsila",
         "comments": "Lovely apartment, amazing location and very quick response from host!",
         "_deepnote_index_column": 1129211
        },
        {
         "listing_id": 48750681,
         "id": 747024512,
         "date": "2021-04-09",
         "reviewer_id": 128082840,
         "reviewer_name": "Kevin",
         "comments": "Fantastic host, apartment is spotlessly clean and very smart, exactly as advertised, I have not had…",
         "_deepnote_index_column": 1129212
        },
        {
         "listing_id": 48763201,
         "id": 746028768,
         "date": "2021-04-05",
         "reviewer_id": 235975277,
         "reviewer_name": "George",
         "comments": "Lovely apartment on quiet street",
         "_deepnote_index_column": 1129213
        },
        {
         "listing_id": 48765880,
         "id": 745293642,
         "date": "2021-04-04",
         "reviewer_id": 28298883,
         "reviewer_name": "Meg",
         "comments": "Nikolitsa’s place was so homely and comfortable. She made sure there were snacks, drinks and food i…",
         "_deepnote_index_column": 1129214
        },
        {
         "listing_id": 48766195,
         "id": 743745757,
         "date": "2021-03-30",
         "reviewer_id": 383374827,
         "reviewer_name": "Imran",
         "comments": "Thank you for a lovely stay, amazing service and was stress free.",
         "_deepnote_index_column": 1129215
        },
        {
         "listing_id": 48769265,
         "id": 745965277,
         "date": "2021-04-05",
         "reviewer_id": 89086302,
         "reviewer_name": "Ilan",
         "comments": "We stayed in Leyla's place for just over  a week and the apartment was perfect.\n First, the locatio…",
         "_deepnote_index_column": 1129216
        },
        {
         "listing_id": 48778501,
         "id": 748187692,
         "date": "2021-04-12",
         "reviewer_id": 395820017,
         "reviewer_name": "Luca",
         "comments": "Excellent cosy place to stay, would recommend",
         "_deepnote_index_column": 1129217
        },
        {
         "listing_id": 48778501,
         "id": 748645821,
         "date": "2021-04-14",
         "reviewer_id": 86748105,
         "reviewer_name": "Gabrielle",
         "comments": "Ilaria was helpful, accommodating and her communication was excellent. Will definitely stay again. …",
         "_deepnote_index_column": 1129218
        },
        {
         "listing_id": 48780989,
         "id": 744271295,
         "date": "2021-04-01",
         "reviewer_id": 11653961,
         "reviewer_name": "Lewis",
         "comments": "Great place, great host, would hire again.\n\nThanks!",
         "_deepnote_index_column": 1129219
        },
        {
         "listing_id": 48783063,
         "id": 748636043,
         "date": "2021-04-14",
         "reviewer_id": 11183829,
         "reviewer_name": "Thandiwe",
         "comments": "Pleasant host  and excellent cook if your open to trying new food.",
         "_deepnote_index_column": 1129220
        },
        {
         "listing_id": 48801201,
         "id": 742991839,
         "date": "2021-03-28",
         "reviewer_id": 57440789,
         "reviewer_name": "Savannah",
         "comments": "Clean space beautiful view makes you feel at home host is very helpful and responds very quickly",
         "_deepnote_index_column": 1129221
        },
        {
         "listing_id": 48804962,
         "id": 744544490,
         "date": "2021-04-02",
         "reviewer_id": 49414948,
         "reviewer_name": "Josh",
         "comments": "Great apartment & location",
         "_deepnote_index_column": 1129222
        },
        {
         "listing_id": 48806616,
         "id": 746547478,
         "date": "2021-04-07",
         "reviewer_id": 4006860,
         "reviewer_name": "Alexander",
         "comments": "This is  a lovely spot in a great location. The communication with the owner was clear and quick. W…",
         "_deepnote_index_column": 1129223
        },
        {
         "listing_id": 48819136,
         "id": 742326996,
         "date": "2021-03-26",
         "reviewer_id": 22243518,
         "reviewer_name": "Stella",
         "comments": "I am so happy I booked this big and spacious flat!  It is laid out over two floors with the living …",
         "_deepnote_index_column": 1129224
        },
        {
         "listing_id": 48819136,
         "id": 745229554,
         "date": "2021-04-04",
         "reviewer_id": 379354709,
         "reviewer_name": "Shiyan",
         "comments": "房子很好,Alex和助手也很配合,地段很好去哪里都很方便,这是段非常愉快的体验",
         "_deepnote_index_column": 1129225
        },
        {
         "listing_id": 48820322,
         "id": 746763222,
         "date": "2021-04-08",
         "reviewer_id": 168699254,
         "reviewer_name": "Tanya",
         "comments": "A perfect location, lovely upscale residential neighborhood, with shops and restaurants adjacent. T…",
         "_deepnote_index_column": 1129226
        },
        {
         "listing_id": 48820322,
         "id": 747747957,
         "date": "2021-04-11",
         "reviewer_id": 180083574,
         "reviewer_name": "Cristina",
         "comments": "Most incredible location in all of London. A brilliant apartment with all you need. \nThe host was v…",
         "_deepnote_index_column": 1129227
        },
        {
         "listing_id": 48822290,
         "id": 744586356,
         "date": "2021-04-02",
         "reviewer_id": 204023778,
         "reviewer_name": "Miriam",
         "comments": "Great place! I had the best sleep in a long time. Also this is in a fantastic area! Walking distanc…",
         "_deepnote_index_column": 1129228
        },
        {
         "listing_id": 48829926,
         "id": 749070758,
         "date": "2021-04-16",
         "reviewer_id": 149197645,
         "reviewer_name": "Ciaran",
         "comments": "Excellent apartment. Brilliant location and great value",
         "_deepnote_index_column": 1129229
        },
        {
         "listing_id": 48836953,
         "id": 743512406,
         "date": "2021-03-29",
         "reviewer_id": 232259901,
         "reviewer_name": "Darryl",
         "comments": "Perfect place, it was a great stay!",
         "_deepnote_index_column": 1129230
        },
        {
         "listing_id": 48836953,
         "id": 745290538,
         "date": "2021-04-04",
         "reviewer_id": 258548821,
         "reviewer_name": "Nodas",
         "comments": "Spacious flat, in a good location, the bedroom is middle-sized and had everything I needed. The hos…",
         "_deepnote_index_column": 1129231
        },
        {
         "listing_id": 48836953,
         "id": 746061219,
         "date": "2021-04-05",
         "reviewer_id": 2517836,
         "reviewer_name": "Mary",
         "comments": "Agustina was an amazing host - made me feel at ease straight away and we had some great conversatio…",
         "_deepnote_index_column": 1129232
        },
        {
         "listing_id": 48836953,
         "id": 746759555,
         "date": "2021-04-08",
         "reviewer_id": 375990,
         "reviewer_name": "Tj",
         "comments": "great location walking distance to everything. Easy check in and the host is extremely kind and acc…",
         "_deepnote_index_column": 1129233
        },
        {
         "listing_id": 48836953,
         "id": 747311426,
         "date": "2021-04-10",
         "reviewer_id": 375990,
         "reviewer_name": "Tj",
         "comments": "best views of the city!",
         "_deepnote_index_column": 1129234
        },
        {
         "listing_id": 48836953,
         "id": 748462496,
         "date": "2021-04-13",
         "reviewer_id": 130208492,
         "reviewer_name": "珊",
         "comments": "❤️The best view \nThe flat is in floor 9 with an amazing view. The daylight is very sufficient and t…",
         "_deepnote_index_column": 1129235
        },
        {
         "listing_id": 48839101,
         "id": 744275192,
         "date": "2021-04-01",
         "reviewer_id": 200151620,
         "reviewer_name": "Morten",
         "comments": "Very delightful",
         "_deepnote_index_column": 1129236
        },
        {
         "listing_id": 48845208,
         "id": 743763856,
         "date": "2021-03-30",
         "reviewer_id": 7894127,
         "reviewer_name": "Florina",
         "comments": "The place is great and it is in an amazing location, close to the shops and within a small walking …",
         "_deepnote_index_column": 1129237
        },
        {
         "listing_id": 48861972,
         "id": 748639255,
         "date": "2021-04-14",
         "reviewer_id": 76137265,
         "reviewer_name": "Maya",
         "comments": "Jason was an amazing host! the location was also perfect. thank you for a great stay x",
         "_deepnote_index_column": 1129238
        },
        {
         "listing_id": 48863109,
         "id": 748625184,
         "date": "2021-04-14",
         "reviewer_id": 394879192,
         "reviewer_name": "Regina",
         "comments": "This place was amazing. I was nervous as I was the first to stay with no reviews but it was absolut…",
         "_deepnote_index_column": 1129239
        },
        {
         "listing_id": 48876088,
         "id": 745303320,
         "date": "2021-04-04",
         "reviewer_id": 113409666,
         "reviewer_name": "David",
         "comments": "Lovely space, and walking distance to Millenium bridge and River Thames",
         "_deepnote_index_column": 1129240
        },
        {
         "listing_id": 48881479,
         "id": 745291002,
         "date": "2021-04-04",
         "reviewer_id": 379277293,
         "reviewer_name": "Rahim Uddin",
         "comments": "Great Host! thanks alot",
         "_deepnote_index_column": 1129241
        },
        {
         "listing_id": 48881479,
         "id": 746059918,
         "date": "2021-04-05",
         "reviewer_id": 129313965,
         "reviewer_name": "Joshua",
         "comments": "Brilliant service",
         "_deepnote_index_column": 1129242
        },
        {
         "listing_id": 48893500,
         "id": 746359719,
         "date": "2021-04-06",
         "reviewer_id": 137812015,
         "reviewer_name": "Ellen",
         "comments": "We had a very pleasant stay at this Flat. The Flat was very clean and is ideally situated for local…",
         "_deepnote_index_column": 1129243
        },
        {
         "listing_id": 48909124,
         "id": 745341352,
         "date": "2021-04-04",
         "reviewer_id": 386966482,
         "reviewer_name": "Tarik",
         "comments": "Nice place",
         "_deepnote_index_column": 1129244
        },
        {
         "listing_id": 48912823,
         "id": 747748255,
         "date": "2021-04-11",
         "reviewer_id": 242279760,
         "reviewer_name": "Alex",
         "comments": "The room is cosy, and the house looks brand new. It's located in a nice, quiet neighbourhood, not t…",
         "_deepnote_index_column": 1129245
        },
        {
         "listing_id": 48917897,
         "id": 745971984,
         "date": "2021-04-05",
         "reviewer_id": 6509195,
         "reviewer_name": "Grant",
         "comments": "Really enjoyed my stay at Nas’ place. \nThe apartment was bigger than expected in a great location w…",
         "_deepnote_index_column": 1129246
        },
        {
         "listing_id": 48925344,
         "id": 744902086,
         "date": "2021-04-03",
         "reviewer_id": 94129917,
         "reviewer_name": "Mark",
         "comments": "Marion is extremely welcoming, and very sweet. She has a lovely home, in a really peaceful area, wh…",
         "_deepnote_index_column": 1129247
        },
        {
         "listing_id": 48925344,
         "id": 746758425,
         "date": "2021-04-08",
         "reviewer_id": 962126,
         "reviewer_name": "L.A. & Martin",
         "comments": "Marion's place was simply stunning. We had a great stay. The interior was beautifully laid out, lov…",
         "_deepnote_index_column": 1129248
        },
        {
         "listing_id": 48927933,
         "id": 744290629,
         "date": "2021-04-01",
         "reviewer_id": 31997815,
         "reviewer_name": "Noor",
         "comments": "Clean, modern and high spec. apartment. The instructions made check in a breeze. Loved that the hig…",
         "_deepnote_index_column": 1129249
        },
        {
         "listing_id": 48927933,
         "id": 745337859,
         "date": "2021-04-04",
         "reviewer_id": 151752969,
         "reviewer_name": "La-Verne",
         "comments": "Great host ! Nothing was too much to ask! Very easy check in and check out. Haroon communicated so …",
         "_deepnote_index_column": 1129250
        },
        {
         "listing_id": 48927933,
         "id": 746353597,
         "date": "2021-04-06",
         "reviewer_id": 300341321,
         "reviewer_name": "Donna",
         "comments": "Haroon was quick to respond, the flat was clean and modern. The bed is comfortable. The water press…",
         "_deepnote_index_column": 1129251
        },
        {
         "listing_id": 48931164,
         "id": 747006363,
         "date": "2021-04-09",
         "reviewer_id": 395356210,
         "reviewer_name": "Andrea Grace",
         "comments": "I enjoyed the 5 night stay. Alex had quick responses and helped when needed. The bed was comfortabl…",
         "_deepnote_index_column": 1129252
        },
        {
         "listing_id": 48931645,
         "id": 746346358,
         "date": "2021-04-06",
         "reviewer_id": 37703830,
         "reviewer_name": "Ash",
         "comments": "Would recommend!",
         "_deepnote_index_column": 1129253
        },
        {
         "listing_id": 48931645,
         "id": 747043906,
         "date": "2021-04-09",
         "reviewer_id": 354150119,
         "reviewer_name": "Caleb",
         "comments": "Lovely stay. A nice place and area to be, warm and cozy too.",
         "_deepnote_index_column": 1129254
        },
        {
         "listing_id": 48939358,
         "id": 746547354,
         "date": "2021-04-07",
         "reviewer_id": 39882750,
         "reviewer_name": "Brian",
         "comments": "Easy check in check out process. Room was clean and exactly as pictured. Thanks!",
         "_deepnote_index_column": 1129255
        },
        {
         "listing_id": 48951035,
         "id": 745283522,
         "date": "2021-04-04",
         "reviewer_id": 133232905,
         "reviewer_name": "Amar",
         "comments": "Kamil’s place is ideal for short stays and in a great location. Communication was brilliant and wou…",
         "_deepnote_index_column": 1129256
        },
        {
         "listing_id": 48951035,
         "id": 748438173,
         "date": "2021-04-13",
         "reviewer_id": 118755232,
         "reviewer_name": "Jason",
         "comments": "Great stay close enough to all we needed ie thorpe pk Very clean and great for short stays",
         "_deepnote_index_column": 1129257
        },
        {
         "listing_id": 48951035,
         "id": 748648787,
         "date": "2021-04-14",
         "reviewer_id": 393133966,
         "reviewer_name": "Richard",
         "comments": "Host was very attentive and communicated regularly with us. The apartment was clean and loved the w…",
         "_deepnote_index_column": 1129258
        },
        {
         "listing_id": 48956948,
         "id": 744914666,
         "date": "2021-04-03",
         "reviewer_id": 330831298,
         "reviewer_name": "Nikifor",
         "comments": "Excellent room for great value. And a good location too! Iuri made the check in process super easy.",
         "_deepnote_index_column": 1129259
        },
        {
         "listing_id": 48969682,
         "id": 748461298,
         "date": "2021-04-13",
         "reviewer_id": 38638843,
         "reviewer_name": "Kwong Man",
         "comments": "Everything is perfect!",
         "_deepnote_index_column": 1129260
        },
        {
         "listing_id": 48974916,
         "id": 747335589,
         "date": "2021-04-10",
         "reviewer_id": 34807395,
         "reviewer_name": "Katie",
         "comments": "My husband and son had a wonderful stay at the annexe. Good cooking facilities and slept well.\nClea…",
         "_deepnote_index_column": 1129261
        },
        {
         "listing_id": 48974916,
         "id": 748444577,
         "date": "2021-04-13",
         "reviewer_id": 230966041,
         "reviewer_name": "Sufiyya",
         "comments": "Me, my husband, our niece and our cat Bubbles all had an absolutely amazing time staying at Bikram …",
         "_deepnote_index_column": 1129262
        },
        {
         "listing_id": 48986442,
         "id": 745341124,
         "date": "2021-04-04",
         "reviewer_id": 174924573,
         "reviewer_name": "Luca",
         "comments": "I strongly recommend this place.\nFrancesco has been a Perfect host.\nThe room was very cosy and clea…",
         "_deepnote_index_column": 1129263
        },
        {
         "listing_id": 48989183,
         "id": 745276861,
         "date": "2021-04-04",
         "reviewer_id": 207092754,
         "reviewer_name": "Talvo",
         "comments": "Ed was a amazing host made the booking last minute and he checked me in which I appreciated very mu…",
         "_deepnote_index_column": 1129264
        },
        {
         "listing_id": 48989686,
         "id": 746753684,
         "date": "2021-04-08",
         "reviewer_id": 395081888,
         "reviewer_name": "Dee",
         "comments": "Cute studio. Ideal for a summers night.",
         "_deepnote_index_column": 1129265
        },
        {
         "listing_id": 48989686,
         "id": 748447458,
         "date": "2021-04-13",
         "reviewer_id": 117462784,
         "reviewer_name": "Afzal",
         "comments": "Lovely stay - great location and Xiaojing was a great host.",
         "_deepnote_index_column": 1129266
        },
        {
         "listing_id": 48991769,
         "id": 746561922,
         "date": "2021-04-07",
         "reviewer_id": 395353460,
         "reviewer_name": "Nusrat",
         "comments": "It’s a central located place. And the service was more or less good.",
         "_deepnote_index_column": 1129267
        },
        {
         "listing_id": 48992199,
         "id": 749681166,
         "date": "2021-04-18",
         "reviewer_id": 317790181,
         "reviewer_name": "Wellington",
         "comments": "Trust me\nworth it",
         "_deepnote_index_column": 1129268
        },
        {
         "listing_id": 49005163,
         "id": 745948140,
         "date": "2021-04-05",
         "reviewer_id": 48887473,
         "reviewer_name": "Yande",
         "comments": "Ope was extremely communicative and easy to reach before and during my stay. The place was sparklin…",
         "_deepnote_index_column": 1129269
        },
        {
         "listing_id": 49012469,
         "id": 747320255,
         "date": "2021-04-10",
         "reviewer_id": 385362584,
         "reviewer_name": "Michael",
         "comments": "Great location surrounded by parks, independent shops and a short walk to local bars and pubs. Room…",
         "_deepnote_index_column": 1129270
        },
        {
         "listing_id": 49012469,
         "id": 747694875,
         "date": "2021-04-11",
         "reviewer_id": 117797133,
         "reviewer_name": "Alessandra",
         "comments": "I will try to be very objective in this comment, to deliver good information to those who are inter…",
         "_deepnote_index_column": 1129271
        },
        {
         "listing_id": 49058311,
         "id": 748213392,
         "date": "2021-04-12",
         "reviewer_id": 386670120,
         "reviewer_name": "A-Dina",
         "comments": "Place was fantastic. Very clean and stylish place with everything you needed. And the attention of …",
         "_deepnote_index_column": 1129272
        },
        {
         "listing_id": 49058405,
         "id": 747046233,
         "date": "2021-04-09",
         "reviewer_id": 290351948,
         "reviewer_name": "Ishaq",
         "comments": "Great location, good host and fast communication. However the apartment is within a business comple…",
         "_deepnote_index_column": 1129273
        },
        {
         "listing_id": 49058405,
         "id": 747699574,
         "date": "2021-04-11",
         "reviewer_id": 113412066,
         "reviewer_name": "Jessica",
         "comments": "This was an ok place. There’s a tesco express nearby so it was easy to get snacks and supplies. \nTh…",
         "_deepnote_index_column": 1129274
        },
        {
         "listing_id": 49123362,
         "id": 748204802,
         "date": "2021-04-12",
         "reviewer_id": 368425060,
         "reviewer_name": "Carlos",
         "comments": "We had the entire place for ourselves, it was an amazing experience. The bedrooms were big, spaciou…",
         "_deepnote_index_column": 1129275
        },
        {
         "listing_id": 49128386,
         "id": 748455405,
         "date": "2021-04-13",
         "reviewer_id": 388431095,
         "reviewer_name": "Jose",
         "comments": "Great host!",
         "_deepnote_index_column": 1129276
        },
        {
         "listing_id": 49129614,
         "id": 749096999,
         "date": "2021-04-16",
         "reviewer_id": 303588314,
         "reviewer_name": "Michael",
         "comments": "I really enjoyed my stay, the host was very helpful she is quick to respond to messages. \nThe flat …",
         "_deepnote_index_column": 1129277
        },
        {
         "listing_id": 49142392,
         "id": 748193365,
         "date": "2021-04-12",
         "reviewer_id": 315417334,
         "reviewer_name": "Sam",
         "comments": "Unbelievable value! Whole ground floor to yourself, loads of nice touches too. A home away from hom…",
         "_deepnote_index_column": 1129278
        },
        {
         "listing_id": 49142392,
         "id": 748631461,
         "date": "2021-04-14",
         "reviewer_id": 201021284,
         "reviewer_name": "Nick",
         "comments": "An excellent stay. Spacious bed room in a very clean and lovely flat. Luxury shower room and touche…",
         "_deepnote_index_column": 1129279
        }
       ]
      },
      "text/plain": "         listing_id         id        date  reviewer_id  reviewer_name  \\\n0             11551      30672  2010-03-21        93896       Shar-Lyn   \n1             11551      32236  2010-03-29        97890           Zane   \n2             11551      41044  2010-05-09       104133          Chase   \n3             11551      48926  2010-06-01       122714  John & Sylvia   \n4             11551      58352  2010-06-28       111543        Monique   \n...             ...        ...         ...          ...            ...   \n1129275    49123362  748204802  2021-04-12    368425060         Carlos   \n1129276    49128386  748455405  2021-04-13    388431095           Jose   \n1129277    49129614  749096999  2021-04-16    303588314        Michael   \n1129278    49142392  748193365  2021-04-12    315417334            Sam   \n1129279    49142392  748631461  2021-04-14    201021284           Nick   \n\n                                                  comments  \n0        The flat was bright, comfortable and clean and...  \n1        We stayed with Adriano and Valerio for a week ...  \n2        Adriano was a fantastic host. We felt very at ...  \n3        We had a most wonderful stay with Adriano and ...  \n4          I'm not sure which of us misunderstood the s...  \n...                                                    ...  \n1129275  We had the entire place for ourselves, it was ...  \n1129276                                        Great host!  \n1129277  I really enjoyed my stay, the host was very he...  \n1129278  Unbelievable value! Whole ground floor to your...  \n1129279  An excellent stay. Spacious bed room in a very...  \n\n[1129280 rows x 6 columns]",
      "text/html": "<div>\n<style scoped>\n    .dataframe tbody tr th:only-of-type {\n        vertical-align: middle;\n    }\n\n    .dataframe tbody tr th {\n        vertical-align: top;\n    }\n\n    .dataframe thead th {\n        text-align: right;\n    }\n</style>\n<table border=\"1\" class=\"dataframe\">\n  <thead>\n    <tr style=\"text-align: right;\">\n      <th></th>\n      <th>listing_id</th>\n      <th>id</th>\n      <th>date</th>\n      <th>reviewer_id</th>\n      <th>reviewer_name</th>\n      <th>comments</th>\n    </tr>\n  </thead>\n  <tbody>\n    <tr>\n      <th>0</th>\n      <td>11551</td>\n      <td>30672</td>\n      <td>2010-03-21</td>\n      <td>93896</td>\n      <td>Shar-Lyn</td>\n      <td>The flat was bright, comfortable and clean and...</td>\n    </tr>\n    <tr>\n      <th>1</th>\n      <td>11551</td>\n      <td>32236</td>\n      <td>2010-03-29</td>\n      <td>97890</td>\n      <td>Zane</td>\n      <td>We stayed with Adriano and Valerio for a week ...</td>\n    </tr>\n    <tr>\n      <th>2</th>\n      <td>11551</td>\n      <td>41044</td>\n      <td>2010-05-09</td>\n      <td>104133</td>\n      <td>Chase</td>\n      <td>Adriano was a fantastic host. We felt very at ...</td>\n    </tr>\n    <tr>\n      <th>3</th>\n      <td>11551</td>\n      <td>48926</td>\n      <td>2010-06-01</td>\n      <td>122714</td>\n      <td>John &amp; Sylvia</td>\n      <td>We had a most wonderful stay with Adriano and ...</td>\n    </tr>\n    <tr>\n      <th>4</th>\n      <td>11551</td>\n      <td>58352</td>\n      <td>2010-06-28</td>\n      <td>111543</td>\n      <td>Monique</td>\n      <td>I'm not sure which of us misunderstood the s...</td>\n    </tr>\n    <tr>\n      <th>...</th>\n      <td>...</td>\n      <td>...</td>\n      <td>...</td>\n      <td>...</td>\n      <td>...</td>\n      <td>...</td>\n    </tr>\n    <tr>\n      <th>1129275</th>\n      <td>49123362</td>\n      <td>748204802</td>\n      <td>2021-04-12</td>\n      <td>368425060</td>\n      <td>Carlos</td>\n      <td>We had the entire place for ourselves, it was ...</td>\n    </tr>\n    <tr>\n      <th>1129276</th>\n      <td>49128386</td>\n      <td>748455405</td>\n      <td>2021-04-13</td>\n      <td>388431095</td>\n      <td>Jose</td>\n      <td>Great host!</td>\n    </tr>\n    <tr>\n      <th>1129277</th>\n      <td>49129614</td>\n      <td>749096999</td>\n      <td>2021-04-16</td>\n      <td>303588314</td>\n      <td>Michael</td>\n      <td>I really enjoyed my stay, the host was very he...</td>\n    </tr>\n    <tr>\n      <th>1129278</th>\n      <td>49142392</td>\n      <td>748193365</td>\n      <td>2021-04-12</td>\n      <td>315417334</td>\n      <td>Sam</td>\n      <td>Unbelievable value! Whole ground floor to your...</td>\n    </tr>\n    <tr>\n      <th>1129279</th>\n      <td>49142392</td>\n      <td>748631461</td>\n      <td>2021-04-14</td>\n      <td>201021284</td>\n      <td>Nick</td>\n      <td>An excellent stay. Spacious bed room in a very...</td>\n    </tr>\n  </tbody>\n</table>\n<p>1129280 rows × 6 columns</p>\n</div>"
     },
     "metadata": {}
    }
   ],
   "execution_count": null
  },
  {
   "cell_type": "markdown",
   "source": "<a style='text-decoration:none;line-height:16px;display:flex;color:#5B5B62;padding:10px;justify-content:end;' href='https://deepnote.com?utm_source=created-in-deepnote-cell&projectId=2c6f047c-21a6-4149-814c-b3f60a9bf973' target=\"_blank\">\n<img alt='Created in deepnote.com' style='display:inline;max-height:16px;margin:0px;margin-right:7.5px;' src='data:image/svg+xml;base64,PD94bWwgdmVyc2lvbj0iMS4wIiBlbmNvZGluZz0iVVRGLTgiPz4KPHN2ZyB3aWR0aD0iODBweCIgaGVpZ2h0PSI4MHB4IiB2aWV3Qm94PSIwIDAgODAgODAiIHZlcnNpb249IjEuMSIgeG1sbnM9Imh0dHA6Ly93d3cudzMub3JnLzIwMDAvc3ZnIiB4bWxuczp4bGluaz0iaHR0cDovL3d3dy53My5vcmcvMTk5OS94bGluayI+CiAgICA8IS0tIEdlbmVyYXRvcjogU2tldGNoIDU0LjEgKDc2NDkwKSAtIGh0dHBzOi8vc2tldGNoYXBwLmNvbSAtLT4KICAgIDx0aXRsZT5Hcm91cCAzPC90aXRsZT4KICAgIDxkZXNjPkNyZWF0ZWQgd2l0aCBTa2V0Y2guPC9kZXNjPgogICAgPGcgaWQ9IkxhbmRpbmciIHN0cm9rZT0ibm9uZSIgc3Ryb2tlLXdpZHRoPSIxIiBmaWxsPSJub25lIiBmaWxsLXJ1bGU9ImV2ZW5vZGQiPgogICAgICAgIDxnIGlkPSJBcnRib2FyZCIgdHJhbnNmb3JtPSJ0cmFuc2xhdGUoLTEyMzUuMDAwMDAwLCAtNzkuMDAwMDAwKSI+CiAgICAgICAgICAgIDxnIGlkPSJHcm91cC0zIiB0cmFuc2Zvcm09InRyYW5zbGF0ZSgxMjM1LjAwMDAwMCwgNzkuMDAwMDAwKSI+CiAgICAgICAgICAgICAgICA8cG9seWdvbiBpZD0iUGF0aC0yMCIgZmlsbD0iIzAyNjVCNCIgcG9pbnRzPSIyLjM3NjIzNzYyIDgwIDM4LjA0NzY2NjcgODAgNTcuODIxNzgyMiA3My44MDU3NTkyIDU3LjgyMTc4MjIgMzIuNzU5MjczOSAzOS4xNDAyMjc4IDMxLjY4MzE2ODMiPjwvcG9seWdvbj4KICAgICAgICAgICAgICAgIDxwYXRoIGQ9Ik0zNS4wMDc3MTgsODAgQzQyLjkwNjIwMDcsNzYuNDU0OTM1OCA0Ny41NjQ5MTY3LDcxLjU0MjI2NzEgNDguOTgzODY2LDY1LjI2MTk5MzkgQzUxLjExMjI4OTksNTUuODQxNTg0MiA0MS42NzcxNzk1LDQ5LjIxMjIyODQgMjUuNjIzOTg0Niw0OS4yMTIyMjg0IEMyNS40ODQ5Mjg5LDQ5LjEyNjg0NDggMjkuODI2MTI5Niw0My4yODM4MjQ4IDM4LjY0NzU4NjksMzEuNjgzMTY4MyBMNzIuODcxMjg3MSwzMi41NTQ0MjUgTDY1LjI4MDk3Myw2Ny42NzYzNDIxIEw1MS4xMTIyODk5LDc3LjM3NjE0NCBMMzUuMDA3NzE4LDgwIFoiIGlkPSJQYXRoLTIyIiBmaWxsPSIjMDAyODY4Ij48L3BhdGg+CiAgICAgICAgICAgICAgICA8cGF0aCBkPSJNMCwzNy43MzA0NDA1IEwyNy4xMTQ1MzcsMC4yNTcxMTE0MzYgQzYyLjM3MTUxMjMsLTEuOTkwNzE3MDEgODAsMTAuNTAwMzkyNyA4MCwzNy43MzA0NDA1IEM4MCw2NC45NjA0ODgyIDY0Ljc3NjUwMzgsNzkuMDUwMzQxNCAzNC4zMjk1MTEzLDgwIEM0Ny4wNTUzNDg5LDc3LjU2NzA4MDggNTMuNDE4MjY3Nyw3MC4zMTM2MTAzIDUzLjQxODI2NzcsNTguMjM5NTg4NSBDNTMuNDE4MjY3Nyw0MC4xMjg1NTU3IDM2LjMwMzk1NDQsMzcuNzMwNDQwNSAyNS4yMjc0MTcsMzcuNzMwNDQwNSBDMTcuODQzMDU4NiwzNy43MzA0NDA1IDkuNDMzOTE5NjYsMzcuNzMwNDQwNSAwLDM3LjczMDQ0MDUgWiIgaWQ9IlBhdGgtMTkiIGZpbGw9IiMzNzkzRUYiPjwvcGF0aD4KICAgICAgICAgICAgPC9nPgogICAgICAgIDwvZz4KICAgIDwvZz4KPC9zdmc+' > </img>\nCreated in <span style='font-weight:600;margin-left:4px;'>Deepnote</span></a>",
   "metadata": {
    "tags": [],
    "created_in_deepnote_cell": true,
    "deepnote_cell_type": "markdown"
   }
  }
 ],
 "nbformat": 4,
 "nbformat_minor": 2,
 "metadata": {
  "orig_nbformat": 2,
  "deepnote": {
   "is_reactive": false
  },
  "deepnote_notebook_id": "2bc253d8-5d82-4e43-b693-93ee90652da4",
  "deepnote_execution_queue": []
 }
}